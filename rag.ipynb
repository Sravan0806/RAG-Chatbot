{
 "cells": [
  {
   "cell_type": "code",
   "execution_count": 1,
   "metadata": {},
   "outputs": [
    {
     "name": "stdout",
     "output_type": "stream",
     "text": [
      "Defaulting to user installation because normal site-packages is not writeable\n",
      "Requirement already satisfied: pinecone in c:\\users\\ashaa\\appdata\\roaming\\python\\python312\\site-packages (6.0.1)\n",
      "Requirement already satisfied: certifi>=2019.11.17 in c:\\programdata\\anaconda3\\lib\\site-packages (from pinecone) (2024.12.14)\n",
      "Requirement already satisfied: pinecone-plugin-interface<0.0.8,>=0.0.7 in c:\\users\\ashaa\\appdata\\roaming\\python\\python312\\site-packages (from pinecone) (0.0.7)\n",
      "Requirement already satisfied: python-dateutil>=2.5.3 in c:\\users\\ashaa\\appdata\\roaming\\python\\python312\\site-packages (from pinecone) (2.8.2)\n",
      "Requirement already satisfied: typing-extensions>=3.7.4 in c:\\programdata\\anaconda3\\lib\\site-packages (from pinecone) (4.11.0)\n",
      "Requirement already satisfied: urllib3>=1.26.5 in c:\\programdata\\anaconda3\\lib\\site-packages (from pinecone) (2.2.3)\n",
      "Requirement already satisfied: six>=1.5 in c:\\users\\ashaa\\appdata\\roaming\\python\\python312\\site-packages (from python-dateutil>=2.5.3->pinecone) (1.16.0)\n",
      "Note: you may need to restart the kernel to use updated packages.\n",
      "Defaulting to user installation because normal site-packages is not writeable\n",
      "Requirement already satisfied: llama-cpp-python in c:\\users\\ashaa\\appdata\\roaming\\python\\python312\\site-packages (0.3.7)\n",
      "Requirement already satisfied: typing-extensions>=4.5.0 in c:\\programdata\\anaconda3\\lib\\site-packages (from llama-cpp-python) (4.11.0)\n",
      "Requirement already satisfied: numpy>=1.20.0 in c:\\programdata\\anaconda3\\lib\\site-packages (from llama-cpp-python) (1.26.4)\n",
      "Requirement already satisfied: diskcache>=5.6.1 in c:\\users\\ashaa\\appdata\\roaming\\python\\python312\\site-packages (from llama-cpp-python) (5.6.3)\n",
      "Requirement already satisfied: jinja2>=2.11.3 in c:\\programdata\\anaconda3\\lib\\site-packages (from llama-cpp-python) (3.1.4)\n",
      "Requirement already satisfied: MarkupSafe>=2.0 in c:\\programdata\\anaconda3\\lib\\site-packages (from jinja2>=2.11.3->llama-cpp-python) (2.1.3)\n",
      "Note: you may need to restart the kernel to use updated packages.\n",
      "Defaulting to user installation because normal site-packages is not writeable\n",
      "Requirement already satisfied: chromadb in c:\\users\\ashaa\\appdata\\roaming\\python\\python312\\site-packages (0.6.3)\n",
      "Requirement already satisfied: build>=1.0.3 in c:\\users\\ashaa\\appdata\\roaming\\python\\python312\\site-packages (from chromadb) (1.2.2.post1)\n",
      "Requirement already satisfied: pydantic>=1.9 in c:\\programdata\\anaconda3\\lib\\site-packages (from chromadb) (2.8.2)\n",
      "Requirement already satisfied: chroma-hnswlib==0.7.6 in c:\\users\\ashaa\\appdata\\roaming\\python\\python312\\site-packages (from chromadb) (0.7.6)\n",
      "Requirement already satisfied: fastapi>=0.95.2 in c:\\users\\ashaa\\appdata\\roaming\\python\\python312\\site-packages (from chromadb) (0.115.8)\n",
      "Requirement already satisfied: uvicorn>=0.18.3 in c:\\users\\ashaa\\appdata\\roaming\\python\\python312\\site-packages (from uvicorn[standard]>=0.18.3->chromadb) (0.34.0)\n",
      "Requirement already satisfied: numpy>=1.22.5 in c:\\programdata\\anaconda3\\lib\\site-packages (from chromadb) (1.26.4)\n",
      "Requirement already satisfied: posthog>=2.4.0 in c:\\users\\ashaa\\appdata\\roaming\\python\\python312\\site-packages (from chromadb) (3.15.1)\n",
      "Requirement already satisfied: typing_extensions>=4.5.0 in c:\\programdata\\anaconda3\\lib\\site-packages (from chromadb) (4.11.0)\n",
      "Requirement already satisfied: onnxruntime>=1.14.1 in c:\\users\\ashaa\\appdata\\roaming\\python\\python312\\site-packages (from chromadb) (1.20.1)\n",
      "Requirement already satisfied: opentelemetry-api>=1.2.0 in c:\\users\\ashaa\\appdata\\roaming\\python\\python312\\site-packages (from chromadb) (1.30.0)\n",
      "Requirement already satisfied: opentelemetry-exporter-otlp-proto-grpc>=1.2.0 in c:\\users\\ashaa\\appdata\\roaming\\python\\python312\\site-packages (from chromadb) (1.30.0)\n",
      "Requirement already satisfied: opentelemetry-instrumentation-fastapi>=0.41b0 in c:\\users\\ashaa\\appdata\\roaming\\python\\python312\\site-packages (from chromadb) (0.51b0)\n",
      "Requirement already satisfied: opentelemetry-sdk>=1.2.0 in c:\\users\\ashaa\\appdata\\roaming\\python\\python312\\site-packages (from chromadb) (1.30.0)\n",
      "Requirement already satisfied: tokenizers>=0.13.2 in c:\\users\\ashaa\\appdata\\roaming\\python\\python312\\site-packages (from chromadb) (0.21.0)\n",
      "Requirement already satisfied: pypika>=0.48.9 in c:\\users\\ashaa\\appdata\\roaming\\python\\python312\\site-packages (from chromadb) (0.48.9)\n",
      "Requirement already satisfied: tqdm>=4.65.0 in c:\\programdata\\anaconda3\\lib\\site-packages (from chromadb) (4.66.5)\n",
      "Requirement already satisfied: overrides>=7.3.1 in c:\\programdata\\anaconda3\\lib\\site-packages (from chromadb) (7.4.0)\n",
      "Requirement already satisfied: importlib-resources in c:\\users\\ashaa\\appdata\\roaming\\python\\python312\\site-packages (from chromadb) (6.5.2)\n",
      "Requirement already satisfied: grpcio>=1.58.0 in c:\\users\\ashaa\\appdata\\roaming\\python\\python312\\site-packages (from chromadb) (1.70.0)\n",
      "Requirement already satisfied: bcrypt>=4.0.1 in c:\\users\\ashaa\\appdata\\roaming\\python\\python312\\site-packages (from chromadb) (4.2.1)\n",
      "Requirement already satisfied: typer>=0.9.0 in c:\\programdata\\anaconda3\\lib\\site-packages (from chromadb) (0.9.0)\n",
      "Requirement already satisfied: kubernetes>=28.1.0 in c:\\users\\ashaa\\appdata\\roaming\\python\\python312\\site-packages (from chromadb) (32.0.1)\n",
      "Requirement already satisfied: tenacity>=8.2.3 in c:\\programdata\\anaconda3\\lib\\site-packages (from chromadb) (8.2.3)\n",
      "Requirement already satisfied: PyYAML>=6.0.0 in c:\\programdata\\anaconda3\\lib\\site-packages (from chromadb) (6.0.1)\n",
      "Requirement already satisfied: mmh3>=4.0.1 in c:\\users\\ashaa\\appdata\\roaming\\python\\python312\\site-packages (from chromadb) (5.1.0)\n",
      "Requirement already satisfied: orjson>=3.9.12 in c:\\users\\ashaa\\appdata\\roaming\\python\\python312\\site-packages (from chromadb) (3.10.15)\n",
      "Requirement already satisfied: httpx>=0.27.0 in c:\\programdata\\anaconda3\\lib\\site-packages (from chromadb) (0.27.0)\n",
      "Requirement already satisfied: rich>=10.11.0 in c:\\programdata\\anaconda3\\lib\\site-packages (from chromadb) (13.7.1)\n",
      "Requirement already satisfied: packaging>=19.1 in c:\\users\\ashaa\\appdata\\roaming\\python\\python312\\site-packages (from build>=1.0.3->chromadb) (23.2)\n",
      "Requirement already satisfied: pyproject_hooks in c:\\users\\ashaa\\appdata\\roaming\\python\\python312\\site-packages (from build>=1.0.3->chromadb) (1.2.0)\n",
      "Requirement already satisfied: colorama in c:\\users\\ashaa\\appdata\\roaming\\python\\python312\\site-packages (from build>=1.0.3->chromadb) (0.4.6)\n",
      "Requirement already satisfied: starlette<0.46.0,>=0.40.0 in c:\\users\\ashaa\\appdata\\roaming\\python\\python312\\site-packages (from fastapi>=0.95.2->chromadb) (0.45.3)\n",
      "Requirement already satisfied: anyio in c:\\programdata\\anaconda3\\lib\\site-packages (from httpx>=0.27.0->chromadb) (4.2.0)\n",
      "Requirement already satisfied: certifi in c:\\programdata\\anaconda3\\lib\\site-packages (from httpx>=0.27.0->chromadb) (2024.12.14)\n",
      "Requirement already satisfied: httpcore==1.* in c:\\programdata\\anaconda3\\lib\\site-packages (from httpx>=0.27.0->chromadb) (1.0.2)\n",
      "Requirement already satisfied: idna in c:\\programdata\\anaconda3\\lib\\site-packages (from httpx>=0.27.0->chromadb) (3.7)\n",
      "Requirement already satisfied: sniffio in c:\\programdata\\anaconda3\\lib\\site-packages (from httpx>=0.27.0->chromadb) (1.3.0)\n",
      "Requirement already satisfied: h11<0.15,>=0.13 in c:\\programdata\\anaconda3\\lib\\site-packages (from httpcore==1.*->httpx>=0.27.0->chromadb) (0.14.0)\n",
      "Requirement already satisfied: six>=1.9.0 in c:\\users\\ashaa\\appdata\\roaming\\python\\python312\\site-packages (from kubernetes>=28.1.0->chromadb) (1.16.0)\n",
      "Requirement already satisfied: python-dateutil>=2.5.3 in c:\\users\\ashaa\\appdata\\roaming\\python\\python312\\site-packages (from kubernetes>=28.1.0->chromadb) (2.8.2)\n",
      "Requirement already satisfied: google-auth>=1.0.1 in c:\\users\\ashaa\\appdata\\roaming\\python\\python312\\site-packages (from kubernetes>=28.1.0->chromadb) (2.38.0)\n",
      "Requirement already satisfied: websocket-client!=0.40.0,!=0.41.*,!=0.42.*,>=0.32.0 in c:\\programdata\\anaconda3\\lib\\site-packages (from kubernetes>=28.1.0->chromadb) (1.8.0)\n",
      "Requirement already satisfied: requests in c:\\programdata\\anaconda3\\lib\\site-packages (from kubernetes>=28.1.0->chromadb) (2.32.3)\n",
      "Requirement already satisfied: requests-oauthlib in c:\\users\\ashaa\\appdata\\roaming\\python\\python312\\site-packages (from kubernetes>=28.1.0->chromadb) (2.0.0)\n",
      "Requirement already satisfied: oauthlib>=3.2.2 in c:\\users\\ashaa\\appdata\\roaming\\python\\python312\\site-packages (from kubernetes>=28.1.0->chromadb) (3.2.2)\n",
      "Requirement already satisfied: urllib3>=1.24.2 in c:\\programdata\\anaconda3\\lib\\site-packages (from kubernetes>=28.1.0->chromadb) (2.2.3)\n",
      "Requirement already satisfied: durationpy>=0.7 in c:\\users\\ashaa\\appdata\\roaming\\python\\python312\\site-packages (from kubernetes>=28.1.0->chromadb) (0.9)\n",
      "Requirement already satisfied: coloredlogs in c:\\users\\ashaa\\appdata\\roaming\\python\\python312\\site-packages (from onnxruntime>=1.14.1->chromadb) (15.0.1)\n",
      "Requirement already satisfied: flatbuffers in c:\\users\\ashaa\\appdata\\roaming\\python\\python312\\site-packages (from onnxruntime>=1.14.1->chromadb) (25.2.10)\n",
      "Requirement already satisfied: protobuf in c:\\users\\ashaa\\appdata\\roaming\\python\\python312\\site-packages (from onnxruntime>=1.14.1->chromadb) (5.29.3)\n",
      "Requirement already satisfied: sympy in c:\\users\\ashaa\\appdata\\roaming\\python\\python312\\site-packages (from onnxruntime>=1.14.1->chromadb) (1.13.1)\n",
      "Requirement already satisfied: deprecated>=1.2.6 in c:\\users\\ashaa\\appdata\\roaming\\python\\python312\\site-packages (from opentelemetry-api>=1.2.0->chromadb) (1.2.18)\n",
      "Requirement already satisfied: importlib-metadata<=8.5.0,>=6.0 in c:\\programdata\\anaconda3\\lib\\site-packages (from opentelemetry-api>=1.2.0->chromadb) (7.0.1)\n",
      "Requirement already satisfied: googleapis-common-protos~=1.52 in c:\\users\\ashaa\\appdata\\roaming\\python\\python312\\site-packages (from opentelemetry-exporter-otlp-proto-grpc>=1.2.0->chromadb) (1.68.0)\n",
      "Requirement already satisfied: opentelemetry-exporter-otlp-proto-common==1.30.0 in c:\\users\\ashaa\\appdata\\roaming\\python\\python312\\site-packages (from opentelemetry-exporter-otlp-proto-grpc>=1.2.0->chromadb) (1.30.0)\n",
      "Requirement already satisfied: opentelemetry-proto==1.30.0 in c:\\users\\ashaa\\appdata\\roaming\\python\\python312\\site-packages (from opentelemetry-exporter-otlp-proto-grpc>=1.2.0->chromadb) (1.30.0)\n",
      "Requirement already satisfied: opentelemetry-instrumentation-asgi==0.51b0 in c:\\users\\ashaa\\appdata\\roaming\\python\\python312\\site-packages (from opentelemetry-instrumentation-fastapi>=0.41b0->chromadb) (0.51b0)\n",
      "Requirement already satisfied: opentelemetry-instrumentation==0.51b0 in c:\\users\\ashaa\\appdata\\roaming\\python\\python312\\site-packages (from opentelemetry-instrumentation-fastapi>=0.41b0->chromadb) (0.51b0)\n",
      "Requirement already satisfied: opentelemetry-semantic-conventions==0.51b0 in c:\\users\\ashaa\\appdata\\roaming\\python\\python312\\site-packages (from opentelemetry-instrumentation-fastapi>=0.41b0->chromadb) (0.51b0)\n",
      "Requirement already satisfied: opentelemetry-util-http==0.51b0 in c:\\users\\ashaa\\appdata\\roaming\\python\\python312\\site-packages (from opentelemetry-instrumentation-fastapi>=0.41b0->chromadb) (0.51b0)\n",
      "Requirement already satisfied: wrapt<2.0.0,>=1.0.0 in c:\\programdata\\anaconda3\\lib\\site-packages (from opentelemetry-instrumentation==0.51b0->opentelemetry-instrumentation-fastapi>=0.41b0->chromadb) (1.14.1)\n",
      "Requirement already satisfied: asgiref~=3.0 in c:\\users\\ashaa\\appdata\\roaming\\python\\python312\\site-packages (from opentelemetry-instrumentation-asgi==0.51b0->opentelemetry-instrumentation-fastapi>=0.41b0->chromadb) (3.8.1)\n",
      "Requirement already satisfied: monotonic>=1.5 in c:\\users\\ashaa\\appdata\\roaming\\python\\python312\\site-packages (from posthog>=2.4.0->chromadb) (1.6)\n",
      "Requirement already satisfied: backoff>=1.10.0 in c:\\users\\ashaa\\appdata\\roaming\\python\\python312\\site-packages (from posthog>=2.4.0->chromadb) (2.2.1)\n",
      "Requirement already satisfied: annotated-types>=0.4.0 in c:\\programdata\\anaconda3\\lib\\site-packages (from pydantic>=1.9->chromadb) (0.6.0)\n",
      "Requirement already satisfied: pydantic-core==2.20.1 in c:\\programdata\\anaconda3\\lib\\site-packages (from pydantic>=1.9->chromadb) (2.20.1)\n",
      "Requirement already satisfied: markdown-it-py>=2.2.0 in c:\\programdata\\anaconda3\\lib\\site-packages (from rich>=10.11.0->chromadb) (2.2.0)\n",
      "Requirement already satisfied: pygments<3.0.0,>=2.13.0 in c:\\users\\ashaa\\appdata\\roaming\\python\\python312\\site-packages (from rich>=10.11.0->chromadb) (2.17.2)\n",
      "Requirement already satisfied: huggingface-hub<1.0,>=0.16.4 in c:\\users\\ashaa\\appdata\\roaming\\python\\python312\\site-packages (from tokenizers>=0.13.2->chromadb) (0.29.1)\n",
      "Requirement already satisfied: click<9.0.0,>=7.1.1 in c:\\programdata\\anaconda3\\lib\\site-packages (from typer>=0.9.0->chromadb) (8.1.7)\n",
      "Requirement already satisfied: httptools>=0.6.3 in c:\\users\\ashaa\\appdata\\roaming\\python\\python312\\site-packages (from uvicorn[standard]>=0.18.3->chromadb) (0.6.4)\n",
      "Requirement already satisfied: python-dotenv>=0.13 in c:\\programdata\\anaconda3\\lib\\site-packages (from uvicorn[standard]>=0.18.3->chromadb) (0.21.0)\n",
      "Requirement already satisfied: watchfiles>=0.13 in c:\\users\\ashaa\\appdata\\roaming\\python\\python312\\site-packages (from uvicorn[standard]>=0.18.3->chromadb) (1.0.4)\n",
      "Requirement already satisfied: websockets>=10.4 in c:\\users\\ashaa\\appdata\\roaming\\python\\python312\\site-packages (from uvicorn[standard]>=0.18.3->chromadb) (15.0)\n",
      "Requirement already satisfied: cachetools<6.0,>=2.0.0 in c:\\programdata\\anaconda3\\lib\\site-packages (from google-auth>=1.0.1->kubernetes>=28.1.0->chromadb) (5.3.3)\n",
      "Requirement already satisfied: pyasn1-modules>=0.2.1 in c:\\programdata\\anaconda3\\lib\\site-packages (from google-auth>=1.0.1->kubernetes>=28.1.0->chromadb) (0.2.8)\n",
      "Requirement already satisfied: rsa<5,>=3.1.4 in c:\\users\\ashaa\\appdata\\roaming\\python\\python312\\site-packages (from google-auth>=1.0.1->kubernetes>=28.1.0->chromadb) (4.9)\n",
      "Requirement already satisfied: filelock in c:\\programdata\\anaconda3\\lib\\site-packages (from huggingface-hub<1.0,>=0.16.4->tokenizers>=0.13.2->chromadb) (3.13.1)\n",
      "Requirement already satisfied: fsspec>=2023.5.0 in c:\\programdata\\anaconda3\\lib\\site-packages (from huggingface-hub<1.0,>=0.16.4->tokenizers>=0.13.2->chromadb) (2024.6.1)\n",
      "Requirement already satisfied: zipp>=0.5 in c:\\programdata\\anaconda3\\lib\\site-packages (from importlib-metadata<=8.5.0,>=6.0->opentelemetry-api>=1.2.0->chromadb) (3.17.0)\n",
      "Requirement already satisfied: mdurl~=0.1 in c:\\programdata\\anaconda3\\lib\\site-packages (from markdown-it-py>=2.2.0->rich>=10.11.0->chromadb) (0.1.0)\n",
      "Requirement already satisfied: charset-normalizer<4,>=2 in c:\\programdata\\anaconda3\\lib\\site-packages (from requests->kubernetes>=28.1.0->chromadb) (3.3.2)\n",
      "Requirement already satisfied: humanfriendly>=9.1 in c:\\users\\ashaa\\appdata\\roaming\\python\\python312\\site-packages (from coloredlogs->onnxruntime>=1.14.1->chromadb) (10.0)\n",
      "Requirement already satisfied: mpmath<1.4,>=1.1.0 in c:\\programdata\\anaconda3\\lib\\site-packages (from sympy->onnxruntime>=1.14.1->chromadb) (1.3.0)\n",
      "Requirement already satisfied: pyreadline3 in c:\\users\\ashaa\\appdata\\roaming\\python\\python312\\site-packages (from humanfriendly>=9.1->coloredlogs->onnxruntime>=1.14.1->chromadb) (3.5.4)\n",
      "Requirement already satisfied: pyasn1<0.5.0,>=0.4.6 in c:\\programdata\\anaconda3\\lib\\site-packages (from pyasn1-modules>=0.2.1->google-auth>=1.0.1->kubernetes>=28.1.0->chromadb) (0.4.8)\n",
      "Note: you may need to restart the kernel to use updated packages.\n"
     ]
    }
   ],
   "source": [
    "%pip install pinecone\n",
    "%pip install llama-cpp-python\n",
    "%pip install chromadb\n"
   ]
  },
  {
   "cell_type": "code",
   "execution_count": 2,
   "metadata": {},
   "outputs": [
    {
     "name": "stdout",
     "output_type": "stream",
     "text": [
      "Defaulting to user installation because normal site-packages is not writeable\n",
      "Requirement already satisfied: spacy in c:\\users\\ashaa\\appdata\\roaming\\python\\python312\\site-packages (3.8.4)\n",
      "Requirement already satisfied: spacy-legacy<3.1.0,>=3.0.11 in c:\\users\\ashaa\\appdata\\roaming\\python\\python312\\site-packages (from spacy) (3.0.12)\n",
      "Requirement already satisfied: spacy-loggers<2.0.0,>=1.0.0 in c:\\users\\ashaa\\appdata\\roaming\\python\\python312\\site-packages (from spacy) (1.0.5)\n",
      "Requirement already satisfied: murmurhash<1.1.0,>=0.28.0 in c:\\users\\ashaa\\appdata\\roaming\\python\\python312\\site-packages (from spacy) (1.0.12)\n",
      "Requirement already satisfied: cymem<2.1.0,>=2.0.2 in c:\\users\\ashaa\\appdata\\roaming\\python\\python312\\site-packages (from spacy) (2.0.11)\n",
      "Requirement already satisfied: preshed<3.1.0,>=3.0.2 in c:\\users\\ashaa\\appdata\\roaming\\python\\python312\\site-packages (from spacy) (3.0.9)\n",
      "Requirement already satisfied: thinc<8.4.0,>=8.3.4 in c:\\users\\ashaa\\appdata\\roaming\\python\\python312\\site-packages (from spacy) (8.3.4)\n",
      "Requirement already satisfied: wasabi<1.2.0,>=0.9.1 in c:\\users\\ashaa\\appdata\\roaming\\python\\python312\\site-packages (from spacy) (1.1.3)\n",
      "Requirement already satisfied: srsly<3.0.0,>=2.4.3 in c:\\users\\ashaa\\appdata\\roaming\\python\\python312\\site-packages (from spacy) (2.5.1)\n",
      "Requirement already satisfied: catalogue<2.1.0,>=2.0.6 in c:\\users\\ashaa\\appdata\\roaming\\python\\python312\\site-packages (from spacy) (2.0.10)\n",
      "Requirement already satisfied: weasel<0.5.0,>=0.1.0 in c:\\users\\ashaa\\appdata\\roaming\\python\\python312\\site-packages (from spacy) (0.4.1)\n",
      "Requirement already satisfied: typer<1.0.0,>=0.3.0 in c:\\programdata\\anaconda3\\lib\\site-packages (from spacy) (0.9.0)\n",
      "Requirement already satisfied: tqdm<5.0.0,>=4.38.0 in c:\\programdata\\anaconda3\\lib\\site-packages (from spacy) (4.66.5)\n",
      "Requirement already satisfied: numpy>=1.19.0 in c:\\programdata\\anaconda3\\lib\\site-packages (from spacy) (1.26.4)\n",
      "Requirement already satisfied: requests<3.0.0,>=2.13.0 in c:\\programdata\\anaconda3\\lib\\site-packages (from spacy) (2.32.3)\n",
      "Requirement already satisfied: pydantic!=1.8,!=1.8.1,<3.0.0,>=1.7.4 in c:\\programdata\\anaconda3\\lib\\site-packages (from spacy) (2.8.2)\n",
      "Requirement already satisfied: jinja2 in c:\\programdata\\anaconda3\\lib\\site-packages (from spacy) (3.1.4)\n",
      "Requirement already satisfied: setuptools in c:\\programdata\\anaconda3\\lib\\site-packages (from spacy) (75.1.0)\n",
      "Requirement already satisfied: packaging>=20.0 in c:\\users\\ashaa\\appdata\\roaming\\python\\python312\\site-packages (from spacy) (23.2)\n",
      "Requirement already satisfied: langcodes<4.0.0,>=3.2.0 in c:\\users\\ashaa\\appdata\\roaming\\python\\python312\\site-packages (from spacy) (3.5.0)\n",
      "Requirement already satisfied: language-data>=1.2 in c:\\users\\ashaa\\appdata\\roaming\\python\\python312\\site-packages (from langcodes<4.0.0,>=3.2.0->spacy) (1.3.0)\n",
      "Requirement already satisfied: annotated-types>=0.4.0 in c:\\programdata\\anaconda3\\lib\\site-packages (from pydantic!=1.8,!=1.8.1,<3.0.0,>=1.7.4->spacy) (0.6.0)\n",
      "Requirement already satisfied: pydantic-core==2.20.1 in c:\\programdata\\anaconda3\\lib\\site-packages (from pydantic!=1.8,!=1.8.1,<3.0.0,>=1.7.4->spacy) (2.20.1)\n",
      "Requirement already satisfied: typing-extensions>=4.6.1 in c:\\programdata\\anaconda3\\lib\\site-packages (from pydantic!=1.8,!=1.8.1,<3.0.0,>=1.7.4->spacy) (4.11.0)\n",
      "Requirement already satisfied: charset-normalizer<4,>=2 in c:\\programdata\\anaconda3\\lib\\site-packages (from requests<3.0.0,>=2.13.0->spacy) (3.3.2)\n",
      "Requirement already satisfied: idna<4,>=2.5 in c:\\programdata\\anaconda3\\lib\\site-packages (from requests<3.0.0,>=2.13.0->spacy) (3.7)\n",
      "Requirement already satisfied: urllib3<3,>=1.21.1 in c:\\programdata\\anaconda3\\lib\\site-packages (from requests<3.0.0,>=2.13.0->spacy) (2.2.3)\n",
      "Requirement already satisfied: certifi>=2017.4.17 in c:\\programdata\\anaconda3\\lib\\site-packages (from requests<3.0.0,>=2.13.0->spacy) (2024.12.14)\n",
      "Requirement already satisfied: blis<1.3.0,>=1.2.0 in c:\\users\\ashaa\\appdata\\roaming\\python\\python312\\site-packages (from thinc<8.4.0,>=8.3.4->spacy) (1.2.0)\n",
      "Requirement already satisfied: confection<1.0.0,>=0.0.1 in c:\\users\\ashaa\\appdata\\roaming\\python\\python312\\site-packages (from thinc<8.4.0,>=8.3.4->spacy) (0.1.5)\n",
      "Requirement already satisfied: colorama in c:\\users\\ashaa\\appdata\\roaming\\python\\python312\\site-packages (from tqdm<5.0.0,>=4.38.0->spacy) (0.4.6)\n",
      "Requirement already satisfied: click<9.0.0,>=7.1.1 in c:\\programdata\\anaconda3\\lib\\site-packages (from typer<1.0.0,>=0.3.0->spacy) (8.1.7)\n",
      "Requirement already satisfied: cloudpathlib<1.0.0,>=0.7.0 in c:\\users\\ashaa\\appdata\\roaming\\python\\python312\\site-packages (from weasel<0.5.0,>=0.1.0->spacy) (0.20.0)\n",
      "Requirement already satisfied: smart-open<8.0.0,>=5.2.1 in c:\\programdata\\anaconda3\\lib\\site-packages (from weasel<0.5.0,>=0.1.0->spacy) (5.2.1)\n",
      "Requirement already satisfied: MarkupSafe>=2.0 in c:\\programdata\\anaconda3\\lib\\site-packages (from jinja2->spacy) (2.1.3)\n",
      "Requirement already satisfied: marisa-trie>=1.1.0 in c:\\users\\ashaa\\appdata\\roaming\\python\\python312\\site-packages (from language-data>=1.2->langcodes<4.0.0,>=3.2.0->spacy) (1.2.1)\n",
      "Note: you may need to restart the kernel to use updated packages.\n"
     ]
    }
   ],
   "source": [
    "pip install spacy --only-binary=:all:\n"
   ]
  },
  {
   "cell_type": "code",
   "execution_count": 5,
   "metadata": {},
   "outputs": [
    {
     "name": "stderr",
     "output_type": "stream",
     "text": [
      "c:\\Users\\ashaa\\AppData\\Local\\Programs\\Python\\Python313\\python.exe: No module named spacy\n"
     ]
    }
   ],
   "source": [
    "!python -m spacy download en_core_web_sm\n"
   ]
  },
  {
   "cell_type": "code",
   "execution_count": null,
   "metadata": {},
   "outputs": [],
   "source": [
    "%pip install -U spacy\n",
    "%pip install -U spacy-transformers\n",
    "!python -m spacy download en_core_web_trf\n"
   ]
  },
  {
   "cell_type": "code",
   "execution_count": null,
   "metadata": {},
   "outputs": [
    {
     "name": "stdout",
     "output_type": "stream",
     "text": [
      "Note: you may need to restart the kernel to use updated packages.\n"
     ]
    },
    {
     "name": "stderr",
     "output_type": "stream",
     "text": [
      "WARNING: Ignoring invalid distribution ~ip (c:\\Users\\ashaa\\AppData\\Local\\Programs\\Python\\Python313\\Lib\\site-packages)\n",
      "WARNING: Ignoring invalid distribution ~ip (c:\\Users\\ashaa\\AppData\\Local\\Programs\\Python\\Python313\\Lib\\site-packages)\n",
      "WARNING: Ignoring invalid distribution ~ip (c:\\Users\\ashaa\\AppData\\Local\\Programs\\Python\\Python313\\Lib\\site-packages)\n"
     ]
    }
   ],
   "source": [
    "%pip install -qU \\\n",
    "  sentence-transformers==2.2.2 "
   ]
  },
  {
   "cell_type": "code",
   "execution_count": null,
   "metadata": {},
   "outputs": [
    {
     "name": "stdout",
     "output_type": "stream",
     "text": [
      "Note: you may need to restart the kernel to use updated packages.\n"
     ]
    },
    {
     "name": "stderr",
     "output_type": "stream",
     "text": [
      "WARNING: Ignoring invalid distribution ~ip (c:\\Users\\ashaa\\AppData\\Local\\Programs\\Python\\Python313\\Lib\\site-packages)\n",
      "WARNING: Ignoring invalid distribution ~ip (c:\\Users\\ashaa\\AppData\\Local\\Programs\\Python\\Python313\\Lib\\site-packages)\n",
      "WARNING: Ignoring invalid distribution ~ip (c:\\Users\\ashaa\\AppData\\Local\\Programs\\Python\\Python313\\Lib\\site-packages)\n"
     ]
    }
   ],
   "source": [
    "%pip install -qU \\\n",
    "    openai==0.27.7 \\\n"
   ]
  },
  {
   "cell_type": "code",
   "execution_count": 2,
   "metadata": {},
   "outputs": [
    {
     "name": "stdout",
     "output_type": "stream",
     "text": [
      "^C\n",
      "Note: you may need to restart the kernel to use updated packages.\n"
     ]
    }
   ],
   "source": [
    "%pip install -qU \\\n",
    "    langchain==0.1.1 \\\n",
    "    langchain-community==0.0.13 \\\n",
    "    tiktoken "
   ]
  },
  {
   "cell_type": "code",
   "execution_count": 7,
   "metadata": {},
   "outputs": [
    {
     "name": "stdout",
     "output_type": "stream",
     "text": [
      "Requirement already satisfied: transformers in c:\\users\\ashaa\\appdata\\local\\programs\\python\\python313\\lib\\site-packages (4.48.3)\n",
      "Requirement already satisfied: filelock in c:\\users\\ashaa\\appdata\\local\\programs\\python\\python313\\lib\\site-packages (from transformers) (3.17.0)\n",
      "Requirement already satisfied: huggingface-hub<1.0,>=0.24.0 in c:\\users\\ashaa\\appdata\\local\\programs\\python\\python313\\lib\\site-packages (from transformers) (0.25.2)\n",
      "Requirement already satisfied: numpy>=1.17 in c:\\users\\ashaa\\appdata\\local\\programs\\python\\python313\\lib\\site-packages (from transformers) (1.26.4)\n",
      "Requirement already satisfied: packaging>=20.0 in c:\\users\\ashaa\\appdata\\local\\programs\\python\\python313\\lib\\site-packages (from transformers) (23.2)\n",
      "Requirement already satisfied: pyyaml>=5.1 in c:\\users\\ashaa\\appdata\\local\\programs\\python\\python313\\lib\\site-packages (from transformers) (6.0.2)\n",
      "Requirement already satisfied: regex!=2019.12.17 in c:\\users\\ashaa\\appdata\\local\\programs\\python\\python313\\lib\\site-packages (from transformers) (2024.11.6)\n",
      "Requirement already satisfied: requests in c:\\users\\ashaa\\appdata\\local\\programs\\python\\python313\\lib\\site-packages (from transformers) (2.32.3)\n",
      "Requirement already satisfied: tokenizers<0.22,>=0.21 in c:\\users\\ashaa\\appdata\\local\\programs\\python\\python313\\lib\\site-packages (from transformers) (0.21.0)\n",
      "Requirement already satisfied: safetensors>=0.4.1 in c:\\users\\ashaa\\appdata\\local\\programs\\python\\python313\\lib\\site-packages (from transformers) (0.5.2)\n",
      "Requirement already satisfied: tqdm>=4.27 in c:\\users\\ashaa\\appdata\\local\\programs\\python\\python313\\lib\\site-packages (from transformers) (4.67.1)\n",
      "Requirement already satisfied: fsspec>=2023.5.0 in c:\\users\\ashaa\\appdata\\local\\programs\\python\\python313\\lib\\site-packages (from huggingface-hub<1.0,>=0.24.0->transformers) (2024.9.0)\n",
      "Requirement already satisfied: typing-extensions>=3.7.4.3 in c:\\users\\ashaa\\appdata\\local\\programs\\python\\python313\\lib\\site-packages (from huggingface-hub<1.0,>=0.24.0->transformers) (4.12.2)\n",
      "Requirement already satisfied: colorama in c:\\users\\ashaa\\appdata\\local\\programs\\python\\python313\\lib\\site-packages (from tqdm>=4.27->transformers) (0.4.6)\n",
      "Requirement already satisfied: charset-normalizer<4,>=2 in c:\\users\\ashaa\\appdata\\local\\programs\\python\\python313\\lib\\site-packages (from requests->transformers) (3.4.1)\n",
      "Requirement already satisfied: idna<4,>=2.5 in c:\\users\\ashaa\\appdata\\local\\programs\\python\\python313\\lib\\site-packages (from requests->transformers) (3.10)\n",
      "Requirement already satisfied: urllib3<3,>=1.21.1 in c:\\users\\ashaa\\appdata\\local\\programs\\python\\python313\\lib\\site-packages (from requests->transformers) (2.3.0)\n",
      "Requirement already satisfied: certifi>=2017.4.17 in c:\\users\\ashaa\\appdata\\local\\programs\\python\\python313\\lib\\site-packages (from requests->transformers) (2025.1.31)\n",
      "Note: you may need to restart the kernel to use updated packages.\n"
     ]
    },
    {
     "name": "stderr",
     "output_type": "stream",
     "text": [
      "WARNING: Ignoring invalid distribution ~ip (c:\\Users\\ashaa\\AppData\\Local\\Programs\\Python\\Python313\\Lib\\site-packages)\n",
      "WARNING: Ignoring invalid distribution ~ip (c:\\Users\\ashaa\\AppData\\Local\\Programs\\Python\\Python313\\Lib\\site-packages)\n",
      "WARNING: Ignoring invalid distribution ~ip (c:\\Users\\ashaa\\AppData\\Local\\Programs\\Python\\Python313\\Lib\\site-packages)\n"
     ]
    }
   ],
   "source": [
    "%pip install transformers"
   ]
  },
  {
   "cell_type": "code",
   "execution_count": 1,
   "metadata": {},
   "outputs": [],
   "source": [
    "import spacy\n",
    "\n",
    "# Load the more powerful transformer-based model\n",
    "nlp = spacy.load(\"en_core_web_trf\")\n",
    "\n",
    "latest_org = None  # Variable to store the latest company\n",
    "\n",
    "def extract_organization_spacy(question:str):\n",
    "    global latest_org  \n",
    "\n",
    "    doc = nlp(question)\n",
    "    # Extract entities labeled as \"ORG\" (organizations)\n",
    "    orgs = [ent.text for ent in doc.ents if ent.label_ == \"ORG\"]\n",
    "\n",
    "    if orgs:\n",
    "        latest_org = orgs[0]  # Update with the detected organization\n",
    "    print(orgs)\n",
    "    return orgs"
   ]
  },
  {
   "cell_type": "code",
   "execution_count": 2,
   "metadata": {},
   "outputs": [
    {
     "name": "stdout",
     "output_type": "stream",
     "text": [
      "['Accenture', 'Modak']\n",
      "['Accenture', 'Modak']\n"
     ]
    },
    {
     "data": {
      "text/plain": [
       "'Tell Me About Accenture And Modak'"
      ]
     },
     "execution_count": 2,
     "metadata": {},
     "output_type": "execute_result"
    }
   ],
   "source": [
    "question3 = \"tell me about accenture and modak\".title()\n",
    "print(extract_organization_spacy(question3)) \n",
    "question3"
   ]
  },
  {
   "cell_type": "code",
   "execution_count": 3,
   "metadata": {},
   "outputs": [
    {
     "name": "stdout",
     "output_type": "stream",
     "text": [
      "{'id': 'realpage_description', 'text': \"RealPage is a leading global provider of property management software solutions for the real estate industry. Headquartered in Richardson, Texas, RealPage India, located in Hyderabad, plays a crucial role in the company's global operations. The company offers innovative software platforms that help property managers and owners optimize their operations, improve tenant experiences, and maximize revenue. RealPage is known for its expertise in SaaS (Software as a Service) solutions, data analytics, and artificial intelligence (AI) in the real estate sector.\"} 300\n"
     ]
    }
   ],
   "source": [
    "import json\n",
    "with open('data.json', 'r',encoding='utf-8') as file:\n",
    "    data = json.load(file)\n",
    "# f=open(\"data.json\",\"r\",encoding='utf-8')\n",
    "ii=0\n",
    "for i in data:\n",
    "    ii+=1\n",
    "    if i[\"id\"]==\"realpage_description\":\n",
    "        print(i,ii)"
   ]
  },
  {
   "cell_type": "code",
   "execution_count": 121,
   "metadata": {},
   "outputs": [
    {
     "data": {
      "text/plain": [
       "'accenture_description'"
      ]
     },
     "execution_count": 121,
     "metadata": {},
     "output_type": "execute_result"
    }
   ],
   "source": [
    "data[0][\"id\"]"
   ]
  },
  {
   "cell_type": "code",
   "execution_count": 188,
   "metadata": {},
   "outputs": [],
   "source": [
    "batched_id_data=[]\n",
    "for i in range(0,len(data),96):\n",
    "    a=[]\n",
    "    for j in data[i:i+96]:\n",
    "        a.append(j[\"id\"])\n",
    "    batched_id_data.append(a)\n",
    "# batched_id_data"
   ]
  },
  {
   "cell_type": "code",
   "execution_count": 189,
   "metadata": {},
   "outputs": [],
   "source": [
    "batched_data=[]\n",
    "for i in range(0,len(data),96):\n",
    "    batched_data.append(data[i:i+96])\n",
    "# batched_data"
   ]
  },
  {
   "cell_type": "code",
   "execution_count": 86,
   "metadata": {},
   "outputs": [
    {
     "data": {
      "text/plain": [
       "7"
      ]
     },
     "execution_count": 86,
     "metadata": {},
     "output_type": "execute_result"
    }
   ],
   "source": [
    "len(batched_data)"
   ]
  },
  {
   "cell_type": "code",
   "execution_count": 87,
   "metadata": {},
   "outputs": [
    {
     "name": "stdout",
     "output_type": "stream",
     "text": [
      "96 [{'id': 'accenture_description', 'text': 'Accenture is a global professional services company that specializes in digital transformation, cloud computing, artificial intelligence, and consulting solutions. Headquartered in Dublin, Ireland, it operates in over 120 countries with approximately 743,000 employees, serving 75% of Fortune Global 500 companies. Accenture helps businesses, governments, and organizations optimize operations, accelerate growth, and enhance customer experiences through cutting-edge technologies. The company offers services across five key areas: Strategy & Consulting, Technology, Operations, Industry X, and Song, enabling clients to drive innovation and achieve sustainable success. With strong partnerships with technology leaders like Microsoft, Google, AWS, SAP, and Oracle, Accenture delivers high-impact solutions tailored to industry needs. It is also committed to sustainability, diversity, and corporate social responsibility, striving for net-zero emissions and fostering an inclusive workplace. By leveraging the power of technology and human ingenuity, Accenture aims to create 360° value for clients, employees, partners, and communities, shaping the future of business and technology. For more information, visit www.accenture.com.'}, {'id': 'accenture_role_description', 'text': 'Accenture Role description: Packaged App development associate Join our team in developing, designing, and maintaining technologies that enhance the way our clients and the world operate. You will work in challenging and dynamic environments, leveraging your versatility to create and support technology solutions that align with client requirements, from analysis to implementation. As an Associate Software Engineer, your role will involve designing, building, testing, assembling, supporting, and configuring applications based on business requirements. You will be expected to understand business drivers that impact performance and develop software solutions accordingly. Additionally, you will incorporate emerging technology trends into solutions, contribute to automation initiatives, develop new functionalities, and integrate them into existing systems. You will also be responsible for incident resolution and customer support through voice interaction, email, chat, or remote assistance.We are looking for candidates with the ability to anticipate and resolve business issues with agility. You should be multi-disciplinary, versatile, and quick to learn and apply new skills. Strong analytical and problem-solving abilities, along with proficient verbal and written communication skills, are essential. You must be capable of delivering high-quality code on time, participating in peer reviews, and taking ownership of solution implementation. Additionally, the role involves supporting infrastructure operations and managing IT production systems and services. Candidates must also be flexible to relocate anywhere in India for project deployment and work in 24x7 shifts based on business requirements.'}, {'id': 'accenture_eligibility', 'text': \"Accenture's eligibility criteria for this role include candidates from any engineering stream (B.E/B.Tech/M.E/M.Tech) or MCA/MSc (CS/IT/Computer Applications/Data Science/Computer Science & Applications), with no active backlogs during application or onboarding. Applicants should have a maximum of 23 months of full-time experience and should not have participated in the Accenture recruitment assessment/interview process in the last three months. Additionally, candidates must complete their degree within the stipulated duration, without gaps. Only Indian citizens, as well as Bhutan and Nepal nationals, are eligible without requiring a work visa. Other foreign nationals must possess a valid work visa, OCI, or PIO card to work in India.\"}, {'id': 'accenture_recruitment_process', 'text': 'Accenture has recently updated its recruitment process, which is now divided into three stages: Online Assessment, Communication Assessment, and Interview (Technical + HR). The Online Assessment consists of multiple sub-sections, including Cognitive Ability, Abstract Reasoning, Critical Reasoning, Verbal Ability, and a Technical Assessment covering topics like Common Applications in MS Word, Pseudocode, Network Security, and Cloud. Candidates must first clear the Cognitive and Technical Assessments to qualify for the Coding Test. Upon successfully passing the Online Assessment, candidates proceed to the Communication Assessment, followed by the final Interview round, which includes both technical and HR discussions.The Cognitive Assessment comprises 50 questions to be completed in 50 minutes, while the Technical Assessment includes 40 questions in 40 minutes. The Coding round consists of two questions with a duration of 45 minutes, and the Communication Assessment includes 20–25 questions in 30 minutes. Candidates who meet the required cutoff in the placement test will qualify for the interview round. The eligibility criteria for Accenture require a minimum of 65% or a 6.5 CGPA in graduation with no active backlogs. However, for certain colleges, there are no percentage criteria.The test pattern for Accenture’s written assessment includes various sections: English Ability (17 questions), Critical Reasoning and Problem Solving (18 questions), Abstract Reasoning (15 questions), Common Applications and MS Office (12 questions), Pseudocode (18 questions), Network Security and Cloud (10 questions), Coding (2 questions), and Communication Assessment (20 questions). In total, the assessment consists of 112 questions to be completed in 150 minutes, with a difficulty level considered hard and a cutoff set at 50%The recruitment process is structured into three stages, with Stage 1 lasting 90 minutes and Stage 2 lasting 45 minutes. Stage 1 serves as an elimination round, and only those who qualify move forward to Stage 2. Both Stages 2 and 3 are mandatory and also elimination rounds. Candidates who clear Stage 1 and complete Stage 2 will be invited to Stage 3, where their performance will be considered as a reference in the interview. Additionally, the final package offered is determined based on the overall performance at a zonal level.The Communication Round in Accenture’s hiring process primarily assesses communication skills. It is relatively easy to clear if you have a good command of English vocabulary and speaking abilities. Accenture seems to prioritize candidates with strong communication skills. This round lasts for approximately 45 minutes, consisting of around 50 questions. The tasks in this round include reading text displayed on the screen, answering questions based on audio inputs, and other verbal assessments.Interview Round:Following this, there is only one interview round, which includes both technical and HR questions. The nature of the technical questions varies; some candidates are asked in-depth DSA (Data Structures and Algorithms) questions, while others are asked about their projects and areas of interest. In my experience, the interviewer focused primarily on my projects and interests rather than technical questions. However, some of my friends were asked coding and DSA-related questions, so it is best to be well-prepared for technical topics.Some of the questions I was asked included: Introduce yourself. Tell me about your projects. Why do you want to join Accenture? Why should we hire you? Explain an algorithm for a coding problem.A key takeaway is to keep your answers short and to the point during the interview. Additionally, using good vocabulary and clear communication is crucial, as they are very strict in assessing communication skills.'}, {'id': 'accenture_additional_info', 'text': 'Accenture offers two roles with different salary packages. The Associate Software Engineer role comes with a package of Rs. 4.50 LPA, which includes a fixed pay of Rs. 3.83 LPA, a performance bonus of Rs. 32,500 per annum, a one-time joining bonus of Rs. 25,000, along with additional benefits such as gratuity and insurance. The Advanced Associate Software Engineer role offers a Rs. 6.50 LPA package, with a fixed pay of Rs. 5.41 LPA, a performance-based pay of Rs. 82,500 per performance cycle, and a one-time joining bonus of Rs. 26,500. Employees also receive additional benefits such as free transport, house rent allowance, medical allowance, and health insurance with a Rs. 4 lakh cover, which is an advantage over competitors like TCS, CTS, Infosys, and Wipro.'}, {'id': 'cisco_description', 'text': 'Cisco is a global leader in IT, networking, and cybersecurity solutions, headquartered in San Jose, California. The company operates in over 90 countries and provides cutting-edge technologies to businesses, governments, and organizations worldwide. Cisco specializes in networking hardware, software, and telecommunications equipment, enabling digital transformation and secure connectivity. Known for its innovation, Cisco is committed to sustainability, diversity, and creating a future where everyone can thrive. The company serves a wide range of industries, including healthcare, education, finance, and retail, and is a trusted partner for Fortune 500 companies.'}, {'id': 'cisco_role_description', 'text': \"As a Software Engineer (Fresher), you will join Cisco's dynamic team to design, develop, and maintain software solutions that power the world's networks. Your responsibilities will include writing high-quality code, debugging, and troubleshooting software issues, and collaborating with cross-functional teams to deliver innovative solutions. You will work on projects involving cloud computing, cybersecurity, and IoT (Internet of Things). Cisco is looking for candidates with strong problem-solving skills, proficiency in programming languages like Python, Java, or C++, and a passion for technology. Freshers with a degree in Computer Science, IT, or related fields are eligible to apply. The role may require working in a hybrid or remote environment, depending on project requirements.\"}, {'id': 'cisco_eligibility', 'text': \"Cisco's eligibility criteria include candidates from any engineering stream (B.E/B.Tech/M.E/M.Tech) with a minimum of 65% or 6.5 CGPA in graduation with no active backlogs. Candidates must have completed their degree within the stipulated duration.\"}, {'id': 'cisco_recruitment_process', 'text': \"Cisco's campus recruitment process typically consists of four stages: Online Assessment, Technical Interview, HR Interview, and Final Selection. The Online Assessment includes aptitude, logical reasoning, and technical questions (e.g., coding, networking basics, and data structures). The test duration is 90 minutes. The Technical Interview focuses on programming, algorithms, and networking concepts. The HR Interview assesses communication skills, cultural fit, and motivation to join Cisco. Sample HR questions include: Tell me about yourself. Why do you want to join Cisco? How do you handle challenges in a team environment? Final Selection is based on performance in all rounds.\"}, {'id': 'cisco_additional_info', 'text': 'Cisco offers a competitive salary package for freshers, typically ranging from ₹3.8 - 4.8 LPA, depending on the role and location. The package includes a fixed salary, performance bonuses, and additional benefits such as health insurance, relocation assistance, and professional development opportunities. Cisco is known for its employee-friendly policies, including flexible work hours and a strong focus on work-life balance.'}, {'id': 'providence_description', 'text': 'Providence is a leading healthcare organization based in the United States, with a mission to improve the health and well-being of communities. The company operates a network of hospitals, clinics, and healthcare services, leveraging technology to deliver patient-centered care. Providence is at the forefront of digital health innovation, using AI, data analytics, and cloud computing to transform healthcare delivery. The company is committed to sustainability, diversity, and creating a positive impact on society.'}, {'id': 'providence_role_description', 'text': 'Providence Role description: Service Engineer Internship As a Service Engineer Intern, you will work on developing and maintaining healthcare technology solutions that improve patient outcomes. Your responsibilities will include troubleshooting technical issues, supporting software deployments, and collaborating with healthcare professionals to understand their needs. Providence is looking for candidates with a strong foundation in computer science, problem-solving skills, and an interest in healthcare technology. Freshers with a degree in Computer Science, IT, or related fields are eligible to apply. This is a 6-month internship with the possibility of a full-time offer based on performance.'}, {'id': 'providence_eligibility', 'text': 'The eligibility criteria for Providence include candidates from any engineering stream (B.E/B.Tech/M.E/M.Tech) with a minimum of 60% or 6.0 CGPA in graduation with no active backlogs. Candidates must have completed their degree within the stipulated duration.'}, {'id': 'providence_recruitment_process', 'text': 'Providence’s internship recruitment process includes an Online Assessment consisting of MCQs on computer science subjects, Data Structures and Algorithms, one coding question, and two SQL queries. The Technical Interview assesses candidates on their technical skills, problem-solving abilities, and understanding of healthcare systems. The Managerial Round evaluates thinking ability and the capability to come up with solutions for critical problems. The HR Interview focuses on communication skills, motivation, and cultural fit.'}, {'id': 'providence_interview_round', 'text': 'The Technical Interview of Providence focuses on your understanding of software development, system design, and troubleshooting. You may be asked to explain your projects and solve coding problems. The TR Interview includes questions about self-introduction, technical details from your resume, and theoretical questions on CS subjects like Computer Networks, DBMS, OOPS, Data Structures and Algorithms, and SQL, along with puzzles. The Managerial Round includes situation-based questions. The HR Interview consists of questions like why you want to work in healthcare technology and how you handle pressure in a fast-paced environment. Providence values candidates who are passionate about using technology to improve healthcare.'}, {'id': 'providence_additional_info', 'text': 'Providence offers a stipend of ₹25,000-35,000 per month during the internship. Interns also gain exposure to cutting-edge healthcare technologies and work with experienced professionals. Full-time offers after the internship typically come with a salary package of ₹8-13 LPA, along with benefits such as health insurance and professional development opportunities.'}, {'id': 'atlassian_description', 'text': 'Atlassian is a leading software company headquartered in Sydney, Australia, known for its collaboration and productivity tools like Jira, Confluence, and Trello. The company serves millions of users worldwide, including Fortune 500 companies, and is committed to empowering teams to work better together. Atlassian is a strong advocate for diversity and inclusion, with a focus on creating opportunities for women in technology. The company is also known for its innovative culture and commitment to sustainability.'}, {'id': 'atlassian_role_description', 'text': 'Atlassian Role description: Software Development Intern (Women) As a Software Development Intern (Women), you will work on developing and enhancing Atlassian’s flagship products. Your responsibilities will include writing code, debugging, and collaborating with cross-functional teams to deliver high-quality software solutions. Atlassian is looking for women candidates with strong programming skills, problem-solving abilities, and a passion for technology. Freshers with a degree in Computer Science, IT, or related fields are eligible to apply. This is a 6-month internship with the possibility of a full-time offer based on performance.'}, {'id': 'atlassian_eligibility', 'text': 'The eligibility criteria for Atlassian include candidates from any engineering stream (B.E/B.Tech/M.E/M.Tech)with a minimum of 70% or 7.0 CGPA in graduation with no active backlogs. Candidates must have completed their degree within the stipulated duration.'}, {'id': 'atlassian_recruitment_process', 'text': 'Atlassian’s internship recruitment process includes an Online Assessment that consists of coding, logical reasoning, and technical questions, with a test duration of 90 minutes. The Technical Interview assesses candidates on their programming skills, algorithms, and problem-solving abilities. The HR Interview evaluates communication skills, motivation, and cultural fit.'}, {'id': 'atlassian_interview_round', 'text': 'The Technical Interview of Atlassian focuses on your understanding of data structures, algorithms, and software development. You may be asked to solve coding problems and explain your projects. The HR Interview includes questions such as why you want to join Atlassian and how you contribute to a diverse and inclusive workplace. Atlassian values candidates who are innovative, collaborative, and passionate about technology.'}, {'id': 'atlassian_additional_info', 'text': 'Atlassian offers a stipend of ₹1,00,000 per month during the internship. Interns also gain exposure to cutting-edge technologies and work with experienced professionals. Full-time offers after the internship typically come with a salary package CTC of ₹40-50 LPA, along with benefits such as health insurance, flexible work hours, and professional development opportunities.'}, {'id': 'keyence_description', 'text': 'Keyence is a global leader in the development and manufacturing of automation sensors, vision systems, barcode readers, and measuring instruments. Headquartered in Osaka, Japan, Keyence operates in over 46 countries and is known for its innovative solutions that enhance manufacturing and industrial processes. The company is committed to providing high-quality products and services to a wide range of industries, including automotive, electronics, and pharmaceuticals. Keyence is also recognized for its strong focus on customer satisfaction and technological innovation.'}, {'id': 'keyence_role_description', 'text': 'Keyence Role description: Consulting Sales Engineer As a Consulting Sales Engineer, you will be responsible for understanding customer needs, providing technical solutions, and promoting Keyence’s products to clients. Your role will involve conducting product demonstrations, preparing technical proposals, and building strong relationships with customers. Keyence is looking for candidates with strong communication skills, technical knowledge, and a passion for sales. Freshers with a degree in Engineering (Mechanical, Electrical, Electronics, or related fields) are eligible to apply. The role may require travel to client sites and working in a fast-paced environment.'}, {'id': 'keyence_eligibility', 'text': 'The eligibility criteria for Keyence include candidates from any engineering stream (B.E/B.Tech/M.E/M.Tech) with a minimum of 60% or 6.0 CGPA in graduation with no active backlogs. Candidates must have completed their degree within the stipulated duration.'}, {'id': 'keyence_recruitment_process', 'text': 'Keyence’s recruitment process typically consists of three stages. The Online Assessment includes aptitude, logical reasoning, and technical questions related to engineering concepts, with a test duration of 60 minutes. The Technical Interview assesses candidates on their understanding of Keyence’s products, technical knowledge, and problem-solving abilities. The HR Interview evaluates communication skills, motivation, and cultural fit.'}, {'id': 'keyence_interview_round', 'text': 'The Technical Interview of Keyence internship focuses on your understanding of engineering concepts, sales strategies, and customer relationship management. You may be asked to solve technical problems and explain how you would approach a sales scenario. The HR Interview includes questions such as why you want to join Keyence and how you handle rejection in sales. Keyence values candidates who are technically sound, customer-focused, and have strong interpersonal skills.'}, {'id': 'keyence_additional_info', 'text': 'Keyence offers a competitive salary package with a CTC of ₹5.5 LPA for freshers, depending on the role and location. If the candidate relocates to another city, the package increases to ₹6.5 LPA CTC, depending on the location. The package includes a fixed salary, performance-based incentives, and additional benefits such as health insurance and travel allowances. Keyence is known for its employee-friendly policies and opportunities for professional growth.'}, {'id': 'deloitte_description', 'text': \"Deloitte is one of the 'Big Four' accounting and professional services firms, offering audit, consulting, tax, and advisory services to clients worldwide. Headquartered in London, UK, Deloitte operates in over 150 countries and is known for its expertise in helping organizations navigate complex business challenges. The company is committed to innovation, sustainability, and creating a positive impact on society. Deloitte is also recognized for its inclusive culture and focus on employee development.\"}, {'id': 'deloitte_role_description', 'text': 'Deloitte Role description: Internship As an Intern, you will work on real-world projects in areas such as consulting, audit, or tax, depending on your assigned team. Your responsibilities will include data analysis, preparing reports, and assisting senior team members in delivering client solutions. Deloitte is looking for candidates with strong analytical skills, attention to detail, and a passion for problem-solving. Freshers with a degree in Commerce, Business, Engineering, or related fields are eligible to apply. This is a 3–6 month internship with the possibility of a full-time offer based on performance.'}, {'id': 'deloitte_eligibility', 'text': 'The eligibility criteria for Deloitte internship include candidates from any engineering stream (B.E/B.Tech/M.E/M.Tech) with a minimum of 60% or 6.0 CGPA in graduation with no active backlogs. Candidates must have completed their degree within the stipulated duration.'}, {'id': 'deloitte_recruitment_process', 'text': 'Deloitte’s internship recruitment process includes an Online Assessment that consists of aptitude, logical reasoning, and technical questions, with a test duration of 90 minutes. The Technical Interview assesses candidates on their understanding of business concepts, analytical skills, and problem-solving abilities. The HR Interview evaluates communication skills, motivation, and cultural fit.'}, {'id': 'deloitte_interview_round', 'text': 'The Technical Interview of Deloitte internshipfocuses on your understanding of business processes, data analysis, and consulting methodologies. You may be asked to solve case studies and explain your approach to problem-solving. The HR Interview includes questions such as why you want to join Deloitte and how you handle working in a team environment. Deloitte values candidates who are analytical, detail-oriented, and have strong communication skills.'}, {'id': 'deloitte_additional_info', 'text': 'Deloitte offers a stipend of ₹20,000-30,000 per month during the internship. Interns also gain exposure to real-world business challenges and work with experienced professionals. Full-time offers after the internship typically come with a salary package of ₹8-10 LPA, along with benefits such as health insurance, professional development opportunities, and a global network of experts.'}, {'id': 'gradious_description', 'text': 'Gradious is an ed-tech company that provides personalized learning solutions to students and professionals. The company focuses on helping individuals develop skills in areas such as data science, programming, and business analytics. Gradious is known for its innovative approach to education, leveraging technology to create interactive and engaging learning experiences. The company is committed to empowering learners to achieve their career goals and bridge the skills gap in the job market.'}, {'id': 'gradious_role_description', 'text': 'Gradious Role description: Software Developer (Fresher) As a Software Developer (Fresher), you will work on developing and maintaining Gradious’s learning platforms. Your responsibilities will include writing code, debugging, and collaborating with cross-functional teams to deliver high-quality software solutions. Gradious is looking for candidates with strong programming skills, problem-solving abilities, and a passion for education technology. Freshers with a degree in Computer Science, IT, or related fields are eligible to apply. The role may require working in a fast-paced, startup environment.'}, {'id': 'gradious_eligibility', 'text': 'The eligibility criteria for Gradious include candidates from any engineering stream (B.E/B.Tech/M.E/M.Tech) with a minimum of 60% or 6.0 CGPA in graduation with no active backlogs. Candidates must have completed their degree within the stipulated duration.'}, {'id': 'gradious_recruitment_process', 'text': 'Gradious’s recruitment process typically consists of three stages. The Online Assessment includes coding, logical reasoning, and technical questions, with a test duration of 60 minutes. The Technical Interview assesses candidates on their programming skills, algorithms, and problem-solving abilities. The HR Interview evaluates communication skills, motivation, and cultural fit.'}, {'id': 'gradious_interview_round', 'text': 'The Technical Interview of Gradiousfocuses on your understanding of data structures, algorithms, and software development. You may be asked to solve coding problems and explain your projects. The HR Interview includes questions such as why you want to join Gradious and how you contribute to a collaborative work environment. Gradious values candidates who are innovative, passionate about education, and have strong technical skills.'}, {'id': 'gradious_additional_info', 'text': 'Gradious offers a competitive salary package for freshers, typically ranging from ₹4-6 LPA, depending on the role and location. The package includes a fixed salary, performance bonuses, and additional benefits such as health insurance and professional development opportunities. Gradious is known for its dynamic work culture and opportunities for growth in the ed-tech industry.'}, {'id': 'pega_description', 'text': 'Pegasystems (Pega) is a leading software company specializing in customer engagement and operational excellence. Headquartered in Cambridge, Massachusetts, Pega provides innovative solutions for automation, AI, and CRM (Customer Relationship Management). The company serves a wide range of industries, including financial services, healthcare, and telecommunications. Pega is known for its low-code development platform, which enables businesses to build scalable and flexible applications. The company is committed to driving digital transformation and empowering organizations to deliver exceptional customer experiences.'}, {'id': 'pega_role_description', 'text': 'Pega Role description: Pega Developer (Fresher) As a Pega Developer (Fresher), you will work on designing, developing, and implementing Pega-based solutions for clients. Your responsibilities will include creating workflows, integrating systems, and ensuring the scalability of applications. Pega is looking for candidates with strong problem-solving skills, an understanding of business processes, and a passion for technology. Freshers with a degree in Computer Science, IT, or related fields are eligible to apply. Knowledge of Pega’s low-code platform is a plus but not mandatory, as training will be provided.'}, {'id': 'pega_eligibility', 'text': 'The eligibility criteria for Pega program include candidates from any engineering stream (B.E/B.Tech/M.E/M.Tech) with a minimum of 60% or 6.0 CGPA in graduation with no active backlogs. Candidates must have completed their degree within the stipulated duration.'}, {'id': 'pega_recruitment_process', 'text': 'Pega’s recruitment process typically consists of three stages. The Online Assessment includes aptitude, logical reasoning, and technical questions related to programming and system design, with a test duration of 90 minutes. The Technical Interview assesses candidates on their understanding of Pega’s platform, business process management, and problem-solving abilities. The Case Study Round involves analyzing a business problem and designing a solution using Pega’s low-code platform.'}, {'id': 'pega_interview_round', 'text': 'The Technical Interview of Pega programfocuses on your understanding of Pega’s platform, including concepts like case management, decisioning, and integration. You may be asked to explain how you would design a workflow for a customer onboarding process, discuss the difference between Pega’s declarative and procedural processing, or solve a problem related to data transformation or system integration. The Case Study Round involves analyzing a business problem, identifying key requirements, proposing a workflow or automation solution, and justifying your design choices. Pega values candidates who can think critically, understand business processes, and apply technology to solve real-world problems.'}, {'id': 'pega_additional_info', 'text': 'Pega offers a competitive salary package for freshers, typically ranging from ₹6-8 LPA, depending on the role and location. The package includes a fixed salary, performance bonuses, and additional benefits such as health insurance and professional development opportunities. Pega is known for its innovative work culture and opportunities to work on cutting-edge technologies.'}, {'id': 'arai_description', 'text': 'The Automotive Research Association of India (ARAI) is a leading research and development organization in the automotive sector. Based in Pune, ARAI works closely with the Indian government and automotive manufacturers to develop standards, conduct research, and provide testing services. ARAI is known for its contributions to vehicle safety, emissions control, and alternative fuels. The organization is committed to advancing automotive technology and promoting sustainable mobility solutions.'}, {'id': 'arai_role_description', 'text': 'ARAI Role description: As an Intern, you will work on research projects related to automotive technology, such as vehicle safety, emissions testing, or alternative fuels. Your responsibilities will include data collection, analysis, and assisting senior researchers in conducting experiments. ARAI is looking for candidates with strong analytical skills, a passion for automotive technology, and an interest in research. Freshers with a degree in Mechanical, Automotive, or Electrical Engineering are eligible to apply. This is a 6-month internship with the possibility of a full-time offer based on performance.'}, {'id': 'arai_eligibility', 'text': 'The eligibility criteria for ARAI include candidates from any engineering stream (B.E/B.Tech/M.E/M.Tech) with a minimum of 60% or 6.0 CGPA in graduation with no active backlogs. Candidates must have completed their degree within the stipulated duration.'}, {'id': 'arai_recruitment_process', 'text': 'ARAI’s internship recruitment process includes an Online Assessment that consists of technical questions related to automotive engineering, logical reasoning, and aptitude, with a test duration of 60 minutes. The Technical Interview assesses candidates on their understanding of automotive systems, research methodologies, and problem-solving abilities. The Project Discussion round involves discussing academic projects or research work in detail.'}, {'id': 'arai_interview_round', 'text': 'The Technical Interview of ARAI internshipfocuses on your understanding of automotive systems, such as engine performance, vehicle dynamics, and emissions control. You may be asked to explain the working of a hybrid vehicle system, discuss the challenges in reducing vehicle emissions, or solve a problem related to vehicle safety testing. The Project Discussion involves presenting your academic or research projects, explaining the objectives, methodology, and outcomes, and discussing how your project aligns with ARAI’s research areas. ARAI values candidates who are passionate about automotive technology and have strong research and analytical skills.'}, {'id': 'arai_additional_info', 'text': 'ARAI offers a stipend of ₹15,000-20,000 per month during the internship. Interns also gain exposure to cutting-edge automotive research and work with experienced professionals. Full-time offers after the internship typically come with a salary package of ₹5-7 LPA, along with benefits such as health insurance and professional development opportunities.'}, {'id': 'infosys_description', 'text': 'Infosys is a global leader in consulting, technology, and next-generation services. Headquartered in Bangalore, India, Infosys serves clients in over 50 countries and is known for its expertise in digital transformation, cloud computing, and AI. The company is committed to driving innovation and helping businesses navigate the challenges of the digital age. Infosys is also recognized for its strong focus on sustainability, diversity, and employee development.'}, {'id': 'infosys_role_description', 'text': 'Infosys Role Description: Software Engineer (Fresher) As a Software Engineer, you will work on developing and maintaining software solutions for Infosys’s clients. Your responsibilities will include writing code, debugging, and collaborating with cross-functional teams to deliver high-quality solutions. Infosys is looking for candidates with strong programming skills, problem-solving abilities, and a passion for technology. Freshers with a degree in Computer Science, IT, or related fields are eligible to apply. The role may require working in a fast-paced, client-facing environment.'}, {'id': 'infosys_eligibility', 'text': 'The eligibility criteria for Infosys HackWithInfy process include candidates from any engineering stream (B.E/B.Tech/M.E/M.Tech) with a minimum of 65% or 6.5 CGPA in graduation with no active backlogs.'}, {'id': 'infosys_recruitment_process', 'text': 'Infosys’s recruitment process typically consists of three stages. The first stage is an online assessment, which is a national-level coding test designed to evaluate problem-solving ability. The test duration is 90 minutes. The second stage is a technical interview, where candidates are assessed on their programming skills, algorithms, and problem-solving abilities. The final stage is the HR interview, which evaluates communication skills, motivation, and cultural fit.'}, {'id': 'infosys_interview_round', 'text': 'The Technical Interview of Infosys HackwithInfy recruitment process focuses on understanding data structures, and algorithms. Candidates may be required to solve a coding problem related to data structures and algorithms at a medium to hard difficulty level. They may also be asked to explain their projects and discuss ways to optimize a slow-performing application. Infosys values candidates who are technically sound, innovative, and possess strong problem-solving skills.'}, {'id': 'infosys_additional_info', 'text': 'Infosys offers a competitive salary package for freshers, ranging from ₹5-9.5 LPA, depending on the role and location. The package includes a fixed salary, performance bonuses, and additional benefits such as health insurance and professional development opportunities. Infosys is known for its employee-friendly policies and opportunities for global exposure.'}, {'id': 'factset_description', 'text': 'FactSet is a global financial data and software company that provides analytics and insights to investment professionals. Headquartered in Norwalk, Connecticut, FactSet serves clients in over 90 countries and is known for its comprehensive financial data and innovative tools. The company is committed to helping investment professionals make better decisions through data-driven insights. FactSet is also recognized for its strong focus on innovation, employee development, and work-life balance.'}, {'id': 'factset_role_description', 'text': 'FactSet Role Description: Software Engineer (Fresher) As a Software Engineer, you will work on developing and maintaining financial software solutions for FactSet’s clients. Your responsibilities will include writing code, debugging, and collaborating with cross-functional teams to deliver high-quality solutions. FactSet is looking for candidates with strong programming skills, problem-solving abilities, and an interest in finance. Freshers with a degree in Computer Science, IT, or related fields are eligible to apply. The role may require working in a fast-paced, client-facing environment.'}, {'id': 'factset_eligibility', 'text': 'The eligibility criteria for FactSet include candidates from any engineering stream (B.E/B.Tech/M.E/M.Tech) with a minimum of 65% or 6.5 CGPA in graduation with no active backlogs. Candidates must have completed their degree within the stipulated duration.'}, {'id': 'factset_recruitment_process', 'text': 'FactSet’s recruitment process typically consists of three stages. The first stage is an online assessment, which includes coding, logical reasoning, and technical questions. The test duration is 90 minutes. The second stage is a technical interview, where candidates are assessed on their programming skills, algorithms, and problem-solving abilities. The final stage is the HR interview, which evaluates communication skills, motivation, and cultural fit.'}, {'id': 'factset_interview_round', 'text': \"FactSet's technical Interview focuses on understanding data structures, algorithms, and software development. Candidates may be required to solve a coding problem related to dynamic programming. They may also be asked to explain how they would design a system to handle large financial datasets and discuss the challenges of working with real-time financial data. FactSet values candidates who are technically sound, detail-oriented, and have a strong interest in finance.\"}, {'id': 'factset_additional_info', 'text': 'FactSet offers a competitive salary package for freshers, typically ranging from ₹8-10 LPA, depending on the role and location. The package includes a fixed salary, performance bonuses, and additional benefits such as health insurance and professional development opportunities. FactSet is known for its employee-friendly policies and opportunities for global exposure.'}, {'id': 'accelyzei_description', 'text': 'Accelyzei is a fast-growing technology company specializing in data analytics, AI, and machine learning solutions. Headquartered in Bangalore, India, Accelyzei serves clients across various industries, including healthcare, retail, and finance. The company is known for its innovative approach to solving complex business problems using data-driven insights. Accelyzei is committed to fostering a culture of innovation, collaboration, and continuous learning.'}, {'id': 'accelyzei_role_description', 'text': 'Accelyzei Role Description: Data Analyst Intern as a Data Analyst Intern, you will work on analyzing large datasets, building predictive models, and generating insights for clients. Your responsibilities will include data cleaning, visualization, and collaborating with cross-functional teams to deliver actionable insights. Accelyzei is looking for candidates with strong analytical skills, proficiency in tools like Python or R, and a passion for data science. Freshers with a degree in Computer Science, IT, or related fields are eligible to apply. This is a 6-month internship with the possibility of a full-time offer based on performance.'}, {'id': 'accelyzei_eligibility', 'text': \"The eligibility criteria for Azzelyzei's internship include candidates from any engineering stream (B.E/B.Tech/M.E/M.Tech) with a minimum of 65% or 6.5 CGPA in graduation with no active backlogs.\"}, {'id': 'accelyzei_recruitment_process', 'text': 'Accelyzei’s internship recruitment process includes an online assessment, which consists of aptitude, logical reasoning, and technical questions related to data analysis and programming, with a test duration of 60 minutes. The next stage is the technical interview, where candidates are assessed on their understanding of data analysis, machine learning, and problem-solving abilities. The final stage is a case study round, where candidates are given a dataset and asked to analyze it and present insights.'}, {'id': 'accelyzei_interview_round', 'text': 'The Technical Interview for Accelyzei internship focuses on understanding data analysis, machine learning, and programming. Candidates may be required to explain how they would handle missing data in a dataset, discuss the difference between supervised and unsupervised learning, and solve a problem related to data visualization. The Case Study Round involves analysing a dataset and presenting findings, identifying key trends and patterns, proposing actionable insights, and justifying the approach and methodology. Accelyzei values candidates who are analytical, detail-oriented, and have a passion for data science.'}, {'id': 'accelyzei_additional_info', 'text': 'Accelyzei offers a stipend of ₹20,000-30,000 per month during the internship. Interns also gain exposure to real-world data analytics projects and work with experienced professionals. Full-time offers after the internship typically come with a salary package of ₹6-8 LPA, along with benefits such as health insurance and professional development opportunities.'}, {'id': 'frugal_testing_description', 'text': 'Frugal Testing is a leading software testing company that provides cost-effective and high-quality testing solutions to clients worldwide. Headquartered in Bangalore, India, Frugal Testing specializes in manual and automated testing, performance testing, and QA consulting. The company is known for its innovative approach to testing and its commitment to delivering value to clients. Frugal Testing is also recognized for its strong focus on employee development and work-life balance.'}, {'id': 'frugal_testing_role_description', 'text': 'Frugal Testing Role Description: Software Development Engineer in Test (SDET) As a Software Development Engineer in Test, you will work on designing, developing, and executing automated test scripts for software applications. Your responsibilities will include writing test cases, debugging, and collaborating with development teams to ensure software quality. Frugal Testing is looking for candidates with strong programming skills, an understanding of testing methodologies, and a passion for quality assurance. Freshers with a degree in Computer Science, IT, or related fields are eligible to apply. The role may require working in a fast-paced, client-facing environment.'}, {'id': 'frugal_testing_eligibility', 'text': 'The eligibility criteria for Frugal Testing (SDET role) include candidates from any engineering stream (B.E/B.Tech/M.E/M.Tech) with a minimum of 65% or 6.5 CGPA in graduation with no active backlogs. Candidates must have completed their degree within the stipulated duration.'}, {'id': 'frugal_testing_recruitment_process', 'text': 'Frugal Testing’s recruitment process typically consists of three stages. The first stage is an online assessment, which includes coding, logical reasoning, and technical questions related to software testing. The test duration is 90 minutes. The second stage is a technical interview, where candidates are assessed on their understanding of testing methodologies, programming skills, and problem-solving abilities. The final stage is the HR interview, which evaluates communication skills, motivation, and cultural fit.'}, {'id': 'frugal_testing_interview_round', 'text': \"Frugal Testing's Technical Interview focuses on understanding software testing, automation tools, and programming. Candidates may be required to explain the difference between manual and automated testing, discuss how they would design a test case for login functionality, and solve a problem related to debugging a failing test script. Frugal Testing values candidates who are detail-oriented, have strong problem-solving skills, and are passionate about ensuring software quality.\"}, {'id': 'frugal_testing_additional_info', 'text': 'Frugal Testing offers a competitive salary package for freshers, typically ranging from ₹4-6 LPA, depending on the role and location. The package includes a fixed salary, performance bonuses, and additional benefits such as health insurance and professional development opportunities. Frugal Testing is known for its employee-friendly policies and opportunities for growth in the software testing industry.'}, {'id': 'danfoss_description', 'text': 'Danfoss is a global leader in engineering solutions, specializing in climate and energy technologies. Headquartered in Nordborg, Denmark, Danfoss operates in over 100 countries and is known for its innovative products and solutions that promote sustainability and energy efficiency. The company serves a wide range of industries, including HVAC, refrigeration, and renewable energy. Danfoss is committed to driving innovation and creating a positive impact on the environment.'}, {'id': 'danfoss_role_description', 'text': 'Danfoss Role Description: Engineering Intern As an Engineering Intern, you will work on projects related to product development, testing, and optimization. Your responsibilities will include conducting experiments, analyzing data, and assisting senior engineers in developing innovative solutions. Danfoss is looking for candidates with strong technical skills, problem-solving abilities, and a passion for engineering. Freshers with a degree in Mechanical, Electrical, or related engineering fields are eligible to apply. This is a 6-month internship with the possibility of a full-time offer based on performance.'}, {'id': 'danfoss_eligibility', 'text': 'The eligibility criteria for Danfoss internship include candidates from any engineering stream (B.E/B.Tech/M.E/M.Tech) with a minimum of 60% or 6.0 CGPA in graduation with no active backlogs.'}, {'id': 'danfoss_recruitment_process', 'text': 'Danfoss’s internship recruitment process includes an online assessment that consists of technical questions related to engineering concepts, logical reasoning, and aptitude. The test duration is 60 minutes. The second stage is a technical interview, where candidates are assessed on their understanding of engineering principles, problem-solving abilities, and interest in sustainability. The final stage is a project discussion, where candidates are asked to discuss their academic projects or research work in detail.'}, {'id': 'danfoss_interview_round', 'text': 'The Technical Interview for Danfoss focuses on understanding engineering concepts such as thermodynamics, fluid mechanics, and energy systems. Candidates may be required to explain how they would optimize the energy efficiency of a refrigeration system, discuss the challenges of integrating renewable energy into existing power grids, and solve a problem related to product testing and validation. The Project Discussion involves presenting academic or research projects, explaining the objectives, methodology, and outcomes, and discussing how the project aligns with Danfoss’s focus on sustainability. Danfoss values candidates who are innovative, detail-oriented, and have a passion for engineering and sustainability.'}, {'id': 'danfoss_additional_info', 'text': 'Danfoss offers a stipend of ₹20,000-30,000 per month during the internship. Interns also gain exposure to cutting-edge engineering projects and work with experienced professionals. Full-time offers after the internship typically come with a salary package of ₹6-8 LPA, along with benefits such as health insurance and professional development opportunities.'}, {'id': 'soti_description', 'text': 'SOTI is a global leader in mobile and IoT device management solutions. Headquartered in Mississauga, Canada, SOTI provides innovative software solutions that help businesses manage and secure their mobile devices, applications, and content. The company serves a wide range of industries, including logistics, healthcare, and retail. SOTI is known for its commitment to innovation, customer satisfaction, and employee development.'}, {'id': 'soti_role_description', 'text': 'SOTI Role Description: Software Engineer (Fresher) As a Software Engineer, you will work on developing and maintaining SOTI’s mobile device management solutions. Your responsibilities will include writing code, debugging, and collaborating with cross-functional teams to deliver high-quality software solutions. SOTI is looking for candidates with strong programming skills, problem-solving abilities, and a passion for technology. Freshers with a degree in Computer Science, IT, or related fields are eligible to apply. The role may require working in a fast-paced, client-facing environment.'}, {'id': 'soti_eligibility', 'text': 'The eligibility criteria for SOTI include candidates from any engineering stream (B.E/B.Tech/M.E/M.Tech) with a minimum of 75% or 7.5 CGPA in graduation with no active backlogs. Candidates must have completed their degree within the stipulated duration.'}, {'id': 'soti_recruitment_process', 'text': 'SOTI’s recruitment process typically consists of three stages. The first stage is an online assessment, which includes coding, logical reasoning, and technical questions. The test duration is 90 minutes. The second stage is a technical interview, where candidates are assessed on their programming skills, algorithms, and problem-solving abilities. The final stage is the HR interview, which evaluates communication skills, motivation, and cultural fit.'}, {'id': 'soti_interview_round', 'text': 'The Technical Interview for SOTI focuses on understanding data structures, algorithms, and software development. The interview also includes some tricky puzzles that the candidate should answer within specified time.  Candidates may be required to solve a coding problem related to arrays or linked lists, explain how they would design a system to manage mobile devices in a large enterprise, and discuss the challenges of securing IoT devices. SOTI values candidates who are technically sound, innovative, and have strong problem-solving skills.'}, {'id': 'soti_additional_info', 'text': 'SOTI offers a competitive salary package for freshers, which is ₹7 LPA, with the job location being Kochi, Kerala. The package includes a fixed salary, performance bonuses, and additional benefits such as health insurance and professional development opportunities. SOTI is known for its employee-friendly policies and opportunities for global exposure.'}, {'id': 'edgewise_description', 'text': 'Edgewise Technologies is a fast-growing technology company specializing in cybersecurity solutions. Headquartered in Bangalore, India, Edgewise provides innovative tools and services to help businesses protect their digital assets and secure their networks. The company is known for its cutting-edge approach to cybersecurity and its commitment to delivering value to clients. Edgewise is also recognized for its strong focus on innovation, employee development, and work-life balance.'}, {'id': 'edgewise_role_description', 'text': 'Edgewise Role Description: Cybersecurity Analyst (Fresher) As a Cybersecurity Analyst, you will work on identifying and mitigating security threats, conducting vulnerability assessments, and implementing security solutions. Your responsibilities will include monitoring network activity, analyzing security logs, and collaborating with cross-functional teams to ensure the security of client systems. Edgewise is looking for candidates with strong analytical skills, an understanding of cybersecurity concepts, and a passion for technology. Freshers with a degree in Computer Science, IT, or related fields are eligible to apply. The role may require working in a fast-paced, client-facing environment.'}, {'id': 'edgewise_eligibility', 'text': 'The eligibility criteria for Edgewise Technologies include candidates from any engineering stream (B.E/B.Tech/M.E/M.Tech) with a minimum of 60% or 6.0 CGPA in graduation with no active backlogs. Candidates must have completed their degree within the stipulated duration.'}, {'id': 'edgewise_recruitment_process', 'text': 'Edgewise’s recruitment process typically consists of three stages. The first stage is an online assessment, which includes aptitude, logical reasoning, and technical questions related to cybersecurity. The test duration is 90 minutes. The second stage is a technical interview, where candidates are assessed on their understanding of cybersecurity concepts, problem-solving abilities, and technical skills. The final stage is the HR interview, which evaluates communication skills, motivation, and cultural fit.'}, {'id': 'edgewise_interview_round', 'text': 'The Technical Interview for Edgewises Technologies focuses on understanding cybersecurity concepts such as network security, encryption, and vulnerability assessment. Candidates may be required to explain how they would detect and mitigate a phishing attack, discuss the difference between symmetric and asymmetric encryption, and solve a problem related to securing a network against unauthorized access. Edgewise values candidates who are detail-oriented, have strong problem-solving skills, and are passionate about cybersecurity.'}, {'id': 'edgewise_additional_info', 'text': 'Edgewise offers a competitive salary package for freshers, typically ranging from ₹5-7 LPA, depending on the role and location. The package includes a fixed salary, performance bonuses, and additional benefits such as health insurance and professional development opportunities. Edgewise is known for its employee-friendly policies and opportunities for growth in the cybersecurity industry.'}, {'id': 'tvs_motor_description', 'text': 'TVS Motor Company is one of India’s leading two-wheeler manufacturers, known for its innovative and high-quality motorcycles and scooters. Headquartered in Chennai, India, TVS Motor operates in over 60 countries and is recognized for its commitment to sustainability, innovation, and customer satisfaction. The company is also a pioneer in electric mobility, with a focus on developing eco-friendly vehicles.'}, {'id': 'tvs_motor_role_description', 'text': 'TVS Motor Role Description: Engineering Intern As an Engineering Intern, you will work on projects related to vehicle design, testing, and optimization. Your responsibilities will include conducting experiments, analyzing data, and assisting senior engineers in developing innovative solutions. TVS Motor is looking for candidates with strong technical skills, problem-solving abilities, and a passion for automotive engineering. Freshers with a degree in Mechanical, Electrical, or related engineering fields are eligible to apply. This is a 6-month internship with the possibility of a full-time offer based on performance.'}]\n",
      "96 [{'id': 'tvs_motor_eligibility', 'text': 'The eligibility criteria for TVS Motor Internship include candidates from any engineering stream (B.E/B.Tech/M.E/M.Tech) with a minimum of 60% or 6.0 CGPA in graduation with no active backlogs.'}, {'id': 'tvs_motor_recruitment_process', 'text': 'TVS Motor’s internship recruitment process includes an online assessment consisting of technical questions related to engineering concepts, logical reasoning, and aptitude. The test duration is 60 minutes. The second stage is a technical interview, where candidates are assessed on their understanding of automotive systems, problem-solving abilities, and interest in sustainability. The final stage is a project discussion, where candidates are asked to discuss their academic projects or research work in detail.'}, {'id': 'tvs_motor_interview_round', 'text': 'The Technical Interview for TVS Motor internship focuses on understanding automotive systems such as engine performance, vehicle dynamics, and emissions control. Candidates may be required to explain how they would optimize the fuel efficiency of a two-wheeler, discuss the challenges of designing electric vehicles, and solve a problem related to vehicle safety testing. The Project Discussion involves presenting academic or research projects, explaining the objectives, methodology, and outcomes, and discussing how the project aligns with TVS Motor’s focus on innovation and sustainability. TVS Motor values candidates who are innovative, detail-oriented, and have a passion for automotive engineering.'}, {'id': 'tvs_motor_additional_info', 'text': 'TVS Motor offers a stipend of ₹20,000-30,000 per month during the internship. Interns also gain exposure to cutting-edge automotive projects and work with experienced professionals. Full-time offers after the internship typically come with a salary package of ₹6-8 LPA, along with benefits such as health insurance and professional development opportunities.'}, {'id': 'tata_technologies_description', 'text': 'Tata Technologies is a global engineering and product development company, providing services in automotive, aerospace, and industrial machinery. Headquartered in Pune, India, Tata Technologies is known for its expertise in digital manufacturing, product lifecycle management, and engineering solutions. The company serves clients in over 25 countries and is committed to driving innovation and delivering value to its customers. Tata Technologies is also recognized for its strong focus on sustainability, diversity, and employee development.'}, {'id': 'tata_technologies_role_description', 'text': 'Tata Technologies Role Description: Graduate Engineer Trainee (GET) As a Graduate Engineer Trainee, you will work on engineering projects related to product design, development, and testing. Your responsibilities will include creating CAD models, conducting simulations, and collaborating with cross-functional teams to deliver innovative solutions. Tata Technologies is looking for candidates with strong technical skills, problem-solving abilities, and a passion for engineering. Freshers with a degree in Mechanical, Electrical, or related engineering fields are eligible to apply. The role may require working in a fast-paced, client-facing environment.'}, {'id': 'tata_technologies_eligibility', 'text': 'The eligibility criteria for Tata Technologies include candidates from any engineering stream (B.E/B.Tech/M.E/M.Tech) with a minimum of 65% or 6.5 CGPA in graduation with no active backlogs. Candidates must have completed their degree within the stipulated duration.'}, {'id': 'tata_technologies_recruitment_process', 'text': 'Tata Technologies’ recruitment process typically consists of three stages. The first stage is an online assessment, which includes aptitude, logical reasoning, and technical questions related to engineering concepts. The test duration is 90 minutes. The second stage is a technical interview, where candidates are assessed on their understanding of engineering principles, problem-solving abilities, and technical skills. The final stage is the HR interview, which evaluates communication skills, motivation, and cultural fit.'}, {'id': 'tata_technologies_interview_round', 'text': 'Tata Technologies technical interview round focuses on understanding engineering concepts such as CAD, simulation, and product lifecycle management. Candidates may be required to explain how they would design a component for a vehicle using CAD software, discuss the challenges of conducting finite element analysis (FEA) for a complex structure, and solve a problem related to optimizing a manufacturing process. Tata Technologies values candidates who are technically sound, innovative, and have strong problem-solving skills.'}, {'id': 'tata_technologies_additional_info', 'text': 'Tata Technologies offers a competitive salary package for freshers, typically ranging from ₹4-6 LPA, depending on the role and location. The package includes a fixed salary, performance bonuses, and additional benefits such as health insurance and professional development opportunities. Tata Technologies is known for its employee-friendly policies and opportunities for global exposure.'}, {'id': 'razorpay_description', 'text': 'Razorpay is a leading fintech company in India, providing payment solutions to businesses of all sizes. Headquartered in Bangalore, India, Razorpay offers a wide range of services, including payment gateways, banking, and lending solutions. The company is known for its innovative approach to simplifying digital payments and its commitment to empowering businesses with cutting-edge technology. Razorpay is also recognized for its strong focus on employee development and work-life balance.'}, {'id': 'razorpay_role_description', 'text': 'Razorpay Role Description: Software Engineer (Fresher) As a Software Engineer, you will work on developing and maintaining Razorpay’s payment solutions. Your responsibilities will include writing code, debugging, and collaborating with cross-functional teams to deliver high-quality software solutions. Razorpay is looking for candidates with strong programming skills, problem-solving abilities, and a passion for technology. Freshers with a degree in Computer Science, IT, or related fields are eligible to apply. The role may require working in a fast-paced, client-facing environment.'}, {'id': 'razorpay_eligibility', 'text': 'The eligibility criteria for Razor Pay include   a minimum of 65% or 6.5 CGPA in graduation with no active backlogs. Candidates must have completed their degree within the stipulated duration.'}, {'id': 'razorpay_recruitment_process', 'text': 'Razorpay’s recruitment process typically consists of three stages. The first stage is an online assessment, which includes coding, logical reasoning, and technical questions. The test duration is 90 minutes. The second stage is a technical interview, where candidates are assessed on their programming skills, algorithms, and problem-solving abilities. The final stage is the HR interview, which evaluates communication skills, motivation, and cultural fit.'}, {'id': 'razorpay_interview_round', 'text': 'The Technical Interview of Razor Pay focuses on understanding data structures, algorithms, and software development. Candidates may be required to solve a coding problem related to dynamic programming, explain how they would design a payment gateway system, and discuss the challenges of handling high transaction volumes. Razorpay values candidates who are technically sound, innovative, and have strong problem-solving skills.'}, {'id': 'razorpay_additional_info', 'text': 'Razorpay offers a competitive salary package for freshers, typically ranging from ₹10-12 LPA, depending on the role and location. The package includes a fixed salary, performance bonuses, and additional benefits such as health insurance and professional development opportunities. Razorpay is known for its employee-friendly policies and opportunities for growth in the fintech industry.'}, {'id': 'persistent_systems_description', 'text': 'Persistent Systems is a global software services company, specializing in digital engineering and enterprise modernization. Headquartered in Pune, India, Persistent Systems serves clients in various industries, including healthcare, banking, and telecommunications. The company is known for its expertise in cloud computing, AI, and data analytics. Persistent Systems is committed to driving innovation and delivering value to its clients through cutting-edge technology solutions.'}, {'id': 'persistent_systems_role_description', 'text': 'Persistent Systems Role Description: Software Development Intern As a Software Development Intern, you will work on developing and maintaining software solutions for Persistent Systems’ clients. Your responsibilities will include writing code, debugging, and collaborating with cross-functional teams to deliver high-quality solutions. Persistent Systems is looking for candidates with strong programming skills, problem-solving abilities, and a passion for technology. Freshers with a degree in Computer Science, IT, or related fields are eligible to apply. This is a 6-month internship with the possibility of a full-time offer based on performance.'}, {'id': 'presistent_systems_eligibility', 'text': 'The eligibility criteria for Persistent Systems internhsip include candidates from any engineering stream (B.E/B.Tech/M.E/M.Tech) with a minimum of 60% or 6.0 CGPA in graduation with no active backlogs.'}, {'id': 'persistent_systems_recruitment_process', 'text': 'Persistent Systems’ internship recruitment process includes an online assessment consisting of aptitude, logical reasoning, and technical questions related to programming and system design, with a test duration of 60 minutes. The second stage is a technical interview, where candidates are assessed on their programming skills, algorithms, and problem-solving abilities. The final stage is the HR interview, which evaluates communication skills, motivation, and cultural fit.'}, {'id': 'persistent_systems_interview_round', 'text': 'The Technical Interview of Persistent Systems internship focuses on understanding data structures, algorithms, and software development. Candidates may be required to solve a coding problem related to arrays or linked lists, explain how they would design a system to handle large datasets, and discuss the challenges of working with real-time data. Persistent Systems values candidates who are technically sound, detail-oriented, and have strong problem-solving skills.'}, {'id': 'persistent_systems_additional_info', 'text': 'Persistent Systems offers a stipend of ₹20,000-30,000 per month during the internship. Interns also gain exposure to real-world software development projects and work with experienced professionals. Full-time offers after the internship typically come with a salary package CTC of ₹5-7 LPA, along with benefits such as health insurance and professional development opportunities.'}, {'id': 'srinsoft_description', 'text': 'Srinsoft Technologies is a software development company specializing in custom software solutions, mobile app development, and IT consulting. Headquartered in Hyderabad, India, Srinsoft serves clients across various industries, including healthcare, finance, and retail. The company is known for its innovative approach to software development and its commitment to delivering high-quality solutions to its clients. Srinsoft is also recognized for its strong focus on employee development and work-life balance.'}, {'id': 'srinsoft_role_description', 'text': 'Srinsoft Role Description: Software Developer (Fresher) As a Software Developer, you will work on developing and maintaining custom software solutions for Srinsoft’s clients. Your responsibilities will include writing code, debugging, and collaborating with cross-functional teams to deliver high-quality solutions. Srinsoft is looking for candidates with strong programming skills, problem-solving abilities, and a passion for technology. Freshers with a degree in Computer Science, IT, or related fields are eligible to apply. The role may require working in a fast-paced, client-facing environment.'}, {'id': 'srinsoft_eligibility', 'text': 'The eligibility criteria for Srinsoft include candidates from any engineering stream (B.E/B.Tech/M.E/M.Tech) with a minimum of 60% or 6.0 CGPA in graduation with no active backlogs. Candidates must have completed their degree within the stipulated duration.'}, {'id': 'srinsoft_recruitment_process', 'text': 'Srinsoft’s recruitment process typically consists of three stages. The first stage is an online assessment, which includes coding, logical reasoning, and technical questions. The test duration is 90 minutes. The second stage is a technical interview, where candidates are assessed on their programming skills, algorithms, and problem-solving abilities. The final stage is the HR interview, which evaluates communication skills, motivation, and cultural fit.'}, {'id': 'srinsoft_interview_round', 'text': 'The Technical Interview of Srinsoft focuses on understanding data structures, algorithms, and software development. Candidates may be required to solve a coding problem related to arrays or linked lists, explain how they would design a system to handle large datasets, and discuss the challenges of working with real-time data. Srinsoft values candidates who are technically sound, detail-oriented, and have strong problem-solving skills.'}, {'id': 'srinsoft_additional_info', 'text': 'Srinsoft offers a competitive salary package for freshers, typically ranging from ₹4-6 LPA, depending on the role and location. The package includes a fixed salary, performance bonuses, and additional benefits such as health insurance and professional development opportunities. Srinsoft is known for its employee-friendly policies and opportunities for growth in the software development industry.'}, {'id': 'rhi_magnesita_description', 'text': 'RHI Magnesita is a global leader in refractory products and solutions, serving industries such as steel, cement, and glass. Headquartered in Vienna, Austria, RHI Magnesita operates in over 35 countries and is known for its innovative products and commitment to sustainability. The company is also recognized for its strong focus on employee development and work-life balance.'}, {'id': 'rhi_magnesita_role_description', 'text': 'RHI Magnesita Role Description: Graduate Engineer Trainee (GET) As a Graduate Engineer Trainee, you will work on projects related to product development, testing, and optimization. Your responsibilities will include conducting experiments, analyzing data, and assisting senior engineers in developing innovative solutions. RHI Magnesita is looking for candidates with strong technical skills, problem-solving abilities, and a passion for engineering. Freshers with a degree in Mechanical, Electrical, or related engineering fields are eligible to apply. The role may require working in a fast-paced, client-facing environment.'}, {'id': 'rhi_magnesita_recruitment_process', 'text': 'RHI Magnesita’s recruitment process typically consists of three stages. The first stage is an online assessment, which includes aptitude, logical reasoning, and technical questions related to engineering concepts. The test duration is 90 minutes. The second stage is a technical interview, where candidates are assessed on their understanding of engineering principles, problem-solving abilities, and technical skills. The final stage is the HR interview, which evaluates communication skills, motivation, and cultural fit.'}, {'id': 'rhi_magnestia_eligibility', 'text': 'The eligibility criteria for RHI Magnestia include candidates from any engineering stream (B.E/B.Tech/M.E/M.Tech) with a minimum of 60% or 6.0 CGPA in graduation with no active backlogs. Candidates must have completed their degree within the stipulated duration.'}, {'id': 'rhi_magnesita_interview_round', 'text': 'The Technical Interview of RHI Magnestia focuses on understanding engineering concepts, particularly in the areas of materials science, refractory technology, and industrial processes. Candidates may be required to explain the properties of refractory materials and their applications in high-temperature environments, discuss how they would optimize the performance of refractory linings in a steelmaking furnace, and solve a problem related to heat transfer or thermal insulation in industrial settings. The Project Discussion involves presenting academic or research projects, explaining the objectives, methodology, and outcomes, and discussing how the project aligns with RHI Magnesita’s focus on refractory solutions and industrial applications. RHI Magnesita values candidates who are innovative, detail-oriented, and have a strong understanding of materials science and industrial processes.'}, {'id': 'rhi_magnesita_additional_info', 'text': 'RHI Magnesita offers a competitive salary package for freshers, typically ranging from ₹5-7 LPA, depending on the role and location. The package includes a fixed salary, performance bonuses, and additional benefits such as health insurance and professional development opportunities. RHI Magnesita is known for its employee-friendly policies and opportunities for growth in the refractory and industrial solutions industry.'}, {'id': 'blue_star_description', 'text': 'Blue Star is a leading Indian company specializing in air conditioning, refrigeration, and cooling solutions. Headquartered in Mumbai, India, Blue Star operates across various sectors, including residential, commercial, and industrial. The company is known for its innovative products, energy-efficient solutions, and commitment to sustainability. Blue Star is also recognized for its strong focus on employee development and customer satisfaction.'}, {'id': 'blue_star_role_description', 'text': 'Blue Star Role Description: Graduate Engineer Trainee (GET) As a Graduate Engineer Trainee, you will work on projects related to product design, testing, and optimization. Your responsibilities will include conducting experiments, analyzing data, and assisting senior engineers in developing innovative solutions. Blue Star is looking for candidates with strong technical skills, problem-solving abilities, and a passion for engineering. Freshers with a degree in Mechanical, Electrical, or related engineering fields are eligible to apply. The role may require working in a fast-paced, client-facing environment.'}, {'id': 'blue_star_eligibility', 'text': 'The eligibility criteria for Blue Star include candidates from any engineering stream (B.E/B.Tech/M.E/M.Tech) with a minimum of 65% or 6.5 CGPA in graduation with no active backlogs. Candidates must have completed their degree within the stipulated duration.'}, {'id': 'blue_star_recruitment_process', 'text': 'Blue Star’s recruitment process typically consists of three stages. The first stage is an online assessment, which includes aptitude, logical reasoning, and technical questions related to engineering concepts. The test duration is 90 minutes. The second stage is a technical interview, where candidates are assessed on their understanding of engineering principles, problem-solving abilities, and technical skills. The final stage is the HR interview, which evaluates communication skills, motivation, and cultural fit.'}, {'id': 'blue_star_interview_round', 'text': \"Blue Star's Technical Interview focuses on understanding engineering concepts such as thermodynamics, fluid mechanics, and HVAC systems. Candidates may be required to explain how they would optimize the energy efficiency of an air conditioning system, discuss the challenges of designing refrigeration systems for industrial applications, and solve a problem related to heat transfer or cooling efficiency. Blue Star values candidates who are innovative, detail-oriented, and have a passion for engineering and sustainability.\"}, {'id': 'blue_star_additional_info', 'text': 'Blue Star offers a competitive salary package for freshers, typically ranging from ₹4-6 LPA, depending on the role and location. The package includes a fixed salary, performance bonuses, and additional benefits such as health insurance and professional development opportunities. Blue Star is known for its employee-friendly policies and opportunities for growth in the HVAC and refrigeration industry.'}, {'id': 'twin_engg_description', 'text': 'Twin Engg is a fast-growing engineering and manufacturing company specializing in precision components and industrial solutions. Headquartered in Pune, India, Twin Engg serves clients across various industries, including automotive, aerospace, and heavy machinery. The company is known for its innovative approach to manufacturing and its commitment to delivering high-quality products. Twin Engg is also recognized for its strong focus on employee development and work-life balance.'}, {'id': 'twin_engg_role_description', 'text': 'Twin Engg Role Description: Graduate Engineer Trainee (GET) As a Graduate Engineer Trainee, you will work on projects related to product design, manufacturing, and quality control. Your responsibilities will include creating CAD models, conducting simulations, and collaborating with cross-functional teams to deliver innovative solutions. Twin Engg is looking for candidates with strong technical skills, problem-solving abilities, and a passion for engineering. Freshers with a degree in Mechanical, Electrical, or related engineering fields are eligible to apply. The role may require working in a fast-paced, client-facing environment.'}, {'id': 'twin_engg_eligibility', 'text': 'The eligibility criteria for Twin Engg include candidates from any engineering stream (B.E/B.Tech/M.E/M.Tech) with a minimum of 65% or 6.5 CGPA in graduation with no active backlogs. Candidates must have completed their degree within the stipulated duration.'}, {'id': 'twin_engg_recruitment_process', 'text': 'Twin Engg’s recruitment process typically consists of three stages. The first stage is an online assessment, which includes aptitude, logical reasoning, and technical questions related to engineering concepts. The test duration is 90 minutes. The second stage is a technical interview, where candidates are assessed on their understanding of engineering principles, problem-solving abilities, and technical skills. The final stage is the HR interview, which evaluates communication skills, motivation, and cultural fit.'}, {'id': 'twin_engg_interview_round', 'text': 'The Technical Interview of Twin Engg focuses on understanding engineering concepts such as CAD, simulation, and manufacturing processes. Candidates may be required to explain how they would design a component for a vehicle using CAD software, discuss the challenges of conducting finite element analysis (FEA) for a complex structure, and solve a problem related to optimizing a manufacturing process. Twin Engg values candidates who are technically sound, innovative, and have strong problem-solving skills.'}, {'id': 'twin_engg_additional_info', 'text': 'Twin Engg offers a competitive salary package for freshers, typically ranging from ₹4-6 LPA, depending on the role and location. The package includes a fixed salary, performance bonuses, and additional benefits such as health insurance and professional development opportunities. Twin Engg is known for its employee-friendly policies and opportunities for growth in the manufacturing industry.'}, {'id': 'daimler_description', 'text': 'Daimler is a global leader in the automotive industry, known for its luxury vehicles, trucks, and buses. Headquartered in Stuttgart, Germany, Daimler operates in over 100 countries and is recognized for its innovative approach to mobility and sustainability. The company is committed to driving innovation and creating a positive impact on the environment. Daimler is also known for its strong focus on employee development and work-life balance.'}, {'id': 'daimler_role_description', 'text': 'Daimler Role Description: Graduate Engineer Trainee (GET) As a Graduate Engineer Trainee, you will work on projects related to vehicle design, testing, and optimization. Your responsibilities will include conducting experiments, analyzing data, and assisting senior engineers in developing innovative solutions. Daimler is looking for candidates with strong technical skills, problem-solving abilities, and a passion for automotive engineering. Freshers with a degree in Mechanical, Electrical, or related engineering fields are eligible to apply. The role may require working in a fast-paced, client-facing environment.'}, {'id': 'daimle3r_eligibility', 'text': 'The eligibility criteria for Daimler include candidates from any engineering stream (B.E/B.Tech/M.E/M.Tech) with a minimum of 65% or 6.5 CGPA in graduation with no active backlogs. Candidates must have completed their degree within the stipulated duration.'}, {'id': 'daimler_recruitment_process', 'text': 'Daimler’s recruitment process typically consists of three stages. The first stage is an online assessment, which includes aptitude, logical reasoning, and technical questions related to engineering concepts. The test duration is 90 minutes. The second stage is a technical interview, where candidates are assessed on their understanding of automotive systems, problem-solving abilities, and technical skills. The final stage is the HR interview, which evaluates communication skills, motivation, and cultural fit.'}, {'id': 'daimler_interview_round', 'text': 'The Technical Interview focuses on understanding automotive systems such as engine performance, vehicle dynamics, and emissions control. Candidates may be required to explain how they would optimize the fuel efficiency of a vehicle, discuss the challenges of designing electric vehicles, and solve a problem related to vehicle safety testing. Daimler values candidates who are innovative, detail-oriented, and have a passion for automotive engineering.'}, {'id': 'daimler_additional_info', 'text': 'Daimler offers a competitive salary package for freshers, typically ranging from ₹6-8 LPA, depending on the role and location. The package includes a fixed salary, performance bonuses, and additional benefits such as health insurance and professional development opportunities. Daimler is known for its employee-friendly policies and opportunities for global exposure.'}, {'id': 'worley_description', 'text': 'Worley is a global engineering company specializing in energy, chemicals, and resources. Headquartered in Sydney, Australia, Worley operates in over 50 countries and is known for its innovative approach to engineering and project management. The company is committed to driving sustainability and creating a positive impact on the environment. Worley is also recognized for its strong focus on employee development and work-life balance.'}, {'id': 'worley_role_description', 'text': 'Worley Role Description: Graduate Engineer Trainee (GET) As a Graduate Engineer Trainee, you will work on projects related to engineering design, project management, and optimization. Your responsibilities will include creating CAD models, conducting simulations, and collaborating with cross-functional teams to deliver innovative solutions. Worley is looking for candidates with strong technical skills, problem-solving abilities, and a passion for engineering. Freshers with a degree in Mechanical, Electrical, or related engineering fields are eligible to apply. The role may require working in a fast-paced, client-facing environment.'}, {'id': 'worley_eligibility', 'text': 'The eligibility criteria for Worley include candidates from any engineering stream (B.E/B.Tech/M.E/M.Tech) with a minimum of 65% or 6.5 CGPA in graduation with no active backlogs. Candidates must have completed their degree within the stipulated duration.'}, {'id': 'worley_recruitment_process', 'text': 'Worley’s recruitment process typically consists of three stages. The first stage is an online assessment, which includes aptitude, logical reasoning, and technical questions related to engineering concepts. The test duration is 90 minutes. The second stage is a technical interview, where candidates are assessed on their understanding of engineering principles, problem-solving abilities, and technical skills. The final stage is the HR interview, which evaluates communication skills, motivation, and cultural fit'}, {'id': 'worley_interview_round', 'text': 'The Technical Interview of Worley focuses on understanding engineering concepts such as CAD, simulation, and project management. Candidates may be required to explain how they would design a component for a chemical plant using CAD software, discuss the challenges of conducting finite element analysis (FEA) for a complex structure, and solve a problem related to optimizing a manufacturing process. Worley values candidates who are technically sound, innovative, and have strong problem-solving skills.'}, {'id': 'worley_additional_info', 'text': 'Worley offers a competitive salary package for freshers, typically ranging from ₹4-6 LPA, depending on the role and location. The package includes a fixed salary, performance bonuses, and additional benefits such as health insurance and professional development opportunities. Worley is known for its employee-friendly policies and opportunities for global exposure.'}, {'id': 'oarvee_description', 'text': 'Oarvee is a fast-growing technology company specializing in data analytics, AI, and machine learning solutions. Headquartered in Bangalore, India, Oarvee serves clients across various industries, including healthcare, retail, and finance. The company is known for its innovative approach to solving complex business problems using data-driven insights. Oarvee is committed to fostering a culture of innovation, collaboration, and continuous learning.'}, {'id': 'oarvee_role_description', 'text': 'Oarvee Role Description: Data Analyst (Fresher) As a Data Analyst, you will work on analyzing large datasets, building predictive models, and generating insights for clients. Your responsibilities will include data cleaning, visualization, and collaborating with cross-functional teams to deliver actionable insights. Oarvee is looking for candidates with strong analytical skills, proficiency in tools like Python or R, and a passion for data science. Freshers with a degree in Computer Science, IT, or related fields are eligible to apply. The role may require working in a fast-paced, client-facing environment.'}, {'id': 'oarvee_eligibility', 'text': 'The eligibility criteria for Oarvee include candidates from any engineering stream (B.E/B.Tech/M.E/M.Tech) with a minimum of 60% or 6.0 CGPA in graduation with no active backlogs. Candidates must have completed their degree within the stipulated duration.'}, {'id': 'oarvee_recruitment_process', 'text': 'Oarvee’s recruitment process typically consists of three stages. The first stage is an online assessment, which includes aptitude, logical reasoning, and technical questions related to data analysis and programming. The test duration is 90 minutes. The second stage is a technical interview, where candidates are assessed on their understanding of data analysis, machine learning, and problem-solving abilities. The final stage is the HR interview, which evaluates communication skills, motivation, and cultural fit.'}, {'id': 'oarvee_interview_round', 'text': 'The Technical Interview focuses on understanding data analysis, machine learning, and programming. Candidates may be required to explain how they would handle missing data in a dataset, discuss the difference between supervised and unsupervised learning, and solve a problem related to data visualization. Oarvee values candidates who are analytical, detail-oriented, and have a passion for data science.'}, {'id': 'oarvee_additional_info', 'text': 'Oarvee offers a competitive salary package for freshers, typically ranging from ₹5-7 LPA, depending on the role and location. The package includes a fixed salary, performance bonuses, and additional benefits such as health insurance and professional development opportunities. Oarvee is known for its employee-friendly policies and opportunities for growth in the data analytics industry.'}, {'id': 'endurance_description', 'text': 'Endurance is a global leader in automotive components and systems, serving clients in the automotive and industrial sectors. Headquartered in Luxembourg, Endurance operates in over 20 countries and is known for its innovative products and commitment to quality. The company is committed to driving innovation and creating a positive impact on the environment. Endurance is also recognized for its strong focus on employee development and work-life balance.'}, {'id': 'endurance_role_description', 'text': 'Endurance Role Description: Graduate Engineer Trainee (GET) As a Graduate Engineer Trainee, you will work on projects related to product design, testing, and optimization. Your responsibilities will include conducting experiments, analyzing data, and assisting senior engineers in developing innovative solutions. Endurance is looking for candidates with strong technical skills, problem-solving abilities, and a passion for engineering. Freshers with a degree in Mechanical, Electrical, or related engineering fields are eligible to apply. The role may require working in a fast-paced, client-facing environment.'}, {'id': 'endurance_eligibility', 'text': 'The eligibility criteria for Endurance include candidates from any engineering stream (B.E/B.Tech/M.E/M.Tech) with a minimum of 65% or 6.5 CGPA in graduation with no active backlogs. Candidates must have completed their degree within the stipulated duration.'}, {'id': 'endurance_recruitment_process', 'text': 'Endurance’s recruitment process typically consists of three stages. The first stage is an online assessment, which includes aptitude, logical reasoning, and technical questions related to engineering concepts. The test duration is 90 minutes. The second stage is a technical interview, where candidates are assessed on their understanding of engineering principles, problem-solving abilities, and technical skills. The final stage is the HR interview, which evaluates communication skills, motivation, and cultural fit.'}, {'id': 'endurance_interview_round', 'text': 'The Technical Interview focuses on understanding engineering concepts such as product design, testing, and optimization. Candidates may be required to explain how they would design a component for an automotive system, discuss the challenges of conducting durability testing for automotive components, and solve a problem related to optimizing a manufacturing process. Endurance values candidates who are innovative, detail-oriented, and have a passion for engineering.'}, {'id': 'endurance_additional_info', 'text': 'Endurance offers a competitive salary package for freshers, typically ranging from ₹5-7 LPA, depending on the role and location. The package includes a fixed salary, performance bonuses, and additional benefits such as health insurance and professional development opportunities. Endurance is known for its employee-friendly policies and opportunities for global exposure.'}, {'id': 'qualiting_description', 'text': 'Qualiting is a fast-growing technology company specializing in quality assurance and software testing solutions. Headquartered in Bangalore, India, Qualiting serves clients across various industries, including healthcare, finance, and retail. The company is known for its innovative approach to software testing and its commitment to delivering high-quality solutions to its clients. Qualiting is also recognized for its strong focus on employee development and work-life balance.'}, {'id': 'qualiting_role_description', 'text': 'Qualiting Role Description: Software Development Engineer in Test (SDET) As a Software Development Engineer in Test, you will work on designing, developing, and executing automated test scripts for software applications. Your responsibilities will include writing test cases, debugging, and collaborating with development teams to ensure software quality. Qualiting is looking for candidates with strong programming skills, an understanding of testing methodologies, and a passion for quality assurance. Freshers with a degree in Computer Science, IT, or related fields are eligible to apply. The role may require working in a fast-paced, client-facing environment.'}, {'id': 'qualiting_eligibility', 'text': 'The eligibility criteria for Qualiting include candidates from any engineering stream (B.E/B.Tech/M.E/M.Tech) with a minimum of 60% or 6.0 CGPA in graduation with no active backlogs. Candidates must have completed their degree within the stipulated duration.'}, {'id': 'qualiting_recruitment_process', 'text': 'Qualiting’s recruitment process typically consists of three stages. The first stage is an online assessment, which includes coding, logical reasoning, and technical questions related to software testing. The test duration is 90 minutes. The second stage is a technical interview, where candidates are assessed on their understanding of testing methodologies, programming skills, and problem-solving abilities. The final stage is the HR interview, which evaluates communication skills, motivation, and cultural fit.'}, {'id': 'qualiting_interview_round', 'text': 'The Technical Interview focuses on understanding software testing, automation tools, and programming. Candidates may be required to explain the difference between manual and automated testing, discuss how they would design a test case for a login functionality, and solve a problem related to debugging a failing test script. Qualiting values candidates who are detail-oriented, have strong problem-solving skills, and are passionate about ensuring software quality.'}, {'id': 'qualiting_additional_info', 'text': 'Qualiting offers a competitive salary package for freshers, typically ranging from ₹4-6 LPA, depending on the role and location. The package includes a fixed salary, performance bonuses, and additional benefits such as health insurance and professional development opportunities. Qualiting is known for its employee-friendly policies and opportunities for growth in the software testing industry.'}, {'id': 'align_technology_description', 'text': \"Align Technology is a global medical device company that designs, manufactures, and sells Invisalign clear aligners, iTero intraoral scanners, and exocad CAD/CAM software for orthodontics and restorative dentistry. Invisalign is the company's flagship product, offering a clear alternative to traditional braces for teeth straightening. Align Technology operates in over 100 countries, including India, where it provides innovative solutions to dental professionals and patients. The company is committed to transforming the dental industry through digital innovation, improving patient outcomes, and enhancing the overall dental experience. For more information, visit www.aligntech.com.\"}, {'id': 'align_technology_role_description', 'text': 'Align Technology Role description: Software Development Engineer Join our team as a Software Development Engineer and contribute to the development of cutting-edge software solutions that power Invisalign and iTero products. You will work on designing, developing, and maintaining software applications that support dental professionals and patients. As a Software Development Engineer, your responsibilities will include coding, testing, debugging, and optimizing software solutions, as well as collaborating with cross-functional teams to deliver high-quality products. We are looking for candidates with strong programming skills, a passion for technology, and the ability to work in a fast-paced environment. Strong problem-solving skills and the ability to work collaboratively are essential for this role.'}, {'id': 'align_technology_eligibility', 'text': \"Align Technology's eligibility criteria for the Software Development Engineer role include candidates from engineering streams (B.E/B.Tech/M.E/M.Tech) or MCA/MSc (CS/IT/Computer Applications/Data Science/Computer Science & Applications), with no active backlogs during application or onboarding. Applicants should have a maximum of 24 months of full-time experience and should not have participated in the Align Technology recruitment process in the last six months. Candidates must have a minimum of 60% or a 6.0 CGPA in graduation with no active backlogs. Only Indian citizens, as well as Bhutan and Nepal nationals, are eligible without requiring a work visa. Other foreign nationals must possess a valid work visa, OCI, or PIO card to work in India.\"}, {'id': 'align_technology_recruitment_process', 'text': \"Align Technology's recruitment process consists of three stages: Online Assessment, Technical Interview, and HR Interview. The Online Assessment includes multiple sections such as Cognitive Ability, Quantitative Aptitude, Verbal Ability, and Technical Questions covering topics like Data Structures, Algorithms, SQL, and Programming Languages (Java, C++, Python). Candidates must clear the Online Assessment to qualify for the Technical Interview, which focuses on coding, problem-solving, and technical knowledge. The final HR Interview assesses candidates' communication skills, cultural fit, and motivation for joining Align Technology. The Cognitive Assessment comprises 50 questions to be completed in 50 minutes, while the Technical Assessment includes 40 questions in 40 minutes. The Coding round consists of two questions with a duration of 45 minutes. Candidates who meet the required cutoff in the Online Assessment will qualify for the interview rounds.\"}, {'id': 'align_technology_additional_info', 'text': 'Align Technology offers a competitive salary package for the Software Development Engineer role, with an average annual salary of Rs. 10-12 LPA. The package includes a fixed pay, performance-based bonuses, and additional benefits such as health insurance, retirement plans, and paid time off. Employees also receive opportunities for professional development, including training programs and certifications. Align Technology is known for its strong focus on work-life balance and employee well-being, offering flexible work arrangements and wellness programs. The company also emphasizes diversity and inclusion, with initiatives to support underrepresented groups and promote equal opportunities.'}, {'id': 'athenahealth_description', 'text': \"Athenahealth is a leading healthcare technology company that provides cloud-based services and solutions to healthcare providers, including electronic health records (EHR), revenue cycle management (RCM), and patient engagement tools. Founded in 1997 and headquartered in Boston, Massachusetts, Athenahealth operates in the U.S. and India, with offices in Chennai, Bangalore, and Pune. The company aims to simplify healthcare practices by offering innovative technology solutions that improve clinical and financial outcomes for healthcare providers. Athenahealth's mission is to unleash collective potential to transform healthcare, focusing on collaboration, innovation, and patient-centric solutions. The company was acquired by Bain Capital and Hellman & Friedman in 2022 for $17 billion.\"}, {'id': 'athenahealth_products', 'text': 'Athenahealth offers a suite of cloud-based products, including athenaOne, which integrates practice management (athenaCollector), electronic health records (athenaClinicals), and care coordination (athenaCommunicator). Other products include Epocrates, a mobile app for clinical decision support, and athenahealth Population Health for population health management. These tools help healthcare providers streamline operations, improve patient care, and enhance financial performance.'}, {'id': 'athenahealth_recruitment_process', 'text': \"Athenahealth's recruitment process typically includes an online assessment, technical interviews, and HR discussions. The online assessment may cover cognitive ability, technical skills, and problem-solving. Technical interviews focus on coding, system design, and domain knowledge, while HR interviews assess cultural fit and communication skills. Candidates are evaluated on their ability to work in a fast-paced, innovative environment and their passion for transforming healthcare.\"}, {'id': 'athenahealth_eligibility', 'text': \"Athenahealth's eligibility criteria for technical roles often include a degree in computer science, information technology, or related fields, with strong programming skills in languages like Java, Python, or SQL. For non-technical roles, candidates may need a background in healthcare administration, business, or finance. Athenahealth values diversity and looks for candidates with a passion for innovation and improving healthcare outcomes.\"}, {'id': 'athenahealth_culture', 'text': 'Athenahealth fosters a collaborative and inclusive work culture, emphasizing innovation, diversity, and employee well-being. The company has been recognized as a top workplace by Glassdoor and Forbes, with accolades for its vibrant and talented workforce. Athenahealth encourages employees to bring their best selves to work and offers opportunities for professional growth and development.'}, {'id': 'athenahealth_sustainability', 'text': \"Athenahealth is committed to sustainability and corporate social responsibility, focusing on reducing its environmental impact and promoting diversity and inclusion. The company aims to create a thriving ecosystem that delivers accessible, high-quality, and sustainable healthcare for all. Athenahealth's initiatives include reducing carbon emissions, supporting community health programs, and fostering an inclusive workplace.\"}, {'id': 'athenahealth_interview_tips', 'text': \"To prepare for an Athenahealth interview, candidates should focus on technical skills, problem-solving abilities, and a strong understanding of healthcare technology. For technical roles, practice coding challenges and system design questions. For non-technical roles, be prepared to discuss healthcare trends and how Athenahealth's solutions address industry challenges. Strong communication skills and a passion for innovation are key to succeeding in the interview process.\"}, {'id': 'athenahealth_benefits', 'text': \"Athenahealth offers competitive benefits, including health insurance, retirement plans, paid time off, and professional development opportunities. Employees also enjoy perks like flexible work arrangements, wellness programs, and access to cutting-edge technology. The company's commitment to employee well-being has earned it recognition as a top employer in the healthcare technology industry.\"}, {'id': 'bank_of_america_description', 'text': \"Bank of America is one of the world's leading financial institutions, serving individual consumers, small and middle-market businesses, and large corporations with a full range of banking, investing, asset management, and other financial and risk management products and services. Headquartered in Charlotte, North Carolina, Bank of America operates in over 35 countries and serves approximately 66 million customers worldwide. The company is committed to driving responsible growth by focusing on environmental, social, and governance (ESG) initiatives, including sustainable finance, diversity and inclusion, and community development. Bank of America is also a leader in digital banking, offering innovative solutions to enhance customer experience and operational efficiency. For more information, visit www.bankofamerica.com.\"}, {'id': 'bank_of_america_role_description', 'text': \"Bank of America Role description: Technology Analyst Join our team as a Technology Analyst and play a key role in developing and maintaining cutting-edge technology solutions that drive the bank's operations and customer experience. You will work on challenging projects, leveraging your technical skills to design, develop, and implement software solutions that align with business requirements. As a Technology Analyst, your responsibilities will include coding, testing, debugging, and maintaining applications, as well as collaborating with cross-functional teams to deliver high-quality solutions. You will also be involved in troubleshooting and resolving technical issues, ensuring the stability and performance of the bank's systems. We are looking for candidates with strong problem-solving skills, a passion for technology, and the ability to work in a fast-paced environment. Strong communication skills and the ability to work collaboratively are essential for this role.\"}, {'id': 'Bharat Electronics _description', 'text': 'Bharat Electronics In 1954, in a newly independent India, the need was utmost to develop indigenous industry. The dream of a self-reliant India gave birth to many Public Sector Undertakings. Bharat Electronics Limited (BEL) was one such dream, which has come a long way since then with the far-sighted vision of its pioneers, the dedication and hard work of its employees, support and faith of its customers and the Government of India. The Government’s clarion call for ‘Make in India’ resonates with what BEL has been successfully doing for over 6 decades. From humble beginnings in 1954, when BEL was set up in association with CSF, France (now, Thales), to manufacture basic communication equipment, BEL now produces a wide range of state-of-the-art equipment in fields such as Defence Communication, Radars, Naval Systems, C4I Systems, Weapon Systems, Homeland Security, Telecom & Broadcast Systems, Electronic Warfare, Tank Electronics, Electro Optics, Professional Electronic Components and Solar Photovoltaic Systems, BEL also provides turnkey system solutions. Civilian products from BEL include Electronic Voting Machines, Tablet PC, solar-powered traffic signal systems and Access Control Systems. Starting from a single Unit in Jalahalli, Bangalore, BEL has established its presence across the country by setting up eight other Units – in Ghaziabad, Pune, Machilipatnam, Panchkula, Kotdwara, Navi Mumbai, Chennai and Hyderabad. Each Unit has a specific product mix and customer focus. BEL has also set up a wide network of offices and service centres countrywide as well as two overseas offices – at New York and Singapore. BEL was established to meet the specialized electronic equipment requirements of the Indian Defence Services. While this continues to be its prime focus, the Company has a significant presence in the civilian market, too. BEL exports some of its products and services to a number of countries as well. Mission: To be a customer focussed, globally competitive company in defence electronics and in other chosen areas of professional electronics, through quality, technology and innovation.Vision: To be a world-class enterprise in professional electronics.'}, {'id': 'Bharat Electronics _role_description', 'text': 'Bharat Electronics is hiring  Project Engineer  role'}, {'id': 'Bharat Electronics_eligibility', 'text': \"Bharat Eloctronics's eligibility criteria for this role include candidates from engineering stream (B.E/B.Tech/M.E/M.Tech) Departments: EEE, ECE, EIE, Mechanical or any electronics department. Academic Performance: 65% and above throughout academics with no standing arrears.\"}, {'id': 'Bharat Electronics_recruitment_process', 'text': 'Bharat Electronics has its recruitment process, which is now divided into two stages: Online Assessment and Interview (Technical + HR). Selected members goes to the final round which is interview'}, {'id': 'Catalog_description', 'text': \"Catalog Solutions is an Indian subsidiary IT company of vNextsolutions Inc, based in Seattle, WA, USA. vNext is one of the northwest fastest growing, world class companies. Catalog Solutions in India works as independent company that provides comprehensive IT solutions and services to meet business needs at both domestic and overseas clients since 2007. At Catalog, we offer commercial Software Development, Healthcare, BPO and Software Training. Our foundation lies with the expertise inherent in our staff of professionals. Catalog Expertises in the areas of Medical Billing / Coding / Transcription / EMR/HER / Practice Management Services, BPO/Data Entry/Data Processing Services, Process Automation, Website Design & Development Services, E-commerce Solutions and Microsoft.NET & SharePoint Technologies has addressed most of the complex issues and it made us paramount in achieving our objectives and managing expectations. Our caliber to adjust to business climate changes is made possible by the vision and experience of our tenured staff. Time proven processes and systems, as well as progressive technical training tools, are in place to ensure that our actions solve our client's challenges and there by achieving customer delight.\"}]\n",
      "96 [{'id': 'Catalog_role_description', 'text': 'Catalog Role description: Program manager'}, {'id': 'Catalog_eligibility', 'text': \"Catalog's eligibility criteria for this role include candidates from any engineering stream (B.E/B.Tech/M.E/M.Tech) or MCA/MSc (CS/IT/Computer Applications/Data Science/Computer Science & Applications), with no active backlogs during application or onboarding Graduation Year: 2023-2025 pass-outs.Departments: EEE, ECE, EIE, CSE,AIDS or any electronics department. Academic Performance: 60% and above throughout academics with no standing arrears. 60% throughout, No Backlogs students who are exceptionally good in programming\"}, {'id': 'Catalog_recruitment_process', 'text': 'Catalog has recently updated its recruitment process, which is now divided into two stages: Online Assessment and Interview (Technical + HR).'}, {'id': 'Cyient_description', 'text': 'Cyient is a global engineering and technology solutions company. As a Design, Build, and Maintain partner for leading organizations worldwide, we take solution ownership across the value chain to help clients focus on their core, innovate, and stay ahead of the curve. We leverage digital technologies, advanced analytics capabilities, and our domain knowledge and technical expertise to solve complex business problems. With over 15,000 employees globally, we partner with clients to operate as part of their extended team in ways that best suit their organization’s culture and requirements. Our industry focus includes aerospace and defense, healthcare, telecommunications, rail transportation, semiconductor, geospatial, industrial, and energy.Mission: To provide the best technology services and solutions to industry and government worldwide.Vision: Designing tomorrow together. That is our vision and the basis of our brand promise. Three simple words that describe our unique approach of working with you to improve your business and the lives of your customers.'}, {'id': 'Cyient_role_description', 'text': 'Cyient is hiring for Trainee or other engineer fresher roles'}, {'id': 'Cyient_eligibility', 'text': 'Cyient eligibility criteria for this role include candidates from engineering stream (B.E/B.Tech/M.E/M.Tech) Departments: EEE, ECE, EIEor any electronics department. Academic Performance: 65% and above throughout academics with no standing arrears.'}, {'id': 'Cyient_recruitment_process', 'text': 'Cyient has its recruitment process, which is now divided into two stages: Online Assessment and Interview (Technical + HR). Selected members goes to the final round which is interview'}, {'id': 'e-con systems_description', 'text': \"e-con systems, Established in 2003, e-con Systems is a leading OEM camera solution provider specializing in embedded vision technologies. The company designs, develops, and manufactures a wide range of camera modules, including MIPI, GMSL, and USB 3.1 Gen 1 cameras, catering to industries such as retail, medical, industrial, agriculture, and smart cities. With over 350 product solutions and more than 2 million cameras shipped globally, e-con Systems has a significant presence in the United States, Europe, Japan, and South Korea. The company’s mission is to combine people, innovation, and embedded vision technology to build world-class OEM products, enabling machines to see and understand the world better. Since 2003, e-con Systems have been addressing the embedded camera needs of different types of markets across the world. Over the years, we have 'been there and done that with consistency and commitment to accelerating product development that, in turn, creates world-class industry experiences. Our notable contribution has been in the launch of the World's first UVC Compatible USB 3.0 camera. And we are also the world's first standalone Stereo camera supplier. e-con Systems has close partnerships with Cypress Semiconductor, NVIDIA, Xilinx, Sony, Omnivision, ONSemi/Aptina, and Texas Instruments. e-con Systems ships globally to 100+ countries including the United States, Germany, Belgium, France, UK, Sweden, Netherlands, Canada, Denmark, Finland, Norway, Australia, Japan, South Korea, Singapore, etc. Please visit https://www.e-consystems.com/ to know more about our e-con Systems. DO YOU HAVE STUDENTS WHO ARE...Willing to pursue a career in embedded-based products, Passionate about electronics, embedded technologiesThen e-con systems is the right place for the freshers to embark on their journey in the embedded field. Note: We are looking for candidates who possess amazing logical thinking skills, good knowledge of C programming language and Electronics subjects.\"}, {'id': 'e-con systems_role_description', 'text': 'e-con systems Role description: Project Engineer Trainee (Software/Hardware) – The selected person will be allotted to Hardware/Software design and the development team. Diamond offer : 8,00,000/- Per Annum for the best of the best students who exceed our expectations, Gold offer : 5,00,000/- Per Annum for candidates who are chosen to be our regular GETs(More opportunities for  Embedded Firmware programming in Gold offer) Silver offer : 3,00,000/- per annum for candidates who are chosen to work as FTC for first 2 years'}, {'id': 'e-con systems_eligibility', 'text': \"e-con systems's eligibility criteria for this role include candidates from any engineering stream (B.E/B.Tech/M.E/M.Tech) or MCA/MSc (CS/IT/Computer Applications/Data Science/Computer Science & Applications), with no active backlogs during application or onboarding Graduation Year: 2023-2025 pass-outs.Departments: EEE, ECE, EIE, CSE,AIDS or any electronics department. Academic Performance: 65% and above throughout academics with no standing arrears.\"}, {'id': 'e-con systems_recruitment_process', 'text': 'e-con systems has recently updated its recruitment process, which is now divided into two stages: Online Assessment and Interview (Technical + HR). The Online Assessment consists of 5 sections, and it is an elimination round. Selected members goes to the final round which is interview'}, {'id': 'Episource_description', 'text': 'Episource is a leading provider of risk adjustment services, software, and solutions for health plans and provider groups. With over 1,500 employees worldwide, the company offers an integrated platform that empowers commercial, Medicare, and Medicaid health plans with end-to-end risk adjustment solutions. These include analytics, retrospective chart reviews, encounter submissions, and medical record retrieval.  Episource’s mission is to advance accuracy, efficiency, and expertise in healthcare, aiming to achieve optimal outcomes for clients, their members, and patients. The company’s services are designed to streamline operations, ensure compliance, and enhance patient care.  The company’s suite of solutions includes the Episource Clarity Platform, an end-to-end platform for risk adjustment and quality initiatives. This platform supports all aspects of risk adjustment, including analytics, record retrieval, and medical chart coding, delivering tangible outcomes for risk-bearing providers.  Episource also offers Episource Hub, an interoperability solution providing electronic access to up-to-date healthcare data. This tool aggregates data from disparate sources, creating comprehensive treatment histories for patients and enabling providers to deliver the highest quality care.  For health plans, Episource provides services such as risk adjustment program assessments, compliance reviews, and encounter data management. These offerings are designed to elevate value and efficiency in payer operations.  In summary, Episource is dedicated to transforming healthcare data into actionable insights, assisting clients in navigating the evolving healthcare landscape with confidence. For more information, you can visit their official website: Episource To learn more about their services and solutions, you might find this video informative: https://www.youtube.com/channel/UCG1XpIT8-kr-MUPvZ1MuQ2g'}, {'id': 'Episource_role_description', 'text': 'Episource is hiring Crp Trainee'}, {'id': 'Episource_eligibility', 'text': 'Episource’s eligibility criteria for this role include candidates from engineering stream (B.E/B.Tech/M.E/M.Tech) Departments: Biomedical And Pharma. Academic Performance: 65% and above throughout academics with no standing arrears.'}, {'id': 'Episource_recruitment_process', 'text': 'Episource has its recruitment process, which is now divided into two stages: Online Assessment and Interview (Technical + HR). Selected members goes to the final round which is interview'}, {'id': 'General_Electric_description', 'text': 'General Electric (GE) Company Description: General Electric (GE) is a global leader in industrial technology and innovation, operating across various sectors including aviation, healthcare, power, and renewable energy. Founded in 1892, GE has a rich history of pioneering advancements that shape industries and improve lives worldwide. GE Aerospace designs and manufactures jet engines and aviation systems, powering commercial and military aircraft with cutting-edge technology. GE Healthcare provides advanced medical imaging, diagnostics, and digital health solutions to enhance patient care and precision medicine. GE Vernova, the company’s energy business, focuses on power generation, grid solutions, and renewable energy, helping drive the transition to sustainable energy sources. With a strong emphasis on research, digital transformation, and sustainability, GE continues to push technological boundaries. The company invests heavily in artificial intelligence, additive manufacturing, and industrial IoT (Internet of Things) to enhance efficiency and performance across industries. Headquartered in Boston, Massachusetts, GE operates in over 170 countries, employing thousands of professionals dedicated to solving some of the world’s toughest challenges. Through its commitment to innovation, sustainability, and operational excellence, GE remains at the forefront of industrial progress, shaping the future of energy, healthcare, and aerospace.'}, {'id': 'General_Electric_role_description', 'text': 'General Electric company is hiring  Graduate Engineering Trainee .'}, {'id': 'General_Electric_eligibility', 'text': 'General Electric’s eligibility criteria for this role include candidates from engineering stream (B.E/B.Tech/M.E/M.Tech) Departments: ECE And EEE. Academic Performance: 65% and above throughout academics with no standing arrears.'}, {'id': 'General_Electric_recruitment_process', 'text': 'General Electric interview process consisted of three rounds: an aptitude test, a group discussion, and a technical interview.'}, {'id': 'Harman_description', 'text': 'HARMAN designs and engineers connected products and solutions for automakers, consumers, and enterprises worldwide, including connected car systems, audio and visual products, enterprise automation solutions, and connected services. Our talented workforce and innovation strength create value for our stakeholders by enabling rich experiences through the connected car, connected enterprise, and connected lifestyle. Audiophiles from every generation call on HARMAN to deliver the best in sound in the studio and on the stage, at home and on the go. HARMAN’s portfolio of legendary audio brands includes AKG®, Harman Kardon®, Infinity®, JBL®, Lexicon®, Mark Levinson®, and Revel®. More than 50 million vehicles on the road today enjoy an enhanced driving experience, thanks to HARMAN audio and infotainment. We extend the same spirit of innovation to the world’s leading performance and sporting venues, providing everyone with the best seats in the house. Seizing the rich opportunities of today’s global markets requires more than legendary sound. HARMAN has reshaped our organization and cost structure to make the company more agile in a changing world and addressed the rising importance of highly integrated, software-rich products and services. Most importantly, our track record of innovation, which has distinguished HARMAN and its premium audio and infotainment brands for more than 60 years, continues.Mission: At HARMAN, we combine passion and purpose to design and deliver smart products, systems, software, and services that connect people wherever they are. We lead with integrity, innovate with intention, and drive operational excellence to inspire breakthrough performances that generate customer value and strong shareholder returns.Vision: To make life more connected, entertaining, personalized, and productive.'}, {'id': 'Harman_role_description', 'text': 'Harman is hiring Associate Engineer'}, {'id': 'Harman_eligibility', 'text': 'Harman’s eligibility criteria for this role include candidates from engineering stream (B.E/B.Tech/M.E/M.Tech) Departments: ECE And EEE. Academic Performance: 65% and above throughout academics with no standing arrears.'}, {'id': 'Harman_recruitment_process', 'text': 'Harman recruitment process has 2 rounds, coding round and technical round. The coding round consists 3 questions which is an elimmination round.'}, {'id': 'Kernex Microsystems_description', 'text': 'Kernex Microsystems (India) Ltd, is an ISO 9001 certified company established in 1991 and registered as a 100% Export Oriented Unit. The company has a proven track record in providing professional electronic systems that can operate under stringent/harsh environmental conditions. Our capabilities include Concept, Design, Validation, Manufacture, Evaluation, Installation, and providing technical and maintenance support on a turnkey basis. Kernex has been committed to providing a broad range of high value-added embedded R&D services and Electronics Manufacturing Services (EMS/CEM), enabling customers to maximize and optimize their resources and apply their core strengths in research and development (R&D), design, and marketing. These services benefit end-users and customers, in accelerating time-to-market of a broad range of applications.'}, {'id': 'Kernex Microsystems_role_description', 'text': 'Kernex microsystems Role description: ₹2 Lakhs to ₹2.8 Lakhs per year for an Embedded Software Developer and ₹4.1 Lakhs to ₹6 Lakhs per year for a Senior Hardware Engineer. Salary estimates are based on 151 Kernex Micro Systems salaries received from various employees of Kernex Micro Systems. Kernex Micro Systems employees rate the overall salary and benefits package 2.5/5 stars. The minimum salary at Kernex Micro Systems depends on the role you are applying for. For an Embedded Software Developer, the minimum salary is ₹2 Lakhs to ₹2.8 Lakhs per year, and for a Hardware Engineer, the minimum salary is ₹1.9 Lakhs to ₹3.6 Lakhs per year and so on.'}, {'id': 'Kernex Microsystems_eligibility', 'text': 'Kernex Microsystems’s eligibility criteria for this role include candidates from the Mechanical Engineering stream (B.E/B.Tech/M.E/M.Tech) with no active backlogs during application or onboarding. Graduation Year: 2025 pass-outs.'}, {'id': 'Kernex Microsystems_recruitment_process', 'text': 'Kernex Microsystems has divided its recruitment process into two stages: Online Assessment and Interview (Technical + HR). Selected members proceed to the final round, which is the interview.'}, {'id': 'Moschip Technologies _description', 'text': 'Moschip Technologies Limited is a publicly-traded semiconductor and system design services company headquartered in Hyderabad, India, with 1400+ engineers located in Silicon valley-USA, Hyderabad, and Bangalore. MosChip provides turn-key digital and mixed-signal ASICs, design services, SerDes IP, and embedded system design solutions. Over the past 2 decades, MosChip has developed and shipped millions of connectivity ICs. They have established themselves as a preferred partner for technology and excellence. At MosChip, they strive to provide unparalleled service and support to their clients with on-time delivery being our strength and commitment. They aim to offer a unique combination of services and solutions giving them an advantage over competitors in their industry by aligning ourselves with the vision of their clients. Their client-driven approach focuses on all facets of the product development process, including not only the technology but also time-to-market and returns on investment (ROI). Supported by a focused team of engineering, technology, and domain experts, MosChip has embarked on a journey with a difference – to be a partner in growth. Mission: To provide high-quality and value-added Design Services, IP, and Products to their customers utilizing our world-class engineering and management teams spread across the world. Create an “Employee First” work environment with Trust, Transparency, and Team Work.Vision: They are our partner throughout the entire product development cycle, designing and building comprehensive and best-in-class solutions on time to achieve your business and operational goals, and keep you at the forefront of the ever-changing competitive market. They aim to be recognized as global experts who not only use our expertise to solve our clients’ complex problems but also leverage solutions with the promise of a seamless interface between humans and technology.'}, {'id': 'Moschip Technologies_role_description', 'text': 'Moschip Technologies  is hiring Fresher Engineer role.'}, {'id': 'Moschip Technologies_eligibility', 'text': 'Moschip Technologies eligibility criteria for this role include candidates from engineering stream (B.E/B.Tech/M.E/M.Tech) Departments: EEE, ECE, EIE, Mechanical or any electronics department. Academic Performance: 65% and above throughout academics with no standing arrears.'}, {'id': 'Reliable_Technosystems_recruitment_process', 'text': 'Reliable Technosystems has its recruitment process, which is now divided into two stages: Online Assessment and Interview (Technical + HR). Selected members goes to the final round which is interview'}, {'id': 'NCC_Urban_description', 'text': \"NCC Urban is a leading real estate developer with many world class residential and commercial projects across Hyderabad, Bangalore, Kochi, Dubai and other prime cities.NCC Urban is a niche developer who has created landmark projects that are architecturally superior and Elegant in lifestyle. NCC Urban Infrastructure Ltd. is a Subsidiary of NCC Limited and comes Equipped With a world class building techniques and state-of-the-art building infrastructure that is expertly commandeered by top-notch professionals. NCC Urban Infrastructure's quality operations span across Residential and commercial complexes, townships, SEZs and serviced apartment complexes. The company has an impressive pan India presence across Bangalore, Hyderabad, Kochi, Vizag, Guntur, Ranchi and Dubai. Strict adherence to superior standards on time deliveries and transparent documentation has made preferred destination for individuals who are looking for quality living at affordable prices. NCC Urban has inherited its experience and expertise from NCC Limited. Known for its excellence in the execution of Turn key projects, Industrial Buildings, Multistoried, Commercial structures,Townships, Roads, Bridges, Pipelines etc. and rated as growing Infrastructure Company in India with annual turn over nearly Rs. 6,200 crores.\"}, {'id': 'NCC_Urban_role_description', 'text': 'NCC Urban is hiring Project Engineer trainee.'}, {'id': 'NCC_Urban_eligibility', 'text': 'NCC Urban’s eligibility criteria for this role include candidates from engineering stream (B.E/B.Tech/M.E/M.Tech) Departments: Civil. Academic Performance: 65% and above throughout academics with no standing arrears.'}, {'id': 'NCC_Urban_recruitment_process', 'text': 'They has 2 rounds, online assessment and Interview(F2F).'}, {'id': 'Reliable_Technosystems_description', 'text': 'Reliable Technosystems India Private Limited (RTS), established in 2010, is an AS9100D and ISO 9001:2015 certified company headquartered in Hyderabad, Telangana. Specializing in electronic system design and manufacturing (ESDM), RTS offers end-to-end solutions from concept to production, particularly in the aerospace, defense, and homeland security sectors. Their expertise encompasses the design, development, fabrication, and qualification of DSP/FPGA/Microcontroller-based embedded solutions, including servo controllers, high-speed data acquisition systems, and video processing solutions.  The company is led by directors Srinivasa Reddy Nallamilli and Durga Madhavi Latha Nallamilli. With a workforce of approximately 40 to 52 employees, RTS has achieved an estimated annual revenue of $4 million.  RTS is actively engaged in various projects, such as designing and developing controllers for over 30 types of missiles, all of which have been successfully flight-tested. The company also offers a range of product solutions tailored to client needs in areas like FPGA/SoC solutions, RF solutions, embedded solutions, and product IP solutions.  For professionals seeking career opportunities, RTS has previously advertised positions for Electronics Engineers and Embedded Design Engineers. These roles typically require candidates with a BE/B.Tech or ME/M.Tech in relevant fields. Responsibilities include designing and developing electronic circuits, testing components, maintaining schematics, and collaborating on aerospace certification documentation. While specific salary details are not publicly disclosed, compensation is competitive and commensurate with experience and qualifications.  Employee feedback indicates a positive work environment, with a Glassdoor rating of 4.2 out of 5 stars based on reviews from the Hyderabad location. Employees have highlighted the company’s supportive culture and growth opportunities, making it an attractive workplace for both freshers and experienced professionals.  For more detailed information about their services, projects, or career opportunities, visiting their official website or contacting their HR department is recommended.'}, {'id': 'Reliable_Technosystems_role_description', 'text': 'Reliable Technosystems offerening Embedded Fresher Engineer'}, {'id': 'Reliable_Technosystems_eligibility', 'text': \"Reliable Technosystems's eligibility criteria for this role include candidates from engineering stream (B.E/B.Tech/M.E/M.Tech) Departments: EEE, ECE, EIE, Mechanical or any electronics department. Academic Performance: 65% and above throughout academics with no standing arrears.\"}, {'id': 'Reliable_Technosystems_recruitment_process', 'text': 'Reliable Technosystems has its recruitment process, which is now divided into two stages: Online Assessment and Interview (Technical + HR). Selected members goes to the final round which is interview'}, {'id': 'SANKALP EMBEDDED SYSTEMS _description', 'text': 'Sankalp Embedded Systems India Private Limited is a technology-driven company specializing in embedded systems design, development, and solutions. The company focuses on delivering high-quality embedded software and hardware solutions across various industries, including automotive, consumer electronics, healthcare, and industrial automation. With a strong emphasis on innovation and cutting-edge technology, Sankalp Embedded Systems provides customized solutions tailored to meet client requirements. The company is committed to excellence, ensuring reliability, performance, and efficiency in its embedded system offerings.'}, {'id': 'SANKALP EMBEDDED SYSTEMS _role_description', 'text': 'SANKALP EMBEDDED SYSTEMS is hiring Fresher Engineer or trainee'}, {'id': 'SANKALP EMBEDDED SYSTEMS _eligibility', 'text': 'SANKALP EMBEDDED SYSTEMS eligibility criteria for this role include candidates from engineering stream (B.E/B.Tech/M.E/M.Tech) Departments: EEE, ECE, EIEor any electronics department. Academic Performance: 65% and above throughout academics with no standing arrears.'}, {'id': 'SANKALP EMBEDDED SYSTEMS _recruitment_process', 'text': 'SANKALP EMBEDDED SYSTEMS has its recruitment process, which is now divided into two stages: Online Assessment and Interview (Technical + HR). Selected members goes to the final round which is interview'}, {'id': 'SNR_EDATA_description', 'text': 'SNR EData Private Limited is a well-established and fast-growing organization, leading the market in providing innovative data solutions and services. The company prides itself on its commitment to excellence and its ability to deliver cutting-edge solutions that drive results. SNR EDatas focuses on expanding its market leadership through dynamic team contributions.'}, {'id': 'SNR_EDATA_role_description', 'text': 'SNR EDATA Role description: We are seeking a highly motivated and detail-oriented Data Analyst & Business Analyst (Fresher) to join our team. This is an excellent opportunity for a recent graduate with a passion for data analysis, problem-solving, and a desire to grow in the field. The role will start with a 3-month internship/probationary period, during which the candidate performance will be evaluated. Upon successful completion, the candidate will be offered a permanent position with a competitive salary package. Collect, clean, and preprocess data from various sources to ensure data quality and consistency. Analyze large datasets to identify trends, patterns, and actionable insights. Develop and maintain dashboards, reports, and visualizations to support business decision-making. Collaborate with cross-functional teams to understand data requirements and deliver solutions. Document processes and findings effectively to communicate with stakeholders. Duration: 3 months (Internship/Probation Period). Performance will be assessed based on deliverables, skills, and ability to contribute to projects. Successful candidates will be offered with a permanent position with a competitive package. Stipend : 12.5k/pm (3 Months) ; FTE : 2.64 LPA.'}, {'id': 'SNR_EDATA_eligibility', 'text': \"SNR EDATA's eligibility criteria for this role include candidates from any engineering stream (B.E/B.Tech/M.E/M.Tech) or MCA/MSc (CS/IT/Computer Applications/Data Science/Computer Science & Applications), with no active backlogs during application or onboarding Graduation Year: 2023-2025 pass-outs. Departments: EEE, ECE, EIE, CSE, AIDS or any electronics department. Academic Performance: 65% and above throughout academics with no standing arrears. Strong analytical and problem-solving skills. Proficiency in data analysis tools such as Excel, SQL. Familiarity with data visualization tools like Tableau, Power BI, or similar platforms is a plus. Excellent communication and interpersonal skills. Eagerness to learn and adapt to new tools, techniques, and technologies.\"}, {'id': 'SNR_EDATA_recruitment_process', 'text': 'SNR EDATA has recently updated its recruitment process, which is now divided into two stages: Online Assessment and Interview (Technical + HR). Selected members goes to the final round which is interview'}, {'id': 'Steel_Statica_description', 'text': 'Steel Statica Private Limited is a private limited company incorporated on February 15, 2022, in Hyderabad, Telangana, India. The company specializes in building installation services, which typically involve on-site construction activities, including the installation and repair of building equipment. The authorized share capital of the company is ₹30 million, with a paid-up capital of ₹20.1 million. The company’s registered address is Sy No. 130P & 115/1P, Rajapushpa Summit, 5th Floor, Nanakramaguda Road, Hyderabad, Telangana, 500008.  The board of directors includes Nama Narayana Prasad, Gayatri Srinivasan Iyer, and Sheshadri Skanda Kumar. As of the last available records, the company held its Annual General Meeting (AGM) on September 30, 2022, and filed its balance sheet on March 31, 2023.  Steel Statica operates within the construction industry, focusing on engineering services. The company is currently active and has filed its annual returns and financial statements up to March 31, 2023. Additionally, the company has an open charge of ₹50 million with Bank of Baroda, created on December 12, 2022.  For more detailed financial information and insights into the company’s operations, interested parties may refer to financial data providers or official corporate filings.'}, {'id': 'Steel_Statica_role_description', 'text': 'Steel statica  is hiring fresher roles.'}, {'id': 'Steel_statica_eligibility', 'text': 'Steel Statica’s eligibility criteria for this role include candidates from engineering stream (B.E/B.Tech/M.E/M.Tech) Departments: Civil. Academic Performance: 65% and above throughout academics with no standing arrears.'}, {'id': 'Steel_Statica_recruitment_process', 'text': 'Steel Statica interview process consisted of two rounds: an aptitude test and a technical interview.'}, {'id': 'Valeo_description', 'text': \"Valeo As a technology company and partner to all automakers and new mobility players, Valeo innovates to make mobility cleaner, safer and smarter. Valeo is a technological and industrial leader in electrification, driving assistance systems, reinvention of the interior experience and lighting everywhere. These four areas, vital to the transformation of mobility, are the Group's growth drivers. Valeo in figures: 20 billion euros in sales in 2022; 109,900 employees at December 31, 2022; 29 countries, 183 plants, 21 research centers, 44 development centers, 18 distribution platforms. Valeo is listed on the Paris Stock Exchange.\"}, {'id': 'Valeo_role_description', 'text': \"Valeo Role description: 7.5 CGPA & No Backlogs & Unplaced Students only. M.Tech - Stipend - 20k / pm - 5.4 LPA (FTE) B.Tech - Stipend - 15k / pm - 4.2 LPA (FTE) Note : At this point of time it is only Internship Opportunity, FTE conversion will be purely based on the Candidate's Performance & the Position availability during that time.\"}, {'id': 'Valeo_eligibility', 'text': \"Valeo's eligibility criteria for this role include candidates from any engineering stream (B.E/B.Tech/M.E/M.Tech) or MCA/MSc (CS/IT/Computer Applications/Data Science/Computer Science & Applications), with no active backlogs during application or onboarding Graduation Year: 2025 pass-outs. Departments: EEE, ECE, EIE, CSE, AIDS or any electronics department. Academic Performance: 65% and above throughout academics with no standing arrears. Strong analytical and problem-solving skills.\"}, {'id': 'Valeo_recruitment_process', 'text': 'Valeo has Online Assessment and Interview (Technical + HR). Selected members goes to the final round which is interview'}, {'id': 'VEM_Technologies_description', 'text': 'VEM Technologies (AviationSpace) - your ultimate resource for the aerospace and defence industry! they are a dedicated team of professionals, committed to providing our customers with the latest news, articles, and information essential for the aerospace and defence sectors. Vem Technologies(AviationSpace) is your one-stop destination for all things related to the aerospace and defence industries. Prominent Aerospace and Defence companies, products, services, etc are showcased in AviationSpace. Our team of experienced engineers and professionals, headed by highly qualified individuals with extensive experience in the aerospace and defence industries are well informed about the latest developments in the industry. They strive to provide our customers with the latest information, trends and updates on the aerospace and defence industry, including news, articles, product information, business opportunities, etc.'}, {'id': 'VEM_Technologies_role_description', 'text': 'VEM Technologies is hiring Production & Manufacturing engineer role'}, {'id': 'Vem_Techn0logies_eligibility', 'text': \"Vem Technologies's eligibility criteria for this role include candidates from engineering stream (B.E/B.Tech/M.E/M.Tech) Departments: EEE, ECE, EIE, Mechanical or any electronics department. Academic Performance: 65% and above throughout academics with no standing arrears.\"}, {'id': 'Vem_Technologies_recruitment_process', 'text': 'Vem Technologies has its recruitment process, which is now divided into two stages: Online Assessment and Interview (Technical + HR). Selected members goes to the final round which is interview'}, {'id': 'WINIT_description', 'text': \"WINIT specializes in creating Mobile Sales Force Automation Solutions. WINIT's practice is centered around 'Thinking Mobile' , the process of understanding a business, it's process, people and information and creating a strategy as to how the business could benefit from Mobility. Under the umbrella of Thinking Mobile, WINIT offers three broad services: 1. Mobile Sales Force Automation: a suite of products aimed at the Mobile field force. The suite includes Order Management, Van Sales, Store Analysis, a Real Time Dashboard that provides real time visibility of field status, and an integrated Business Intelligence Tool that allows management to slice and dice sales information to gather insights. The suite, powered by Mobility, Real time collaboration and Analytics is now used by some of the largest FMCG, Distribution companies. 2. Thinking Mobile: which involves in creating a Mobile App Strategy with long term intent, create compelling user experience and back it up with development services across all major platforms. Creating an app is not enough unless there is customer engagement and the app is used as a medium for engagement and marketing.\"}, {'id': 'WINIT_role_description', 'text': 'WINIT Role description: Software Developer'}, {'id': 'WINIT_eligibility', 'text': \"WINIT systems's eligibility criteria for this role include candidates from any engineering stream (B.E/B.Tech/M.E/M.Tech) or MCA/MSc (CS/IT/Computer Applications/Data Science/Computer Science & Applications), with no active backlogs during application or onboarding Graduation Year: 2023-2025 pass-outs.Departments: EEE, ECE, EIE, CSE,AIDS or any electronics department. Academic Performance: 65% and above throughout academics with no standing arrears.\"}, {'id': 'WINIT_recruitment_process', 'text': 'WINIT has recently updated its recruitment process, which is now divided into two stages: Online Assessment and Interview (Technical + HR).'}, {'id': 'Zebra_Technologies_description', 'text': 'Zebra Technologies is a global leader in providing innovative solutions that enable businesses to gain a performance edge through intelligent data capture, tracking, and automation technologies. Established in 1969 and headquartered in Lincolnshire, Illinois, Zebra specializes in enterprise-level hardware and software solutions, including barcode scanners, mobile computing devices, RFID tracking, and real-time location systems. The company serves a wide range of industries, including retail, healthcare, manufacturing, transportation, and logistics, helping organizations optimize their operations and enhance efficiency. With a strong focus on digital transformation, Zebra integrates AI, machine learning, and cloud-based analytics into its products to deliver actionable insights. Operating in over 100 countries, Zebra Technologies continues to drive innovation, enabling businesses to connect assets, people, and data for smarter decision-making and improved customer experiences.'}, {'id': 'Zebra_Technologies_role_description', 'text': 'Zebra Technologies is hiring Fresher Engineer or Analyst role.'}, {'id': 'Zebra_Technologies_eligibility', 'text': 'Zebra Technologies eligibility criteria for this role include candidates from engineering stream (B.E/B.Tech/M.E/M.Tech) Departments: EEE, ECE, EIEor any electronics department. Academic Performance: 65% and above throughout academics with no standing arrears.'}, {'id': 'Zebra_Technologies_recruitment_process', 'text': 'Zebra Technologies has its recruitment process, which is now divided into two stages: Online Assessment and Interview (Technical + HR). Selected members goes to the final round which is interview'}, {'id': 'modak_description', 'text': 'Modak is a fast-growing technology company specializing in data engineering and analytics solutions. Located in Hyderabad, India, Modak helps organizations unlock the value of their data through innovative tools and services. The company is known for its expertise in data integration, data lakes, and AI-driven analytics. Modak is committed to driving digital transformation and empowering businesses with data-driven insights.'}, {'id': 'modak_role_description', 'text': 'Modak Role Description: Data Engineer (Fresher) As a Software Developer, you will work on designing, building, and maintaining data pipelines and analytics solutions. Your responsibilities will include data integration, ETL (Extract, Transform, Load) processes, and collaborating with cross-functional teams to deliver actionable insights. Modak is looking for candidates with strong programming skills, an understanding of data engineering concepts, and a passion for technology. Freshers with a degree in Computer Science, IT, or related fields are eligible to apply. The role may require working in a fast-paced, client-facing environment.'}, {'id': 'modak_eligibility', 'text': 'The eligibility criteria for Modak include candidates from any engineering stream (B.E/B.Tech/M.E/M.Tech) with a minimum of 60% or 6.0 CGPA in graduation with no active backlogs and a TSEAMCET rank of below 10,000. Candidates must have completed their degree within the stipulated duration.'}, {'id': 'modak_recruitment_process', 'text': 'Modak’s recruitment process typically consists of three stages. The first stage is an online assessment, which includes coding, logical reasoning, technical questions, and questions related to the English language. The test duration is 90 minutes. The second stage is a technical interview, where candidates are assessed on their understanding of data engineering, programming skills, and problem-solving abilities. The final stage is the HR interview, which evaluates communication skills, motivation, and cultural fit.'}, {'id': 'modak_interview_round', 'text': \"Modak's Technical Interview focuses on understanding data engineering concepts such as ETL processes, data lakes, and data integration. Candidates may be required to explain OOPS concepts including Python and Java languages, discuss the concepts of DBMS like MySQL and Normal Forms, and solve a problem related to Data Structures and Algorithms. Modak values candidates who are detail-oriented, have strong problem-solving skills, and are passionate about data engineering.\"}, {'id': 'modak_additional_info', 'text': 'Modak offers a competitive salary package for freshers, typically ranging from ₹4-6 LPA, depending on the role and location. The package includes a fixed salary, performance bonuses, and additional benefits such as health insurance and professional development opportunities. Modak is known for its employee-friendly policies and opportunities for growth in the data engineering industry.'}, {'id': ' Episource _description', 'text': ' Episource is a leading provider of risk adjustment services, software, and solutions for health plans and provider groups. With over 1,500 employees worldwide, the company offers an integrated platform that empowers commercial, Medicare, and Medicaid health plans with end-to-end risk adjustment solutions. These include analytics, retrospective chart reviews, encounter submissions, and medical record retrieval.  Episource’s mission is to advance accuracy, efficiency, and expertise in healthcare, aiming to achieve optimal outcomes for clients, their members, and patients. The company’s services are designed to streamline operations, ensure compliance, and enhance patient care.  The company’s suite of solutions includes the Episource Clarity Platform, an end-to-end platform for risk adjustment and quality initiatives. This platform supports all aspects of risk adjustment, including analytics, record retrieval, and medical chart coding, delivering tangible outcomes for risk-bearing providers.  Episource also offers Episource Hub, an interoperability solution providing electronic access to up-to-date healthcare data. This tool aggregates data from disparate sources, creating comprehensive treatment histories for patients and enabling providers to deliver the highest quality care.  For health plans, Episource provides services such as risk adjustment program assessments, compliance reviews, and encounter data management. These offerings are designed to elevate value and efficiency in payer operations.  In summary, Episource is dedicated to transforming healthcare data into actionable insights, assisting clients in navigating the evolving healthcare landscape with confidence. For more information, you can visit their official website: Episource To learn more about their services and solutions, you might find this video informative: https://www.youtube.com/channel/UCG1XpIT8-kr-MUPvZ1MuQ2g '}, {'id': 'Episource _role_description', 'text': ' Episource is hiring Crp Trainee'}, {'id': ' Episource _eligibility', 'text': ' Episource’s eligibility criteria for this role include candidates from engineering stream (B.E/B.Tech/M.E/M.Tech) Departments: Biomedical And Pharma. Academic Performance: 65% and above throughout academics with no standing arrears. '}, {'id': 'Episource_recruitment_process', 'text': ' Episource has its recruitment process, which is now divided into two stages: Online Assessment and Interview (Technical + HR). Selected members goes to the final round which is interview'}, {'id': 'backbase_description', 'text': \"Backbase is a leading global fintech company specializing in customer experience platforms for financial institutions. Founded in 2003 and headquartered in Amsterdam, Netherlands, Backbase empowers banks and credit unions to accelerate their digital transformation. The company's flagship product, the Backbase Omni-Channel Banking Platform, enables financial institutions to create seamless, personalized customer experiences across all digital touchpoints. Backbase is known for its innovative approach to banking technology and its commitment to helping clients stay competitive in the digital age.\"}, {'id': 'backbase_role_description', 'text': 'Backbase Role Description: Software Engineer (Campus Connect Program) As a Software Engineer at Backbase, you will be involved in designing, developing, and maintaining cutting-edge software solutions for financial institutions. Your responsibilities will include working on backend and frontend development, integrating APIs, and collaborating with cross-functional teams to deliver high-quality products. Backbase is looking for candidates with strong programming skills, a solid understanding of software engineering principles, and a passion for technology. Freshers with a degree in Computer Science, IT, or related fields are eligible to apply through the Campus Connect Program. The role may involve working in a fast-paced, agile environment.'}, {'id': 'backbase_eligibility', 'text': \"The eligibility criteria for Backbase's Campus Connect Program include candidates from Computer Science, IT, or related engineering streams (B.E/B.Tech/M.E/M.Tech) with a minimum of 60% or 6.0 CGPA in graduation and no active backlogs. Candidates must have completed their degree within the stipulated duration. Strong programming skills in Java, Python, or JavaScript, along with a good understanding of data structures and algorithms, are preferred.\"}, {'id': 'backbase_recruitment_process', 'text': 'Backbase’s recruitment process for the Campus Connect Program typically consists of four stages. The first stage is an online assessment, which includes coding problems, logical reasoning, and technical questions. The test duration is usually 90 minutes. The second stage is a technical interview, where candidates are evaluated on their programming skills, problem-solving abilities, and understanding of software engineering concepts. The third stage is a system design or coding round, where candidates may be asked to design a system or solve a complex coding problem. The final stage is the HR interview, which assesses communication skills, cultural fit, and motivation.'}, {'id': 'backbase_interview_round', 'text': \"Backbase's Technical Interview focuses on evaluating candidates' understanding of software engineering concepts such as object-oriented programming, data structures, algorithms, and system design. Candidates may be required to write code in languages like Java, Python, or JavaScript, explain database concepts, and solve real-world problems. Backbase values candidates who are detail-oriented, have strong analytical skills, and are passionate about building innovative software solutions.\"}, {'id': 'backbase_additional_info', 'text': 'Backbase offers a competitive salary package for freshers, typically ranging from ₹6-10 LPA, depending on the role and location. The package includes a fixed salary, performance bonuses, and additional benefits such as health insurance, flexible work hours, and opportunities for professional development. Backbase is known for its collaborative work culture, focus on innovation, and commitment to employee growth in the fintech industry.'}, {'id': 'zelis_description', 'text': 'Zelis is a leading healthcare technology company that specializes in optimizing the financial performance of healthcare payers and providers. Headquartered in Bedminster, New Jersey, Zelis offers innovative solutions for claims management, payment integrity, and healthcare cost management. The company leverages advanced analytics, AI, and machine learning to streamline healthcare payments and improve operational efficiency. Zelis is committed to transforming the healthcare payment ecosystem and delivering value to its clients.'}, {'id': 'zelis_role_description', 'text': 'Zelis Role Description: Associate Software Engineer (Fresher) As an Associate Software Engineer at Zelis, you will be involved in designing, developing, and maintaining software solutions that support healthcare payment processes. Your responsibilities will include coding, debugging, testing, and collaborating with cross-functional teams to deliver high-quality software. Zelis is looking for candidates with strong programming skills, a basic understanding of software development principles, and a passion for technology. Freshers with a degree in Computer Science, IT, or related fields are eligible to apply. The role may require working in a fast-paced, client-focused environment.'}, {'id': 'zelis_eligibility', 'text': 'The eligibility criteria for Zelis include candidates from Computer Science, IT, or related engineering streams (B.E/B.Tech/M.E/M.Tech) with a minimum of 60% or 6.0 CGPA in graduation and no active backlogs. Candidates must have completed their degree within the stipulated duration. Strong programming skills in languages like Java, Python, or C# are preferred.'}, {'id': 'zelis_recruitment_process', 'text': 'Zelis’s recruitment process typically consists of three stages. The first stage is an online assessment, which includes coding problems, logical reasoning, and technical questions. The test duration is usually 90 minutes. The second stage is a technical interview, where candidates are evaluated on their programming skills, problem-solving abilities, and understanding of software engineering concepts. The final stage is the HR interview, which assesses communication skills, motivation, and cultural fit.'}, {'id': 'zelis_interview_round', 'text': \"Zelis's Technical Interview focuses on evaluating candidates' understanding of software engineering concepts such as object-oriented programming, data structures, algorithms, and database management. Candidates may be required to write code in languages like Java, Python, or C#, explain database concepts, and solve real-world problems. Zelis values candidates who are detail-oriented, have strong analytical skills, and are passionate about building innovative software solutions.\"}, {'id': 'zelis_additional_info', 'text': 'Zelis offers a competitive salary package for freshers, typically around ₹4.25 LPA. The package includes a fixed salary, performance bonuses, and additional benefits such as health insurance, flexible work hours, and opportunities for professional development. Zelis is known for its employee-friendly policies and focus on innovation in the healthcare technology industry.'}, {'id': 'bms_description', 'text': 'Bristol Myers Squibb (BMS) is a global biopharmaceutical company headquartered in New York City, USA. Founded in 1887, BMS is dedicated to discovering, developing, and delivering innovative medicines that help patients prevail over serious diseases. The company focuses on areas such as oncology, cardiovascular, immunology, and fibrosis. BMS is recognized for its commitment to research and development, with a strong emphasis on improving patient outcomes through cutting-edge science and technology.'}, {'id': 'bms_role_description', 'text': \"BMS Role Description: (Role not specified, but typically includes roles in IT, Data Science, and Engineering for freshers) As a potential candidate, you may work on developing and maintaining software solutions, data analytics, or IT infrastructure to support the company's pharmaceutical research and operations. Responsibilities may include collaborating with cross-functional teams, working on data-driven projects, and contributing to the development of innovative healthcare solutions. BMS looks for candidates with strong technical skills, problem-solving abilities, and a passion for making a difference in the healthcare industry.\"}, {'id': 'bms_eligibility', 'text': 'The eligibility criteria for BMS include candidates from Computer Science, IT, or allied engineering streams (B.E/B.Tech) in their 4th year of study. A minimum academic score of 60% or 6.0 CGPA is required, with no active backlogs. Candidates must have a strong foundation in programming, data structures, and algorithms, along with good communication skills. Prior internship or project experience in relevant fields is a plus.'}, {'id': 'bms_recruitment_process', 'text': 'BMS’s recruitment process typically consists of multiple stages. The first stage is an online assessment, which may include coding, logical reasoning, technical questions, and aptitude tests. The second stage is a technical interview, where candidates are evaluated on their programming skills, problem-solving abilities, and understanding of core computer science concepts. The final stage is an HR interview, which assesses communication skills, cultural fit, and motivation to work in the healthcare and pharmaceutical industry.'}, {'id': 'bms_interview_round', 'text': \"BMS's Technical Interview focuses on core computer science concepts such as data structures, algorithms, and object-oriented programming. Candidates may be asked to solve coding problems, explain database management systems (DBMS), and discuss their understanding of software development life cycles. Additionally, candidates may be evaluated on their ability to apply technical knowledge to real-world healthcare challenges. BMS values candidates who are innovative, detail-oriented, and passionate about leveraging technology to improve patient outcomes.\"}, {'id': 'bms_additional_info', 'text': 'BMS offers a competitive salary package for freshers, typically ranging from ₹6-10 LPA, depending on the role and location. The package includes a fixed salary, performance-based bonuses, and additional benefits such as health insurance, retirement plans, and professional development opportunities. BMS is known for its inclusive work culture, focus on employee well-being, and opportunities for career growth in the biopharmaceutical industry.'}, {'id': 'altair_india_description', 'text': \"Altair is a global technology company specializing in simulation, high-performance computing (HPC), and data analytics solutions. Altair India, headquartered in Bengaluru, is a key part of Altair's global operations, focusing on providing innovative software tools and services to industries such as automotive, aerospace, manufacturing, and healthcare. The company is known for its expertise in engineering simulation, artificial intelligence (AI), and cloud computing, helping businesses optimize their designs and decision-making processes.\"}]\n",
      "96 [{'id': 'altair_india_role_description', 'text': 'Altair India Role Description: Intern (Software Development/Engineering) As an intern at Altair India, you will work on developing and optimizing software solutions for simulation, data analytics, and high-performance computing. Your responsibilities may include coding, debugging, testing, and collaborating with cross-functional teams to deliver high-quality software tools. Altair is looking for candidates with strong programming skills, a passion for technology, and an interest in simulation and data analytics. The internship duration is 6 to 12 months, with a stipend of 3.6 LPA.'}, {'id': 'altair_india_eligibility', 'text': 'The eligibility criteria for Altair India internships include candidates from Computer Science, IT, Mechanical Engineering, or related fields (B.E/B.Tech/M.E/M.Tech) with a minimum academic score of 60% or 6.0 CGPA. Candidates should have strong programming skills in languages like Python, C++, or Java, and a basic understanding of software development concepts. Prior experience in simulation, data analytics, or related projects is a plus.'}, {'id': 'altair_india_recruitment_process', 'text': 'Altair India’s recruitment process for internships typically consists of three stages. The first stage is an online assessment, which includes coding, logical reasoning, and technical questions. The second stage is a technical interview, where candidates are evaluated on their programming skills, problem-solving abilities, and understanding of software development concepts. The final stage is an HR interview, which assesses communication skills, motivation, and cultural fit.'}, {'id': 'altair_india_interview_round', 'text': \"Altair India's Technical Interview focuses on core programming skills, problem-solving, and understanding of software development concepts. Candidates may be asked to solve coding problems, explain object-oriented programming (OOP) concepts, and discuss their experience with simulation or data analytics tools. Altair values candidates who are innovative, detail-oriented, and passionate about technology.\"}, {'id': 'altair_india_additional_info', 'text': 'Altair India offers a stipend of 3.6 LPA for internships, with a duration of 6 to 12 months. Interns gain hands-on experience in cutting-edge technologies like simulation, AI, and data analytics. Altair is known for its collaborative work environment, focus on innovation, and opportunities for professional growth in the engineering and technology industry.'}, {'id': 'ibridge_description', 'text': 'iBridge is a technology company specializing in providing innovative IT solutions and services to businesses across various industries. The company focuses on software development, cloud computing, data analytics, and digital transformation. iBridge is known for its commitment to delivering high-quality solutions that help organizations streamline their operations and achieve their business goals. With a strong emphasis on innovation and customer satisfaction, iBridge has established itself as a trusted partner for technology-driven solutions.'}, {'id': 'ibridge_role_description', 'text': 'iBridge Role Description: Intern (6/12 Months) As an Intern at iBridge, you will work on real-world projects related to software development, data analytics, or cloud computing. Your responsibilities will include coding, debugging, testing, and collaborating with cross-functional teams to deliver solutions. iBridge is looking for 4th-year B.Tech students with strong programming skills, a basic understanding of software development principles, and a passion for technology. The internship offers hands-on experience and an opportunity to learn from industry experts.'}, {'id': 'ibridge_eligibility', 'text': \"The eligibility criteria for iBridge's internship program include 4th-year B.Tech students from Computer Science, IT, or related engineering streams with a minimum of 60% or 6.0 CGPA in their academic records and no active backlogs. Candidates must have strong programming skills in languages like Java, Python, or C++ and a basic understanding of software development concepts.\"}, {'id': 'ibridge_recruitment_process', 'text': 'iBridge’s recruitment process for internships typically consists of three stages. The first stage is an online assessment, which includes coding problems, logical reasoning, and technical questions. The test duration is usually 60-90 minutes. The second stage is a technical interview, where candidates are evaluated on their programming skills, problem-solving abilities, and understanding of software engineering concepts. The final stage is the HR interview, which assesses communication skills, motivation, and cultural fit.'}, {'id': 'ibridge_interview_round', 'text': \"iBridge's Technical Interview focuses on evaluating candidates' understanding of software engineering concepts such as object-oriented programming, data structures, algorithms, and database management. Candidates may be required to write code in languages like Java, Python, or C++, explain basic programming concepts, and solve real-world problems. iBridge values candidates who are detail-oriented, have strong analytical skills, and are passionate about technology.\"}, {'id': 'ibridge_additional_info', 'text': 'iBridge offers a stipend for its internship program, typically ranging from ₹10,000 to ₹20,000 per month, depending on the role and location. The internship provides hands-on experience, exposure to real-world projects, and opportunities for professional development. iBridge is known for its supportive work environment and focus on nurturing young talent in the technology industry.'}, {'id': 'realpage_description', 'text': \"RealPage is a leading global provider of property management software solutions for the real estate industry. Headquartered in Richardson, Texas, RealPage India, located in Hyderabad, plays a crucial role in the company's global operations. The company offers innovative software platforms that help property managers and owners optimize their operations, improve tenant experiences, and maximize revenue. RealPage is known for its expertise in SaaS (Software as a Service) solutions, data analytics, and artificial intelligence (AI) in the real estate sector.\"}, {'id': 'realpage_role_description', 'text': 'RealPage Role Description: Software Engineer (Fresher) As a Software Engineer at RealPage, you will work on designing, developing, and maintaining software solutions for property management and real estate operations. Your responsibilities will include coding, debugging, testing, and collaborating with cross-functional teams to deliver high-quality software products. RealPage is looking for candidates with strong programming skills, a solid understanding of software development concepts, and a passion for technology. The role offers a package of 9.6 LPA, with an initial internship stipend of ₹15,000 per month.'}, {'id': 'realpage_eligibility', 'text': 'The eligibility criteria for RealPage include candidates from Computer Science, IT, or related engineering streams (B.E/B.Tech/M.E/M.Tech) with a minimum academic score of 60% or 6.0 CGPA. Candidates should have strong programming skills in languages like Java, Python, or C++, and a good understanding of data structures, algorithms, and software development principles. Freshers with no active backlogs are eligible to apply.'}, {'id': 'realpage_recruitment_process', 'text': 'RealPage’s recruitment process typically consists of three stages. The first stage is an online assessment, which includes coding, logical reasoning.Aptitude and Logical Reasoning:This section includes basic aptitude questions like quantitative reasoning, numerical ability, and logical reasoning. Technical Section:This typically consists of MCQs on core subjects such as:Data Structures (arrays, linked lists, trees),Algorithms (sorting, searching),Operating Systems,Object-Oriented Programming (OOPs). Coding Round: You will typically have 2 coding questions. These may cover areas like:Arrays and Strings,Dynamic Programming,Greedy Algorithms,Searching and Sorting algorithms The second stage is a technical interview, where candidates are evaluated on their programming skills, problem-solving abilities, and understanding of software development concepts. The final stage is an HR interview, which assesses communication skills, motivation, and cultural fit.'}, {'id': 'realpage_interview_round', 'text': \"RealPage's Technical Interview focuses on core programming skills, problem-solving, and understanding of software development concepts. Candidates may be asked to solve coding problems, explain object-oriented programming (OOP) concepts, and discuss their experience with databases and web technologies. RealPage values candidates who are detail-oriented, have strong analytical skills, and are passionate about building innovative software solutions.\"}, {'id': 'realpage_additional_info', 'text': 'RealPage offers a competitive salary package of 9.6 LPA for freshers, with an initial internship stipend of ₹15,000 per month. The company provides additional benefits such as health insurance, professional development opportunities, and a collaborative work environment. RealPage is known for its employee-friendly policies and opportunities for growth in the SaaS and real estate technology industry.'}, {'id': 'movate_description', 'text': \"Movate, formerly known as CSS Corp, is a digital technology and customer experience services company headquartered in Plano, Texas, USA. Established in 1996, Movate specializes in digital engineering, enterprise modernization, and customer experience enhancement. The company's name combines 'Momentum' and 'Innovate,' reflecting its commitment to agility and innovation in delivering client solutions. Movate operates globally, with a significant presence in Hyderabad, India.\"}, {'id': 'movate_role_description_eps', 'text': 'Movate Role Description: Enterprise Product Services (EPS) Associate. As an EPS Associate, you will collaborate with industry leaders to co-innovate and drive success in enterprise product development. Responsibilities include providing first-line support for consumers, managing accounts, and offering application support. Movate seeks candidates with strong problem-solving skills, a passion for technology, and the ability to thrive in a dynamic environment.'}, {'id': 'movate_role_description_dis', 'text': 'Movate Role Description: Digital Infrastructure Services (DIS) Associate. In this role, you will be responsible for managing and supporting digital infrastructure solutions for clients. Duties encompass troubleshooting, network management, and ensuring the seamless operation of IT services. Ideal candidates possess a solid understanding of digital infrastructure concepts, excellent analytical skills, and a proactive approach to problem-solving.'}, {'id': 'movate_role_description_dcx', 'text': 'Movate Role Description: Digital Customer Experience (DCX) Associate. As a DCX Associate, you will craft human-centered technology solutions aimed at enhancing customer experiences. Your role involves providing tech support services for small office/home office segments, managing customer interactions, and ensuring high satisfaction levels. Candidates should have strong communication skills, empathy, and a keen interest in improving customer journeys.'}, {'id': 'movate_eligibility', 'text': 'Eligibility criteria for Movate roles include a degree in Engineering (B.E/B.Tech) or related fields with a minimum of 60% or 6.0 CGPA. Candidates should have strong problem-solving abilities, excellent communication skills, and a passion for technology. Fresh graduates with no active backlogs are encouraged to apply.'}, {'id': 'movate_recruitment_process', 'text': \"Movate's recruitment process typically involves three stages. The first stage is an online assessment covering technical questions, logical reasoning, and language proficiency. The second stage is a technical interview focusing on role-specific knowledge and problem-solving skills. The final stage is an HR interview assessing communication abilities, motivation, and cultural fit.\"}, {'id': 'movate_interview_focus', 'text': \"Movate's technical interviews assess candidates' understanding of their respective domains. For EPS roles, expect questions on enterprise product support and application management. DIS candidates should be prepared for discussions on digital infrastructure, troubleshooting, and network management. DCX applicants may face scenarios related to customer support and enhancing user experiences. Across all roles, a strong grasp of relevant technologies and problem-solving skills is essential.\"}, {'id': 'movate_additional_info', 'text': 'Movate offers competitive compensation packages, including a fixed salary of 2.4LPA for DCX role, 3.2 - 3.75LPA for EPS role, 2.5 - 2.8LPA for DIS role, performance-based bonuses, and benefits such as health insurance and professional development opportunities. The company is recognized for its employee-friendly policies and provides ample growth prospects within the digital technology and customer experience sectors.'}, {'id': 'copart_description', 'text': 'Copart, Inc. is a global leader in online vehicle auctions, providing services to process and sell salvage and clean title vehicles. Headquartered in Dallas, Texas, Copart operates over 200 locations across 11 countries, facilitating the sale of more than 175,000 vehicles daily. The company serves a diverse clientele, including insurance companies, rental car businesses, local municipalities, and charities. Copart is renowned for its proprietary Virtual Bidding Third Generation (VB3) technology, which enables efficient and transparent online auctions.'}, {'id': 'copart_role_description', 'text': \"Copart Role Description: IT Intern. As an IT Intern at Copart, you will engage in hands-on projects that contribute to the development and maintenance of the company's in-house technologies. Responsibilities include assisting in software development, troubleshooting technical issues, and collaborating with various IT teams to enhance system performance. This role offers exposure to real-world applications of IT solutions in a fast-paced environment, providing valuable experience for your future career.\"}, {'id': 'copart_eligibility', 'text': \"Eligibility criteria for Copart's IT Internship program include current enrollment in a Bachelor's or Master's degree program in Computer Science, Information Technology, or a related field. Candidates should possess strong analytical skills, proficiency in programming languages such as Java or Python, and a keen interest in technology and innovation. Excellent communication skills and the ability to work collaboratively in a team setting are also essential.\"}, {'id': 'copart_recruitment_process', 'text': \"Copart's recruitment process for interns typically involves several stages. Initially, candidates submit an online application highlighting their academic achievements and relevant skills. Selected applicants are then invited to participate in a technical assessment, which may include coding challenges and problem-solving exercises. Successful candidates proceed to interviews with IT team members, focusing on technical competencies and cultural fit within the organization.\"}, {'id': 'copart_interview_focus', 'text': 'During the technical interview, candidates can expect questions assessing their understanding of software development principles, experience with programming languages, and problem-solving abilities. Interviewers may present real-world scenarios to evaluate how candidates approach and resolve technical challenges. Demonstrating a proactive attitude, adaptability, and a passion for technology will be advantageous.'}, {'id': 'copart_additional_info', 'text': \"Copart offers a dynamic and supportive environment for interns, providing opportunities to work on impactful projects alongside experienced professionals. Interns gain exposure to the company's proprietary technologies and contribute to initiatives that drive business success. While specific compensation details for internships are not publicly disclosed, Copart is committed to offering competitive packages that reflect industry standards. The company also emphasizes professional development, offering mentorship and learning opportunities to foster career growth.\"}, {'id': 'beautiful_code_description', 'text': \"Beautiful Code is a technology company specializing in providing remote engineering teams to accelerate software development and time-to-market for businesses. Founded in 2013 by Ravi Bhim, the company focuses on enhancing engineering practices and quality through its Remote Engineering Framework. Headquartered in San Francisco, California, Beautiful Code operates globally, offering services that integrate seamlessly with clients' existing cultures to foster intentional growth.\"}, {'id': 'beautiful_code_role_description', 'text': \"Beautiful Code Role Description: Full Stack Developer. As a Full Stack Developer at Beautiful Code, you will be responsible for developing user-facing web applications and backend services. Your duties include writing reusable, modular code and libraries, collaborating with team members and product managers, and adhering to best practices in software development. The role requires proficiency in front-end technologies such as React.js, JavaScript/TypeScript, and Redux, as well as back-end development skills. Candidates should have a Bachelor's or Master's degree in Computer Science or a related field and at least 3 years of experience in building web applications or frameworks.\"}, {'id': 'beautiful_code_eligibility', 'text': \"Eligibility criteria for the Full Stack Developer role at Beautiful Code include a Bachelor's or Master's degree in Computer Science or a related field with minimum GPA of 7.\"}, {'id': 'beautiful_code_recruitment_process', 'text': \"Beautiful Code's recruitment process typically consists of three stages. The first stage is an online assessment that evaluates technical and problem-solving skills, including coding challenges focused on data structures and algorithms, as well as SQL queries and entity-relationship modeling. The second stage is a technical interview, where candidates are assessed on their understanding of full-stack development, programming proficiency, and problem-solving abilities. The final stage is an HR interview, which evaluates communication skills, motivation, and cultural fit within the company.\"}, {'id': 'beautiful_code_interview_focus', 'text': \"The technical interview at Beautiful Code focuses on assessing candidates' expertise in full-stack development. Candidates should be prepared to discuss front-end technologies such as React.js, JavaScript/TypeScript, and Redux, as well as back-end development concepts. Additionally, problem-solving skills related to data structures and algorithms, along with proficiency in SQL and database design, are evaluated. Beautiful Code values candidates who are detail-oriented, possess strong problem-solving abilities, and are passionate about software development.\"}, {'id': 'beautiful_code_additional_info', 'text': 'Beautiful Code offers competitive compensation packages for Full Stack Developers, which include a fixed salary of 7-10LPA, performance-based bonuses, and benefits such as health insurance and professional development opportunities. The company is recognized for its employee-friendly policies and provides ample growth prospects within the software development industry.'}, {'id': 'workcohol_description', 'text': \"Workcohol is a technology service provider founded in 2021, specializing in software development, IT support, and digital transformation strategies. Headquartered in Chennai, Tamil Nadu, India, Workcohol is dedicated to empowering businesses of all sizes to harness the full potential of technology, ensuring competitiveness and agility in today's fast-paced digital landscape.\"}, {'id': 'workcohol_role_description', 'text': 'Workcohol Role Description: Software Engineer (Entry-Level). As a Software Engineer at Workcohol, you will be responsible for designing, developing, and maintaining high-quality, scalable software applications. Your role involves writing, testing, and maintaining clean, efficient, and reliable code based on project requirements. You will collaborate with cross-functional teams to deliver innovative solutions and may also mentor junior engineers. This position requires strong problem-solving skills, proficiency in programming languages such as Python and Java, and a passion for technology.'}, {'id': 'workcohol_eligibility', 'text': 'Eligibility criteria for the Software Engineer role at Workcohol include a degree in Computer Science, Information Technology, or a related field. While prior professional experience is advantageous, recent graduates with a strong foundation in software development principles and programming are encouraged to apply. Candidates should possess excellent problem-solving abilities, effective communication skills, and a proactive approach to learning and development.'}, {'id': 'workcohol_recruitment_process', 'text': \"Workcohol's recruitment process typically consists of three stages. The first stage is an online assessment that evaluates technical and problem-solving skills, including coding challenges related to Data Structures and Algorithms (DSA), as well as SQL queries and Entity-Relationship (ER) modeling. The second stage is a technical interview focusing on the candidate's understanding of software development concepts, programming proficiency, and problem-solving abilities. The final stage is an HR interview assessing communication skills, motivation, and cultural fit within the company.\"}, {'id': 'workcohol_interview_focus', 'text': 'During the technical interview at Workcohol, candidates can expect questions on software development concepts, including object-oriented programming (OOP) principles, proficiency in programming languages such as Python and Java, and database management systems (DBMS) like MySQL. Additionally, candidates may be asked to solve problems related to Data Structures and Algorithms. Demonstrating strong analytical skills, attention to detail, and a passion for technology will be advantageous.'}, {'id': 'workcohol_additional_info', 'text': 'Workcohol offers competitive compensation packages for entry-level Software Engineers, with salaries typically ranging from ₹4.5 to ₹5.8 LPA, depending on experience and qualifications. The package includes a fixed salary, performance-based bonuses, and additional benefits such as health insurance and professional development opportunities. Workcohol is recognized for its employee-friendly policies and provides ample growth prospects within the technology sector.'}, {'id': 'zifo_description', 'text': 'Zifo is a global leader in providing scientific informatics and data management solutions to the life sciences and healthcare industries. Headquartered in Chennai, India, Zifo helps organizations accelerate research and development by leveraging advanced technologies such as AI, machine learning, and data analytics. The company is known for its expertise in laboratory informatics, clinical data management, and digital transformation. Zifo is committed to enabling innovation and improving outcomes in the life sciences sector.'}, {'id': 'zifo_role_description', 'text': 'Zifo Role Description: Associate Consultant (Fresher) As an Associate Consultant at Zifo, you will work on designing and implementing scientific informatics solutions for clients in the life sciences industry. Your responsibilities will include data analysis, system configuration, and collaborating with cross-functional teams to deliver tailored solutions. Zifo is looking for candidates with a strong academic background in life sciences, chemical engineering, biomedical engineering, data science, or pharmaceutical engineering. Freshers with a passion for technology and problem-solving are eligible to apply. The role may involve working in a fast-paced, client-focused environment.'}, {'id': 'zifo_eligibility', 'text': 'The eligibility criteria for Zifo include candidates from life sciences, chemical engineering, biomedical engineering, data science, or pharmaceutical engineering streams (B.E/B.Tech/M.E/M.Tech) with a minimum of 60% or 6.0 CGPA in graduation and no active backlogs. Candidates must have completed their degree within the stipulated duration. Strong analytical and problem-solving skills are preferred.'}, {'id': 'zifo_recruitment_process', 'text': 'Zifo’s recruitment process typically consists of three stages. The first stage is an online assessment, which includes aptitude, logical reasoning, technical questions, and domain-specific questions related to life sciences and data management. The test duration is 90 minutes. The second stage is a technical interview, where candidates are assessed on their understanding of scientific informatics, data analysis, and problem-solving abilities. The final stage is the HR interview, which evaluates communication skills, motivation, and cultural fit.'}, {'id': 'zifo_interview_round', 'text': \"Zifo's Technical Interview focuses on evaluating candidates' understanding of scientific informatics, data management, and domain-specific knowledge in life sciences. Candidates may be required to explain concepts related to laboratory informatics, clinical data management, and data analytics. Additionally, problem-solving skills and familiarity with tools like Excel, SQL, or Python may be tested. Zifo values candidates who are detail-oriented, have strong analytical skills, and are passionate about the life sciences industry.\"}, {'id': 'zifo_additional_info', 'text': 'Zifo offers a competitive salary package for freshers, typically around ₹4.76 LPA. The package includes a fixed salary, performance bonuses, and additional benefits such as health insurance, professional development opportunities, and a supportive work environment. Zifo is known for its employee-friendly policies and opportunities for growth in the life sciences and data management sectors.'}, {'id': 'quest_diagnostics_description', 'text': 'Quest Diagnostics is a leading provider of diagnostic information services, offering insights that help patients and healthcare providers make informed decisions. Headquartered in Secaucus, New Jersey, Quest Diagnostics operates globally, including a significant presence in India. The company specializes in advanced diagnostic testing, data analytics, and innovative healthcare solutions. Quest Diagnostics is known for its expertise in leveraging technology, including artificial intelligence (AI) and cybersecurity, to enhance diagnostic accuracy and patient care.'}, {'id': 'quest_diagnostics_role_description', 'text': 'Quest Diagnostics Role Description: Interns and Trainees (AI/ML and Cybersecurity) As an intern at Quest Diagnostics, you will work on projects related to artificial intelligence (AI), machine learning (ML), or cybersecurity. Your responsibilities may include data analysis, developing AI/ML models, or enhancing cybersecurity protocols. For trainee roles, you will be involved in advanced projects, collaborating with cross-functional teams to deliver innovative healthcare solutions. Quest Diagnostics is looking for candidates with strong technical skills, a passion for healthcare technology, and expertise in AI/ML or cybersecurity. Interns receive a stipend of ₹12,000-15,000 per month, while trainees are offered a package of 15-20 LPA.'}, {'id': 'quest_diagnostics_eligibility', 'text': 'The eligibility criteria for Quest Diagnostics include candidates from Computer Science, IT, or related fields (B.E/B.Tech/M.E/M.Tech) with a minimum academic score of 60% or 6.0 CGPA. Candidates must have training or experience in artificial intelligence (AI), machine learning (ML), or cybersecurity. Strong programming skills, problem-solving abilities, and a passion for healthcare technology are essential. Freshers and experienced candidates are eligible to apply.'}, {'id': 'quest_diagnostics_recruitment_process', 'text': 'Quest Diagnostics’ recruitment process typically consists of three stages. The first stage is an online assessment, which includes coding, logical reasoning, and technical questions related to AI/ML or cybersecurity. The second stage is a technical interview, where candidates are evaluated on their understanding of AI/ML algorithms, cybersecurity protocols, and problem-solving skills. The final stage is an HR interview, which assesses communication skills, motivation, and cultural fit.'}, {'id': 'quest_diagnostics_interview_round', 'text': \"Quest Diagnostics' Technical Interview focuses on understanding AI/ML concepts, cybersecurity protocols, and their applications in healthcare. Candidates may be required to explain machine learning algorithms, discuss cybersecurity frameworks, and solve problems related to data analysis or system security. Quest Diagnostics values candidates who are innovative, detail-oriented, and passionate about leveraging technology to improve healthcare outcomes.\"}, {'id': 'quest_diagnostics_additional_info', 'text': 'Quest Diagnostics offers a stipend of ₹12,000-15,000 per month for interns and a competitive package of 15-20 LPA for trainees. The company provides additional benefits such as health insurance, professional development opportunities, and exposure to cutting-edge healthcare technologies. Quest Diagnostics is known for its employee-friendly policies and opportunities for growth in the healthcare and technology industry.'}, {'id': 'mthree_description', 'text': ' mthree is a global talent and training partner specializing in bridging the skills gap in technology, banking, and business sectors. Founded in 2010 and headquartered in London, UK, mthree sources, trains, and places professionals with leading organizations worldwide. The company is committed to enhancing diversity in the workforce, with 47% of its Alumni being women and 61% from ethnic minorities. In 2024, mthree expanded its presence to India by establishing MTHREE TALENT SOLUTIONS INDIA PRIVATE LIMITED in Maharashtra. '}, {'id': 'mthree_role_description', 'text': ' mthree offers various roles for graduates, including Software Engineer, Application Support Analyst, and Site Reliability Engineer (SRE). As a Software Engineer, you will develop and maintain software applications, collaborating with cross-functional teams to deliver innovative solutions. The Application Support Analyst role involves providing technical support for software applications, troubleshooting issues, and ensuring seamless operation. As an SRE, you will focus on maintaining the reliability and performance of infrastructure, automating solutions for operational aspects, and ensuring smooth deployment of applications. '}, {'id': 'mthree_eligibility', 'text': \" Eligibility criteria for mthree's graduate program typically include a degree in Computer Science, Information Technology, or related fields. Candidates should possess strong programming skills, an understanding of software development and systems engineering principles, and a passion for technology. While specific academic performance requirements are not explicitly stated, a solid academic record enhances your prospects. mthree values diversity and encourages applications from candidates of various backgrounds. \"}, {'id': 'mthree_recruitment_process', 'text': \" mthree's recruitment process for graduate roles generally involves multiple stages. The initial stage is an online assessment that evaluates coding abilities, logical reasoning, and technical knowledge. Successful candidates proceed to technical interviews, where they are assessed on their understanding of software engineering concepts, problem-solving skills, and relevant technologies. The final stage is an HR interview, focusing on communication skills, motivation, and cultural fit within the organization. \"}, {'id': 'mthree_interview_round', 'text': ' The technical interview at mthree delves into core areas pertinent to the role. For Software Engineers, this includes object-oriented programming concepts, proficiency in languages such as Python or Java, and familiarity with database management systems like MySQL. Candidates may also be asked to solve problems related to data structures and algorithms. For SRE positions, the focus is on understanding infrastructure reliability, automation, and performance monitoring. Demonstrating strong analytical skills and a proactive approach to problem-solving is crucial. '}, {'id': 'mthree_additional_info', 'text': ' mthree provides competitive compensation packages for its graduate roles, which typically include a fixed salary of 9-12LPA , performance-based bonuses, and benefits such as health insurance and professional development opportunities. The company is renowned for its commitment to employee growth, offering continuous training and upskilling programs to ensure career progression within the industry. '}, {'id': 'ksquare_description', 'text': ' The Ksquare Group is a global technology consulting company headquartered in Irving, Texas, with multiple offices in the US, Mexico, and India.   Founded in 2009, the company specializes in delivering cutting-edge technological solutions, including digital transformation, Salesforce consulting, and data services.   Ksquare is committed to enhancing decision-making speed and quality for its clients through customized projects and partnerships with leading technologies.  \\ue200cite\\ue202turn0search0\\ue201'}, {'id': 'ksquare_role_description', 'text': ' As a Business Analyst at The Ksquare Group, you will be responsible for gathering and analyzing business requirements, facilitating communication between stakeholders and technical teams, and ensuring that solutions align with business objectives.   Your role will involve process mapping, data analysis, and supporting project management activities to deliver effective technological solutions.   This position requires strong analytical skills, excellent communication abilities, and proficiency in business analysis tools and techniques.  \\ue200cite\\ue202turn0search1\\ue201'}, {'id': 'ksquare_eligibility', 'text': \" Candidates for the Business Analyst role should possess a Master's degree in Business; a Bachelor's degree in Information Technology is a plus.   Ideal applicants have 2-4 years of experience in a Business Analyst or similar position, with strong analytical and problem-solving skills.   Proficiency in business analysis tools and techniques, as well as excellent communication and interpersonal skills, are essential.  \\ue200cite\\ue202turn0search1\\ue201\"}, {'id': 'ksquare_recruitment_process', 'text': \" The Ksquare Group's recruitment process for the Business Analyst role typically involves multiple stages.   Initially, candidates undergo a screening process to assess their qualifications and experience.   This is followed by technical interviews focusing on analytical skills, problem-solving abilities, and proficiency in business analysis tools.   The final stage includes an HR interview to evaluate communication skills, cultural fit, and alignment with the company's values. \"}, {'id': 'ksquare_interview_round', 'text': ' During the technical interview, candidates are evaluated on their understanding of business analysis methodologies, process improvement strategies, and experience with tools such as Microsoft Visio and Jira.   Interviewers may present case studies or scenarios requiring candidates to demonstrate their problem-solving skills, data analysis capabilities, and ability to facilitate communication between stakeholders and technical teams.   A strong grasp of Agile or Waterfall methodologies is also advantageous.  \\ue200cite\\ue202turn0search1\\ue201'}, {'id': 'ksquare_additional_info', 'text': ' The Ksquare Group offers competitive compensation packages for Business Analysts, including a fixed salary, performance-based bonuses, and benefits such as health insurance and professional development opportunities.   The company fosters a culture of continuous learning and growth, providing employees with opportunities to work on diverse projects across various industries.   The open office spaces create a relaxed atmosphere, facilitating seamless employee interaction and collaboration.  \\ue200cite\\ue202turn0search0\\ue201'}, {'id': 'vicharak_description', 'text': ' Vicharak is an innovative technology company headquartered in Surat, India, specializing in reconfigurable computing solutions.   Founded in 2021, Vicharak aims to revolutionize computing by developing hardware that adapts to software needs in real-time, thereby overcoming traditional CPU limitations.   Their flagship product, VAAMAN, exemplifies this approach by offering next-generation accelerator boards designed to enhance computing efficiency.  \\ue200cite\\ue202turn0search2\\ue202turn0search3\\ue201'}, {'id': 'vicharak_role_description', 'text': ' As a Systems Development Intern at Vicharak, you will engage in the development and optimization of system-level software.   Your responsibilities include delving into the Linux Kernel, gaining hands-on experience with u-boot, C/C++ programming, and contributing to various Linux driver developments such as camera, display, USB, UART, and power management.   This role offers an opportunity to master kernel module development, GUI creation, and understand the intricacies of Linux systems.  \\ue200cite\\ue202turn0search1\\ue201'}, {'id': 'vicharak_eligibility', 'text': \" The ideal candidate for the Systems Development Internship should have 0-1 years of experience in system software development.   Proficiency in C/C++ programming and a solid understanding of Linux systems are essential.   Familiarity with u-boot and Linux driver development is advantageous.   A bachelor's degree in Computer Science, Electronics, or a related field is preferred.  \\ue200cite\\ue202turn0search1\\ue201\"}, {'id': 'vicharak_recruitment_process', 'text': \" Vicharak's recruitment process for the Systems Development Internship typically involves multiple stages.   Initially, candidates undergo a screening process to assess their technical qualifications and experience.   This is followed by technical interviews focusing on programming skills, understanding of Linux systems, and problem-solving abilities.   The final stage includes an HR interview to evaluate communication skills, cultural fit, and alignment with the company's values. \"}, {'id': 'vicharak_interview_round', 'text': ' During the technical interview, candidates are evaluated on their understanding of system-level programming, Linux kernel architecture, and experience with tools such as u-boot.   Interviewers may present scenarios requiring candidates to demonstrate their problem-solving skills, ability to develop and debug kernel modules, and proficiency in C/C++ programming.   A strong grasp of Linux driver development and GUI creation is also advantageous.  \\ue200cite\\ue202turn0search1\\ue201'}, {'id': 'vicharak_additional_info', 'text': ' The Systems Development Internship at Vicharak is based in Surat, India, offering a stipend ranging from ₹15,000 to ₹20,000 per month.   Interns have the opportunity to work on cutting-edge projects like VAAMAN, contributing to the development of next-generation computing solutions.   Vicharak fosters a culture of continuous learning and growth, providing interns with hands-on experience in system software development and exposure to innovative computing technologies.  \\ue200cite\\ue202turn0search1\\ue201'}, {'id': 'vidyanth_description', 'text': \"Vidyanth is an educational technology company based in Hyderabad, India, dedicated to transforming the learning experience by making high-quality education accessible to everyone. The company offers a wide range of online courses and educational programs in collaboration with top universities and industry leaders, providing learners with opportunities to earn certificates, degrees, and specializations in fields such as Data Science, Computer Science, and Business. Vidyanth is committed to leveraging the latest technological advancements to create personalized learning experiences tailored to each student's unique needs.\"}, {'id': 'vidyanth_role_description', 'text': \"Vidyanth Role Description: Business Development Intern (Sales & Marketing)\\nAs a Business Development Intern at Vidyanth, you will play a crucial role in expanding the company's reach and fostering partnerships. Your responsibilities will include identifying and reaching out to potential business partners, facilitating partnerships, developing proposals, and presenting business strategies. This role offers hands-on experience in business development practices, allowing you to apply your academic knowledge to real-world situations. The internship is based in Hyderabad, with a stipend of ₹18,000 per month. Successful interns may be considered for full-time positions with a competitive salary package ranging from ₹3.5 to ₹7.5 LPA.\"}, {'id': 'vidyanth_eligibility', 'text': \"The eligibility criteria for the Business Development Intern position at Vidyanth include:\\n- Current enrollment in or recent graduation from a Bachelor's or Master's program in Business Administration, Marketing, or a related field.\\n- Strong communication and interpersonal skills.\\n- Demonstrated interest in marketing, sales, or business development.\\n- Ability to work closely with marketing and sales teams to align social media campaigns with lead generation efforts.\"}, {'id': 'vidyanth_recruitment_process', 'text': \"Vidyanth's recruitment process for the Business Development Intern position typically involves the following stages:\\n1. **Application Review**: Assessment of resumes and cover letters to shortlist candidates based on eligibility criteria and relevant skills.\\n2. **Online Assessment**: Evaluation of candidates' logical reasoning, communication skills, and understanding of business development concepts.\\n3. **Technical Interview**: Discussion of candidates' academic projects, problem-solving abilities, and alignment with the company's mission and values.\\n4. **HR Interview**: Assessment of cultural fit, motivation, and long-term career goals.\"}, {'id': 'vidyanth_interview_round', 'text': 'During the Technical Interview at Vidyanth, candidates for the Business Development Intern position may be evaluated on the following aspects:\\n- Understanding of business development and sales strategies.\\n- Ability to identify and approach potential business partners.\\n- Skills in proposal development and business strategy presentation.\\n- Familiarity with aligning marketing efforts with lead generation.'}, {'id': 'vidyanth_additional_info', 'text': 'Vidyanth offers a dynamic and supportive work environment, providing interns with opportunities for professional growth and development. Interns receive a monthly stipend of ₹18,000, and those who demonstrate exceptional performance may be considered for full-time roles with competitive salary packages ranging from ₹3.5 to ₹7.5 LPA. The company is located in Hyderabad, a vibrant city known for its rich cultural heritage and growing technology sector.'}, {'id': 'qspiders_description', 'text': 'QSpiders is a premier software testing training organization headquartered in Bangalore, India. Operated by Test Yantra Software Solutions, QSpiders offers a wide range of courses in software testing and development, aiming to bridge the gap between academic curricula and industry demands. With over 52 centers across eight states in India and international presence in countries like the USA, UK, and Ireland, QSpiders has trained more than 700,000 engineers and facilitated placements for over 387,000 professionals. The institute is recognized for its comprehensive training programs and strong placement assistance, collaborating with numerous software companies across India.'}, {'id': 'qspiders_program_description', 'text': \"QSpiders offers a Free Internship cum Placement Integrated Boot Camp Program designed for final-year students. This certified program focuses on enhancing students' skills in software testing and development, preparing them for the IT industry. The program includes intensive training sessions, hands-on projects, and mentorship from industry experts. Participants benefit from 100% placement assistance, leveraging QSpiders' extensive network of corporate partners.\"}, {'id': 'qspiders_eligibility', 'text': 'Eligible candidates for the QSpiders Internship Program include final-year students pursuing B.Sc, BCA, M.Sc, or MCA degrees, with a minimum of 55% throughout their academic career. Good communication skills and strong aptitude knowledge are prerequisites. Candidates should be from the 2024 passing batch and must have completed their degrees within the stipulated duration.'}, {'id': 'qspiders_recruitment_process', 'text': \"The recruitment process for the QSpiders Internship Program comprises several stages. Initially, there is an online placement addressing session, followed by an online aptitude test. Successful candidates then participate in group discussions and face-to-face interviews. The process evaluates candidates' technical knowledge, problem-solving abilities, communication skills, and cultural fit.\"}, {'id': 'qspiders_interview_focus', 'text': \"QSpiders' interview process emphasizes assessing candidates' understanding of software testing concepts, programming skills, and problem-solving capabilities. Candidates may be asked to explain object-oriented programming principles, discuss database management systems, and solve problems related to data structures and algorithms. The organization values individuals who are detail-oriented, possess strong analytical skills, and demonstrate a passion for software testing and development.\"}, {'id': 'qspiders_additional_info', 'text': \"QSpiders is renowned for its employee-friendly policies and offers competitive compensation packages. While specific salary details for interns are not publicly disclosed, the organization provides performance-based incentives, health insurance, and professional development opportunities. The institute's extensive placement assistance has resulted in successful careers for numerous graduates in the software testing and development industry.\"}, {'id': 'talentio_academy_description', 'text': 'Talentio Academy is a leading organization focused on bridging the gap between academia and industry by providing skill development and training programs for students and professionals. The academy specializes in technical skill enhancement, career guidance, and placement assistance. Talentio Academy collaborates with industry experts and organizations to deliver cutting-edge training in areas such as software development, data science, cloud computing, and more. The academy is committed to empowering individuals with the skills needed to thrive in the technology-driven job market.'}, {'id': 'talentio_academy_role_description', 'text': 'Talentio Academy Role Description: Technical Skill Development Associate As a Technical Skill Development Associate at Talentio Academy, you will be responsible for designing and delivering training programs to enhance the technical skills of students and professionals. Your responsibilities will include creating course content, conducting workshops, mentoring learners, and collaborating with industry experts to ensure the curriculum aligns with industry standards. Talentio Academy is looking for candidates with strong technical skills, excellent communication abilities, and a passion for teaching and mentoring. Freshers with a degree in Computer Science, IT, or related fields are eligible to apply. The role may require working in a dynamic, learner-focused environment.'}, {'id': 'talentio_academy_eligibility', 'text': 'The eligibility criteria for Talentio Academy include candidates from Computer Science, IT, or related engineering streams (B.E/B.Tech) with a minimum of 60% or 6.0 CGPA till the 4th-1st semester and no active backlogs. Candidates must have strong technical skills in programming, software development, or related domains and a passion for teaching and skill development.'}, {'id': 'talentio_academy_recruitment_process', 'text': 'Talentio Academy’s recruitment process typically consists of three stages. The first stage is an online assessment, which includes technical questions, logical reasoning, and aptitude tests. The test duration is usually 60-90 minutes. The second stage is a technical interview, where candidates are assessed on their technical knowledge, problem-solving abilities, and teaching skills. The final stage is the HR interview, which evaluates communication skills, motivation, and cultural fit.'}, {'id': 'talentio_academy_interview_round', 'text': \"Talentio Academy's Technical Interview focuses on evaluating candidates' technical knowledge in areas such as programming, software development, and data science. Candidates may be required to explain technical concepts, solve coding problems, and demonstrate their ability to teach or mentor others. Talentio Academy values candidates who are detail-oriented, have strong communication skills, and are passionate about skill development and education.\"}, {'id': 'talentio_academy_additional_info', 'text': 'Talentio Academy offers a competitive salary package for freshers, typically ranging from ₹4-6 LPA, depending on the role and location. The package includes a fixed salary, performance bonuses, and additional benefits such as professional development opportunities and a supportive work environment. Talentio Academy is known for its focus on skill development, career growth, and empowering individuals to succeed in the technology industry.'}, {'id': 'rosh_elevators_description', 'text': 'Rosh Elevators is a leading Indian company specializing in the design, manufacturing, installation, and maintenance of elevators and escalators. Headquartered in Hyderabad, Telangana, Rosh Elevators is known for its innovative and energy-efficient vertical transportation solutions. The company serves a wide range of sectors, including residential, commercial, industrial, and healthcare. With a strong focus on quality, safety, and customer satisfaction, Rosh Elevators has established itself as a trusted name in the elevator industry.'}, {'id': 'rosh_elevators_role_description', 'text': 'Rosh Elevators Role Description: Graduate Engineer Trainee (GET) As a Graduate Engineer Trainee at Rosh Elevators, you will work on designing, testing, and maintaining elevator and escalator systems. Your responsibilities will include assisting in the development of mechanical and electrical components, ensuring compliance with safety standards, and collaborating with cross-functional teams to deliver high-quality products. Rosh Elevators is looking for candidates with strong technical skills, a passion for engineering, and a willingness to learn. Freshers with a degree in Mechanical, Electrical, or related engineering fields are eligible to apply.'}, {'id': 'rosh_elevators_eligibility', 'text': 'The eligibility criteria for Rosh Elevators include candidates from Mechanical, Electrical, or related engineering streams (B.E/B.Tech) with a minimum academic score of 60% or 6.0 CGPA. Candidates should have a strong understanding of engineering principles, problem-solving abilities, and a passion for innovation. Freshers with no active backlogs are eligible to apply.'}, {'id': 'rosh_elevators_recruitment_process', 'text': 'Rosh Elevators’ recruitment process typically consists of three stages. The first stage is an online assessment, which includes technical questions, logical reasoning, and aptitude tests. The second stage is a technical interview, where candidates are evaluated on their understanding of mechanical and electrical engineering concepts, problem-solving skills, and knowledge of elevator systems. The final stage is an HR interview, which assesses communication skills, motivation, and cultural fit.'}, {'id': 'rosh_elevators_interview_round', 'text': \"Rosh Elevators' Technical Interview focuses on understanding mechanical and electrical engineering concepts, elevator systems, and safety standards. Candidates may be required to explain engineering principles, discuss their experience with design or maintenance projects, and solve technical problems related to elevator systems. Rosh Elevators values candidates who are detail-oriented, have strong analytical skills, and are passionate about engineering innovation.\"}]\n",
      "96 [{'id': 'rosh_elevators_additional_info', 'text': 'Rosh Elevators offers a competitive salary package for freshers, typically ranging from ₹3-5 LPA, depending on the role and location. The company provides additional benefits such as health insurance, professional development opportunities, and a supportive work environment. Rosh Elevators is known for its commitment to employee growth and its focus on delivering high-quality vertical transportation solutions.'}, {'id': 'reliable_techno_systems_description', 'text': 'Reliable Techno Systems India Pvt. Ltd. (RTS) is an AS9100D and ISO 9001:2015 certified company established in 2010, headquartered in Hyderabad, India. Specializing in providing customized solutions from concept to production, RTS offers services including design, assembly, and testing. The company focuses on delivering innovative and intelligent solutions for aerospace, defense, and homeland security domains, with expertise in SoC/FPGA solutions, RF solutions, embedded solutions, and product IP solutions.'}, {'id': 'reliable_techno_systems_role_description', 'text': 'Reliable Techno Systems Role Description: System Development Intern. As a System Development Intern, you will assist in designing, developing, and testing embedded systems and related software. Responsibilities include collaborating with senior engineers on various projects, participating in system integration, and contributing to documentation. Candidates should have a foundational understanding of embedded systems, proficiency in programming languages such as C/C++, and a keen interest in aerospace and defense technologies. This role is based in Hyderabad, India, and offers a stipend ranging from ₹15,000 to ₹20,000 per month.'}, {'id': 'reliable_techno_systems_eligibility', 'text': \"Eligibility criteria for the System Development Intern position at Reliable Techno Systems include: pursuing or completion of a Bachelor's degree in Electronics Engineering, Computer Science, or a related field; strong academic performance with a minimum of 60% marks or a 6.0 CGPA; and no active backlogs. Candidates should possess basic knowledge of embedded systems and programming skills in C/C++.\"}, {'id': 'reliable_techno_systems_recruitment_process', 'text': \"The recruitment process at Reliable Techno Systems typically involves three stages. The first stage is an online assessment comprising technical questions related to embedded systems and programming, as well as logical reasoning and English language proficiency. The second stage is a technical interview focusing on assessing candidates' understanding of embedded systems, programming skills, and problem-solving abilities. The final stage is an HR interview evaluating communication skills, motivation, and cultural fit within the company.\"}, {'id': 'reliable_techno_systems_interview_round', 'text': 'During the technical interview at Reliable Techno Systems, candidates may be asked to explain concepts related to embedded systems, such as microcontrollers, DSPs, and FPGAs. Proficiency in programming languages like C/C++ is assessed, along with knowledge of digital signal processing and real-time operating systems. Problem-solving skills are evaluated through questions on data structures and algorithms relevant to system development.'}, {'id': 'reliable_techno_systems_additional_info', 'text': 'Reliable Techno Systems offers a competitive stipend for interns, typically ranging from ₹15,000 to ₹20,000 per month. For full-time positions, the company provides a salary package between ₹3.5 to ₹7.5 LPA, depending on the role and experience. Additional benefits include health insurance, performance-based bonuses, and opportunities for professional development. The company is known for its supportive work culture and emphasis on employee growth, making it an excellent place for freshers to start their careers.'}, {'id': 'evergent_description', 'text': 'Evergent Technologies is a leading provider of revenue and customer lifecycle management solutions, specializing in helping telecommunications, media, and entertainment providers manage user accounts and monetize their services. With a global presence, Evergent serves over 560 million user accounts across more than 180 countries, partnering with major carriers like AT&T, Etisalat, SingTel, Telkomsel, and Airtel, as well as media giants such as HBO, FOX, SONY, and BBC. The company is headquartered in Sunnyvale, California, with significant operations in Hyderabad, India.'}, {'id': 'evergent_role_description', 'text': 'Evergent Role Description: Software Developer (Fresher)\\nAs a Software Developer at Evergent, you will be responsible for designing, developing, and maintaining software applications that support our revenue and customer lifecycle management solutions. Your role will involve collaborating with cross-functional teams to deliver high-quality software products that meet client requirements. Evergent seeks candidates with strong programming skills, a solid understanding of software development principles, and a passion for technology. Fresh graduates with degrees in Computer Science, Information Technology, or related fields are encouraged to apply. The position is based in Hyderabad, India.'}, {'id': 'evergent_eligibility', 'text': 'The eligibility criteria for the Software Developer role at Evergent include:\\n- Educational Qualification: B.E/B.Tech/M.E/M.Tech in Computer Science, Information Technology, or related fields.\\n- Academic Performance: Minimum of 60% or 6.0 CGPA in graduation with no active backlogs.\\n- Graduation Status: Candidates must have completed their degree within the stipulated duration.'}, {'id': 'evergent_recruitment_process', 'text': \"Evergent's recruitment process typically consists of three stages:\\n1. **Online Assessment**: This includes sections on coding, logical reasoning, technical questions, and English language proficiency. The test duration is approximately 90 minutes.\\n2. **Technical Interview**: Candidates are evaluated on their understanding of software development concepts, programming skills, and problem-solving abilities.\\n3. **HR Interview**: This round assesses communication skills, motivation, and cultural fit within the company.\"}, {'id': 'evergent_interview_round', 'text': \"During Evergent's Technical Interview, candidates may be asked to:\\n- Explain Object-Oriented Programming (OOP) concepts, particularly in languages like Java and Python.\\n- Discuss Database Management Systems (DBMS) topics, including MySQL and normalization forms.\\n- Solve problems related to Data Structures and Algorithms.\\nEvergent values candidates who are detail-oriented, possess strong problem-solving skills, and demonstrate a passion for software development.\"}, {'id': 'evergent_additional_info', 'text': 'Evergent offers a competitive salary package for freshers, typically ranging from ₹4-6 LPA, depending on the role and location. The package includes a fixed salary, performance-based bonuses, and additional benefits such as health insurance and professional development opportunities. Evergent is known for its employee-friendly policies and provides ample opportunities for growth in the software development industry.'}, {'id': 'hcl_technologies_description', 'text': \"HCL Technologies is a leading global IT services and consulting company, headquartered in Noida, India. Founded in 1976, HCL operates in 52 countries and offers a wide range of services, including IT infrastructure management, engineering and R&D, cybersecurity, and digital transformation solutions. The company is known for its innovation-driven approach and its commitment to delivering value to clients across industries such as healthcare, finance, retail, and telecommunications. HCL Technologies is also recognized for its employee-centric policies and initiatives like the 'Career Shaper Program.'\"}, {'id': 'hcl_technologies_role_description', 'text': 'HCL Technologies Role Description: Graduate Engineer Trainee (GET) / Career Shaper Program As a Graduate Engineer Trainee at HCL Technologies, you will be part of the Career Shaper Program, designed to provide hands-on experience and training in cutting-edge technologies. Your responsibilities will include working on IT infrastructure projects, software development, cybersecurity, or digital transformation initiatives. HCL is looking for candidates with strong technical skills, problem-solving abilities, and a passion for technology. Freshers with a degree in Computer Science, IT, or related fields are eligible to apply. The role may involve working in a fast-paced, client-facing environment.'}, {'id': 'hcl_technologies_eligibility', 'text': 'The eligibility criteria for HCL Technologies include candidates from Computer Science, IT, or related engineering streams (B.E/B.Tech/M.E/M.Tech) with a minimum academic score of 60% or 6.0 CGPA. Candidates should have strong programming skills, a good understanding of software development concepts, and a passion for technology. Freshers with no active backlogs are eligible to apply. The Career Shaper Program is open to candidates who demonstrate a willingness to learn and grow in the IT industry.'}, {'id': 'hcl_technologies_recruitment_process', 'text': 'HCL Technologies’ recruitment process typically consists of four stages. The first stage is an online assessment, which includes coding, logical reasoning, technical questions, and aptitude tests. The second stage is a technical interview, where candidates are evaluated on their programming skills, problem-solving abilities, and understanding of IT concepts. The third stage is a managerial interview, which assesses leadership potential and project management skills. The final stage is the HR interview, which evaluates communication skills, motivation, and cultural fit.'}, {'id': 'hcl_technologies_interview_round', 'text': \"HCL Technologies' Technical Interview focuses on understanding programming concepts, software development, and IT infrastructure. Candidates may be required to solve coding problems, explain object-oriented programming (OOP) concepts, and discuss their experience with databases, cybersecurity, or cloud computing. HCL values candidates who are innovative, detail-oriented, and passionate about leveraging technology to solve real-world problems.\"}, {'id': 'hcl_technologies_additional_info', 'text': 'HCL Technologies offers a competitive salary package for freshers, typically ranging from ₹3.5-5.5 LPA, depending on the role and location. The Career Shaper Program provides additional benefits such as structured training, mentorship, and opportunities to work on global projects. HCL is known for its employee-friendly policies, focus on innovation, and opportunities for career growth in the IT industry.'}, {'id': 'vinuruk_description', 'text': \"Vinuruk Technologies Private Limited is a technology company specializing in the design and development of electric motor and drive technologies. Based in Coimbatore, Tamil Nadu, India, Vinuruk focuses on energy-efficient solutions for applications such as unmanned aerial vehicles, robots, electric vehicles, and other motor-driven systems. The company's expertise includes Brushless Permanent Magnet, Synchronous Reluctance, Switched Reluctance, and Induction Motor technologies. Established on July 17, 2023, Vinuruk is committed to providing affordable and accessible engineering solutions to enhance human life and environmental safety.\"}, {'id': 'vinuruk_role_description', 'text': 'Vinuruk Role Description: Embedded Systems Engineer (Fresher)\\nAs an Embedded Systems Engineer, you will be involved in designing, developing, and testing embedded systems for electric motor control applications. Your responsibilities will include firmware development, hardware integration, and collaborating with cross-functional teams to deliver innovative solutions. Vinuruk seeks candidates with strong programming skills in C/C++, a solid understanding of microcontrollers and embedded systems, and a passion for technology. Freshers with a degree in Electronics Engineering, Electrical Engineering, or related fields are encouraged to apply. The role may require working in a dynamic, project-oriented environment.'}, {'id': 'vinuruk_eligibility', 'text': 'The eligibility criteria for Vinuruk include candidates from engineering streams such as B.E/B.Tech/M.E/M.Tech in Electronics, Electrical, or related disciplines, with a minimum of 60% or 6.0 CGPA in graduation and no active backlogs. Candidates should have completed their degree within the stipulated duration.'}, {'id': 'vinuruk_recruitment_process', 'text': \"Vinuruk's recruitment process typically consists of three stages. The first stage is an online assessment, which includes technical questions related to embedded systems, programming, and logical reasoning. The test duration is 90 minutes. The second stage is a technical interview, where candidates are evaluated on their understanding of embedded systems, microcontroller programming, and problem-solving abilities. The final stage is an HR interview, which assesses communication skills, motivation, and cultural fit.\"}, {'id': 'vinuruk_interview_round', 'text': \"Vinuruk's Technical Interview focuses on embedded systems concepts such as microcontroller architecture, firmware development, and hardware-software integration. Candidates may be asked to explain programming concepts in C/C++, discuss interfacing techniques, and solve problems related to real-time systems. Vinuruk values candidates who are detail-oriented, possess strong analytical skills, and demonstrate a keen interest in embedded technologies.\"}, {'id': 'vinuruk_additional_info', 'text': \"Vinuruk offers a competitive salary package for freshers, typically ranging from ₹3-5 LPA, depending on the role and candidate's qualifications. The package includes a fixed salary, performance-based incentives, and additional benefits such as health insurance and opportunities for professional development. Vinuruk is known for its collaborative work environment and commitment to employee growth in the field of embedded systems and motor control technologies.\"}, {'id': 'prism_rmc_description', 'text': \"Prism RMC, a division of Prism Johnson Limited, is one of India's leading ready-mixed concrete manufacturers. Established in 1996, the company operates over 108 state-of-the-art ready-mixed concrete plants across 49 cities and towns in India. Prism RMC is committed to providing high-quality concrete solutions and has a strong focus on innovation and sustainability in the construction industry.\"}, {'id': 'prism_rmc_role_description', 'text': 'Prism RMC Role Description: Graduate Engineer Trainee (Fresher)\\nAs a Graduate Engineer Trainee at Prism RMC, you will undergo comprehensive training in various aspects of ready-mixed concrete manufacturing and quality control. Your responsibilities will include assisting in plant operations, ensuring adherence to quality standards, and collaborating with cross-functional teams to optimize production processes. Prism RMC seeks candidates with a strong foundation in civil engineering principles, excellent analytical skills, and a keen interest in the construction materials industry. Fresh graduates with a degree in Civil Engineering or related fields are encouraged to apply.'}, {'id': 'prism_rmc_eligibility', 'text': 'The eligibility criteria for Prism RMC include candidates with a B.E/B.Tech degree in Civil Engineering or related disciplines, maintaining a minimum of 60% aggregate marks throughout their academic career. Applicants should have no active backlogs and must have completed their degree within the standard duration. Strong communication skills and a willingness to work in various locations across India are also essential.'}, {'id': 'prism_rmc_recruitment_process', 'text': \"Prism RMC's recruitment process typically involves three stages. The first stage is an online assessment that tests technical knowledge, logical reasoning, and quantitative aptitude. The second stage is a technical interview focusing on civil engineering concepts, understanding of concrete technology, and problem-solving abilities. The final stage is an HR interview to assess the candidate's communication skills, cultural fit, and motivation to join the company.\"}, {'id': 'prism_rmc_interview_round', 'text': 'In the technical interview at Prism RMC, candidates can expect questions on topics such as mix design, properties of concrete, quality control measures, and the functioning of batching plants. Practical scenarios may be presented to assess problem-solving skills and application of theoretical knowledge. Familiarity with industry standards and safety protocols is also advantageous.'}, {'id': 'prism_rmc_additional_info', 'text': \"Prism RMC offers a competitive salary package for freshers, typically starting from ₹3.5 to ₹5 LPA, depending on the candidate's qualifications and performance during the selection process. The compensation package includes a fixed salary, performance-based incentives, and benefits such as health insurance and opportunities for professional development. Prism RMC is known for its supportive work environment and commitment to employee growth within the construction materials sector.\"}, {'id': 'outprofiled_description', 'text': 'Outprofiled is an AI-powered profile-building and job-matching platform that revolutionizes campus recruitment by streamlining drives with a pre-assessed pool of candidates. It helps students identify profile gaps, build stronger profiles, and match with suitable job opportunities through advanced AI tools, including a profile builder and job-matching algorithms.'}, {'id': 'outprofiled_role_description', 'text': 'Outprofiled Role Description: Data Analyst (Fresher)\\nAs a Data Analyst at Outprofiled, you will be responsible for collecting, processing, and performing statistical analyses on large datasets to support data-driven decision-making. Your duties will include data collection and processing, data analysis to identify trends and patterns, and creating reports and visualizations to communicate findings effectively. Outprofiled seeks candidates with strong analytical skills, proficiency in statistical tools, and a passion for deriving actionable insights from data. Freshers with a degree in Data Science, Statistics, Computer Science, or related fields are encouraged to apply.'}, {'id': 'outprofiled_role_description_software_engineer', 'text': \"Outprofiled Role Description: Software Engineer (Fresher)\\nAs a Software Engineer at Outprofiled, you will be involved in designing, developing, and maintaining software applications that enhance the platform's functionality. Responsibilities include writing clean and efficient code, collaborating with cross-functional teams to define and implement new features, and troubleshooting and debugging applications. Candidates should have strong programming skills, familiarity with software development methodologies, and a keen interest in building scalable applications. Freshers with a degree in Computer Science, Software Engineering, or related fields are welcome to apply.\"}, {'id': 'outprofiled_eligibility', 'text': 'The eligibility criteria for Outprofiled include candidates from engineering streams (B.E/B.Tech/M.E/M.Tech) or related disciplines with a minimum of 60% or 6.0 CGPA in graduation, with no active backlogs. Candidates must have completed their degree within the stipulated duration.'}, {'id': 'outprofiled_recruitment_process', 'text': \"Outprofiled's recruitment process typically consists of three stages. The first stage is an online assessment, which includes sections on coding, logical reasoning, technical questions, and English language proficiency. The test duration is approximately 90 minutes. The second stage is a technical interview, where candidates are evaluated on their understanding of data analysis or software development concepts, programming skills, and problem-solving abilities. The final stage is an HR interview, assessing communication skills, motivation, and cultural fit.\"}, {'id': 'outprofiled_interview_round', 'text': \"Outprofiled's Technical Interview for Data Analyst positions focuses on assessing knowledge in data collection and processing, statistical analysis, and data visualization techniques. Candidates may be asked to discuss their experience with statistical tools and software, and to solve problems related to data interpretation. For Software Engineer positions, the interview emphasizes understanding of software development principles, coding proficiency, and familiarity with development tools. Problem-solving skills and the ability to write efficient code are crucial. Outprofiled values candidates who are analytical, detail-oriented, and passionate about technology.\"}, {'id': 'outprofiled_additional_info', 'text': 'Outprofiled offers a competitive salary package for freshers, typically ranging from ₹4-6 LPA, depending on the role and location. The package includes a fixed salary, performance-based bonuses, and additional benefits such as health insurance and opportunities for professional development. Outprofiled is recognized for its supportive work environment and commitment to employee growth in the technology sector.'}, {'id': 'bigworks_description', 'text': 'Bigworks is a technology company specializing in cloud solutions, focusing on platforms like Salesforce, AWS, Heroku, and Google. Based in Hyderabad, India, Bigworks assists clients in defining and implementing cloud strategies tailored to specific business needs. The company excels in enhancing business processes by breaking down complex tasks into simple, executable steps, driving digital transformation and innovation.'}, {'id': 'bigworks_role_description', 'text': 'Bigworks Role Description: Trainee Consultant (Fresher) As a Trainee Consultant, you will engage in client projects as a team member post-training. Responsibilities include understanding client requirements, supporting module leads and team leads on projects, assisting product leads in developing product features, documentation, and continuous updates on Salesforce. Bigworks seeks candidates with proficiency in programming languages such as C, Java, HTML, and JavaScript, along with knowledge of SQL databases. Eligible candidates include freshers with B.Tech (CSE/IT/ECE/EEE, CS & Business Systems), M.Tech (CSE/IT), or MCA degrees.'}, {'id': 'bigworks_eligibility', 'text': 'The eligibility criteria for Bigworks require candidates to hold degrees in B.Tech (CSE/IT/ECE/EEE, CS & Business Systems), M.Tech (CSE/IT), or MCA. Proficiency in programming languages like C, Java, HTML, JavaScript, and knowledge of SQL databases is essential. Candidates should have a strong understanding of cloud platforms and a passion for technology.'}, {'id': 'bigworks_recruitment_process', 'text': \"Bigworks' recruitment process typically involves four stages. The first stage is a written test assessing technical knowledge and problem-solving abilities. The second stage is a coding round, conducted with university facilities. The third stage is a technical face-to-face interview focusing on programming skills and understanding of cloud platforms. The final stage is an HR interview evaluating communication skills, motivation, and cultural fit.\"}, {'id': 'bigworks_interview_round', 'text': \"Bigworks' Technical Interview emphasizes understanding of cloud platforms such as Salesforce, AWS, and Heroku. Candidates may be asked to explain programming concepts in languages like C, Java, HTML, and JavaScript, discuss database management using SQL, and solve problems related to data structures and algorithms. Bigworks values candidates who are detail-oriented, possess strong problem-solving skills, and have a passion for cloud technologies.\"}, {'id': 'bigworks_additional_info', 'text': 'Bigworks offers a competitive salary package for freshers, including benefits such as health insurance and provident fund. The company fosters a culture that celebrates work, encourages continuous learning, and provides opportunities for professional growth in the cloud solutions industry.'}, {'id': 'ltimindtree_description', 'text': 'LTIMindtree is an Indian multinational information technology services and consulting company headquartered in Mumbai, India. As a subsidiary of Larsen & Toubro, LTIMindtree offers a wide range of services including cloud solutions, digital transformation, and IT consulting. The company is recognized as the fifth largest technology consulting firm in India, serving over 700 clients worldwide, including 25% of Fortune 500 companies. With a workforce of over 86,000 employees operating across 50 locations globally, LTIMindtree is committed to delivering innovative solutions that drive business growth and efficiency.'}, {'id': 'ltimindtree_role_description', 'text': 'LTIMindtree Role Description: Junior Software Developer (Fresher) As a Junior Software Developer, you will be involved in designing, developing, and maintaining software applications that meet client requirements. Your responsibilities will include coding, testing, debugging, and collaborating with cross-functional teams to deliver high-quality software solutions. LTIMindtree seeks candidates with strong programming skills in languages such as Java, C++, or Python, a solid understanding of software development life cycles, and a passion for technology. Fresh graduates with a degree in Computer Science, Information Technology, or related fields are encouraged to apply.'}, {'id': 'ltimindtree_eligibility', 'text': 'The eligibility criteria for LTIMindtree include candidates holding a B.E/B.Tech/M.E/M.Tech degree in Computer Science, Information Technology, or related disciplines, with a minimum of 60% or 6.0 CGPA throughout their academic career. Candidates should possess strong programming skills, a good understanding of software development methodologies, and excellent problem-solving abilities. Prior internship experience in software development and knowledge of modern development tools and frameworks are advantageous.'}, {'id': 'ltimindtree_recruitment_process', 'text': \"LTIMindtree's recruitment process typically comprises four stages. The first stage is an online assessment that evaluates technical knowledge, coding skills, and logical reasoning. The second stage involves a technical interview focusing on programming concepts, problem-solving skills, and understanding of software development practices. The third stage is a managerial interview assessing project management abilities and team collaboration skills. The final stage is an HR interview that evaluates communication skills, cultural fit, and overall alignment with the company's values.\"}, {'id': 'ltimindtree_interview_round', 'text': \"LTIMindtree's Technical Interview emphasizes a deep understanding of programming languages such as Java, C++, or Python, and concepts related to software development life cycles. Candidates may be asked to solve coding problems, explain object-oriented programming principles, and discuss their experience with software development tools and frameworks. LTIMindtree values candidates who demonstrate strong analytical skills, attention to detail, and a proactive approach to learning and adapting to new technologies.\"}, {'id': 'ltimindtree_additional_info', 'text': 'LTIMindtree offers a competitive salary package for freshers, typically starting from ₹3.5 LPA, with variations based on role and location. The compensation package includes a fixed salary, performance-based incentives, and additional benefits such as health insurance, provident fund, and opportunities for professional development. LTIMindtree is known for its employee-centric policies, fostering a culture of continuous learning, innovation, and career growth in the IT services industry.'}, {'id': 'tech_mahindra_description', 'text': 'Tech Mahindra is an Indian multinational information technology services and consulting company, headquartered in Pune, Maharashtra, India. Founded in 1986, it is a part of the Mahindra Group and provides a wide range of services including software development, infrastructure management, and business process outsourcing. Tech Mahindra has a global presence, operating in over 50 countries, and serves various industries such as telecommunications, banking, and healthcare. The company is committed to leveraging next-generation technologies to help enterprises transform their businesses.'}, {'id': 'tech_mahindra_role_description', 'text': 'Tech Mahindra Role Description: Junior Software Developer (Fresher) As a Junior Software Developer, you will be involved in coding, testing, and deploying software applications. Responsibilities include understanding client requirements, developing software solutions, and collaborating with senior developers and team members to deliver quality products. Tech Mahindra seeks candidates with strong programming skills, familiarity with software development life cycles, and a keen interest in technology. Fresh graduates with degrees in Computer Science, Information Technology, or related fields are encouraged to apply. The role may involve working in dynamic project environments and requires good problem-solving abilities.'}, {'id': 'tech_mahindra_eligibility', 'text': 'The eligibility criteria for Tech Mahindra include candidates from engineering streams such as B.E/B.Tech/M.E/M.Tech with a minimum of 60% or 6.0 CGPA in their graduation, and no active backlogs. Candidates should have completed their degree within the stipulated time frame. Specific requirements may vary based on the role and location.'}, {'id': 'tech_mahindra_recruitment_process', 'text': \"Tech Mahindra's recruitment process typically involves multiple stages. The initial stage is an online assessment that tests candidates on areas like coding, logical reasoning, and English language skills. Successful candidates proceed to technical interviews focusing on programming knowledge, understanding of software development concepts, and problem-solving skills. The final stage is an HR interview assessing communication skills, cultural fit, and overall suitability for the role.\"}, {'id': 'tech_mahindra_interview_round', 'text': 'In the Technical Interview at Tech Mahindra, candidates are evaluated on their grasp of programming languages such as Java, C++, or Python, understanding of database management systems, and knowledge of software engineering principles. Problem-solving skills are assessed through coding exercises or algorithm-based questions. Familiarity with object-oriented programming concepts and software development methodologies is advantageous.'}, {'id': 'tech_mahindra_additional_info', 'text': 'Tech Mahindra offers competitive salary packages for freshers, with roles such as Junior Software Developer starting at approximately ₹3.25 lakh per annum. Positions like Regular Coder and Super Coder offer higher packages, around ₹4 lakh and ₹5.5 lakh per annum respectively. Compensation includes a fixed salary along with performance-based incentives. The company provides benefits like health insurance, paid leave, and opportunities for professional growth through training programs. Tech Mahindra is recognized for its supportive work environment and emphasis on employee development.'}, {'id': 'renault_nissan_description', 'text': 'Renault Nissan Mitsubishi Alliance is a French-Japanese strategic partnership between automobile manufacturers Renault, Nissan, and Mitsubishi Motors. Together, they sell more than one in nine vehicles worldwide, with a presence in over 200 countries. The Alliance focuses on collaborative synergies in vehicle production, technology development, and market expansion, aiming to lead in electric vehicle manufacturing and sustainable automotive solutions.'}, {'id': 'renault_nissan_role_description', 'text': 'Renault Nissan Role Description: Graduate Engineer Trainee (Fresher) As a Graduate Engineer Trainee, you will be involved in various engineering domains such as software development, design, and quality assurance. Your responsibilities will include working on automotive technology projects, participating in product development cycles, and ensuring adherence to quality standards. Renault Nissan seeks candidates with strong analytical skills, a solid understanding of engineering principles, and a keen interest in the automotive industry. Fresh graduates with degrees in Engineering, particularly in Mechanical, Electrical, Electronics, or Computer Science, are encouraged to apply.'}, {'id': 'renault_nissan_eligibility', 'text': 'The eligibility criteria for Renault Nissan include candidates with a B.E/B.Tech degree in Mechanical, Electrical, Electronics, Computer Science, or related fields. A minimum academic score of 60% or 6.0 CGPA throughout academics is required, with no active backlogs. Candidates should have completed their degree within the stipulated time frame and possess strong technical knowledge relevant to the automotive sector.'}, {'id': 'renault_nissan_recruitment_process', 'text': \"Renault Nissan's recruitment process typically comprises multiple stages. The initial stage is an online assessment that evaluates candidates' aptitude, technical knowledge, and problem-solving abilities. Successful candidates proceed to technical interviews focusing on domain-specific questions related to their engineering discipline. The final stage is an HR interview assessing communication skills, cultural fit, and overall suitability for the role.\"}, {'id': 'renault_nissan_interview_round', 'text': \"In the technical interview at Renault Nissan, candidates are assessed on their core engineering knowledge and problem-solving skills. Questions may pertain to automotive engineering concepts, software development (for IT roles), and project experiences listed on the candidate's resume. Familiarity with programming languages, understanding of design principles, and quality assurance methodologies are advantageous. Candidates are encouraged to be thorough with their academic projects and internships, as discussions may delve into these areas.\"}, {'id': 'renault_nissan_additional_info', 'text': 'Renault Nissan offers a competitive compensation package for Graduate Engineer Trainees, with the Total Cost to Company (CTC) ranging between ₹4,25,000 and ₹5,25,000 per annum. The package includes a fixed salary, performance-based incentives, health insurance, and opportunities for professional development. The company fosters a collaborative work environment and provides ample growth prospects within the automotive industry.'}, {'id': 'corizo_description', 'text': 'Corizo is an innovative edtech platform dedicated to bridging the gap between education and industry. Based in Bengaluru, India, Corizo offers a range of programs designed to equip students with practical skills and real-world insights. The company is recognized for its diverse courses in fields such as Digital Marketing, Data Science, and more. Corizo is committed to empowering students through hands-on learning experiences and mentorship from industry experts.'}, {'id': 'corizo_role_description', 'text': \"Corizo Role Description: Business Development Associate (Fresher) As a Business Development Associate, you will be responsible for identifying new business opportunities, building relationships with potential clients, and contributing to the company's growth strategies. Your role will involve market research, lead generation, and collaborating with the marketing team to develop effective campaigns. Corizo seeks candidates with strong communication skills, a proactive attitude, and a passion for driving business success. Freshers with a degree in Business Administration, Marketing, or related fields are encouraged to apply.\"}, {'id': 'corizo_eligibility', 'text': \"The eligibility criteria for Corizo include candidates with a bachelor's degree in Business Administration, Marketing, Human Resources, or related fields. A minimum academic score of 60% or equivalent CGPA is preferred. Candidates should possess excellent communication skills, a proactive approach, and a keen interest in the edtech industry. Prior internship experience in business development, marketing, or human resources is advantageous but not mandatory.\"}, {'id': 'corizo_recruitment_process', 'text': \"Corizo's recruitment process typically consists of three stages. The first stage is an online assessment, which evaluates candidates' aptitude, logical reasoning, and domain-specific knowledge. The second stage is a technical interview, where candidates are assessed on their understanding of business development strategies, marketing principles, or human resource practices, depending on the role applied for. The final stage is an HR interview, which evaluates communication skills, cultural fit, and motivation to join Corizo.\"}, {'id': 'corizo_interview_round', 'text': \"Corizo's Technical Interview for the Business Development Associate role focuses on assessing candidates' understanding of market research techniques, lead generation methods, and client relationship management. Candidates may be asked to present a mock sales pitch or develop a basic business development plan. Corizo values individuals who are innovative, possess strong analytical skills, and demonstrate a genuine interest in contributing to the company's growth.\"}, {'id': 'corizo_additional_info', 'text': \"Corizo offers a competitive salary package for freshers, typically starting from ₹3-4 LPA, depending on the role and candidate's qualifications. The package includes a fixed salary, performance-based incentives, and additional benefits such as health insurance and opportunities for professional development. Corizo is known for its supportive work environment and commitment to employee growth, providing ample opportunities for career advancement in the edtech industry.\"}, {'id': 'deltax_description', 'text': \"DeltaX is a technology company founded in 2012, located in Bangalore, India. The company specializes in cross-channel advertising solutions for enterprises, utilizing a data-driven and automation approach. DeltaX's platform is widely used by advertising agencies across various industries, including e-commerce, travel, banking, technology, and education. Their services enable clients to analyze media channels, determine sales conversions, and optimize advertising budgets effectively.\"}, {'id': 'deltax_role_description', 'text': \"DeltaX Role Description: Associate Product Engineer (Fresher) As an Associate Product Engineer at DeltaX, you will undergo an intensive 4-month training bootcamp designed to transform you into a full-stack developer. Post-training, your responsibilities will include developing and maintaining DeltaX's flagship products, working with technologies such as C#, Vue.js, and SQL. You will be expected to write clear, concise, and tested code, and take ownership of the entire lifecycle of your code, from development to production. This role requires strong problem-solving skills and a passion for technology.\"}, {'id': 'deltax_eligibility', 'text': 'The eligibility criteria for DeltaX include candidates with a B.Tech degree in Computer Science, Information Technology, or Electronics and Communication Engineering, with a minimum overall 50% CGPA. Candidates must have completed their degree within the stipulated duration.'}, {'id': 'deltax_recruitment_process', 'text': \"DeltaX's recruitment process typically consists of three stages. The first stage is an online MCQ test covering fundamentals of Programming, Data Structures, Networking, and Micro-processors, with a duration of 45 minutes. The second stage is an online coding assessment, where candidates are evaluated on their coding skills in any programming language. The final stage is a technical interview, assessing logical clarity, algorithm, and programming concepts.\"}, {'id': 'deltax_interview_round', 'text': \"DeltaX's Technical Interview focuses on evaluating a candidate's understanding of full-stack development concepts. Candidates may be required to discuss their knowledge of programming languages such as C#, front-end frameworks like Vue.js, and database management using SQL. Problem-solving abilities and a clear understanding of software development lifecycles are highly valued.\"}, {'id': 'deltax_additional_info', 'text': 'DeltaX offers a competitive salary package for freshers, with a CTC of INR 7 Lakhs per annum. The package includes a fixed salary and additional benefits such as an intensive training bootcamp, health insurance, and opportunities for professional development. DeltaX is known for its ownership-driven culture, immersive work environment, and emphasis on continuous learning and growth in the technology sector.'}, {'id': 'infosys_description', 'text': 'Infosys is a global leader in next-generation digital services and consulting. Established in 1981 and headquartered in Bangalore, India, Infosys enables clients in more than 55 countries to navigate their digital transformation. With over four decades of experience, the company offers services in IT, business consulting, and outsourcing. Infosys is committed to amplifying human potential and creating opportunities for people, businesses, and communities.'}, {'id': 'infosys_role_description', 'text': 'Infosys Role Description: Software Engineer (Fresher) As a Software Engineer at Infosys, you will be responsible for developing, testing, implementing, and maintaining software applications. Your role involves understanding client requirements, designing technical solutions, and collaborating with cross-functional teams to deliver high-quality software products. Infosys seeks candidates with strong programming skills, problem-solving abilities, and a passion for technology. Freshers with a degree in Computer Science, Information Technology, or related fields are encouraged to apply. The role may require adaptability to work in a dynamic and fast-paced environment.'}, {'id': 'infosys_eligibility', 'text': 'The eligibility criteria for Infosys include candidates with a B.E/B.Tech/M.E/M.Tech degree in Computer Science, Information Technology, Electronics, or related disciplines. A minimum of 60% or 6.0 CGPA throughout academics is required, with no active backlogs. Candidates should have completed their degree within the stipulated time frame.'}, {'id': 'infosys_recruitment_process', 'text': \"Infosys's recruitment process typically consists of three stages. The first stage is an online assessment, which includes sections on reasoning ability, technical ability, and verbal ability. The test duration is approximately 100 minutes. The second stage is a technical interview, where candidates are evaluated on their understanding of programming concepts, data structures, algorithms, and domain-specific knowledge. The final stage is an HR interview, which assesses communication skills, cultural fit, and overall suitability for the role.\"}, {'id': 'infosys_interview_round', 'text': \"Infosys's Technical Interview focuses on evaluating candidates' proficiency in programming languages such as Java, C++, or Python. Candidates may be asked to solve coding problems, explain algorithms, and discuss system design concepts. Additionally, understanding of database management systems, software development life cycles, and object-oriented programming principles may be assessed. Infosys values candidates who demonstrate strong analytical skills, attention to detail, and a continuous learning mindset.\"}, {'id': 'infosys_additional_info', 'text': 'Infosys offers a competitive salary package for freshers, typically starting from ₹3.6 LPA, depending on the role and location. The package includes a fixed salary, performance-based incentives, and additional benefits such as health insurance, retirement benefits, and opportunities for professional development. Infosys is recognized for its employee-friendly policies, extensive training programs, and a culture that fosters innovation and growth in the technology sector.'}, {'id': 'josh_technology_description', 'text': 'Josh Technology Group is a technology company specializing in software development and digital transformation solutions. Headquartered in Gurugram, India, Josh Technology Group offers services including modern web frameworks, big data analytics, cloud and DevOps, artificial intelligence, machine learning, SaaS, mobile app development, technical assessment, and quality engineering. The company serves various industries such as healthcare, transportation, automotive, e-commerce, software engineering, and digital marketing.'}, {'id': 'josh_technology_role_description', 'text': 'Josh Technology Group Role Description: Software Developer (Internship + Full-Time) As a Software Developer, you will be involved in designing, developing, and maintaining software applications across various platforms. Responsibilities include coding, debugging, and collaborating with cross-functional teams to deliver high-quality software solutions. Josh Technology Group seeks candidates with strong programming skills, proficiency in languages such as PHP and .NET, and a passion for technology. Freshers and interns pursuing degrees in Computer Science, IT, or related fields are encouraged to apply. The role may require working in a dynamic, fast-paced environment.'}, {'id': 'josh_technology_eligibility', 'text': 'The eligibility criteria for Josh Technology Group include candidates with a degree in Computer Science, Information Technology, or related fields. A strong academic record with a minimum of 60% marks or equivalent CGPA is preferred. Proficiency in programming languages and relevant technologies is essential. Candidates should have completed their degree within the stipulated duration without any active backlogs.'}, {'id': 'josh_technology_recruitment_process', 'text': \"Josh Technology Group's recruitment process typically consists of multiple stages. The initial stage is an online assessment that includes technical questions, coding challenges, and logical reasoning. Subsequent stages involve technical interviews focusing on data structures, algorithms, and problem-solving abilities. The final stage is an HR interview to assess communication skills, cultural fit, and overall suitability for the role.\"}, {'id': 'josh_technology_interview_round', 'text': 'The technical interview at Josh Technology Group emphasizes understanding of data structures, algorithms, and programming concepts. Candidates may be asked to solve coding problems, explain object-oriented programming principles, and discuss their approach to software development. Familiarity with web frameworks, databases, and software engineering best practices is advantageous. The interviewers value candidates who demonstrate strong analytical skills, attention to detail, and a proactive learning attitude.'}, {'id': 'josh_technology_additional_info', 'text': 'Josh Technology Group offers competitive salary packages for freshers and interns, with compensation varying based on role and experience. The package typically includes a fixed salary, performance-based incentives, and additional benefits such as health insurance and opportunities for professional development. The company is known for its collaborative work environment, emphasis on continuous learning, and support for career growth in the technology sector.'}, {'id': 'micron_description', 'text': 'Micron Technology, Inc. is a leading American semiconductor company specializing in computer memory and data storage solutions, including DRAM, flash memory, and SSDs. Headquartered in Boise, Idaho, Micron operates globally, providing advanced memory technologies for various applications. The company is recognized for its commitment to innovation and integrity, continuously investing in cutting-edge design and technology to enhance the way the world accesses and utilizes data.'}, {'id': 'micron_role_description', 'text': 'Micron Role Description: Associate Engineer (Fresher) As an Associate Engineer at Micron, you will be involved in designing, developing, and testing semiconductor memory products. Responsibilities include collaborating with cross-functional teams to ensure product quality, performance, and reliability. Micron seeks candidates with strong analytical skills, a solid understanding of semiconductor physics, and proficiency in relevant software tools. Fresh graduates with degrees in Electrical Engineering, Computer Engineering, or related fields are encouraged to apply. The role requires adaptability and a passion for technology in a dynamic work environment.'}, {'id': 'micron_eligibility', 'text': \"Eligibility criteria for Micron's Associate Engineer position include a Bachelor's or Master's degree in Electrical Engineering, Computer Engineering, or related disciplines. Candidates should have a minimum GPA of 3.0 on a 4.0 scale, with no active backlogs. Relevant internships or project experience in semiconductor technology is advantageous.\"}, {'id': 'micron_recruitment_process', 'text': \"Micron's recruitment process typically involves multiple stages. The initial stage is an online assessment focusing on technical knowledge, problem-solving abilities, and aptitude. Successful candidates proceed to technical interviews, which assess understanding of semiconductor concepts, engineering principles, and relevant technical skills. The final stage is an HR interview to evaluate communication skills, cultural fit, and alignment with Micron's values.\"}, {'id': 'micron_interview_round', 'text': \"During Micron's technical interview, candidates may be questioned on semiconductor device physics, circuit design, and problem-solving scenarios related to memory technologies. Proficiency in programming languages such as C or Python may also be assessed. Demonstrating a strong grasp of engineering fundamentals and practical application of knowledge is crucial.\"}, {'id': 'micron_additional_info', 'text': 'Micron offers a competitive salary package for freshers, with compensation varying based on role and location. The package typically includes a base salary, performance-based bonuses, health insurance, and opportunities for professional development. Micron is known for its commitment to employee growth, fostering a collaborative and innovative work environment.'}, {'id': 'netweb_description', 'text': 'Netweb Technologies is an Indian IT company specializing in server manufacturing and IT hardware solutions. Headquartered in Faridabad, India, Netweb provides a range of products and services, including high-performance computing solutions, to various industries. The company is recognized for its contributions to private 5G networks and cloud-based infrastructure, aiming to facilitate seamless digital transformations for organizations.'}, {'id': 'netweb_role_description', 'text': \"Netweb Role Description: Enterprise Sales Executive. As an Enterprise Sales Executive, you will be responsible for driving sales of Netweb's IT hardware and server solutions to large organizations. Your duties will include identifying potential clients, presenting product offerings, negotiating contracts, and ensuring customer satisfaction. Netweb seeks candidates with strong sales acumen, excellent communication skills, and a deep understanding of IT hardware solutions. A background in sales or marketing, particularly in the technology sector, is preferred.\"}, {'id': 'netweb_eligibility', 'text': \"The eligibility criteria for Netweb include candidates with a bachelor's degree in Business Administration, Marketing, or a related field. Prior experience in technical sales or IT hardware sales is advantageous. Candidates should possess strong interpersonal skills, a proven sales track record, and the ability to understand and communicate complex technical concepts effectively.\"}, {'id': 'netweb_recruitment_process', 'text': \"Netweb's recruitment process typically involves multiple stages. The initial stage is an online application, where candidates submit their resumes and cover letters. Shortlisted candidates are then invited for a technical interview to assess their knowledge of IT hardware and sales strategies. This is followed by an HR interview to evaluate cultural fit, communication skills, and alignment with the company's values. Successful candidates receive an offer detailing the role, compensation, and other relevant information.\"}]\n",
      "96 [{'id': 'netweb_interview_round', 'text': \"Netweb's Technical Interview for the Enterprise Sales Executive role focuses on assessing candidates' understanding of IT hardware solutions, sales methodologies, and market trends. Interviewers may present scenarios requiring candidates to devise sales strategies for Netweb's products, demonstrate knowledge of the competitive landscape, and discuss previous sales experiences. The interview aims to identify candidates who are proactive, customer-oriented, and possess strong problem-solving abilities.\"}, {'id': 'netweb_additional_info', 'text': 'Netweb offers a competitive compensation package for the Enterprise Sales Executive role, which includes a base salary complemented by performance-based incentives. Additional benefits encompass health insurance, professional development opportunities, and a supportive work environment. Netweb is committed to fostering employee growth and provides ample opportunities for career advancement within the company.'}, {'id': 'nxtwave_description', 'text': 'NxtWave is a rapidly growing edtech startup revolutionizing the 21st-century job market by transforming youth into highly skilled tech professionals. Founded by alumni from premier institutions such as IIT Bombay, IIT Kharagpur, and IIIT Hyderabad, NxtWave offers vernacular, asynchronous, and online cohort-based training programs in Industry 4.0 tech career tracks. The company is committed to empowering students from Tier-2, Tier-3, and Tier-4 engineering colleges across India with modern technology skills and reliable placement support.'}, {'id': 'nxtwave_role_description', 'text': \"NxtWave Role Description: Market Research Intern As a Market Research Intern, you will be responsible for gathering and analyzing data on market trends, customer preferences, and competitive dynamics. Your insights will support strategic decision-making and help shape NxtWave's offerings. Candidates should possess strong analytical skills, proficiency in data analysis tools, and a keen interest in the edtech industry. This role offers an opportunity to work closely with cross-functional teams in a dynamic startup environment.\"}, {'id': 'nxtwave_eligibility', 'text': 'The eligibility criteria for NxtWave roles vary depending on the position. Generally, candidates are expected to have relevant educational qualifications and skills pertinent to the role. For instance, technical roles may require a background in engineering or computer science, while business development and education counseling positions may seek candidates with degrees in business administration or related fields. Specific requirements are detailed in individual job postings.'}, {'id': 'nxtwave_recruitment_process', 'text': \"NxtWave's recruitment process typically involves multiple stages. Initially, candidates submit their applications through the company's career portal. Shortlisted candidates are then invited to participate in assessments that may include aptitude tests, technical evaluations, and case studies relevant to the role. Successful candidates proceed to interviews, which may consist of technical rounds, HR discussions, and cultural fit assessments. The process aims to identify individuals who align with NxtWave's mission and values.\"}, {'id': 'nxtwave_interview_round', 'text': 'The interview process at NxtWave varies by role. For technical positions, candidates may be evaluated on their proficiency in programming languages, problem-solving abilities, and understanding of industry-relevant technologies. Business development and education counseling roles may focus on assessing communication skills, sales acumen, and the ability to engage with students effectively. Overall, NxtWave seeks candidates who are passionate about education and technology, and who demonstrate adaptability in a fast-paced environment.'}, {'id': 'nxtwave_additional_info', 'text': 'NxtWave offers competitive compensation packages, which include a fixed salary and performance-based incentives. Employees benefit from a collaborative work environment, opportunities for professional growth, and the chance to make a significant impact in the edtech sector. The company is known for its inclusive culture and commitment to employee development, providing access to continuous learning resources and career advancement opportunities.'}, {'id': 'verisk_description', 'text': 'Verisk Analytics is a leading American data analytics and risk assessment firm headquartered in Jersey City, New Jersey. Established in 1971, Verisk serves customers across insurance, natural resources, financial services, government, and risk management sectors. The company leverages proprietary data sets and industry expertise to provide predictive analytics and decision support in areas such as fraud prevention, actuarial science, insurance coverage, fire protection, catastrophe and weather risk, and data management.'}, {'id': 'verisk_role_description', 'text': 'Verisk Role Description: Data Analyst (Fresher) As a Data Analyst at Verisk, you will be responsible for collecting, processing, and performing statistical analyses on large datasets to support business decisions. Your role will involve data cleaning, visualization, and reporting to identify trends and patterns. Verisk seeks candidates with strong analytical skills, proficiency in data analysis tools, and a keen attention to detail. Fresh graduates with degrees in Statistics, Mathematics, Computer Science, or related fields are encouraged to apply. The position requires the ability to work collaboratively in a dynamic environment.'}, {'id': 'verisk_eligibility', 'text': \"The eligibility criteria for Verisk include candidates with a bachelor's degree in relevant fields such as Statistics, Mathematics, Computer Science, or Engineering. A minimum academic performance of 60% or equivalent CGPA is typically expected. Candidates should possess strong analytical and problem-solving skills, proficiency in data analysis tools and programming languages, and excellent communication abilities. Prior internship experience in data analysis or related areas is advantageous but not mandatory.\"}, {'id': 'verisk_recruitment_process', 'text': \"Verisk's recruitment process generally comprises three stages. The first stage is an online assessment that tests candidates' analytical abilities, logical reasoning, and proficiency in data-related concepts. The second stage involves technical interviews focusing on data analysis techniques, statistical methods, and problem-solving skills. The final stage is an HR interview to assess the candidate's fit within the company culture, communication skills, and motivation for joining Verisk.\"}, {'id': 'verisk_interview_round', 'text': \"Verisk's Technical Interview emphasizes evaluating candidates' understanding of data analysis methodologies, statistical tools, and programming proficiency in languages such as Python or R. Candidates may be asked to solve case studies, interpret data sets, and demonstrate their ability to derive actionable insights. Familiarity with data visualization tools and database management systems is also assessed. Verisk values candidates who exhibit strong analytical thinking, attention to detail, and a passion for data-driven decision-making.\"}, {'id': 'verisk_additional_info', 'text': 'Verisk offers a competitive salary package for freshers, typically ranging from ₹5-7 LPA, depending on the role and location. The compensation package includes a fixed salary, performance-based bonuses, and benefits such as health insurance, retirement plans, and opportunities for professional development. Verisk is recognized for its commitment to employee growth, work-life balance, and fostering a collaborative work environment.'}, {'id': 'wabtec_description', 'text': \"Wabtec Corporation, officially known as Westinghouse Air Brake Technologies Corporation, is a leading American manufacturing company headquartered in Pittsburgh, Pennsylvania. Formed in 1999 through the merger of the Westinghouse Air Brake Company and MotivePower Industries Corporation, Wabtec specializes in producing rail braking systems, locomotives, air conditioning and heat exchanging systems, and other rolling stock components. The company also offers services such as locomotive servicing, overhaul, and repair. With a global presence, Wabtec operates approximately 50 plants worldwide, including locations in the United States, Europe, Canada, Mexico, Australia, and South America. As of 2022, the company employs around 27,000 individuals. Wabtec is committed to innovation in the rail industry, exemplified by unveiling the world's first battery-electric freight locomotive in 2021, developed in collaboration with Carnegie Mellon University. This initiative is part of Wabtec's broader effort to advance zero-emissions technology in freight transportation.\"}, {'id': 'wabtec_role_description', 'text': \"Wabtec Role Description: Engineering Intern (SDE Intern) As a Software Development Engineering (SDE) Intern at Wabtec, you will engage in designing, developing, and testing software solutions that enhance the functionality and efficiency of Wabtec's products and services. Your responsibilities will include collaborating with cross-functional teams to understand requirements, participating in code reviews, and contributing to the development of software applications related to rail systems. Wabtec seeks candidates with strong programming skills, proficiency in languages such as Java, C++, or Python, and a foundational understanding of software development principles. Students pursuing a degree in Computer Science, Software Engineering, or related fields are encouraged to apply. The role offers an opportunity to work in a dynamic environment focused on innovation in the rail industry.\"}, {'id': 'wabtec_eligibility', 'text': \"The eligibility criteria for Wabtec's internship programs typically include candidates who are currently enrolled in a Bachelor's or Master's degree program in relevant fields such as Engineering, Computer Science, or Information Technology. A minimum GPA of 3.0 on a 4.0 scale is often required. Candidates should possess strong analytical and problem-solving skills, effective communication abilities, and a keen interest in the rail industry. Prior internship or project experience in related domains is advantageous but not mandatory.\"}, {'id': 'wabtec_recruitment_process', 'text': \"Wabtec's recruitment process for internship positions generally comprises multiple stages. The initial stage involves an online application where candidates submit their resumes and academic transcripts. Selected candidates are then invited to participate in an online assessment that evaluates technical knowledge, logical reasoning, and problem-solving skills. Successful candidates proceed to technical interviews, which may include questions on programming, data structures, algorithms, and domain-specific topics relevant to the role. The final stage is an HR interview focusing on the candidate's fit within Wabtec's corporate culture, communication skills, and motivation for joining the company.\"}, {'id': 'wabtec_interview_round', 'text': \"Wabtec's Technical Interview for the SDE Intern position emphasizes assessing candidates' proficiency in software development and problem-solving abilities. Interviewers may present coding challenges that require knowledge of data structures and algorithms, and inquire about the candidate's experience with software development projects. Familiarity with version control systems, software development methodologies, and an understanding of the rail industry's technological needs can be beneficial. Wabtec values candidates who demonstrate innovation, adaptability, and a strong technical foundation.\"}, {'id': 'wabtec_additional_info', 'text': 'Wabtec offers competitive compensation packages for interns, which typically include a stipend commensurate with industry standards. Interns may also have access to benefits such as housing assistance, professional development opportunities, and networking events. Wabtec is recognized for fostering an inclusive work environment and providing pathways for growth and development within the company. Exceptional performance during the internship may lead to consideration for full-time employment opportunities upon graduation.'}, {'id': 'darwinbox_description', 'text': 'Darwinbox is a leading cloud-based Human Resource Management Software (HRMS) company headquartered in Hyderabad, India. Founded in 2015 by Chaitanya Peddi, Jayant Paleti, and Rohit Chennamaneni, Darwinbox provides a mobile-first HR tech experience powered by Artificial Intelligence (AI) and Machine Learning. The company serves over 650 enterprises across 90+ countries, including major clients like Adani, Mahindra, Swiggy, and Nivea. Darwinbox offers a comprehensive suite of HR solutions, including payroll, recruitment, employee engagement, talent management, and performance management. The company is valued at $1.07 billion and has raised over $107 million in funding from investors like TCV, Salesforce Ventures, and Sequoia Capital India. Darwinbox aims to revolutionize the HR industry by automating and streamlining HR processes, enabling organizations to build better workplaces for their employees.'}, {'id': 'darwinbox_recruitment_process', 'text': \"Darwinbox's recruitment process consists of three main stages: Online Assessment, Technical Interview, and HR Interview. The Online Assessment includes two coding rounds, each focusing on data structures, algorithms, and problem-solving skills. The Technical Interview evaluates candidates' programming skills, computer science fundamentals, and critical thinking. The HR Interview assesses cultural fit, soft skills, and administrative aspects like salary negotiations. Candidates must have a strong understanding of data structures, algorithms, and SQL, as well as good communication skills to succeed in the recruitment process.\"}, {'id': 'darwinbox_eligibility', 'text': \"Darwinbox's eligibility criteria for the Inter-Product Development role require candidates to have a B.Tech in Computer Science or Information Technology (CS/IT) with a minimum of 60% throughout their academic career. Candidates should have no active backlogs and must be from the 2024 batch. The company also looks for candidates with strong problem-solving skills, proficiency in programming languages, and the ability to work in dynamic environments.\"}, {'id': 'darwinbox_salary', 'text': 'Darwinbox offers a competitive salary package for the Inter-Product Development role, ranging from ₹8 to ₹9 LPA. The package includes fixed pay, performance bonuses, and additional benefits such as health insurance, gratuity, and allowances for transport and housing. The company also provides opportunities for career growth and skill development through training programs and certifications.'}, {'id': 'darwinbox_coding_round', 'text': \"Darwinbox's coding rounds are divided into two parts: Coding Round 1 and Coding Round 2. Coding Round 1 consists of 2 questions to be solved in 60 minutes, focusing on data structures, dynamic programming, and SQL. Coding Round 2 includes 2-3 questions to be solved in 90 minutes, with a focus on advanced data structures, algorithms, and problem-solving. Candidates are expected to write efficient code and demonstrate strong analytical skills to clear these rounds.\"}, {'id': 'darwinbox_interview_questions', 'text': \"Darwinbox's interview questions typically cover topics like data structures, algorithms, SQL, and problem-solving. In the Technical Interview, candidates may be asked to solve coding problems, explain their projects, or discuss their understanding of computer science fundamentals. The HR Interview focuses on soft skills, cultural fit, and motivation for joining Darwinbox. Common questions include 'Tell me about yourself,' 'Why do you want to join Darwinbox?' and 'Explain a challenging project you worked on.'\"}, {'id': 'darwinbox_aptitude_test', 'text': \"Darwinbox's aptitude test includes sections on quantitative aptitude, logical reasoning, and verbal ability. The quantitative section covers topics like percentages, profit and loss, time and work, and algebra. The logical reasoning section includes number series, coding-decoding, and blood relations. The verbal ability section focuses on reading comprehension, sentence correction, and synonyms/antonyms. Candidates are expected to perform well in all sections to qualify for the next stage of the recruitment process.\"}, {'id': 'darwinbox_benefits', 'text': 'Darwinbox offers a range of benefits to its employees, including health insurance with a ₹4 lakh cover, free transport, house rent allowance, and medical allowance. The company also provides performance-based bonuses, gratuity, and opportunities for professional development through training programs and certifications. Employees at Darwinbox enjoy a supportive work environment, flexible work hours, and access to cutting-edge HR technology.'}, {'id': 'darwinbox_future_plans', 'text': 'Darwinbox plans to expand its operations globally, starting with the USA, and aims to generate 35% of its revenue from international markets. The company is also focused on accelerating product development and enhancing its AI-driven HR solutions. Darwinbox aims to maintain its position as a leading HR tech provider by continuously innovating and delivering value to its clients.'}, {'id': 'cognizant_description', 'text': 'Cognizant is a global professional services company that specializes in digital transformation, IT services, consulting, and business process outsourcing. Headquartered in Teaneck, New Jersey, Cognizant operates in over 40 countries and employs more than 336,800 people worldwide. The company helps clients modernize technology, reimagine processes, and transform experiences to stay ahead in a fast-changing world. Cognizant offers a wide range of services, including AI, cloud computing, data analytics, and cybersecurity, and has strong partnerships with leading technology providers like Microsoft, Google, and AWS. Cognizant is committed to sustainability, diversity, and corporate social responsibility, aiming to create a positive impact on society and the environment.'}, {'id': 'cognizant_recruitment_process', 'text': \"Cognizant's recruitment process for freshers in 2025 consists of four main stages: Communication Assessment, Aptitude Test, Technical Assessment, and Interview (Technical + HR). The Communication Assessment evaluates English language skills, including reading comprehension, grammar, and listening. The Aptitude Test covers numerical ability, logical reasoning, and verbal ability. The Technical Assessment focuses on programming languages like Java, Python, and SQL, as well as cloud fundamentals. The Interview stage includes both technical and HR discussions, assessing candidates' coding skills, problem-solving abilities, and cultural fit. The process is designed to identify and select promising freshers for roles like GenC, GenC Pro, and GenC Next, with salary packages ranging from ₹4 LPA to ₹6.5 LPA based on performance.\"}, {'id': 'cognizant_eligibility', 'text': \"Cognizant's eligibility criteria for the 2025 recruitment drive require candidates to have completed B.E., B.Tech, MCA, or M.Sc. (Computer Science or IT) from recognized universities. Candidates must have a minimum of 60% in X, XII, Diploma, UG, and PG courses, with no standing backlogs at the time of joining. Applicants should not have more than a 2-year gap in their education and must be Indian nationals. Candidates should also be open to relocation and working across different technologies, domains, and shifts. The company is looking for candidates with strong problem-solving skills, proficiency in programming languages, and a basic understanding of cloud technologies.\"}, {'id': 'cognizant_salary', 'text': 'Cognizant offers competitive salary packages for freshers in its 2025 recruitment drive. The GenC role comes with a package of ₹4 LPA, the GenC Pro role offers ₹5.4 LPA, and the GenC Next role provides ₹6.5 LPA. These packages are based on candidate performance during the recruitment process and include additional benefits such as health insurance, performance bonuses, and opportunities for skill development. Cognizant also provides a supportive work environment, flexible work hours, and access to cutting-edge technology.'}, {'id': 'cognizant_technical_assessment', 'text': \"Cognizant's Technical Assessment is a crucial part of the recruitment process, focusing on candidates' core technical competencies and problem-solving abilities. The assessment includes questions on programming languages like Java, Python, and SQL, as well as cloud fundamentals. Candidates are expected to demonstrate their knowledge of data structures, algorithms, and database management systems. The Technical Assessment is divided into two clusters: Cluster 1 focuses on Java and ANSI SQL, while Cluster 2 emphasizes Python and cloud fundamentals. The assessment is designed to evaluate candidates' ability to apply technical knowledge to real-world problems.\"}, {'id': 'cognizant_interview_questions', 'text': \"Cognizant's interview process includes both technical and HR questions. In the Technical Interview, candidates may be asked to solve coding problems, explain their projects, or discuss their understanding of computer science fundamentals. Common technical questions include 'Explain an algorithm for a coding problem' and 'Tell me about your projects.' The HR Interview focuses on soft skills, communication, and cultural fit, with questions like 'Why do you want to join Cognizant?' and 'What are your strengths and weaknesses?' Candidates are advised to prepare thoroughly for both technical and HR discussions to increase their chances of success.\"}, {'id': 'cognizant_benefits', 'text': \"Cognizant offers a range of benefits to its employees, including health insurance with a ₹4 lakh cover, performance bonuses, and opportunities for professional development. The company provides a supportive work environment, flexible work hours, and access to cutting-edge technology. Employees also enjoy additional benefits such as free transport, house rent allowance, and medical allowance. Cognizant is committed to fostering an inclusive workplace and promoting diversity, ensuring that all employees feel valued and empowered to contribute to the company's success.\"}, {'id': 'cognizant_future_plans', 'text': \"Cognizant plans to expand its global operations and accelerate investments in AI-led platforms. The company aims to strengthen its portfolio through strategic acquisitions and partnerships, focusing on areas like generative AI, cybersecurity, and cloud computing. Cognizant is also committed to sustainability, aiming to reduce its environmental impact and achieve net-zero emissions. The company's future plans include enhancing its digital foundations, driving innovation, and delivering high-impact solutions to clients across industries.\"}, {'id': 'bank_of_america_description', 'text': \"Bank of America is one of the world's leading financial institutions, serving individual consumers, small and middle-market businesses, and large corporations with a full range of banking, investing, asset management, and other financial and risk management products and services. Headquartered in Charlotte, North Carolina, Bank of America operates in over 35 countries and serves approximately 66 million customers worldwide. The company is committed to driving responsible growth by focusing on environmental, social, and governance (ESG) initiatives, including sustainable finance, diversity and inclusion, and community development. Bank of America is also a leader in digital banking, offering innovative solutions to enhance customer experience and operational efficiency. For more information, visit www.bankofamerica.com.\"}, {'id': 'bank_of_america_role_description', 'text': \"Bank of America Role description: Technology Analyst Join our team as a Technology Analyst and play a key role in developing and maintaining cutting-edge technology solutions that drive the bank's operations and customer experience. You will work on challenging projects, leveraging your technical skills to design, develop, and implement software solutions that align with business requirements. As a Technology Analyst, your responsibilities will include coding, testing, debugging, and maintaining applications, as well as collaborating with cross-functional teams to deliver high-quality solutions. You will also be involved in troubleshooting and resolving technical issues, ensuring the stability and performance of the bank's systems. We are looking for candidates with strong problem-solving skills, a passion for technology, and the ability to work in a fast-paced environment. Strong communication skills and the ability to work collaboratively are essential for this role.\"}, {'id': 'bank_of_america_eligibility', 'text': \"Bank of America's eligibility criteria for the Technology Analyst role include candidates from engineering streams (B.E/B.Tech/M.E/M.Tech) or MCA/MSc (CS/IT/Computer Applications/Data Science/Computer Science & Applications), with no active backlogs during application or onboarding. Applicants should have a maximum of 24 months of full-time experience and should not have participated in the Bank of America recruitment process in the last six months. Candidates must have a minimum of 60% or a 6.0 CGPA in graduation with no active backlogs. Only Indian citizens, as well as Bhutan and Nepal nationals, are eligible without requiring a work visa. Other foreign nationals must possess a valid work visa, OCI, or PIO card to work in India.\"}, {'id': 'bank_of_america_recruitment_process', 'text': \"Bank of America's recruitment process consists of three stages: Online Assessment, Technical Interview, and HR Interview. The Online Assessment includes multiple sections such as Cognitive Ability, Quantitative Aptitude, Verbal Ability, and Technical Questions covering topics like Data Structures, Algorithms, SQL, and Programming Languages (Java, C++, Python). Candidates must clear the Online Assessment to qualify for the Technical Interview, which focuses on coding, problem-solving, and technical knowledge. The final HR Interview assesses candidates' communication skills, cultural fit, and motivation for joining Bank of America. The Cognitive Assessment comprises 50 questions to be completed in 50 minutes, while the Technical Assessment includes 40 questions in 40 minutes. The Coding round consists of two questions with a duration of 45 minutes. Candidates who meet the required cutoff in the Online Assessment will qualify for the interview rounds.\"}, {'id': 'bank_of_america_additional_info', 'text': 'Bank of America offers a competitive salary package for the Technology Analyst role, with an average annual salary of Rs. 12-14 LPA. The package includes a fixed pay, performance-based bonuses, and additional benefits such as health insurance, retirement plans, and paid time off. Employees also receive opportunities for professional development, including training programs and certifications. Bank of America is known for its strong focus on work-life balance and employee well-being, offering flexible work arrangements and wellness programs. The company also emphasizes diversity and inclusion, with initiatives to support underrepresented groups and promote equal opportunities.'}, {'id': 'statestreet_description', 'text': 'State Street Corporation is a global financial services and bank holding company headquartered in Boston, Massachusetts. Founded in 1792, it is one of the oldest banks in the United States and ranks as the second-largest custodian bank in the world. State Street manages over $4.7 trillion in assets and provides investment servicing, investment management, and financial services to institutional investors worldwide. The company operates in over 100 markets and is known for its innovative financial products, including the first exchange-traded fund (ETF), the SPDR S&P 500 Trust ETF. State Street is committed to sustainability, diversity, and inclusion, and it plays a vital role in the global economy by managing 11.5% of the world’s financial assets daily.'}, {'id': 'statestreet_recruitment_process', 'text': 'State Street’s recruitment process typically includes four stages: Online Application, Phone Interview, Online Assessments, and In-Person Interview. The Online Application involves submitting a detailed resume and selecting preferred job roles and locations. The Phone Interview is conducted by an HR representative and focuses on the candidate’s background, skills, and motivation for joining State Street. The Online Assessments include psychometric tests evaluating abstract, verbal, and numerical reasoning skills. The In-Person Interview consists of technical and behavioral questions, often involving multiple interviewers. The entire process can take between 5 days to 5 weeks, depending on the role and location.'}, {'id': 'statestreet_eligibility', 'text': 'State Street’s eligibility criteria for freshers include a Bachelor’s or Master’s degree in Finance, Business, Computer Science, or a related field with a minimum of 60% throughout academics. Candidates should have strong analytical, problem-solving, and communication skills. Prior internship or project experience in finance, investment management, or technology is preferred. Additionally, candidates must be flexible to relocate based on project requirements and should not have any active backlogs during the application process.'}, {'id': 'statestreet_roles', 'text': 'State Street offers roles such as Software Engineer, Financial Analyst, Investment Analyst, and Operations Associate. Responsibilities include developing and maintaining financial software, analyzing investment data, managing client portfolios, and ensuring compliance with regulatory standards. Candidates are expected to have knowledge of financial markets, programming languages (e.g., Java, Python), and data analysis tools (e.g., Excel, SQL). Strong communication and teamwork skills are essential for these roles.'}, {'id': 'statestreet_interview_questions', 'text': 'State Street’s interview questions are divided into technical, behavioral, and company-related categories. Technical questions may include: Explain the concept of ETFs. How would you analyze a company’s financial performance? Behavioral questions may include: Describe a time you resolved a conflict within a team. Company-related questions may include: Why do you want to work at State Street? What do you know about our SPDR ETFs? Candidates are also often asked to solve coding problems or case studies related to financial markets.'}, {'id': 'align_technology_description', 'text': \"Align Technology is a global medical device company that designs, manufactures, and sells Invisalign clear aligners, iTero intraoral scanners, and exocad CAD/CAM software for orthodontics and restorative dentistry. Invisalign is the company's flagship product, offering a clear alternative to traditional braces for teeth straightening. Align Technology operates in over 100 countries, including India, where it provides innovative solutions to dental professionals and patients. The company is committed to transforming the dental industry through digital innovation, improving patient outcomes, and enhancing the overall dental experience. For more information, visit www.aligntech.com.\"}, {'id': 'align_technology_role_description', 'text': 'Align Technology Role description: Software Development Engineer Join our team as a Software Development Engineer and contribute to the development of cutting-edge software solutions that power Invisalign and iTero products. You will work on designing, developing, and maintaining software applications that support dental professionals and patients. As a Software Development Engineer, your responsibilities will include coding, testing, debugging, and optimizing software solutions, as well as collaborating with cross-functional teams to deliver high-quality products. We are looking for candidates with strong programming skills, a passion for technology, and the ability to work in a fast-paced environment. Strong problem-solving skills and the ability to work collaboratively are essential for this role.'}, {'id': 'align_technology_eligibility', 'text': \"Align Technology's eligibility criteria for the Software Development Engineer role include candidates from engineering streams (B.E/B.Tech/M.E/M.Tech) or MCA/MSc (CS/IT/Computer Applications/Data Science/Computer Science & Applications), with no active backlogs during application or onboarding. Applicants should have a maximum of 24 months of full-time experience and should not have participated in the Align Technology recruitment process in the last six months. Candidates must have a minimum of 60% or a 6.0 CGPA in graduation with no active backlogs. Only Indian citizens, as well as Bhutan and Nepal nationals, are eligible without requiring a work visa. Other foreign nationals must possess a valid work visa, OCI, or PIO card to work in India.\"}, {'id': 'align_technology_recruitment_process', 'text': \"Align Technology's recruitment process consists of three stages: Online Assessment, Technical Interview, and HR Interview. The Online Assessment includes multiple sections such as Cognitive Ability, Quantitative Aptitude, Verbal Ability, and Technical Questions covering topics like Data Structures, Algorithms, SQL, and Programming Languages (Java, C++, Python). Candidates must clear the Online Assessment to qualify for the Technical Interview, which focuses on coding, problem-solving, and technical knowledge. The final HR Interview assesses candidates' communication skills, cultural fit, and motivation for joining Align Technology. The Cognitive Assessment comprises 50 questions to be completed in 50 minutes, while the Technical Assessment includes 40 questions in 40 minutes. The Coding round consists of two questions with a duration of 45 minutes. Candidates who meet the required cutoff in the Online Assessment will qualify for the interview rounds.\"}, {'id': 'align_technology_additional_info', 'text': 'Align Technology offers a competitive salary package for the Software Development Engineer role, with an average annual salary of Rs. 10-12 LPA. The package includes a fixed pay, performance-based bonuses, and additional benefits such as health insurance, retirement plans, and paid time off. Employees also receive opportunities for professional development, including training programs and certifications. Align Technology is known for its strong focus on work-life balance and employee well-being, offering flexible work arrangements and wellness programs. The company also emphasizes diversity and inclusion, with initiatives to support underrepresented groups and promote equal opportunities.'}, {'id': 'stack_ai_description', 'text': 'Stack AI is a low-code platform that enables organizations to build custom AI assistants and workflows without extensive coding knowledge. Founded with the goal of making advanced AI technology accessible, Stack AI offers a user-friendly drag-and-drop interface, pre-built templates, and integrations with popular business tools. The platform supports multiple AI models, including those from OpenAI, Anthropic, and Meta, and is designed for industries like healthcare, finance, education, and logistics. Stack AI is SOC2, GDPR, and HIPAA compliant, ensuring enterprise-grade security and data privacy. The company aims to empower businesses to automate processes, enhance productivity, and drive innovation through AI-driven solutions.'}, {'id': 'stack_ai_features', 'text': 'Stack AI offers a range of features, including a drag-and-drop interface for building AI workflows, pre-built templates for common business tasks, and native integrations with popular business apps and data sources. The platform supports multiple AI models, such as text-to-image, image-to-text, and audio-to-text functionality, and allows users to design, test, and deploy AI workflows in minutes. Stack AI also provides enterprise-grade security with SOC2, GDPR, and HIPAA compliance, ensuring data protection and compliance with industry standards.'}, {'id': 'stack_ai_use_cases', 'text': 'Stack AI is used across various industries for applications such as customer service automation, document processing, lead qualification, and content creation. In healthcare, it assists with patient history analysis and treatment plans. In finance, it helps with KYC, AML, and underwriting processes. In education, it supports student assistance and faculty teaching. Stack AI also enables logistics and construction companies to automate RFPs and purchase orders. The platform is versatile and can be tailored to specific business needs.'}, {'id': 'stack_ai_security', 'text': 'Stack AI prioritizes security and compliance, offering enterprise-grade features such as SOC2, GDPR, and HIPAA compliance. The platform ensures secure data processing, access controls, and data retention policies. Stack AI also provides self-hosted options, allowing organizations to deploy the platform within their own infrastructure for maximum control and compliance. This makes it suitable for industries with strict regulatory requirements, such as healthcare and financial services.'}, {'id': 'stack_ai_pricing', 'text': 'Stack AI offers a free tier with limited features, including 100 runs per month, two projects, and community support. Paid plans start at $199/month for the Starter Plan, which includes 10,000 runs per month, five projects, and basic knowledge bases. The Team Plan, priced at $899/month, offers 50,000 runs per month, fifteen projects, and advanced features. Custom plans are available for enterprises requiring dedicated infrastructure and support.'}, {'id': 'kpit_description', 'text': 'KPIT Technologies is an Indian multinational corporation specializing in engineering research and development (ER&D) services, particularly for the automotive and mobility sectors. Founded in 1990 by Ravi Pandit and Kishor Patil, KPIT is headquartered in Pune, India, and operates globally with development centers in Europe, the USA, Japan, and China. The company provides innovative software solutions, including embedded software, artificial intelligence, and digital transformation services, focusing on areas like autonomous driving, electric powertrains, and connected vehicle technologies. KPIT has filed 58 patents and collaborates with over 25 top automotive companies, making it a key player in the automotive software ecosystem.'}, {'id': 'kpit_recruitment_process', 'text': 'KPIT Technologies’ recruitment process typically includes an Online Test, Technical Interview, and HR Interview. The Online Test consists of sections on Aptitude, Logical Reasoning, and Technical Knowledge, covering topics like C programming, Data Structures, Algorithms, and DBMS. Candidates who clear the Online Test proceed to the Technical Interview, which focuses on problem-solving, coding, and domain-specific knowledge. The final HR Interview evaluates the candidate’s communication skills, cultural fit, and motivation for joining KPIT. The process may also include an Off-Site Coding Round for certain roles.'}, {'id': 'kpit_eligibility', 'text': 'KPIT Technologies’ eligibility criteria for freshers include a Bachelor’s or Master’s degree in Engineering, Computer Science, or a related field with a minimum of 60% throughout academics. Candidates should have strong analytical and problem-solving skills, along with proficiency in programming languages like C, C++, and Java. Prior internship or project experience in automotive software or embedded systems is preferred. Additionally, candidates must be flexible to relocate based on project requirements.'}, {'id': 'kpit_roles', 'text': 'KPIT Technologies offers roles such as Embedded Software Engineer, Systems Engineer, Data Scientist, and Autosar Engineer. Responsibilities include developing and maintaining automotive software, integrating advanced driver assistance systems (ADAS), and working on electric powertrain solutions. Candidates are expected to have knowledge of embedded systems, automotive technologies, and programming languages like C and C++. Strong communication and teamwork skills are essential for these roles.'}, {'id': 'kpit_interview_questions', 'text': 'KPIT Technologies’ interview questions are divided into technical, behavioral, and company-related categories. Technical questions may include: Explain the concept of AUTOSAR. How would you optimize code for an embedded system? Behavioral questions may include: Describe a time you worked in a team to solve a complex problem. Company-related questions may include: Why do you want to work at KPIT? What do you know about our ADAS solutions? Candidates are also often asked to solve coding problems or case studies related to automotive software.'}, {'id': 'via_plus_description', 'text': 'ViaPlus is a global mobility company in the Intelligent Transportation Systems (ITS) market, specializing in revenue and services management solutions for the transportation industry. ViaPlus provides customer operations, data analytics, and a full-featured single-account back office technology to facilitate high-volume transactions required for seamless multimodal mobility. Headquartered near Dallas, Texas, ViaPlus operates as a subsidiary of VINCI Concessions, a global leader in transport infrastructure. The company is committed to technical innovation and promoting a positive mobility experience for all, with offices in the United States, France, India, and Ireland. For more information, visit www.viaplus.com.'}, {'id': 'via_plus_services', 'text': \"ViaPlus offers a suite of services including mobility back office, customer service operations, image review services, and data visualization. These services are designed to support high-volume, real-time transaction processing, particularly in areas like electronic toll collection and road user charging. ViaPlus's flagship back office system enables Mobility-as-a-Service (MaaS) with a 'one account' feature that supports multimodal transportation solutions, helping agencies improve efficiency, reduce operating expenses, and maximize revenue while providing exceptional customer service.\"}, {'id': 'via_plus_footprint', 'text': 'ViaPlus is headquartered near Dallas, Texas, and maintains offices across the United States, France, India, and Ireland. As part of the VINCI Concessions network, ViaPlus benefits from the global expertise of VINCI Highways, which operates motorways, bridges, tunnels, and urban roads across 15 countries. This global presence allows ViaPlus to deliver high-performance and safety standards while promoting positive mobility experiences worldwide.'}, {'id': 'via_plus_commitments', 'text': \"ViaPlus, as part of VINCI Concessions, is committed to promoting Positive Mobility through five key commitments: Environment, People, Prosperity, Safety, and Innovation. These commitments guide the company's efforts to improve mobility across its projects and facilities, ensuring that mobility solutions have a positive impact on society. ViaPlus focuses on growing connections between people, bringing mobility to a wide range of territories and users, and reinforcing mobility's positive impact through innovation and investment.\"}, {'id': 'via_plus_careers', 'text': 'ViaPlus offers various career opportunities in roles such as Accounting Director, Customer Service Representative, Network & Computer Systems Administrator, and Technical Services Manager. The company is currently hiring for positions in locations like Carrollton, TX, Austin, TX, and Anaheim, CA. ViaPlus values technical innovation and customer service excellence, making it an attractive workplace for professionals in the ITS and mobility sectors.'}, {'id': 'via_plus_competitors', 'text': 'ViaPlus operates in a competitive market with competitors such as ETAN Tolling Technology, Highway Toll Administration, Keolis, Car IQ, and Amous TMS. These companies also provide solutions in the tolling, transportation, and mobility sectors, focusing on transaction processing, customer service, and operational efficiency. ViaPlus differentiates itself through its advanced back office technology and its affiliation with VINCI Highways, a leader in transport infrastructure.'}, {'id': 'kpmg_description', 'text': 'KPMG is one of the Big Four accounting firms, offering audit, tax, and advisory services globally. Headquartered in Amstelveen, Netherlands, KPMG operates in over 146 countries and employs more than 265,000 professionals. The firm provides services to a wide range of industries, including financial services, healthcare, technology, and government. KPMG is known for its commitment to quality, integrity, and innovation, helping clients navigate complex challenges and achieve sustainable growth. The firm also emphasizes diversity, inclusion, and corporate social responsibility, aiming to create a positive impact on society and the environment.'}, {'id': 'kpmg_recruitment_process', 'text': \"KPMG's recruitment process for freshers in 2025 consists of four main stages: Communication Assessment, Aptitude Test, Technical Assessment, and Interview (Technical + HR). The Communication Assessment evaluates English language skills, including reading comprehension, grammar, and listening. The Aptitude Test covers numerical ability, logical reasoning, and verbal ability. The Technical Assessment focuses on programming languages like Java, Python, and SQL, as well as cloud fundamentals. The Interview stage includes both technical and HR discussions, assessing candidates' coding skills, problem-solving abilities, and cultural fit. The process is designed to identify and select promising freshers for roles like GenC, GenC Pro, and GenC Next, with salary packages ranging from ₹4 LPA to ₹6.5 LPA based on performance.\"}, {'id': 'kpmg_eligibility', 'text': \"KPMG's eligibility criteria for the 2025 recruitment drive require candidates to have completed B.E., B.Tech, MCA, or M.Sc. (Computer Science or IT) from recognized universities. Candidates must have a minimum of 60% in X, XII, Diploma, UG, and PG courses, with no standing backlogs at the time of joining. Applicants should not have more than a 2-year gap in their education and must be Indian nationals. Candidates should also be open to relocation and working across different technologies, domains, and shifts. The company is looking for candidates with strong problem-solving skills, proficiency in programming languages, and a basic understanding of cloud technologies.\"}, {'id': 'kpmg_salary', 'text': 'KPMG offers competitive salary packages for freshers in its 2025 recruitment drive. The GenC role comes with a package of ₹4 LPA, the GenC Pro role offers ₹5.4 LPA, and the GenC Next role provides ₹6.5 LPA. These packages are based on candidate performance during the recruitment process and include additional benefits such as health insurance, performance bonuses, and opportunities for skill development. KPMG also provides a supportive work environment, flexible work hours, and access to cutting-edge technology.'}, {'id': 'kpmg_technical_assessment', 'text': \"KPMG's Technical Assessment is a crucial part of the recruitment process, focusing on candidates' core technical competencies and problem-solving abilities. The assessment includes questions on programming languages like Java, Python, and SQL, as well as cloud fundamentals. Candidates are expected to demonstrate their knowledge of data structures, algorithms, and database management systems. The Technical Assessment is divided into two clusters: Cluster 1 focuses on Java and ANSI SQL, while Cluster 2 emphasizes Python and cloud fundamentals. The assessment is designed to evaluate candidates' ability to apply technical knowledge to real-world problems.\"}, {'id': 'kpmg_interview_questions', 'text': \"KPMG's interview process includes both technical and HR questions. In the Technical Interview, candidates may be asked to solve coding problems, explain their projects, or discuss their understanding of computer science fundamentals. Common technical questions include 'Explain an algorithm for a coding problem' and 'Tell me about your projects.' The HR Interview focuses on soft skills, communication, and cultural fit, with questions like 'Why do you want to join KPMG?' and 'What are your strengths and weaknesses?' Candidates are advised to prepare thoroughly for both technical and HR discussions to increase their chances of success.\"}, {'id': 'kpmg_benefits', 'text': \"KPMG offers a range of benefits to its employees, including health insurance with a ₹4 lakh cover, performance bonuses, and opportunities for professional development. The company provides a supportive work environment, flexible work hours, and access to cutting-edge technology. Employees also enjoy additional benefits such as free transport, house rent allowance, and medical allowance. KPMG is committed to fostering an inclusive workplace and promoting diversity, ensuring that all employees feel valued and empowered to contribute to the company's success.\"}, {'id': 'kpmg_future_plans', 'text': \"KPMG plans to expand its global operations and accelerate investments in AI-led platforms. The company aims to strengthen its portfolio through strategic acquisitions and partnerships, focusing on areas like generative AI, cybersecurity, and cloud computing. KPMG is also committed to sustainability, aiming to reduce its environmental impact and achieve net-zero emissions. The company's future plans include enhancing its digital foundations, driving innovation, and delivering high-impact solutions to clients across industries.\"}, {'id': 'fotus_description', 'text': 'Fotus Energia Solar is a Brazilian company specializing in solar energy solutions. It is part of the Grupo Litoral, which has over 15 years of experience in the import and distribution of energy-related products. Fotus Energia Solar focuses on providing innovative and sustainable solar energy solutions, including solar panel installations, energy storage systems, and consulting services for residential, commercial, and industrial clients. The company is headquartered in Vila Velha, Brazil, and operates with a vision of promoting renewable energy and reducing carbon footprints. Fotus Energia Solar is committed to leveraging advanced technologies to deliver efficient and cost-effective energy solutions.'}, {'id': 'fotus_business_operations', 'text': 'Fotus Energia Solar’s business operations include the design, installation, and maintenance of solar energy systems. The company offers a range of services, such as energy audits, feasibility studies, and customized solar solutions tailored to client needs. Fotus Energia Solar also provides training and support for clients to maximize the efficiency of their solar energy systems. The company is known for its use of advanced technologies, including AI and IoT, to optimize energy production and monitor system performance in real-time.'}, {'id': 'fotus_technology_stack', 'text': 'Fotus Energia Solar utilizes a modern technology stack to enhance its solar energy solutions. This includes AI-driven energy management systems, IoT-enabled monitoring devices, and cloud-based platforms for data analysis and reporting. The company’s tech stack allows for real-time monitoring of energy production, predictive maintenance, and optimization of energy consumption, ensuring maximum efficiency and reliability for its clients.'}, {'id': 'fotus_corporate_structure', 'text': 'Fotus Energia Solar is part of the Grupo Litoral, a corporate group with four companies operating in the energy sector. The company has its headquarters in Vila Velha, Brazil, and operates with a decentralized structure to serve clients across different regions. Fotus Energia Solar collaborates with various stakeholders, including technology providers, government agencies, and industry partners, to promote renewable energy adoption and sustainability.'}, {'id': 'fotus_commitment_to_sustainability', 'text': 'Fotus Energia Solar is committed to sustainability and environmental responsibility. The company’s mission is to reduce carbon emissions and promote the use of renewable energy sources. Fotus Energia Solar actively participates in initiatives aimed at increasing energy efficiency and reducing the environmental impact of energy consumption. The company also educates clients and communities about the benefits of solar energy and sustainable practices.'}, {'id': 'epam_description', 'text': 'EPAM Systems is a global technology company that provides software engineering services for digital platforms and software development. Headquartered in Newtown, Pennsylvania, EPAM operates in over 50 countries and employs more than 53,000 professionals. The company offers services in customer experience design, business consulting, and technology innovation, serving industries such as financial services, healthcare, telecom, media, and education. EPAM is known for its expertise in digital transformation, cloud computing, and AI-driven solutions, helping clients optimize their operations and achieve sustainable growth. The company also emphasizes diversity, inclusion, and corporate social responsibility, aiming to create a positive impact on society and the environment.'}, {'id': 'epam_recruitment_process', 'text': \"EPAM's recruitment process for freshers in 2025 consists of four main stages: Online Quiz Round, Online Coding Round, Technical Interview, and HR Interview. The Online Quiz Round includes multiple-choice questions on OOPS, DBMS, SQL, and Java. The Online Coding Round focuses on algorithms, data structures, and object-oriented programming. The Technical Interview assesses candidates' coding skills and problem-solving abilities, while the HR Interview evaluates cultural fit and communication skills. The process is designed to identify and select promising freshers for roles like Junior Software Engineer and Junior Test Automation Engineer.\"}, {'id': 'epam_eligibility', 'text': \"EPAM's eligibility criteria for the 2025 recruitment drive require candidates to have completed B.E., B.Tech, M.E., M.Tech, or MCA from recognized universities. Candidates must have a minimum of 60% in their academic scores and should be from the 2022, 2023, or 2024 batches. For Junior Software Engineer roles, candidates should have a background in computer science or related fields, while for Junior Test Automation Engineer roles, non-computer science graduates are also eligible. EPAM looks for candidates with strong problem-solving skills, proficiency in programming languages, and a basic understanding of cloud technologies.\"}, {'id': 'epam_salary', 'text': 'EPAM offers competitive salary packages for freshers in its 2025 recruitment drive. The starting salary for Junior Software Engineer and Junior Systems Engineer roles is INR 6 lakhs per annum, with additional benefits such as health insurance, performance bonuses, and opportunities for skill development. EPAM also provides a supportive work environment, flexible work hours, and access to cutting-edge technology.'}, {'id': 'epam_technical_assessment', 'text': \"EPAM's Technical Assessment is a crucial part of the recruitment process, focusing on candidates' core technical competencies and problem-solving abilities. The assessment includes questions on programming languages like Java, Python, and SQL, as well as cloud fundamentals. Candidates are expected to demonstrate their knowledge of data structures, algorithms, and database management systems. The Technical Assessment is divided into two clusters: Cluster 1 focuses on Java and ANSI SQL, while Cluster 2 emphasizes Python and cloud fundamentals.\"}, {'id': 'epam_interview_questions', 'text': \"EPAM's interview process includes both technical and HR questions. In the Technical Interview, candidates may be asked to solve coding problems, explain their projects, or discuss their understanding of computer science fundamentals. Common technical questions include 'Explain an algorithm for a coding problem' and 'Tell me about your projects.' The HR Interview focuses on soft skills, communication, and cultural fit, with questions like 'Why do you want to join EPAM?' and 'What are your strengths and weaknesses?' Candidates are advised to prepare thoroughly for both technical and HR discussions to increase their chances of success.\"}, {'id': 'epam_benefits', 'text': \"EPAM offers a range of benefits to its employees, including health insurance, performance bonuses, and opportunities for professional development. The company provides a supportive work environment, flexible work hours, and access to cutting-edge technology. Employees also enjoy additional benefits such as free transport, house rent allowance, and medical allowance. EPAM is committed to fostering an inclusive workplace and promoting diversity, ensuring that all employees feel valued and empowered to contribute to the company's success.\"}, {'id': 'epam_future_plans', 'text': \"EPAM plans to expand its global operations and accelerate investments in AI-led platforms. The company aims to strengthen its portfolio through strategic acquisitions and partnerships, focusing on areas like generative AI, cybersecurity, and cloud computing. EPAM is also committed to sustainability, aiming to reduce its environmental impact and achieve net-zero emissions. The company's future plans include enhancing its digital foundations, driving innovation, and delivering high-impact solutions to clients across industries.\"}, {'id': 'athenahealth_description', 'text': \"Athenahealth is a leading healthcare technology company that provides cloud-based services and solutions to healthcare providers, including electronic health records (EHR), revenue cycle management (RCM), and patient engagement tools. Founded in 1997 and headquartered in Boston, Massachusetts, Athenahealth operates in the U.S. and India, with offices in Chennai, Bangalore, and Pune. The company aims to simplify healthcare practices by offering innovative technology solutions that improve clinical and financial outcomes for healthcare providers. Athenahealth's mission is to unleash collective potential to transform healthcare, focusing on collaboration, innovation, and patient-centric solutions. The company was acquired by Bain Capital and Hellman & Friedman in 2022 for $17 billion.\"}, {'id': 'athenahealth_products', 'text': 'Athenahealth offers a suite of cloud-based products, including athenaOne, which integrates practice management (athenaCollector), electronic health records (athenaClinicals), and care coordination (athenaCommunicator). Other products include Epocrates, a mobile app for clinical decision support, and athenahealth Population Health for population health management. These tools help healthcare providers streamline operations, improve patient care, and enhance financial performance.'}, {'id': 'athenahealth_recruitment_process', 'text': \"Athenahealth's recruitment process typically includes an online assessment, technical interviews, and HR discussions. The online assessment may cover cognitive ability, technical skills, and problem-solving. Technical interviews focus on coding, system design, and domain knowledge, while HR interviews assess cultural fit and communication skills. Candidates are evaluated on their ability to work in a fast-paced, innovative environment and their passion for transforming healthcare.\"}, {'id': 'athenahealth_eligibility', 'text': \"Athenahealth's eligibility criteria for technical roles often include a degree in computer science, information technology, or related fields, with strong programming skills in languages like Java, Python, or SQL. For non-technical roles, candidates may need a background in healthcare administration, business, or finance. Athenahealth values diversity and looks for candidates with a passion for innovation and improving healthcare outcomes.\"}, {'id': 'athenahealth_culture', 'text': 'Athenahealth fosters a collaborative and inclusive work culture, emphasizing innovation, diversity, and employee well-being. The company has been recognized as a top workplace by Glassdoor and Forbes, with accolades for its vibrant and talented workforce. Athenahealth encourages employees to bring their best selves to work and offers opportunities for professional growth and development.'}, {'id': 'athenahealth_sustainability', 'text': \"Athenahealth is committed to sustainability and corporate social responsibility, focusing on reducing its environmental impact and promoting diversity and inclusion. The company aims to create a thriving ecosystem that delivers accessible, high-quality, and sustainable healthcare for all. Athenahealth's initiatives include reducing carbon emissions, supporting community health programs, and fostering an inclusive workplace.\"}, {'id': 'athenahealth_interview_tips', 'text': \"To prepare for an Athenahealth interview, candidates should focus on technical skills, problem-solving abilities, and a strong understanding of healthcare technology. For technical roles, practice coding challenges and system design questions. For non-technical roles, be prepared to discuss healthcare trends and how Athenahealth's solutions address industry challenges. Strong communication skills and a passion for innovation are key to succeeding in the interview process.\"}]\n",
      "52 [{'id': 'athenahealth_benefits', 'text': \"Athenahealth offers competitive benefits, including health insurance, retirement plans, paid time off, and professional development opportunities. Employees also enjoy perks like flexible work arrangements, wellness programs, and access to cutting-edge technology. The company's commitment to employee well-being has earned it recognition as a top employer in the healthcare technology industry.\"}, {'id': 'vem_technologies_description', 'text': 'Vem Technologies Pvt. Ltd. is a leading Indian aerospace and defense company headquartered in Hyderabad, India. Established in 1988 and incorporated in 1993, the company specializes in the design, development, manufacture, and integration of systems and products for the aerospace, defense, and homeland security sectors. Vem Technologies employs over 900 professionals and has a proven track record in areas such as missile systems, laser-guided bombs, unmanned aerial vehicles (UAVs), and surveillance systems. The company is known for its contributions to India’s defense programs, including the development of servo systems for laser-guided bombs, which earned it a national award from DRDO. Vem Technologies also focuses on indigenization and aligns with the ‘Make in India’ initiative, aiming to reduce dependency on foreign technology and promote local manufacturing.'}, {'id': 'vem_technologies_business_operations', 'text': 'Vem Technologies operates across several core business verticals, including Missiles, Laser-Guided Bombs & Rockets, Unmanned Aerial Vehicles (UAVs), Systems for Helicopters & Aircraft, and Surveillance Systems. The company is involved in the build-to-specification and build-to-print of missile systems, from nose to tail, and has in-house facilities for integration and testing. Vem Technologies is also a key player in the development and production of laser-guided bombs (LGBs) and is working on advanced UAV systems. Additionally, the company is expanding into surveillance systems, focusing on radars, electro-optical systems, and sensors for land, naval, and airborne applications.'}, {'id': 'vem_technologies_recruitment_process', 'text': 'Vem Technologies’ recruitment process typically includes an Online Test, Technical Interview, and HR Interview. The Online Test assesses candidates’ aptitude, logical reasoning, and technical knowledge, particularly in areas relevant to aerospace and defense systems. The Technical Interview focuses on problem-solving, domain-specific knowledge, and practical applications. The HR Interview evaluates the candidate’s communication skills, cultural fit, and motivation for joining Vem Technologies. The company looks for candidates with strong analytical skills, technical expertise, and a passion for innovation in the aerospace and defense sectors.'}, {'id': 'vem_technologies_eligibility', 'text': 'Vem Technologies’ eligibility criteria for freshers include a Bachelor’s or Master’s degree in Engineering, Computer Science, or a related field with a minimum of 60% throughout academics. Candidates should have strong problem-solving skills, technical knowledge, and proficiency in relevant software tools. Prior internship or project experience in aerospace, defense, or related fields is preferred. Additionally, candidates must be flexible to relocate based on project requirements.'}, {'id': 'vem_technologies_roles', 'text': 'Vem Technologies offers roles such as Systems Engineer, Software Engineer, and Mechanical Engineer. Responsibilities include designing, developing, and integrating aerospace and defense systems, working on missile and UAV technologies, and contributing to the development of surveillance systems. Candidates are expected to have knowledge of embedded systems, mechanical design, and software development, along with strong communication and teamwork skills.'}, {'id': 'vem_technologies_interview_questions', 'text': 'Vem Technologies’ interview questions are divided into technical, behavioral, and company-related categories. Technical questions may include: Explain the concept of servo systems in missile technology. How would you optimize a mechanical design for a UAV? Behavioral questions may include: Describe a time you worked in a team to solve a complex problem. Company-related questions may include: Why do you want to work at Vem Technologies? What do you know about our contributions to the ‘Make in India’ initiative? Candidates are also often asked to solve coding problems or case studies related to aerospace and defense systems.'}, {'id': 'virchow_biotech_description', 'text': 'Virchow Biotech Pvt. Ltd. is a leading global player in the bio-pharmaceutical industry, headquartered in Hyderabad, India. Established over 15 years ago, the company is ISO 13485:2015 and WHO-GMP certified, reflecting its commitment to quality and innovation. Virchow Biotech specializes in the development and manufacturing of fermentation and recombinant biotech products, along with other finished formulations. The company has a strong presence in the United States and serves clients worldwide, offering high-quality products that meet global standards. Virchow Biotech is part of the Virchow Group, which has a diversified portfolio in pharmaceuticals, medical devices, and APIs, with an annual turnover of over $1 billion and a workforce of more than 5,000 employees.'}, {'id': 'virchow_biotech_business_operations', 'text': 'Virchow Biotech’s business operations focus on the development and manufacturing of biotech products, including fermentation and recombinant technologies. The company produces a wide range of finished dosage forms (FDFs) and is involved in custom synthesis and manufacturing of drug intermediates and bulk chemicals. Virchow Biotech also undertakes contract manufacturing for global clients, ensuring compliance with international regulatory standards. The company’s state-of-the-art production facilities are equipped with modern equipment and optimized processes for large-scale production.'}, {'id': 'virchow_biotech_recruitment_process', 'text': 'Virchow Biotech’s recruitment process typically includes walk-in interviews and online applications. The company conducts walk-in interviews for freshers and experienced candidates, focusing on roles in manufacturing, quality control, and research. The eligibility criteria for freshers include qualifications such as B.Sc, M.Sc, B.Pharm, M.Pharm, B.Tech, and ITI. Candidates are required to undergo a 30-day Skill Development Center (SDC) training period, after which they may be offered employment based on their performance. The recruitment process emphasizes hands-on experience, career growth, and global exposure.'}, {'id': 'virchow_biotech_eligibility', 'text': 'Virchow Biotech’s eligibility criteria for freshers include a Bachelor’s or Master’s degree in Biotechnology, Pharmacy, or a related field, with a minimum of 60% throughout academics. Candidates should have strong technical knowledge, problem-solving skills, and a passion for innovation in the bio-pharmaceutical sector. Prior internship or project experience in biotech or pharmaceutical manufacturing is preferred. Additionally, candidates must be flexible to relocate based on project requirements.'}, {'id': 'virchow_biotech_roles', 'text': 'Virchow Biotech offers roles such as Jr. Operator, Executive, Sr. Executive, and Sr. Operator in manufacturing and quality control. Responsibilities include aseptic operations, CIP & SIP processes, production line management, and troubleshooting equipment issues. Candidates are expected to have knowledge of biotech manufacturing processes, quality standards, and regulatory compliance. Strong communication and teamwork skills are essential for these roles.'}, {'id': 'virchow_biotech_interview_questions', 'text': 'Virchow Biotech’s interview questions are divided into technical, behavioral, and company-related categories. Technical questions may include: Explain the concept of aseptic operations. How would you troubleshoot a production line issue? Behavioral questions may include: Describe a time you worked in a team to solve a complex problem. Company-related questions may include: Why do you want to work at Virchow Biotech? What do you know about our products and global presence? Candidates are also often asked to solve case studies related to biotech manufacturing.'}, {'id': 'qualitus_description', 'text': 'Qualitus Pharma Solutions is a company engaged in designing complete facilities along with automation and customized equipment manufacturing for life science manufacturing machines and allied equipment. The company was founded by a core team with over 80 years of collective experience in the pharmaceutical and biotechnology sectors.'}, {'id': 'qualitus_services', 'text': 'Qualitus Pharma Solutions offers a wide range of services including green-field projects, facility upgrades, equipment validation, and critical maintenance works. The company ensures compliance with cGMP requirements and local drug regulatory guidelines, providing end-to-end solutions for pharmaceutical firms.'}, {'id': 'qualitus_team', 'text': 'Qualitus Pharma Solutions is backed by a qualified team with a proven track record in delivering complete solutions for pharmaceutical plants, from design to production handover. The team is known for its proactive planning and effective communication with clients.'}, {'id': 'qualitus_career', 'text': 'Qualitus Pharma Solutions invites passionate individuals to join their team, offering a collaborative and innovative work environment. The company provides opportunities for career growth and encourages employees to contribute to its success story.'}, {'id': 'qualitus_recruitment', 'text': 'Qualitus Pharma Solutions conducts campus recruitment drives for roles such as Intern Trainee, with job locations primarily in Hyderabad. In 2020, the company selected 5 students from VJIT with a salary package of 2.2 LPA.'}, {'id': 'qualitus_products', 'text': 'Qualitus Pharma Solutions manufactures high-quality products tailored to the pharmaceutical industry, ensuring exceptional performance and reliability. The company’s vertical integration of equipment and solutions ensures cost-competitive pricing.'}, {'id': 'qualitus_certifications', 'text': 'Qualitus Pharma Solutions is a registered MSME with its unit located in Hyderabad, Telangana. The company is classified as a small enterprise and is primarily engaged in the manufacture of special-purpose machinery.'}, {'id': 'qualitus_interview_prep', 'text': 'For students preparing for placements at Qualitus Pharma Solutions, it is recommended to focus on technical knowledge related to pharmaceutical machinery, automation, and cGMP guidelines. Practicing placement papers and interview questions from similar companies can also be beneficial.'}, {'id': 'snr_edatas_description', 'text': 'SNR Edatas Private Limited is an IT and telecom solutions provider headquartered in Hyderabad, India. Established in 2012, the company specializes in e-governance, video surveillance, web streaming, and IT infrastructure projects. SNR Edatas serves clients across various sectors, including government, public sector undertakings (PSUs), telecom, and large corporates. The company is ISO certified for Quality Management (ISO 9001:2015), Information Security (ISO 27001:2013), IT Service Management (ISO 20000-1:2018), and Environmental Management (ISO 14001:2015).'}, {'id': 'snr_edatas_services', 'text': 'SNR Edatas offers a range of services, including video surveillance solutions, IT and telecom infrastructure projects, and web streaming for elections. The company also provides e-governance solutions, helping governments and organizations streamline their operations and improve service delivery.'}, {'id': 'snr_edatas_clients', 'text': 'SNR Edatas serves a diverse clientele, including Bharat Electronics Limited, the Government of Tamil Nadu, and various telecom and defense PSUs. The company has successfully implemented projects such as live web streaming of polling stations across 32 districts in Tamil Nadu.'}, {'id': 'snr_edatas_certifications', 'text': 'SNR Edatas is ISO certified for Quality Management (ISO 9001:2015), Information Security (ISO 27001:2013), IT Service Management (ISO 20000-1:2018), and Environmental Management (ISO 14001:2015).'}, {'id': 'snr_edatas_financials', 'text': 'SNR Edatas has shown significant financial growth, with a 171.16% increase in revenue and a 219.98% increase in profit in the financial year 2022. The company’s net worth also grew by 31.27%.'}, {'id': 'snr_edatas_careers', 'text': \"SNR Edatas offers career opportunities for professionals looking to work in the IT and telecom sectors. Interested candidates can upload their profiles on the company's careers page to explore job openings.\"}, {'id': 'schneider_description', 'text': 'Schneider Electric is a global leader in energy management and automation, specializing in digital solutions for efficiency and sustainability.'}, {'id': 'schneider_services', 'text': 'Schneider Electric offers a wide range of services including energy management, industrial automation, and building management solutions.'}, {'id': 'schneider_recruitment_process', 'text': 'Schneider Electric’s recruitment process typically consists of three rounds: a written exam, a technical interview, and an HR interview.'}, {'id': 'schneider_academic_criteria', 'text': 'Schneider Electric requires candidates to have a B.Tech degree with a minimum of 65% throughout their academic career.'}, {'id': 'regal_rexnord_description', 'text': 'Regal Rexnord is a global leader in manufacturing industrial powertrain solutions, power transmission components, electric motors, and electronic controls.'}, {'id': 'regal_rexnord_services', 'text': 'Regal Rexnord offers a wide range of services including industrial powertrain solutions, power transmission components, and automation systems.'}, {'id': 'regal_rexnord_products', 'text': 'Regal Rexnord manufactures a wide range of products including electric motors, bearings, couplings, gearboxes, and automation systems.'}, {'id': 'praxsol_description', 'text': 'Praxsol Engineering Private Limited is a Visakhapatnam-based company specializing in mechanical engineering and design services.'}, {'id': 'praxsol_services', 'text': 'Praxsol Engineering provides a wide range of services including product engineering, plant engineering, and R&D services.'}, {'id': 'kernex_description', 'text': 'Kernex Microsystems (India) Limited is a Hyderabad-based company established in 1991, specializing in the design, development, and manufacturing of safety systems for railways.'}, {'id': 'kernex_products', 'text': 'Kernex Microsystems offers a wide range of products including TrainSHIELD, ACD, LxGuard, SAFELx, SENTINEX, CASRY, ATRW, and KTPIS.'}, {'id': 'cyient_description', 'text': 'Cyient is a global Intelligent Engineering services company that provides geospatial, engineering design, information technology (IT) solutions, and data analytics services. Founded in 1991 and headquartered in Hyderabad, India, Cyient operates across North America, Europe, and the Asia Pacific. The company serves industries such as aerospace, automotive, communications, energy, healthcare, and utilities, offering solutions like product lifecycle management, manufacturing operations management, and geospatial services. Cyient is committed to delivering innovative, sustainable, and digitally transformative solutions, partnering with over 300 global customers, including 30% of the top 100 global innovators. The company employs approximately 12,733 professionals and is recognized for its expertise in engineering, digital transformation, and sustainability initiatives.'}, {'id': 'cyient_core_verticals', 'text': \"Cyient operates through three core business segments: Digital, Engineering & Technology; Design Led Manufacturing; and Others. The Digital, Engineering & Technology segment offers services like product lifecycle management, manufacturing operations management, and geospatial enterprise applications. The Design Led Manufacturing segment focuses on custom turnkey ASIC solutions, semiconductor design services, and automotive solutions. The Others segment includes management consulting and enterprise private network services. Cyient's solutions are tailored to industries such as aerospace, automotive, communications, energy, and healthcare, enabling clients to optimize operations and drive innovation.\"}, {'id': 'cyient_recruitment_process', 'text': \"Cyient's recruitment process typically includes an online assessment, technical interviews, and HR discussions. The online assessment evaluates cognitive ability, technical skills, and problem-solving. Technical interviews focus on coding, system design, and domain knowledge, while HR interviews assess cultural fit and communication skills. Cyient looks for candidates with strong technical expertise, problem-solving abilities, and a passion for innovation. The company values diversity and inclusion, offering opportunities for professional growth and development.\"}, {'id': 'cyient_eligibility', 'text': \"Cyient's eligibility criteria for technical roles include a degree in computer science, information technology, or related fields, with strong programming skills in languages like Java, Python, or SQL. For non-technical roles, candidates may need a background in healthcare administration, business, or finance. Cyient values candidates with a passion for innovation, strong analytical skills, and the ability to work in a fast-paced, collaborative environment. The company also emphasizes diversity and inclusion in its hiring practices.\"}, {'id': 'cyient_culture', 'text': 'Cyient fosters a collaborative and inclusive work culture, emphasizing innovation, diversity, and employee well-being. The company has been recognized as a top workplace by Glassdoor and Forbes, with accolades for its vibrant and talented workforce. Cyient encourages employees to bring their best selves to work and offers opportunities for professional growth and development. The company is committed to creating a culturally inclusive, socially responsible, and environmentally sustainable workplace.'}, {'id': 'cyient_sustainability', 'text': \"Cyient is committed to sustainability and corporate social responsibility, focusing on reducing its environmental impact and promoting diversity and inclusion. The company aims to create a thriving ecosystem that delivers accessible, high-quality, and sustainable solutions for its clients. Cyient's initiatives include reducing carbon emissions, supporting community health programs, and fostering an inclusive workplace. The company is also involved in projects that promote sustainable aviation and energy transition.\"}, {'id': 'cyient_interview_tips', 'text': \"To prepare for a Cyient interview, candidates should focus on technical skills, problem-solving abilities, and a strong understanding of engineering and digital transformation trends. For technical roles, practice coding challenges and system design questions. For non-technical roles, be prepared to discuss industry trends and how Cyient's solutions address client challenges. Strong communication skills and a passion for innovation are key to succeeding in the interview process.\"}, {'id': 'cyient_benefits', 'text': \"Cyient offers competitive benefits, including health insurance, retirement plans, paid time off, and professional development opportunities. Employees also enjoy perks like flexible work arrangements, wellness programs, and access to cutting-edge technology. The company's commitment to employee well-being has earned it recognition as a top employer in the engineering and technology industry.\"}, {'id': 'deccan_fine_chemicals_description', 'text': 'Deccan Fine Chemicals is a leading custom chemical manufacturing company headquartered in Hyderabad, India. Established in 2008, the company specializes in providing custom manufacturing services for agrochemicals, pharmaceuticals, and specialty chemicals. Deccan Fine Chemicals operates three major manufacturing sites in Andhra Pradesh, Gujarat, and Goa, employing over 1,200 professionals. The company is ISO and cGMP certified, reflecting its commitment to quality, sustainability, and safety. Deccan Fine Chemicals is known for its high-quality manufacturing assets, fast-track project delivery, and strong relationships with global customers in the crop protection, pharmaceutical, and specialty chemical industries.'}, {'id': 'deccan_fine_chemicals_business_operations', 'text': 'Deccan Fine Chemicals operates across three core business verticals: Crop Protection, Pharmaceuticals & Animal Health, and Specialty Chemicals. The company offers a broad spectrum of products, including intermediates, advanced intermediates, and active ingredients (AIs) for crop protection, as well as custom manufacturing services for animal health products and specialty chemicals. Deccan Fine Chemicals also provides process research and development (R&D) services, leveraging its state-of-the-art facilities and skilled R&D professionals.'}, {'id': 'deccan_fine_chemicals_recruitment_process', 'text': 'Deccan Fine Chemicals’ recruitment process typically includes walk-in interviews and online applications. The company conducts walk-in interviews for roles in manufacturing, quality control, and research. Candidates are required to have qualifications such as M.Sc. in Organic Chemistry, B.Tech/M.Tech in Chemical Engineering, or related fields, with 3-5 years of experience in the agrichemicals industry for certain roles. The recruitment process emphasizes hands-on experience, career growth, and global exposure.'}, {'id': 'deccan_fine_chemicals_eligibility', 'text': 'Deccan Fine Chemicals’ eligibility criteria for freshers and experienced candidates include a Bachelor’s or Master’s degree in Chemistry, Chemical Engineering, or a related field with a minimum of 60% throughout academics. Candidates should have strong technical knowledge, problem-solving skills, and a passion for innovation in the chemical manufacturing sector. Prior internship or project experience in agrochemicals, pharmaceuticals, or specialty chemicals is preferred.'}, {'id': 'deccan_fine_chemicals_roles', 'text': 'Deccan Fine Chemicals offers roles such as Product Manager, Process Safety Scientist, and Quality Control Executive. Responsibilities include managing production processes, ensuring quality standards, and coordinating with R&D teams for product development. Candidates are expected to have knowledge of chemical manufacturing processes, quality control, and regulatory compliance. Strong communication and teamwork skills are essential for these roles.'}, {'id': 'deccan_fine_chemicals_interview_questions', 'text': 'Deccan Fine Chemicals’ interview questions are divided into technical, behavioral, and company-related categories. Technical questions may include: Explain the concept of process safety in chemical manufacturing. How would you troubleshoot a production line issue? Behavioral questions may include: Describe a time you worked in a team to solve a complex problem. Company-related questions may include: Why do you want to work at Deccan Fine Chemicals? What do you know about our products and global presence? Candidates are also often asked to solve case studies related to chemical manufacturing.'}]\n"
     ]
    }
   ],
   "source": [
    "for i in batched_data:\n",
    "    print(len(i),i)"
   ]
  },
  {
   "cell_type": "code",
   "execution_count": null,
   "metadata": {},
   "outputs": [],
   "source": [
    "from pinecone import  Pinecone\n",
    "\n",
    "api_key = \"APIKEY\"\n",
    "\n",
    "pc = Pinecone(api_key=api_key)\n",
    "\n",
    "from pinecone import ServerlessSpec\n",
    "\n",
    "spec = ServerlessSpec(\n",
    "    cloud=\"aws\", region=\"us-east-1\"\n",
    ")\n"
   ]
  },
  {
   "cell_type": "code",
   "execution_count": 136,
   "metadata": {},
   "outputs": [],
   "source": [
    "pc.delete_index(\"example\")"
   ]
  },
  {
   "cell_type": "code",
   "execution_count": 98,
   "metadata": {},
   "outputs": [
    {
     "name": "stdout",
     "output_type": "stream",
     "text": [
      "[EmbeddingsList(\n",
      "  model='multilingual-e5-large',\n",
      "  vector_type='dense',\n",
      "  data=[\n",
      "    {'vector_type': dense, 'values': [0.0014705657958984375, 0.00334930419921875, ..., -0.0237884521484375, -0.006641387939453125]},\n",
      "    {'vector_type': dense, 'values': [0.04315185546875, -0.0220489501953125, ..., -0.01593017578125, -0.007568359375]},\n",
      "    ... (92 more embeddings) ...,\n",
      "    {'vector_type': dense, 'values': [0.023590087890625, -0.03179931640625, ..., -0.039581298828125, 0.0009250640869140625]},\n",
      "    {'vector_type': dense, 'values': [0.037261962890625, -0.045867919921875, ..., -0.03106689453125, 0.00627899169921875]}\n",
      "  ],\n",
      "  usage={'total_tokens': 10908}\n",
      "), EmbeddingsList(\n",
      "  model='multilingual-e5-large',\n",
      "  vector_type='dense',\n",
      "  data=[\n",
      "    {'vector_type': dense, 'values': [0.028961181640625, -0.049896240234375, ..., -0.0173797607421875, 0.0089569091796875]},\n",
      "    {'vector_type': dense, 'values': [0.0258331298828125, -0.042266845703125, ..., -0.018951416015625, -0.00556182861328125]},\n",
      "    ... (92 more embeddings) ...,\n",
      "    {'vector_type': dense, 'values': [0.03192138671875, -0.00644683837890625, ..., -0.032958984375, -0.005565643310546875]},\n",
      "    {'vector_type': dense, 'values': [0.03021240234375, -0.023345947265625, ..., -0.0455322265625, -0.009002685546875]}\n",
      "  ],\n",
      "  usage={'total_tokens': 10502}\n",
      "), EmbeddingsList(\n",
      "  model='multilingual-e5-large',\n",
      "  vector_type='dense',\n",
      "  data=[\n",
      "    {'vector_type': dense, 'values': [0.0277557373046875, -0.0253448486328125, ..., -0.01153564453125, -0.005092620849609375]},\n",
      "    {'vector_type': dense, 'values': [0.02081298828125, -0.0172119140625, ..., -0.0390625, 0.003620147705078125]},\n",
      "    ... (92 more embeddings) ...,\n",
      "    {'vector_type': dense, 'values': [0.0230865478515625, -0.01153564453125, ..., -0.046722412109375, -0.016845703125]},\n",
      "    {'vector_type': dense, 'values': [0.0296478271484375, -0.018798828125, ..., -0.04046630859375, -0.00870513916015625]}\n",
      "  ],\n",
      "  usage={'total_tokens': 10943}\n",
      "), EmbeddingsList(\n",
      "  model='multilingual-e5-large',\n",
      "  vector_type='dense',\n",
      "  data=[\n",
      "    {'vector_type': dense, 'values': [0.045013427734375, -0.033355712890625, ..., -0.021392822265625, -0.01337432861328125]},\n",
      "    {'vector_type': dense, 'values': [0.0408935546875, -0.0521240234375, ..., -0.0158843994140625, -0.021728515625]},\n",
      "    ... (92 more embeddings) ...,\n",
      "    {'vector_type': dense, 'values': [0.053070068359375, -0.022064208984375, ..., -0.018798828125, 0.01493072509765625]},\n",
      "    {'vector_type': dense, 'values': [0.04962158203125, -0.0228271484375, ..., -0.0308074951171875, 0.015289306640625]}\n",
      "  ],\n",
      "  usage={'total_tokens': 10371}\n",
      "), EmbeddingsList(\n",
      "  model='multilingual-e5-large',\n",
      "  vector_type='dense',\n",
      "  data=[\n",
      "    {'vector_type': dense, 'values': [0.033355712890625, -0.01377105712890625, ..., -0.04254150390625, 0.01073455810546875]},\n",
      "    {'vector_type': dense, 'values': [0.0150604248046875, -0.01055908203125, ..., -0.02630615234375, -0.0083770751953125]},\n",
      "    ... (92 more embeddings) ...,\n",
      "    {'vector_type': dense, 'values': [0.0109710693359375, -0.050201416015625, ..., -0.01947021484375, -0.02740478515625]},\n",
      "    {'vector_type': dense, 'values': [-0.00128936767578125, -0.01270294189453125, ..., -0.0154266357421875, -0.023193359375]}\n",
      "  ],\n",
      "  usage={'total_tokens': 10333}\n",
      "), EmbeddingsList(\n",
      "  model='multilingual-e5-large',\n",
      "  vector_type='dense',\n",
      "  data=[\n",
      "    {'vector_type': dense, 'values': [0.01113128662109375, -0.032684326171875, ..., -0.0265655517578125, -0.0256500244140625]},\n",
      "    {'vector_type': dense, 'values': [0.00984954833984375, -0.037322998046875, ..., -0.034210205078125, -0.0236663818359375]},\n",
      "    ... (92 more embeddings) ...,\n",
      "    {'vector_type': dense, 'values': [0.004116058349609375, -0.022979736328125, ..., -0.0416259765625, -0.0158843994140625]},\n",
      "    {'vector_type': dense, 'values': [0.035064697265625, -0.019744873046875, ..., -0.00901031494140625, -0.021484375]}\n",
      "  ],\n",
      "  usage={'total_tokens': 12589}\n",
      "), EmbeddingsList(\n",
      "  model='multilingual-e5-large',\n",
      "  vector_type='dense',\n",
      "  data=[\n",
      "    {'vector_type': dense, 'values': [0.043304443359375, -0.00968170166015625, ..., -0.048004150390625, -0.035064697265625]},\n",
      "    {'vector_type': dense, 'values': [0.0004839897155761719, -0.0018873214721679688, ..., -0.037994384765625, 0.007518768310546875]},\n",
      "    ... (48 more embeddings) ...,\n",
      "    {'vector_type': dense, 'values': [0.00751495361328125, -0.040740966796875, ..., -0.021392822265625, 0.00293731689453125]},\n",
      "    {'vector_type': dense, 'values': [0.019500732421875, -0.032470703125, ..., -0.033294677734375, -0.008270263671875]}\n",
      "  ],\n",
      "  usage={'total_tokens': 4621}\n",
      ")]\n"
     ]
    }
   ],
   "source": [
    "batched_embeddings=[]\n",
    "for i in batched_data:\n",
    "    embeddings = pc.inference.embed(\n",
    "        model=\"multilingual-e5-large\",\n",
    "        inputs=[d[\"text\"] for d in i],\n",
    "        parameters={\n",
    "            \"input_type\": \"passage\", \n",
    "            \"truncate\": \"END\"\n",
    "        }\n",
    "    )\n",
    "    batched_embeddings.append(embeddings)\n",
    "\n",
    "print(batched_embeddings)\n",
    "# da\n",
    "\n",
    "# embeddings = pc.inference.embed(\n",
    "#         model=\"multilingual-e5-large\",\n",
    "#         inputs=[d[\"text\"] for d in data],\n",
    "#         parameters={\n",
    "#             \"input_type\": \"passage\", \n",
    "#             \"truncate\": \"END\"\n",
    "#         }\n",
    "#     )\n",
    "\n",
    "# print(embeddings)\n"
   ]
  },
  {
   "cell_type": "code",
   "execution_count": 4,
   "metadata": {},
   "outputs": [],
   "source": [
    "query = \"tell me about accenture package\"\n",
    "# Convert the query into a numerical vector that Pinecone can search with\n",
    "query_embedding = pc.inference.embed(\n",
    "    model=\"multilingual-e5-large\",\n",
    "    inputs=[query],\n",
    "    parameters={\n",
    "        \"input_type\": \"query\"\n",
    "    }\n",
    ")"
   ]
  },
  {
   "cell_type": "code",
   "execution_count": 20,
   "metadata": {},
   "outputs": [],
   "source": [
    "import numpy as np\n",
    "def cosine(a,b):\n",
    "    dot_product = np.dot(a,b)\n",
    "    norm_vector1 = np.linalg.norm(a)\n",
    "    norm_vector2 = np.linalg.norm(b)\n",
    "    cosine_similarity = dot_product / (norm_vector1 * norm_vector2)\n",
    "    return cosine_similarity\n"
   ]
  },
  {
   "cell_type": "code",
   "execution_count": 15,
   "metadata": {},
   "outputs": [],
   "source": [
    "a=query_embedding.data[0].values"
   ]
  },
  {
   "cell_type": "code",
   "execution_count": 18,
   "metadata": {},
   "outputs": [],
   "source": [
    "b=embeddings.data[0].values"
   ]
  },
  {
   "cell_type": "code",
   "execution_count": 28,
   "metadata": {},
   "outputs": [],
   "source": [
    "metrics=[]\n",
    "for i in embeddings.data:\n",
    "    metrics.append({\"distance\":cosine(i.values,a),})\n",
    "# metrics"
   ]
  },
  {
   "cell_type": "code",
   "execution_count": 8,
   "metadata": {},
   "outputs": [
    {
     "ename": "NameError",
     "evalue": "name 'batched_embeddings' is not defined",
     "output_type": "error",
     "traceback": [
      "\u001b[1;31m---------------------------------------------------------------------------\u001b[0m",
      "\u001b[1;31mNameError\u001b[0m                                 Traceback (most recent call last)",
      "Cell \u001b[1;32mIn[8], line 1\u001b[0m\n\u001b[1;32m----> 1\u001b[0m \u001b[43mbatched_embeddings\u001b[49m[\u001b[38;5;241m0\u001b[39m]\u001b[38;5;241m.\u001b[39mdata[\u001b[38;5;241m0\u001b[39m]\n",
      "\u001b[1;31mNameError\u001b[0m: name 'batched_embeddings' is not defined"
     ]
    }
   ],
   "source": [
    "batched_embeddings[0].data[0]"
   ]
  },
  {
   "cell_type": "code",
   "execution_count": 2,
   "metadata": {},
   "outputs": [],
   "source": [
    "index_name = \"example\"\n",
    "\n",
    "if not pc.has_index(index_name):\n",
    "    pc.create_index(\n",
    "        name=index_name,\n",
    "        dimension=1024,\n",
    "        metric=\"cosine\",\n",
    "        spec=ServerlessSpec(\n",
    "            cloud=\"aws\", \n",
    "            region=\"us-east-1\"\n",
    "        ) \n",
    "        \n",
    "    ) \n",
    "\n",
    "while not pc.describe_index(index_name).status['ready']:\n",
    "    time.sleep(1)\n"
   ]
  },
  {
   "cell_type": "code",
   "execution_count": 3,
   "metadata": {},
   "outputs": [],
   "source": [
    "index = pc.Index(index_name)\n"
   ]
  },
  {
   "cell_type": "code",
   "execution_count": 115,
   "metadata": {},
   "outputs": [
    {
     "data": {
      "text/plain": [
       "EmbeddingsList(\n",
       "  model='multilingual-e5-large',\n",
       "  vector_type='dense',\n",
       "  data=[\n",
       "    {'vector_type': dense, 'values': [0.0014705657958984375, 0.00334930419921875, ..., -0.0237884521484375, -0.006641387939453125]},\n",
       "    {'vector_type': dense, 'values': [0.04315185546875, -0.0220489501953125, ..., -0.01593017578125, -0.007568359375]},\n",
       "    ... (92 more embeddings) ...,\n",
       "    {'vector_type': dense, 'values': [0.023590087890625, -0.03179931640625, ..., -0.039581298828125, 0.0009250640869140625]},\n",
       "    {'vector_type': dense, 'values': [0.037261962890625, -0.045867919921875, ..., -0.03106689453125, 0.00627899169921875]}\n",
       "  ],\n",
       "  usage={'total_tokens': 10908}\n",
       ")"
      ]
     },
     "execution_count": 115,
     "metadata": {},
     "output_type": "execute_result"
    }
   ],
   "source": [
    "batched_embeddings[0]"
   ]
  },
  {
   "cell_type": "code",
   "execution_count": 133,
   "metadata": {},
   "outputs": [],
   "source": [
    "\n",
    "records = []\n",
    "# for i in batched_embeddings:\n",
    "#     print(i[0])    \n",
    "#     for d, e in zip(data, i):\n",
    "#         # print(d[\"id\"])\n",
    "#         records.append({\n",
    "#             \"id\": d[\"id\"],\n",
    "#             \"values\": e[\"values\"],\n",
    "#             \"metadata\": {\n",
    "#                 \"source_text\": d[\"text\"]\n",
    "#             }\n",
    "#         })\n",
    "c=0\n",
    "for i in batched_embeddings:\n",
    "    for j in i:\n",
    "        records.append({\n",
    "            \"id\":data[c][\"id\"],\n",
    "            \"values\":j[\"values\"],\n",
    "            \"metadata\":{\n",
    "                \"source_text\":data[c][\"text\"]\n",
    "            }\n",
    "        })\n",
    "        c+=1\n",
    "# Upsert the records into the index\n",
    "# index.upsert(\n",
    "#     vectors=records,\n",
    "#     namespace=\"example\"\n",
    "# )\n",
    "\n",
    "# for batch in batched_embeddings:\n",
    "    # for d, e in zip(data, batch.data):\n",
    "    #     records = []\n",
    "    #     records.append({\n",
    "    #         \"id\": d[\"id\"],\n",
    "    #         \"values\": e[\"values\"],\n",
    "    #         \"metadata\": {\n",
    "    #             \"source_text\": d[\"text\"]\n",
    "    #         }\n",
    "    #     })\n",
    "    \n",
    "    # # Upsert the current batch\n",
    "    #     index.upsert(\n",
    "    #         vectors=records,\n",
    "    #         namespace=\"example\"\n",
    "    #     )\n",
    "        \n",
    "\n",
    "\n",
    "\n",
    "# records = []\n",
    "# for d, e in zip(data, embeddings):\n",
    "#     records.append({\n",
    "#         \"id\": d[\"id\"],\n",
    "#         \"values\": e[\"values\"],\n",
    "#         \"metadata\": {\n",
    "#             \"source_text\": d[\"text\"]\n",
    "#         }\n",
    "#     })\n",
    "# # Upsert the records into the index\n",
    "# index.upsert(\n",
    "#         vectors=records,\n",
    "#         namespace=\"example\"\n",
    "#     )\n"
   ]
  },
  {
   "cell_type": "code",
   "execution_count": 190,
   "metadata": {},
   "outputs": [],
   "source": [
    "# for i  in records:\n",
    "    # print(i[\"id\"])"
   ]
  },
  {
   "cell_type": "code",
   "execution_count": 139,
   "metadata": {},
   "outputs": [
    {
     "data": {
      "text/plain": [
       "{'upserted_count': 96}"
      ]
     },
     "execution_count": 139,
     "metadata": {},
     "output_type": "execute_result"
    }
   ],
   "source": [
    "index.upsert(\n",
    "    vectors=records[:96],\n",
    "    namespace=\"example0\"\n",
    ")\n"
   ]
  },
  {
   "cell_type": "code",
   "execution_count": 140,
   "metadata": {},
   "outputs": [
    {
     "data": {
      "text/plain": [
       "{'upserted_count': 96}"
      ]
     },
     "execution_count": 140,
     "metadata": {},
     "output_type": "execute_result"
    }
   ],
   "source": [
    "index.upsert(\n",
    "    vectors=records[96*1:96*2],\n",
    "    namespace=\"example1\"\n",
    ")\n"
   ]
  },
  {
   "cell_type": "code",
   "execution_count": 141,
   "metadata": {},
   "outputs": [
    {
     "data": {
      "text/plain": [
       "{'upserted_count': 96}"
      ]
     },
     "execution_count": 141,
     "metadata": {},
     "output_type": "execute_result"
    }
   ],
   "source": [
    "index.upsert(\n",
    "    vectors=records[96*2:96*3],\n",
    "    namespace=\"example2\"\n",
    ")"
   ]
  },
  {
   "cell_type": "code",
   "execution_count": 142,
   "metadata": {},
   "outputs": [
    {
     "data": {
      "text/plain": [
       "{'upserted_count': 96}"
      ]
     },
     "execution_count": 142,
     "metadata": {},
     "output_type": "execute_result"
    }
   ],
   "source": [
    "index.upsert(\n",
    "    vectors=records[96*3:96*4],\n",
    "    namespace=\"example3\"\n",
    ")"
   ]
  },
  {
   "cell_type": "code",
   "execution_count": 143,
   "metadata": {},
   "outputs": [
    {
     "data": {
      "text/plain": [
       "{'upserted_count': 96}"
      ]
     },
     "execution_count": 143,
     "metadata": {},
     "output_type": "execute_result"
    }
   ],
   "source": [
    "index.upsert(\n",
    "    vectors=records[96*4:96*5],\n",
    "    namespace=\"example4\"\n",
    ")"
   ]
  },
  {
   "cell_type": "code",
   "execution_count": 144,
   "metadata": {},
   "outputs": [
    {
     "data": {
      "text/plain": [
       "{'upserted_count': 96}"
      ]
     },
     "execution_count": 144,
     "metadata": {},
     "output_type": "execute_result"
    }
   ],
   "source": [
    "index.upsert(\n",
    "    vectors=records[96*5:96*6],\n",
    "    namespace=\"example5\"\n",
    ")"
   ]
  },
  {
   "cell_type": "code",
   "execution_count": 145,
   "metadata": {},
   "outputs": [
    {
     "data": {
      "text/plain": [
       "{'upserted_count': 52}"
      ]
     },
     "execution_count": 145,
     "metadata": {},
     "output_type": "execute_result"
    }
   ],
   "source": [
    "index.upsert(\n",
    "    vectors=records[96*6:],\n",
    "    namespace=\"example6\"\n",
    ")"
   ]
  },
  {
   "cell_type": "code",
   "execution_count": 150,
   "metadata": {},
   "outputs": [
    {
     "name": "stdout",
     "output_type": "stream",
     "text": [
      "{'dimension': 1024,\n",
      " 'index_fullness': 0.0,\n",
      " 'metric': 'cosine',\n",
      " 'namespaces': {'example0': {'vector_count': 96},\n",
      "                'example1': {'vector_count': 96},\n",
      "                'example2': {'vector_count': 94},\n",
      "                'example3': {'vector_count': 96},\n",
      "                'example4': {'vector_count': 96},\n",
      "                'example5': {'vector_count': 96},\n",
      "                'example6': {'vector_count': 52}},\n",
      " 'total_vector_count': 626,\n",
      " 'vector_type': 'dense'}\n"
     ]
    }
   ],
   "source": [
    "print(index.describe_index_stats())\n"
   ]
  },
  {
   "cell_type": "code",
   "execution_count": 148,
   "metadata": {},
   "outputs": [],
   "source": [
    "# a=[]\n",
    "# print(data)\n",
    "# for i in data:\n",
    "#     a.append(index.fetch(ids=[i[\"id\"]], namespace=\"example\"))\n",
    "# a"
   ]
  },
  {
   "cell_type": "code",
   "execution_count": 51,
   "metadata": {},
   "outputs": [],
   "source": [
    "# a"
   ]
  },
  {
   "cell_type": "code",
   "execution_count": 74,
   "metadata": {},
   "outputs": [
    {
     "data": {
      "text/plain": [
       "FetchResponse(namespace='example2', vectors={'accenture_description': Vector(id='accenture_description', values=[0.0277557373, -0.0253448486, -0.0421142578, -0.0440063477, 0.0270996094, -0.0309448242, -0.0363464355, 0.0534973145, 0.0662841797, -0.0302886963, 0.0366210938, 0.0219421387, -0.0553588867, 0.0157318115, -0.0294952393, 0.000319719315, -0.00894928, 0.051574707, -0.0190887451, -0.00929260254, 0.0399169922, -0.0219268799, -0.0188751221, -0.0210571289, -0.0469665527, -0.0185241699, -0.0488891602, -0.0391845703, -0.00644683838, -0.0117416382, 0.00338172913, 0.00405502319, -0.0496826172, -0.0390625, -0.0354309082, 0.041015625, 0.0376281738, 0.0254058838, -0.0243225098, 0.0452575684, -0.0292816162, 0.0281524658, -0.0210723877, -0.0391845703, -0.0263061523, 0.0215759277, 0.0545349121, -0.0245513916, -0.0265197754, 0.011177063, 0.0261688232, 0.0194396973, -0.013999939, -0.0267486572, -0.0104751587, 0.048248291, -0.0148849487, 0.0046081543, -0.0377502441, -0.032043457, -0.00396347046, -0.0426940918, 0.0347290039, -0.02684021, -0.0308990479, 0.0299224854, 0.0418701172, 0.0282440186, -0.0340576172, 0.0362243652, -0.024520874, 0.0124282837, -0.0495605469, -0.00618362427, -0.0429992676, -0.010269165, 0.0363464355, 0.00324249268, -0.00805664062, 0.00989532471, 0.0449523926, -0.013671875, 0.0263061523, 0.00704956055, 0.00979614258, 0.0596008301, 0.0124359131, 0.059387207, 0.0233612061, 0.0192108154, -0.0205535889, 0.0531921387, 0.00634002686, -0.0137481689, -0.0426635742, 0.0132904053, 0.0165710449, 0.0115585327, -0.00441741943, 0.00964355469, -0.014503479, -0.00444412231, 0.0431213379, -0.0066986084, -0.0367126465, 0.0148544312, -0.0175933838, 0.0450439453, 0.0185699463, -0.0186309814, 0.0085067749, 0.00429153442, 0.0199432373, -0.0190582275, -0.0336303711, 0.0072517395, -0.000279426575, -0.0404052734, -0.0300750732, 0.0501403809, 0.0379333496, 0.040802002, -0.0241699219, -0.044128418, 0.0398254395, -0.0442504883, 0.0344238281, 0.0472717285, 0.0165710449, 0.0123672485, 0.0305786133, 0.0307617188, -0.0317382812, -0.0085144043, -0.0340576172, -0.0251464844, 0.00524520874, -0.0265960693, -0.0226135254, -0.00495147705, 0.0123291016, 0.0403442383, 0.0456237793, -0.0309295654, -0.0306854248, -0.0347595215, -0.0519104, 0.0393371582, -0.0268554688, 0.0171966553, 0.00147151947, 0.0170135498, -0.0265808105, 0.00479888916, 0.022277832, -0.0371398926, 0.0149536133, 0.041809082, 0.0158996582, 0.00754547119, -0.0219268799, -0.0257263184, 0.016204834, -0.0129165649, 0.0190124512, -0.0113067627, 0.0255279541, 0.022277832, 0.00165843964, -0.0204620361, -0.0283050537, -0.0496521, 0.0116271973, -0.0308380127, -0.0222320557, 0.0112915039, 0.0223388672, 0.02003479, 0.0630493164, -0.00728988647, 0.0409851074, 0.0289001465, 0.0488586426, 0.00803375244, -0.0124130249, 0.0192718506, 0.0283050537, 0.00719451904, 0.0379333496, 0.0290679932, 0.0412597656, -0.0196380615, -0.0234680176, 0.0139389038, -0.0274353027, 0.034942627, 0.00180912018, 0.0160522461, -0.0248260498, -0.049987793, 0.0163726807, 0.0162506104, -0.0487670898, 0.0184783936, 0.0421447754, -0.0212554932, -0.0249938965, -0.0223236084, 0.0258026123, -0.0735473633, -0.0302429199, -0.0267028809, 0.053314209, 0.0281524658, -0.0483703613, -0.0720214844, -0.0160827637, -0.0400695801, 0.0233001709, -0.0123443604, -0.00396347046, 0.0449523926, 0.0327758789, 0.00734329224, 0.00379371643, 0.0498657227, 0.0313415527, 0.0200805664, 0.0445556641, -0.00981903076, 0.0145263672, 0.0168609619, -0.0463256836, -0.0168609619, 0.00379371643, -0.00898742676, -0.0369262695, -0.0201568604, 0.0290679932, 0.00513458252, -0.0574035645, -0.012008667, 0.0177459717, -0.000461816788, -0.0199432373, -0.00847625732, -0.0121612549, -0.0438537598, 0.029586792, -0.0468139648, 0.0437011719, 0.0284881592, -0.0141983032, -0.0163421631, 0.0425415039, 0.0245361328, 0.0217590332, 0.000668525696, -0.0263061523, -0.0223236084, 0.0248565674, 0.0240325928, -0.0116500854, 0.0502624512, 0.0197296143, 0.024307251, -0.00361061096, -0.0362854, -0.027633667, -0.0360717773, -0.0466003418, -0.0385131836, -0.0285797119, 0.00487518311, -0.0150222778, 0.017791748, -0.0341796875, -0.0282592773, -0.0118942261, -0.00583648682, -0.0192718506, -0.0123596191, 0.0135726929, -0.0335388184, 0.00844574, 0.00645828247, 0.00933837891, 0.00204658508, 0.0231323242, -0.0146408081, 0.0251464844, -0.00352478027, 0.0876464844, 0.0213928223, 0.020324707, 0.0498046875, -0.0334777832, -0.0977172852, -0.0257720947, 0.00294876099, -0.0388183594, -0.0563964844, 0.0245056152, 0.0386352539, -0.0303649902, -0.0466918945, 0.00706100464, 0.0343933105, -0.0498657227, 0.0289459229, 0.040222168, 0.0231781, 0.0193786621, -0.0427856445, -0.041229248, -0.035736084, -0.0162353516, 0.00539398193, -0.0395507812, 0.0291137695, -0.0203399658, 0.00101089478, -0.0201263428, 0.0570373535, 0.0226593018, 0.00490188599, 0.0121765137, -0.0270080566, 0.0135726929, -0.0149612427, 0.0288543701, -0.0254516602, -0.010559082, 0.0830688477, -0.031463623, 0.0293731689, -0.0624389648, 0.0218048096, 0.0247344971, -0.0239257812, 0.0389099121, -0.0451660156, -0.0249633789, 0.0121536255, 0.0278778076, -0.0529785156, 0.0408935547, -0.0272369385, 0.0190124512, -0.00800323486, 0.00930023193, -0.0214385986, -0.000449180603, 0.0104751587, -0.0104141235, 0.0638427734, 0.0317077637, -0.0542907715, 0.0372314453, -0.0255737305, 0.0147171021, 0.0100708008, 0.0294189453, -0.0169525146, -0.0243377686, -0.000321626663, 0.0216674805, -0.0193786621, -0.0397338867, -0.014503479, 0.0286102295, 0.0165863037, -0.0185241699, 0.0132980347, -0.000702858, -0.0218658447, -0.0538024902, -0.0372924805, 0.0143661499, -0.0341796875, -0.0454711914, -0.0478820801, -0.0245056152, -0.00774383545, -0.00771331787, -0.00896453857, 0.217163086, -0.0109329224, 0.0274047852, -0.0257720947, 0.00662231445, 0.00953674316, -0.0181274414, 0.0380249023, 0.0261688232, 0.0295410156, -0.0238189697, -0.00937652588, 0.0124053955, -0.0170288086, 0.0348205566, 0.037109375, 0.00698471069, 0.0226745605, 0.0405273438, 0.00667190552, 0.0511169434, -0.0213928223, 0.0406188965, -0.00125789642, -0.0584106445, -0.0310058594, -0.00230026245, 0.014755249, -0.021774292, 0.0323791504, -0.0100250244, 0.0307769775, -0.0342102051, -0.0343322754, 0.00121879578, 0.0129241943, 0.0318908691, -0.0219421387, 0.0310058594, -0.0173034668, -0.0259857178, -0.0231628418, -0.046875, 0.0322875977, -0.0197601318, 0.0466918945, 0.038482666, -0.0372924805, -0.00636672974, -0.00479888916, 0.0145874023, 0.0177307129, -0.0243988037, -0.0307769775, -0.0175476074, -0.0444946289, -0.0377197266, -0.0357055664, 0.00650787354, 0.0281524658, 0.0628662109, -0.0431518555, -0.00656890869, -0.0113525391, 0.00919342, 0.0321960449, -0.0263214111, -0.0482177734, -0.0577087402, -0.00559234619, -0.0377197266, -0.00506591797, -0.0284118652, 0.0279846191, 0.000511646271, -0.0325622559, -0.0245666504, 0.039276123, -0.00703430176, -0.0104217529, 0.0102310181, -0.018447876, -0.0160522461, 0.0473022461, 0.0314331055, -0.0290679932, 0.0522460938, 0.0405273438, -0.0519714355, 0.0283966064, 0.0196380615, 0.0224609375, -0.0243988037, 0.0450744629, 0.015914917, -0.0499267578, 0.00728988647, 0.000288009644, -0.0534973145, -0.0328369141, -0.0248260498, -0.0344848633, -0.0299072266, -0.0316162109, -0.0288085938, -0.0254669189, 0.0122833252, 0.0526123047, -0.00504303, -0.00511169434, 0.014831543, 0.0213012695, 0.00562286377, 0.00952148438, 0.0372009277, 0.0160369873, 0.0523071289, -0.0178070068, 0.0253601074, 0.020980835, -0.0099029541, 0.0621948242, -0.0558776855, 0.0539245605, -0.00895690918, 0.021774292, -0.0452575684, -0.00225830078, 0.0345153809, -0.000906944275, 0.00360107422, -0.0294189453, -0.0311431885, 0.0467224121, -0.0347290039, -0.0292663574, 0.0480957031, -0.040802002, 0.00195884705, 0.0367736816, -0.0243225098, 0.0247344971, -0.0452270508, 0.0338134766, 0.0175476074, 0.0433044434, 0.00232505798, -0.0219268799, -0.0213012695, -0.0183868408, 0.051361084, 0.00775146484, 0.0546569824, 0.0167236328, 0.00434112549, -0.0543518066, 0.00662994385, 0.0144729614, 0.0724487305, -0.00848388672, -0.0348815918, -0.0146636963, 0.0221099854, 0.101257324, 0.0328674316, 0.0415039062, -0.0305786133, 0.0425415039, 0.00723648071, 0.0249023438, -0.0147476196, -0.0358276367, 0.00364494324, 0.020904541, 0.0288543701, -0.0146942139, -0.0151977539, 0.0100631714, -0.0401611328, -0.0198669434, -0.022354126, 0.0010881424, 0.0215606689, -0.0496521, -0.0229797363, -0.0244903564, 0.0270996094, -0.0389099121, -0.00354003906, 0.0127487183, -0.0100708008, 0.0805664062, -0.0314941406, -0.0156860352, -0.0392150879, 0.000242590904, 0.0193634033, 0.0307312012, -0.0151977539, -0.00890350342, -0.0184326172, -0.0469055176, -0.0138778687, -0.026473999, -0.0398864746, 0.0014629364, -0.0089263916, 0.0167388916, 0.0259399414, 0.0298614502, -0.00163841248, -0.0257263184, 0.00786590576, 0.0233306885, 0.0329589844, 0.0300292969, 0.0614318848, 0.0237579346, 0.0299530029, -0.0484619141, 0.00352668762, 0.0123672485, 0.0331420898, -0.0353393555, -0.04296875, -0.027053833, 0.0312194824, 0.0174102783, -0.00932312, -0.0393371582, 0.0205841064, -0.0310821533, -0.0192108154, -0.041015625, -0.0343322754, -0.0176696777, 0.0321655273, 0.0408935547, -0.000594139099, -0.0502624512, 0.0194854736, -0.00684356689, 0.0373840332, 0.000121951103, 0.00621414185, 0.0486450195, -0.0390930176, -0.0328674316, 0.0480651855, 0.030090332, 0.0203399658, -0.0751342773, 0.0286865234, 0.0437011719, -0.0451965332, -0.056427002, 0.000883102417, -0.0274353027, -0.0285644531, -0.0493774414, 0.0224609375, -0.010848999, -0.0244293213, 0.0089263916, -0.0514221191, 0.0469055176, 0.0159606934, -0.0278625488, -0.0201263428, -0.0386352539, 0.0490112305, 0.00476074219, -0.0261535645, -0.0624389648, 0.0458068848, 0.0374755859, -0.0585327148, -0.0301818848, -0.0195465088, -0.0426635742, -0.0302276611, 0.0208282471, -0.0264129639, -0.00364494324, 0.038269043, 0.0217437744, -0.0377197266, 0.0437316895, 0.00770950317, -0.0303497314, -0.0114059448, 0.0371398926, -0.0126342773, 0.0223083496, -0.0346069336, -0.08203125, -0.0153579712, -0.01171875, -0.0184783936, -0.0201568604, 0.0519104, -0.0227355957, -0.0366821289, -0.00284194946, 0.00927734375, 0.0510253906, -0.039642334, -0.0361328125, 0.0412597656, 0.0258026123, 0.00461196899, -0.0314025879, 0.0204772949, 0.0325317383, 0.00833129883, 0.0083770752, 0.0374755859, -0.0392150879, -0.0233764648, 0.0406188965, -0.0170593262, -0.0372009277, -0.0225219727, 0.00723266602, 0.0268554688, 0.0415649414, 0.0103530884, 0.0519714355, 0.0208129883, 0.0202331543, 0.0201263428, -0.0249786377, -0.0273895264, 0.00226402283, -0.040435791, -0.0180664062, -0.0186462402, -0.00567245483, 0.00327682495, -0.0365600586, -0.0227508545, -0.0061416626, 0.0046081543, -0.0172424316, 0.0661621094, -0.00816345215, -0.000793933868, 0.0290985107, -0.00898742676, -0.0153808594, -0.0175933838, 0.0462036133, -0.0114059448, -0.00632858276, -0.0179443359, 0.0367736816, -0.0225372314, 0.0252227783, 0.00680923462, -0.0589294434, -0.0512695312, -0.00914764404, 0.0230255127, -0.0106277466, -0.0153427124, 0.00706481934, -0.0087890625, -0.00375175476, -0.0345153809, 0.0210723877, -0.0262146, -0.000649452209, -0.0803222656, 0.00654220581, -0.0586547852, 0.00791168213, -0.0276641846, 0.00228118896, 0.0366821289, -0.014175415, 0.0137481689, -0.0574951172, -0.0191955566, -0.014289856, -0.00325012207, -0.044708252, 0.00357055664, 0.0277709961, -0.00977325439, 0.0292663574, -0.0223236084, 0.0361328125, -0.0208435059, 0.0199432373, -0.0994262695, -0.00267410278, -0.0189666748, -0.0096206665, -0.0409240723, -0.0154876709, -0.0368347168, 0.0292816162, 0.0201263428, -0.0409240723, 0.0142440796, 0.0263214111, 0.0465087891, -0.000726699829, 0.0118484497, 0.0372924805, 0.0377502441, -0.0135726929, -0.00965881348, 0.0263824463, 0.0366821289, -0.0158233643, -0.000958919525, -0.000887393951, 0.0720214844, 0.0416870117, 0.0170593262, 0.00605392456, -0.0345153809, -0.0405273438, -0.0124740601, -0.0212249756, 0.0171051025, 0.0574035645, -0.0190734863, 0.0308837891, -0.0191955566, -0.0219726562, -0.0356750488, 0.00985717773, -0.0275115967, 0.0207519531, -0.0347290039, 0.0137939453, -0.0179748535, 0.0296630859, 0.0294342041, -0.0158233643, 0.0193939209, -0.0406494141, -0.0216522217, 0.00792694092, 0.022277832, 0.0441894531, 0.0411987305, 0.0313110352, 0.014503479, 0.0125656128, 0.0127258301, 0.0408630371, -0.00920105, -0.0060043335, -0.0425720215, -0.0428161621, -0.00761032104, -0.0160369873, -0.104797363, -0.0256652832, -0.0338745117, 0.0504455566, -0.00339126587, -0.0455322266, 0.0168609619, -0.00833892822, 0.0360717773, -0.00357627869, -0.0172424316, -0.0168762207, 0.0459289551, 0.00454330444, -0.019241333, -0.0339355469, 0.0130996704, 0.0491027832, -0.0312805176, 0.00743484497, 0.00918579102, -0.0316772461, -0.0620117188, 0.0583190918, -0.0267333984, -0.00342178345, 0.00759124756, -0.0118255615, -0.0218658447, 0.0135040283, -0.0323791504, -0.0344543457, 0.00335121155, 0.0225372314, -0.025894165, -0.0270690918, 0.00862121582, 0.00786590576, 0.0261688232, 0.0179748535, 0.0634765625, -0.0288848877, 0.0419616699, -0.0262451172, -0.0408630371, -0.0054473877, -0.0137939453, -0.0252685547, -0.0260467529, 0.0087890625, 0.0158081055, -0.00742721558, -0.0322265625, 0.0160675049, -0.00468826294, -0.00995636, 0.0516967773, -0.035949707, 0.0175018311, 0.00364494324, 0.0328979492, -0.0155410767, 0.0110702515, -0.0313110352, 0.0475769043, -0.0703735352, 0.0471496582, 0.0025844574, -0.000617980957, -0.0146179199, -0.0130615234, 0.106262207, -0.0197296143, 0.00184345245, -0.0296936035, -0.0404968262, -0.0256347656, -0.013885498, -0.0124130249, 0.00646972656, -0.041015625, -0.0336303711, -0.0297546387, -0.0120162964, 0.0255279541, -0.0211792, -0.0475158691, 0.0157165527, 0.0204162598, 0.0315551758, -0.0109176636, 0.00375175476, 0.0185394287, 0.0216674805, 0.0220947266, 0.0128936768, -0.0220031738, 0.0191955566, -0.0145492554, -0.0643920898, 0.0261230469, 0.00876617432, -0.0292816162, -0.0261077881, 0.00643157959, 0.0299072266, -0.0372924805, 0.0216827393, 0.0335388184, -0.0108947754, 0.0323791504, 0.0246429443, 0.00775146484, 0.014755249, 0.0170440674, 0.00900268555, -0.0166473389, 0.0255584717, -0.000131964684, 0.0237731934, 0.0141830444, 0.0269775391, -0.0433349609, 0.0232086182, -0.0414123535, 0.00956726074, -0.0191497803, 0.0557556152, 0.0327148438, -0.033996582, -0.0175628662, 0.0159606934, -0.0300292969, 0.00518417358, 0.0163574219, -0.00457763672, 0.0144805908, 0.00386810303, -0.0185699463, -0.0251922607, 1.31726265e-05, -0.00706100464, -0.00519943237, 0.0188598633, 0.0389709473, -0.0229492188, 0.0151748657, 0.0134506226, 0.0317993164, 0.0154647827, -4.88162041e-05, 0.0118942261, 0.0010509491, 0.0516052246, 0.0518798828, 0.0238342285, -0.00856781, 0.0129470825, -0.0316467285, 0.00959777832, -0.0167236328, 0.0398254395, -0.0408630371, 0.00630950928, 0.00481414795, 0.0233459473, 0.0202178955, 0.00104522705, -0.0434570312, -0.02394104, 0.00651550293, -0.00377845764, -0.00154304504, 0.0143661499, 0.00846862793, -0.0178375244, -0.0115356445, -0.00509262085], metadata={'source_text': 'Accenture is a global professional services company that specializes in digital transformation, cloud computing, artificial intelligence, and consulting solutions. Headquartered in Dublin, Ireland, it operates in over 120 countries with approximately 743,000 employees, serving 75% of Fortune Global 500 companies. Accenture helps businesses, governments, and organizations optimize operations, accelerate growth, and enhance customer experiences through cutting-edge technologies. The company offers services across five key areas: Strategy & Consulting, Technology, Operations, Industry X, and Song, enabling clients to drive innovation and achieve sustainable success. With strong partnerships with technology leaders like Microsoft, Google, AWS, SAP, and Oracle, Accenture delivers high-impact solutions tailored to industry needs. It is also committed to sustainability, diversity, and corporate social responsibility, striving for net-zero emissions and fostering an inclusive workplace. By leveraging the power of technology and human ingenuity, Accenture aims to create 360° value for clients, employees, partners, and communities, shaping the future of business and technology. For more information, visit www.accenture.com.'}, sparse_values=None)}, usage={'read_units': 1})"
      ]
     },
     "execution_count": 74,
     "metadata": {},
     "output_type": "execute_result"
    }
   ],
   "source": [
    "index.fetch(ids=[\"accenture_description\"], namespace=\"example2\")\n"
   ]
  },
  {
   "cell_type": "code",
   "execution_count": null,
   "metadata": {},
   "outputs": [],
   "source": []
  },
  {
   "cell_type": "code",
   "execution_count": 7,
   "metadata": {},
   "outputs": [
    {
     "name": "stdout",
     "output_type": "stream",
     "text": [
      "[]\n",
      "[]\n"
     ]
    }
   ],
   "source": [
    "# Define your query\n",
    "query=\"1) roles offered by realpage\\n     2) roles offered by razor pay\"\n",
    "query = \"tell me about accenture package\"\n",
    "query2=\"package of sde roles\"\n",
    "query3=\"roles offered by factset\"\n",
    "query4=\"Is python necessary for full stack roles\"\n",
    "company_name=(extract_organization_spacy(query))\n",
    "# Convert the query into a numerical vector that Pinecone can search with\n",
    "query_embedding = pc.inference.embed(\n",
    "    model=\"multilingual-e5-large\",\n",
    "    inputs=[query],\n",
    "    parameters={\n",
    "        \"input_type\": \"query\"\n",
    "    }\n",
    ")\n",
    "\n",
    "res=[]\n",
    "for i in range(7):\n",
    "    results = index.query(\n",
    "    namespace=f\"example{i}\",\n",
    "    vector=query_embedding[0].values,\n",
    "    top_k=3,\n",
    "    include_values=False,\n",
    "    include_metadata=True\n",
    "    )\n",
    "    res.append(results)\n",
    "# Search the index for the three most similar vectors\n",
    "results = index.query(\n",
    "    namespace=\"example\",\n",
    "    vector=query_embedding[0].values,\n",
    "    top_k=3,\n",
    "    include_values=False,\n",
    "    include_metadata=True\n",
    ")\n",
    "print(results['matches'])\n",
    "\n",
    "doc=[]\n",
    "for i in results['matches']:\n",
    "    doc.append({\"id\":i['id'],\"source_text\":i['metadata']['source_text']})\n",
    "\n"
   ]
  },
  {
   "cell_type": "code",
   "execution_count": 8,
   "metadata": {},
   "outputs": [],
   "source": [
    "doc=[]\n",
    "for j in res:\n",
    "    for i in j['matches']:\n",
    "        doc.append({\"id\":i['id'],\"source_text\":i['metadata']['source_text']})\n",
    "# doc"
   ]
  },
  {
   "cell_type": "code",
   "execution_count": 9,
   "metadata": {},
   "outputs": [
    {
     "data": {
      "text/plain": [
       "[{'matches': [{'id': 'accenture_role_description',\n",
       "               'metadata': {'source_text': 'Accenture Role description: '\n",
       "                                           'Packaged App development associate '\n",
       "                                           'Join our team in developing, '\n",
       "                                           'designing, and maintaining '\n",
       "                                           'technologies that enhance the way '\n",
       "                                           'our clients and the world operate. '\n",
       "                                           'You will work in challenging and '\n",
       "                                           'dynamic environments, leveraging '\n",
       "                                           'your versatility to create and '\n",
       "                                           'support technology solutions that '\n",
       "                                           'align with client requirements, '\n",
       "                                           'from analysis to implementation. As '\n",
       "                                           'an Associate Software Engineer, '\n",
       "                                           'your role will involve designing, '\n",
       "                                           'building, testing, assembling, '\n",
       "                                           'supporting, and configuring '\n",
       "                                           'applications based on business '\n",
       "                                           'requirements. You will be expected '\n",
       "                                           'to understand business drivers that '\n",
       "                                           'impact performance and develop '\n",
       "                                           'software solutions accordingly. '\n",
       "                                           'Additionally, you will incorporate '\n",
       "                                           'emerging technology trends into '\n",
       "                                           'solutions, contribute to automation '\n",
       "                                           'initiatives, develop new '\n",
       "                                           'functionalities, and integrate them '\n",
       "                                           'into existing systems. You will '\n",
       "                                           'also be responsible for incident '\n",
       "                                           'resolution and customer support '\n",
       "                                           'through voice interaction, email, '\n",
       "                                           'chat, or remote assistance.We are '\n",
       "                                           'looking for candidates with the '\n",
       "                                           'ability to anticipate and resolve '\n",
       "                                           'business issues with agility. You '\n",
       "                                           'should be multi-disciplinary, '\n",
       "                                           'versatile, and quick to learn and '\n",
       "                                           'apply new skills. Strong analytical '\n",
       "                                           'and problem-solving abilities, '\n",
       "                                           'along with proficient verbal and '\n",
       "                                           'written communication skills, are '\n",
       "                                           'essential. You must be capable of '\n",
       "                                           'delivering high-quality code on '\n",
       "                                           'time, participating in peer '\n",
       "                                           'reviews, and taking ownership of '\n",
       "                                           'solution implementation. '\n",
       "                                           'Additionally, the role involves '\n",
       "                                           'supporting infrastructure '\n",
       "                                           'operations and managing IT '\n",
       "                                           'production systems and services. '\n",
       "                                           'Candidates must also be flexible to '\n",
       "                                           'relocate anywhere in India for '\n",
       "                                           'project deployment and work in 24x7 '\n",
       "                                           'shifts based on business '\n",
       "                                           'requirements.'},\n",
       "               'score': 0.828654766,\n",
       "               'values': []},\n",
       "              {'id': 'accenture_additional_info',\n",
       "               'metadata': {'source_text': 'Accenture offers two roles with '\n",
       "                                           'different salary packages. The '\n",
       "                                           'Associate Software Engineer role '\n",
       "                                           'comes with a package of Rs. 4.50 '\n",
       "                                           'LPA, which includes a fixed pay of '\n",
       "                                           'Rs. 3.83 LPA, a performance bonus '\n",
       "                                           'of Rs. 32,500 per annum, a one-time '\n",
       "                                           'joining bonus of Rs. 25,000, along '\n",
       "                                           'with additional benefits such as '\n",
       "                                           'gratuity and insurance. The '\n",
       "                                           'Advanced Associate Software '\n",
       "                                           'Engineer role offers a Rs. 6.50 LPA '\n",
       "                                           'package, with a fixed pay of Rs. '\n",
       "                                           '5.41 LPA, a performance-based pay '\n",
       "                                           'of Rs. 82,500 per performance '\n",
       "                                           'cycle, and a one-time joining bonus '\n",
       "                                           'of Rs. 26,500. Employees also '\n",
       "                                           'receive additional benefits such as '\n",
       "                                           'free transport, house rent '\n",
       "                                           'allowance, medical allowance, and '\n",
       "                                           'health insurance with a Rs. 4 lakh '\n",
       "                                           'cover, which is an advantage over '\n",
       "                                           'competitors like TCS, CTS, Infosys, '\n",
       "                                           'and Wipro.'},\n",
       "               'score': 0.82721889,\n",
       "               'values': []},\n",
       "              {'id': 'accenture_description',\n",
       "               'metadata': {'source_text': 'Accenture is a global professional '\n",
       "                                           'services company that specializes '\n",
       "                                           'in digital transformation, cloud '\n",
       "                                           'computing, artificial intelligence, '\n",
       "                                           'and consulting solutions. '\n",
       "                                           'Headquartered in Dublin, Ireland, '\n",
       "                                           'it operates in over 120 countries '\n",
       "                                           'with approximately 743,000 '\n",
       "                                           'employees, serving 75% of Fortune '\n",
       "                                           'Global 500 companies. Accenture '\n",
       "                                           'helps businesses, governments, and '\n",
       "                                           'organizations optimize operations, '\n",
       "                                           'accelerate growth, and enhance '\n",
       "                                           'customer experiences through '\n",
       "                                           'cutting-edge technologies. The '\n",
       "                                           'company offers services across five '\n",
       "                                           'key areas: Strategy & Consulting, '\n",
       "                                           'Technology, Operations, Industry X, '\n",
       "                                           'and Song, enabling clients to drive '\n",
       "                                           'innovation and achieve sustainable '\n",
       "                                           'success. With strong partnerships '\n",
       "                                           'with technology leaders like '\n",
       "                                           'Microsoft, Google, AWS, SAP, and '\n",
       "                                           'Oracle, Accenture delivers '\n",
       "                                           'high-impact solutions tailored to '\n",
       "                                           'industry needs. It is also '\n",
       "                                           'committed to sustainability, '\n",
       "                                           'diversity, and corporate social '\n",
       "                                           'responsibility, striving for '\n",
       "                                           'net-zero emissions and fostering an '\n",
       "                                           'inclusive workplace. By leveraging '\n",
       "                                           'the power of technology and human '\n",
       "                                           'ingenuity, Accenture aims to create '\n",
       "                                           '360° value for clients, employees, '\n",
       "                                           'partners, and communities, shaping '\n",
       "                                           'the future of business and '\n",
       "                                           'technology. For more information, '\n",
       "                                           'visit www.accenture.com.'},\n",
       "               'score': 0.826230347,\n",
       "               'values': []}],\n",
       "  'namespace': 'example0',\n",
       "  'usage': {'read_units': 6}},\n",
       " {'matches': [{'id': 'endurance_additional_info',\n",
       "               'metadata': {'source_text': 'Endurance offers a competitive '\n",
       "                                           'salary package for freshers, '\n",
       "                                           'typically ranging from ₹5-7 LPA, '\n",
       "                                           'depending on the role and location. '\n",
       "                                           'The package includes a fixed '\n",
       "                                           'salary, performance bonuses, and '\n",
       "                                           'additional benefits such as health '\n",
       "                                           'insurance and professional '\n",
       "                                           'development opportunities. '\n",
       "                                           'Endurance is known for its '\n",
       "                                           'employee-friendly policies and '\n",
       "                                           'opportunities for global exposure.'},\n",
       "               'score': 0.797757685,\n",
       "               'values': []},\n",
       "              {'id': 'align_technology_role_description',\n",
       "               'metadata': {'source_text': 'Align Technology Role description: '\n",
       "                                           'Software Development Engineer Join '\n",
       "                                           'our team as a Software Development '\n",
       "                                           'Engineer and contribute to the '\n",
       "                                           'development of cutting-edge '\n",
       "                                           'software solutions that power '\n",
       "                                           'Invisalign and iTero products. You '\n",
       "                                           'will work on designing, developing, '\n",
       "                                           'and maintaining software '\n",
       "                                           'applications that support dental '\n",
       "                                           'professionals and patients. As a '\n",
       "                                           'Software Development Engineer, your '\n",
       "                                           'responsibilities will include '\n",
       "                                           'coding, testing, debugging, and '\n",
       "                                           'optimizing software solutions, as '\n",
       "                                           'well as collaborating with '\n",
       "                                           'cross-functional teams to deliver '\n",
       "                                           'high-quality products. We are '\n",
       "                                           'looking for candidates with strong '\n",
       "                                           'programming skills, a passion for '\n",
       "                                           'technology, and the ability to work '\n",
       "                                           'in a fast-paced environment. Strong '\n",
       "                                           'problem-solving skills and the '\n",
       "                                           'ability to work collaboratively are '\n",
       "                                           'essential for this role.'},\n",
       "               'score': 0.786149502,\n",
       "               'values': []},\n",
       "              {'id': 'qualiting_additional_info',\n",
       "               'metadata': {'source_text': 'Qualiting offers a competitive '\n",
       "                                           'salary package for freshers, '\n",
       "                                           'typically ranging from ₹4-6 LPA, '\n",
       "                                           'depending on the role and location. '\n",
       "                                           'The package includes a fixed '\n",
       "                                           'salary, performance bonuses, and '\n",
       "                                           'additional benefits such as health '\n",
       "                                           'insurance and professional '\n",
       "                                           'development opportunities. '\n",
       "                                           'Qualiting is known for its '\n",
       "                                           'employee-friendly policies and '\n",
       "                                           'opportunities for growth in the '\n",
       "                                           'software testing industry.'},\n",
       "               'score': 0.785888731,\n",
       "               'values': []}],\n",
       "  'namespace': 'example1',\n",
       "  'usage': {'read_units': 6}},\n",
       " {'matches': [{'id': 'backbase_additional_info',\n",
       "               'metadata': {'source_text': 'Backbase offers a competitive '\n",
       "                                           'salary package for freshers, '\n",
       "                                           'typically ranging from ₹6-10 LPA, '\n",
       "                                           'depending on the role and location. '\n",
       "                                           'The package includes a fixed '\n",
       "                                           'salary, performance bonuses, and '\n",
       "                                           'additional benefits such as health '\n",
       "                                           'insurance, flexible work hours, and '\n",
       "                                           'opportunities for professional '\n",
       "                                           'development. Backbase is known for '\n",
       "                                           'its collaborative work culture, '\n",
       "                                           'focus on innovation, and commitment '\n",
       "                                           'to employee growth in the fintech '\n",
       "                                           'industry.'},\n",
       "               'score': 0.783724248,\n",
       "               'values': []},\n",
       "              {'id': 'modak_additional_info',\n",
       "               'metadata': {'source_text': 'Modak offers a competitive salary '\n",
       "                                           'package for freshers, typically '\n",
       "                                           'ranging from ₹4-6 LPA, depending on '\n",
       "                                           'the role and location. The package '\n",
       "                                           'includes a fixed salary, '\n",
       "                                           'performance bonuses, and additional '\n",
       "                                           'benefits such as health insurance '\n",
       "                                           'and professional development '\n",
       "                                           'opportunities. Modak is known for '\n",
       "                                           'its employee-friendly policies and '\n",
       "                                           'opportunities for growth in the '\n",
       "                                           'data engineering industry.'},\n",
       "               'score': 0.783304155,\n",
       "               'values': []},\n",
       "              {'id': 'altair_india_description',\n",
       "               'metadata': {'source_text': 'Altair is a global technology '\n",
       "                                           'company specializing in simulation, '\n",
       "                                           'high-performance computing (HPC), '\n",
       "                                           'and data analytics solutions. '\n",
       "                                           'Altair India, headquartered in '\n",
       "                                           'Bengaluru, is a key part of '\n",
       "                                           \"Altair's global operations, \"\n",
       "                                           'focusing on providing innovative '\n",
       "                                           'software tools and services to '\n",
       "                                           'industries such as automotive, '\n",
       "                                           'aerospace, manufacturing, and '\n",
       "                                           'healthcare. The company is known '\n",
       "                                           'for its expertise in engineering '\n",
       "                                           'simulation, artificial intelligence '\n",
       "                                           '(AI), and cloud computing, helping '\n",
       "                                           'businesses optimize their designs '\n",
       "                                           'and decision-making processes.'},\n",
       "               'score': 0.778140128,\n",
       "               'values': []}],\n",
       "  'namespace': 'example2',\n",
       "  'usage': {'read_units': 6}},\n",
       " {'matches': [{'id': 'movate_role_description_dcx',\n",
       "               'metadata': {'source_text': 'Movate Role Description: Digital '\n",
       "                                           'Customer Experience (DCX) '\n",
       "                                           'Associate. As a DCX Associate, you '\n",
       "                                           'will craft human-centered '\n",
       "                                           'technology solutions aimed at '\n",
       "                                           'enhancing customer experiences. '\n",
       "                                           'Your role involves providing tech '\n",
       "                                           'support services for small '\n",
       "                                           'office/home office segments, '\n",
       "                                           'managing customer interactions, and '\n",
       "                                           'ensuring high satisfaction levels. '\n",
       "                                           'Candidates should have strong '\n",
       "                                           'communication skills, empathy, and '\n",
       "                                           'a keen interest in improving '\n",
       "                                           'customer journeys.'},\n",
       "               'score': 0.795191884,\n",
       "               'values': []},\n",
       "              {'id': 'movate_additional_info',\n",
       "               'metadata': {'source_text': 'Movate offers competitive '\n",
       "                                           'compensation packages, including a '\n",
       "                                           'fixed salary of 2.4LPA for DCX '\n",
       "                                           'role, 3.2 - 3.75LPA for EPS role, '\n",
       "                                           '2.5 - 2.8LPA for DIS role, '\n",
       "                                           'performance-based bonuses, and '\n",
       "                                           'benefits such as health insurance '\n",
       "                                           'and professional development '\n",
       "                                           'opportunities. The company is '\n",
       "                                           'recognized for its '\n",
       "                                           'employee-friendly policies and '\n",
       "                                           'provides ample growth prospects '\n",
       "                                           'within the digital technology and '\n",
       "                                           'customer experience sectors.'},\n",
       "               'score': 0.792590082,\n",
       "               'values': []},\n",
       "              {'id': 'talentio_academy_additional_info',\n",
       "               'metadata': {'source_text': 'Talentio Academy offers a '\n",
       "                                           'competitive salary package for '\n",
       "                                           'freshers, typically ranging from '\n",
       "                                           '₹4-6 LPA, depending on the role and '\n",
       "                                           'location. The package includes a '\n",
       "                                           'fixed salary, performance bonuses, '\n",
       "                                           'and additional benefits such as '\n",
       "                                           'professional development '\n",
       "                                           'opportunities and a supportive work '\n",
       "                                           'environment. Talentio Academy is '\n",
       "                                           'known for its focus on skill '\n",
       "                                           'development, career growth, and '\n",
       "                                           'empowering individuals to succeed '\n",
       "                                           'in the technology industry.'},\n",
       "               'score': 0.788085163,\n",
       "               'values': []}],\n",
       "  'namespace': 'example3',\n",
       "  'usage': {'read_units': 6}},\n",
       " {'matches': [{'id': 'ltimindtree_additional_info',\n",
       "               'metadata': {'source_text': 'LTIMindtree offers a competitive '\n",
       "                                           'salary package for freshers, '\n",
       "                                           'typically starting from ₹3.5 LPA, '\n",
       "                                           'with variations based on role and '\n",
       "                                           'location. The compensation package '\n",
       "                                           'includes a fixed salary, '\n",
       "                                           'performance-based incentives, and '\n",
       "                                           'additional benefits such as health '\n",
       "                                           'insurance, provident fund, and '\n",
       "                                           'opportunities for professional '\n",
       "                                           'development. LTIMindtree is known '\n",
       "                                           'for its employee-centric policies, '\n",
       "                                           'fostering a culture of continuous '\n",
       "                                           'learning, innovation, and career '\n",
       "                                           'growth in the IT services '\n",
       "                                           'industry.'},\n",
       "               'score': 0.798246086,\n",
       "               'values': []},\n",
       "              {'id': 'vinuruk_additional_info',\n",
       "               'metadata': {'source_text': 'Vinuruk offers a competitive salary '\n",
       "                                           'package for freshers, typically '\n",
       "                                           'ranging from ₹3-5 LPA, depending on '\n",
       "                                           \"the role and candidate's \"\n",
       "                                           'qualifications. The package '\n",
       "                                           'includes a fixed salary, '\n",
       "                                           'performance-based incentives, and '\n",
       "                                           'additional benefits such as health '\n",
       "                                           'insurance and opportunities for '\n",
       "                                           'professional development. Vinuruk '\n",
       "                                           'is known for its collaborative work '\n",
       "                                           'environment and commitment to '\n",
       "                                           'employee growth in the field of '\n",
       "                                           'embedded systems and motor control '\n",
       "                                           'technologies.'},\n",
       "               'score': 0.792714953,\n",
       "               'values': []},\n",
       "              {'id': 'outprofiled_additional_info',\n",
       "               'metadata': {'source_text': 'Outprofiled offers a competitive '\n",
       "                                           'salary package for freshers, '\n",
       "                                           'typically ranging from ₹4-6 LPA, '\n",
       "                                           'depending on the role and location. '\n",
       "                                           'The package includes a fixed '\n",
       "                                           'salary, performance-based bonuses, '\n",
       "                                           'and additional benefits such as '\n",
       "                                           'health insurance and opportunities '\n",
       "                                           'for professional development. '\n",
       "                                           'Outprofiled is recognized for its '\n",
       "                                           'supportive work environment and '\n",
       "                                           'commitment to employee growth in '\n",
       "                                           'the technology sector.'},\n",
       "               'score': 0.79052633,\n",
       "               'values': []}],\n",
       "  'namespace': 'example4',\n",
       "  'usage': {'read_units': 6}},\n",
       " {'matches': [{'id': 'cognizant_salary',\n",
       "               'metadata': {'source_text': 'Cognizant offers competitive salary '\n",
       "                                           'packages for freshers in its 2025 '\n",
       "                                           'recruitment drive. The GenC role '\n",
       "                                           'comes with a package of ₹4 LPA, the '\n",
       "                                           'GenC Pro role offers ₹5.4 LPA, and '\n",
       "                                           'the GenC Next role provides ₹6.5 '\n",
       "                                           'LPA. These packages are based on '\n",
       "                                           'candidate performance during the '\n",
       "                                           'recruitment process and include '\n",
       "                                           'additional benefits such as health '\n",
       "                                           'insurance, performance bonuses, and '\n",
       "                                           'opportunities for skill '\n",
       "                                           'development. Cognizant also '\n",
       "                                           'provides a supportive work '\n",
       "                                           'environment, flexible work hours, '\n",
       "                                           'and access to cutting-edge '\n",
       "                                           'technology.'},\n",
       "               'score': 0.789172709,\n",
       "               'values': []},\n",
       "              {'id': 'align_technology_description',\n",
       "               'metadata': {'source_text': 'Align Technology is a global '\n",
       "                                           'medical device company that '\n",
       "                                           'designs, manufactures, and sells '\n",
       "                                           'Invisalign clear aligners, iTero '\n",
       "                                           'intraoral scanners, and exocad '\n",
       "                                           'CAD/CAM software for orthodontics '\n",
       "                                           'and restorative dentistry. '\n",
       "                                           \"Invisalign is the company's \"\n",
       "                                           'flagship product, offering a clear '\n",
       "                                           'alternative to traditional braces '\n",
       "                                           'for teeth straightening. Align '\n",
       "                                           'Technology operates in over 100 '\n",
       "                                           'countries, including India, where '\n",
       "                                           'it provides innovative solutions to '\n",
       "                                           'dental professionals and patients. '\n",
       "                                           'The company is committed to '\n",
       "                                           'transforming the dental industry '\n",
       "                                           'through digital innovation, '\n",
       "                                           'improving patient outcomes, and '\n",
       "                                           'enhancing the overall dental '\n",
       "                                           'experience. For more information, '\n",
       "                                           'visit www.aligntech.com.'},\n",
       "               'score': 0.786001265,\n",
       "               'values': []},\n",
       "              {'id': 'align_technology_role_description',\n",
       "               'metadata': {'source_text': 'Align Technology Role description: '\n",
       "                                           'Software Development Engineer Join '\n",
       "                                           'our team as a Software Development '\n",
       "                                           'Engineer and contribute to the '\n",
       "                                           'development of cutting-edge '\n",
       "                                           'software solutions that power '\n",
       "                                           'Invisalign and iTero products. You '\n",
       "                                           'will work on designing, developing, '\n",
       "                                           'and maintaining software '\n",
       "                                           'applications that support dental '\n",
       "                                           'professionals and patients. As a '\n",
       "                                           'Software Development Engineer, your '\n",
       "                                           'responsibilities will include '\n",
       "                                           'coding, testing, debugging, and '\n",
       "                                           'optimizing software solutions, as '\n",
       "                                           'well as collaborating with '\n",
       "                                           'cross-functional teams to deliver '\n",
       "                                           'high-quality products. We are '\n",
       "                                           'looking for candidates with strong '\n",
       "                                           'programming skills, a passion for '\n",
       "                                           'technology, and the ability to work '\n",
       "                                           'in a fast-paced environment. Strong '\n",
       "                                           'problem-solving skills and the '\n",
       "                                           'ability to work collaboratively are '\n",
       "                                           'essential for this role.'},\n",
       "               'score': 0.785996616,\n",
       "               'values': []}],\n",
       "  'namespace': 'example5',\n",
       "  'usage': {'read_units': 6}},\n",
       " {'matches': [{'id': 'qualitus_interview_prep',\n",
       "               'metadata': {'source_text': 'For students preparing for '\n",
       "                                           'placements at Qualitus Pharma '\n",
       "                                           'Solutions, it is recommended to '\n",
       "                                           'focus on technical knowledge '\n",
       "                                           'related to pharmaceutical '\n",
       "                                           'machinery, automation, and cGMP '\n",
       "                                           'guidelines. Practicing placement '\n",
       "                                           'papers and interview questions from '\n",
       "                                           'similar companies can also be '\n",
       "                                           'beneficial.'},\n",
       "               'score': 0.77336061,\n",
       "               'values': []},\n",
       "              {'id': 'kernex_products',\n",
       "               'metadata': {'source_text': 'Kernex Microsystems offers a wide '\n",
       "                                           'range of products including '\n",
       "                                           'TrainSHIELD, ACD, LxGuard, SAFELx, '\n",
       "                                           'SENTINEX, CASRY, ATRW, and KTPIS.'},\n",
       "               'score': 0.767184615,\n",
       "               'values': []},\n",
       "              {'id': 'regal_rexnord_services',\n",
       "               'metadata': {'source_text': 'Regal Rexnord offers a wide range '\n",
       "                                           'of services including industrial '\n",
       "                                           'powertrain solutions, power '\n",
       "                                           'transmission components, and '\n",
       "                                           'automation systems.'},\n",
       "               'score': 0.765010476,\n",
       "               'values': []}],\n",
       "  'namespace': 'example6',\n",
       "  'usage': {'read_units': 6}}]"
      ]
     },
     "execution_count": 9,
     "metadata": {},
     "output_type": "execute_result"
    }
   ],
   "source": [
    "res"
   ]
  },
  {
   "cell_type": "code",
   "execution_count": 10,
   "metadata": {},
   "outputs": [
    {
     "name": "stdout",
     "output_type": "stream",
     "text": [
      "RerankResult(\n",
      "  model='bge-reranker-v2-m3',\n",
      "  data=[{\n",
      "    index=1,\n",
      "    score=0.81960475,\n",
      "    document={\n",
      "        id='accenture_additional_info',\n",
      "        source_text='Accenture offers two roles with different salary packages. The Associate Software Engineer role comes with a package of Rs. 4.50 LPA, which includes a fixed pay of Rs. 3.83 LPA, a performance bonus of Rs. 32,500 per annum, a one-time joining bonus of Rs. 25,000, along with additional benefits such as gratuity and insurance. The Advanced Associate Software Engineer role offers a Rs. 6.50 LPA package, with a fixed pay of Rs. 5.41 LPA, a performance-based pay of Rs. 82,500 per performance cycle, and a one-time joining bonus of Rs. 26,500. Employees also receive additional benefits such as free transport, house rent allowance, medical allowance, and health insurance with a Rs. 4 lakh cover, which is an advantage over competitors like TCS, CTS, Infosys, and Wipro.'\n",
      "    }\n",
      "  },{\n",
      "    index=2,\n",
      "    score=0.43512127,\n",
      "    document={\n",
      "        id='accenture_description',\n",
      "        source_text='Accenture is a global professional services company that specializes in digital transformation, cloud computing, artificial intelligence, and consulting solutions. Headquartered in Dublin, Ireland, it operates in over 120 countries with approximately 743,000 employees, serving 75% of Fortune Global 500 companies. Accenture helps businesses, governments, and organizations optimize operations, accelerate growth, and enhance customer experiences through cutting-edge technologies. The company offers services across five key areas: Strategy & Consulting, Technology, Operations, Industry X, and Song, enabling clients to drive innovation and achieve sustainable success. With strong partnerships with technology leaders like Microsoft, Google, AWS, SAP, and Oracle, Accenture delivers high-impact solutions tailored to industry needs. It is also committed to sustainability, diversity, and corporate social responsibility, striving for net-zero emissions and fostering an inclusive workplace. By leveraging the power of technology and human ingenuity, Accenture aims to create 360° value for clients, employees, partners, and communities, shaping the future of business and technology. For more information, visit www.accenture.com.'\n",
      "    }\n",
      "  },{\n",
      "    index=0,\n",
      "    score=0.20450072,\n",
      "    document={\n",
      "        id='accenture_role_description',\n",
      "        source_text='Accenture Role description: Packaged App development associate Join our team in developing, designing, and maintaining technologies that enhance the way our clients and the world operate. You will work in challenging and dynamic environments, leveraging your versatility to create and support technology solutions that align with client requirements, from analysis to implementation. As an Associate Software Engineer, your role will involve designing, building, testing, assembling, supporting, and configuring applications based on business requirements. You will be expected to understand business drivers that impact performance and develop software solutions accordingly. Additionally, you will incorporate emerging technology trends into solutions, contribute to automation initiatives, develop new functionalities, and integrate them into existing systems. You will also be responsible for incident resolution and customer support through voice interaction, email, chat, or remote assistance.We are looking for candidates with the ability to anticipate and resolve business issues with agility. You should be multi-disciplinary, versatile, and quick to learn and apply new skills. Strong analytical and problem-solving abilities, along with proficient verbal and written communication skills, are essential. You must be capable of delivering high-quality code on time, participating in peer reviews, and taking ownership of solution implementation. Additionally, the role involves supporting infrastructure operations and managing IT production systems and services. Candidates must also be flexible to relocate anywhere in India for project deployment and work in 24x7 shifts based on business requirements.'\n",
      "    }\n",
      "  },{\n",
      "    index=3,\n",
      "    score=0.0011649561,\n",
      "    document={\n",
      "        id='endurance_additional_info',\n",
      "        source_text='Endurance offers a competitive salary package for freshers, typically ranging from ₹5-7 LPA, depending on the role and location. The package includes a fixed salary, performance bonuses, and additional benefits such as health insurance and professional development opportunities. Endurance is known for its employee-friendly policies and opportunities for global exposure.'\n",
      "    }\n",
      "  },{\n",
      "    index=14,\n",
      "    score=0.0003150387,\n",
      "    document={\n",
      "        id='outprofiled_additional_info',\n",
      "        source_text='Outprofiled offers a competitive salary package for freshers, typically ranging from ₹4-6 LPA, depending on the role and location. The package includes a fixed salary, performance-based bonuses, and additional benefits such as health insurance and opportunities for professional development. Outprofiled is recognized for its supportive work environment and commitment to employee growth in the technology sector.'\n",
      "    }\n",
      "  }],\n",
      "  usage={'rerank_units': 1}\n",
      ")\n"
     ]
    }
   ],
   "source": [
    "# Rerank the search results based on their relevance to the query\n",
    "ranked_results = pc.inference.rerank(\n",
    "    model=\"bge-reranker-v2-m3\",\n",
    "    query=query,\n",
    "    documents=doc,\n",
    "    top_n=5,\n",
    "    rank_fields=[\"source_text\"],\n",
    "    return_documents=True,\n",
    "    parameters={\n",
    "        \"truncate\": \"END\"\n",
    "    }\n",
    ")\n",
    "\n",
    "print(str(ranked_results))\n"
   ]
  },
  {
   "cell_type": "code",
   "execution_count": 11,
   "metadata": {},
   "outputs": [
    {
     "data": {
      "text/plain": [
       "'Accenture offers two roles with different salary packages. The Associate Software Engineer role comes with a package of Rs. 4.50 LPA, which includes a fixed pay of Rs. 3.83 LPA, a performance bonus of Rs. 32,500 per annum, a one-time joining bonus of Rs. 25,000, along with additional benefits such as gratuity and insurance. The Advanced Associate Software Engineer role offers a Rs. 6.50 LPA package, with a fixed pay of Rs. 5.41 LPA, a performance-based pay of Rs. 82,500 per performance cycle, and a one-time joining bonus of Rs. 26,500. Employees also receive additional benefits such as free transport, house rent allowance, medical allowance, and health insurance with a Rs. 4 lakh cover, which is an advantage over competitors like TCS, CTS, Infosys, and Wipro.. Accenture is a global professional services company that specializes in digital transformation, cloud computing, artificial intelligence, and consulting solutions. Headquartered in Dublin, Ireland, it operates in over 120 countries with approximately 743,000 employees, serving 75% of Fortune Global 500 companies. Accenture helps businesses, governments, and organizations optimize operations, accelerate growth, and enhance customer experiences through cutting-edge technologies. The company offers services across five key areas: Strategy & Consulting, Technology, Operations, Industry X, and Song, enabling clients to drive innovation and achieve sustainable success. With strong partnerships with technology leaders like Microsoft, Google, AWS, SAP, and Oracle, Accenture delivers high-impact solutions tailored to industry needs. It is also committed to sustainability, diversity, and corporate social responsibility, striving for net-zero emissions and fostering an inclusive workplace. By leveraging the power of technology and human ingenuity, Accenture aims to create 360° value for clients, employees, partners, and communities, shaping the future of business and technology. For more information, visit www.accenture.com.. '"
      ]
     },
     "execution_count": 11,
     "metadata": {},
     "output_type": "execute_result"
    }
   ],
   "source": [
    "context=\"\"\n",
    "for i in ranked_results.data:\n",
    "    if i.score>=0.3:\n",
    "        context+=i['document']['source_text']+\". \"   \n",
    "context"
   ]
  },
  {
   "cell_type": "code",
   "execution_count": 36,
   "metadata": {},
   "outputs": [],
   "source": [
    "# context=(ranked_results.data[0]['document']['source_text'])\n",
    "# print(context)"
   ]
  },
  {
   "cell_type": "code",
   "execution_count": null,
   "metadata": {},
   "outputs": [],
   "source": [
    "APIKEY"
   ]
  },
  {
   "cell_type": "code",
   "execution_count": null,
   "metadata": {},
   "outputs": [
    {
     "name": "stdout",
     "output_type": "stream",
     "text": [
      "The token has not been saved to the git credentials helper. Pass `add_to_git_credential=True` in this function directly or `--add-to-git-credential` if using via `huggingface-cli` if you want to set the git credential as well.\n",
      "Token is valid (permission: fineGrained).\n",
      "Your token has been saved to C:\\Users\\ashaa\\.cache\\huggingface\\token\n",
      "Login successful\n"
     ]
    }
   ],
   "source": [
    "from huggingface_hub import login\n",
    "\n",
    "login(\"APIKEY\")\n"
   ]
  },
  {
   "cell_type": "code",
   "execution_count": null,
   "metadata": {},
   "outputs": [
    {
     "name": "stderr",
     "output_type": "stream",
     "text": [
      "c:\\Users\\ashaa\\AppData\\Local\\Programs\\Python\\Python313\\Lib\\site-packages\\tqdm\\auto.py:21: TqdmWarning: IProgress not found. Please update jupyter and ipywidgets. See https://ipywidgets.readthedocs.io/en/stable/user_install.html\n",
      "  from .autonotebook import tqdm as notebook_tqdm\n",
      "Loading checkpoint shards: 100%|██████████| 4/4 [03:58<00:00, 59.73s/it]\n",
      "Device set to use cpu\n"
     ]
    }
   ],
   "source": [
    "# # Use a pipeline as a high-level helper\n",
    "# from transformers import pipeline\n",
    "\n",
    "# pipe = pipeline(\"text-generation\", model=\"meta-llama/Meta-Llama-3-8B\")"
   ]
  },
  {
   "cell_type": "markdown",
   "metadata": {},
   "source": []
  },
  {
   "cell_type": "code",
   "execution_count": null,
   "metadata": {},
   "outputs": [],
   "source": [
    "# response = pipe(\"Once upon a time, in a distant land,\", max_length=100, do_sample=True)\n",
    "# print(response)\n",
    "# # \n"
   ]
  },
  {
   "cell_type": "code",
   "execution_count": 4,
   "metadata": {},
   "outputs": [
    {
     "name": "stderr",
     "output_type": "stream",
     "text": [
      "llama_model_loader: loaded meta data with 33 key-value pairs and 292 tensors from C:\\Users\\ashaa\\Downloads\\major\\Meta-Llama-3.1-8B-Instruct-Q4_K_M.gguf (version GGUF V3 (latest))\n",
      "llama_model_loader: Dumping metadata keys/values. Note: KV overrides do not apply in this output.\n",
      "llama_model_loader: - kv   0:                       general.architecture str              = llama\n",
      "llama_model_loader: - kv   1:                               general.type str              = model\n",
      "llama_model_loader: - kv   2:                               general.name str              = Meta Llama 3.1 8B Instruct\n",
      "llama_model_loader: - kv   3:                           general.finetune str              = Instruct\n",
      "llama_model_loader: - kv   4:                           general.basename str              = Meta-Llama-3.1\n",
      "llama_model_loader: - kv   5:                         general.size_label str              = 8B\n",
      "llama_model_loader: - kv   6:                            general.license str              = llama3.1\n",
      "llama_model_loader: - kv   7:                               general.tags arr[str,6]       = [\"facebook\", \"meta\", \"pytorch\", \"llam...\n",
      "llama_model_loader: - kv   8:                          general.languages arr[str,8]       = [\"en\", \"de\", \"fr\", \"it\", \"pt\", \"hi\", ...\n",
      "llama_model_loader: - kv   9:                          llama.block_count u32              = 32\n",
      "llama_model_loader: - kv  10:                       llama.context_length u32              = 131072\n",
      "llama_model_loader: - kv  11:                     llama.embedding_length u32              = 4096\n",
      "llama_model_loader: - kv  12:                  llama.feed_forward_length u32              = 14336\n",
      "llama_model_loader: - kv  13:                 llama.attention.head_count u32              = 32\n",
      "llama_model_loader: - kv  14:              llama.attention.head_count_kv u32              = 8\n",
      "llama_model_loader: - kv  15:                       llama.rope.freq_base f32              = 500000.000000\n",
      "llama_model_loader: - kv  16:     llama.attention.layer_norm_rms_epsilon f32              = 0.000010\n",
      "llama_model_loader: - kv  17:                          general.file_type u32              = 15\n",
      "llama_model_loader: - kv  18:                           llama.vocab_size u32              = 128256\n",
      "llama_model_loader: - kv  19:                 llama.rope.dimension_count u32              = 128\n",
      "llama_model_loader: - kv  20:                       tokenizer.ggml.model str              = gpt2\n",
      "llama_model_loader: - kv  21:                         tokenizer.ggml.pre str              = llama-bpe\n",
      "llama_model_loader: - kv  22:                      tokenizer.ggml.tokens arr[str,128256]  = [\"!\", \"\\\"\", \"#\", \"$\", \"%\", \"&\", \"'\", ...\n",
      "llama_model_loader: - kv  23:                  tokenizer.ggml.token_type arr[i32,128256]  = [1, 1, 1, 1, 1, 1, 1, 1, 1, 1, 1, 1, ...\n",
      "llama_model_loader: - kv  24:                      tokenizer.ggml.merges arr[str,280147]  = [\"Ġ Ġ\", \"Ġ ĠĠĠ\", \"ĠĠ ĠĠ\", \"...\n",
      "llama_model_loader: - kv  25:                tokenizer.ggml.bos_token_id u32              = 128000\n",
      "llama_model_loader: - kv  26:                tokenizer.ggml.eos_token_id u32              = 128009\n",
      "llama_model_loader: - kv  27:                    tokenizer.chat_template str              = {{- bos_token }}\\n{%- if custom_tools ...\n",
      "llama_model_loader: - kv  28:               general.quantization_version u32              = 2\n",
      "llama_model_loader: - kv  29:                      quantize.imatrix.file str              = /models_out/Meta-Llama-3.1-8B-Instruc...\n",
      "llama_model_loader: - kv  30:                   quantize.imatrix.dataset str              = /training_dir/calibration_datav3.txt\n",
      "llama_model_loader: - kv  31:             quantize.imatrix.entries_count i32              = 224\n",
      "llama_model_loader: - kv  32:              quantize.imatrix.chunks_count i32              = 125\n",
      "llama_model_loader: - type  f32:   66 tensors\n",
      "llama_model_loader: - type q4_K:  193 tensors\n",
      "llama_model_loader: - type q6_K:   33 tensors\n",
      "print_info: file format = GGUF V3 (latest)\n",
      "print_info: file type   = Q4_K - Medium\n",
      "print_info: file size   = 4.58 GiB (4.89 BPW) \n",
      "init_tokenizer: initializing tokenizer for type 2\n",
      "load: control token: 128098 '<|reserved_special_token_90|>' is not marked as EOG\n",
      "load: control token: 128191 '<|reserved_special_token_183|>' is not marked as EOG\n",
      "load: control token: 128130 '<|reserved_special_token_122|>' is not marked as EOG\n",
      "load: control token: 128119 '<|reserved_special_token_111|>' is not marked as EOG\n",
      "load: control token: 128136 '<|reserved_special_token_128|>' is not marked as EOG\n",
      "load: control token: 128155 '<|reserved_special_token_147|>' is not marked as EOG\n",
      "load: control token: 128196 '<|reserved_special_token_188|>' is not marked as EOG\n",
      "load: control token: 128101 '<|reserved_special_token_93|>' is not marked as EOG\n",
      "load: control token: 128138 '<|reserved_special_token_130|>' is not marked as EOG\n",
      "load: control token: 128181 '<|reserved_special_token_173|>' is not marked as EOG\n",
      "load: control token: 128034 '<|reserved_special_token_26|>' is not marked as EOG\n",
      "load: control token: 128209 '<|reserved_special_token_201|>' is not marked as EOG\n",
      "load: control token: 128031 '<|reserved_special_token_23|>' is not marked as EOG\n",
      "load: control token: 128050 '<|reserved_special_token_42|>' is not marked as EOG\n",
      "load: control token: 128244 '<|reserved_special_token_236|>' is not marked as EOG\n",
      "load: control token: 128148 '<|reserved_special_token_140|>' is not marked as EOG\n",
      "load: control token: 128198 '<|reserved_special_token_190|>' is not marked as EOG\n",
      "load: control token: 128229 '<|reserved_special_token_221|>' is not marked as EOG\n",
      "load: control token: 128165 '<|reserved_special_token_157|>' is not marked as EOG\n",
      "load: control token: 128246 '<|reserved_special_token_238|>' is not marked as EOG\n",
      "load: control token: 128017 '<|reserved_special_token_9|>' is not marked as EOG\n",
      "load: control token: 128216 '<|reserved_special_token_208|>' is not marked as EOG\n",
      "load: control token: 128161 '<|reserved_special_token_153|>' is not marked as EOG\n",
      "load: control token: 128224 '<|reserved_special_token_216|>' is not marked as EOG\n",
      "load: control token: 128082 '<|reserved_special_token_74|>' is not marked as EOG\n",
      "load: control token: 128004 '<|finetune_right_pad_id|>' is not marked as EOG\n",
      "load: control token: 128249 '<|reserved_special_token_241|>' is not marked as EOG\n",
      "load: control token: 128107 '<|reserved_special_token_99|>' is not marked as EOG\n",
      "load: control token: 128079 '<|reserved_special_token_71|>' is not marked as EOG\n",
      "load: control token: 128225 '<|reserved_special_token_217|>' is not marked as EOG\n",
      "load: control token: 128175 '<|reserved_special_token_167|>' is not marked as EOG\n",
      "load: control token: 128223 '<|reserved_special_token_215|>' is not marked as EOG\n",
      "load: control token: 128182 '<|reserved_special_token_174|>' is not marked as EOG\n",
      "load: control token: 128068 '<|reserved_special_token_60|>' is not marked as EOG\n",
      "load: control token: 128252 '<|reserved_special_token_244|>' is not marked as EOG\n",
      "load: control token: 128178 '<|reserved_special_token_170|>' is not marked as EOG\n",
      "load: control token: 128221 '<|reserved_special_token_213|>' is not marked as EOG\n",
      "load: control token: 128052 '<|reserved_special_token_44|>' is not marked as EOG\n",
      "load: control token: 128122 '<|reserved_special_token_114|>' is not marked as EOG\n",
      "load: control token: 128151 '<|reserved_special_token_143|>' is not marked as EOG\n",
      "load: control token: 128121 '<|reserved_special_token_113|>' is not marked as EOG\n",
      "load: control token: 128158 '<|reserved_special_token_150|>' is not marked as EOG\n",
      "load: control token: 128096 '<|reserved_special_token_88|>' is not marked as EOG\n",
      "load: control token: 128090 '<|reserved_special_token_82|>' is not marked as EOG\n",
      "load: control token: 128238 '<|reserved_special_token_230|>' is not marked as EOG\n",
      "load: control token: 128139 '<|reserved_special_token_131|>' is not marked as EOG\n",
      "load: control token: 128176 '<|reserved_special_token_168|>' is not marked as EOG\n",
      "load: control token: 128077 '<|reserved_special_token_69|>' is not marked as EOG\n",
      "load: control token: 128214 '<|reserved_special_token_206|>' is not marked as EOG\n",
      "load: control token: 128171 '<|reserved_special_token_163|>' is not marked as EOG\n",
      "load: control token: 128112 '<|reserved_special_token_104|>' is not marked as EOG\n",
      "load: control token: 128180 '<|reserved_special_token_172|>' is not marked as EOG\n",
      "load: control token: 128060 '<|reserved_special_token_52|>' is not marked as EOG\n",
      "load: control token: 128000 '<|begin_of_text|>' is not marked as EOG\n",
      "load: control token: 128152 '<|reserved_special_token_144|>' is not marked as EOG\n",
      "load: control token: 128116 '<|reserved_special_token_108|>' is not marked as EOG\n",
      "load: control token: 128072 '<|reserved_special_token_64|>' is not marked as EOG\n",
      "load: control token: 128059 '<|reserved_special_token_51|>' is not marked as EOG\n",
      "load: control token: 128094 '<|reserved_special_token_86|>' is not marked as EOG\n",
      "load: control token: 128187 '<|reserved_special_token_179|>' is not marked as EOG\n",
      "load: control token: 128103 '<|reserved_special_token_95|>' is not marked as EOG\n",
      "load: control token: 128127 '<|reserved_special_token_119|>' is not marked as EOG\n",
      "load: control token: 128023 '<|reserved_special_token_15|>' is not marked as EOG\n",
      "load: control token: 128037 '<|reserved_special_token_29|>' is not marked as EOG\n",
      "load: control token: 128228 '<|reserved_special_token_220|>' is not marked as EOG\n",
      "load: control token: 128002 '<|reserved_special_token_0|>' is not marked as EOG\n",
      "load: control token: 128006 '<|start_header_id|>' is not marked as EOG\n",
      "load: control token: 128091 '<|reserved_special_token_83|>' is not marked as EOG\n",
      "load: control token: 128044 '<|reserved_special_token_36|>' is not marked as EOG\n",
      "load: control token: 128218 '<|reserved_special_token_210|>' is not marked as EOG\n",
      "load: control token: 128211 '<|reserved_special_token_203|>' is not marked as EOG\n",
      "load: control token: 128073 '<|reserved_special_token_65|>' is not marked as EOG\n",
      "load: control token: 128168 '<|reserved_special_token_160|>' is not marked as EOG\n",
      "load: control token: 128183 '<|reserved_special_token_175|>' is not marked as EOG\n",
      "load: control token: 128234 '<|reserved_special_token_226|>' is not marked as EOG\n",
      "load: control token: 128235 '<|reserved_special_token_227|>' is not marked as EOG\n",
      "load: control token: 128067 '<|reserved_special_token_59|>' is not marked as EOG\n",
      "load: control token: 128039 '<|reserved_special_token_31|>' is not marked as EOG\n",
      "load: control token: 128106 '<|reserved_special_token_98|>' is not marked as EOG\n",
      "load: control token: 128250 '<|reserved_special_token_242|>' is not marked as EOG\n",
      "load: control token: 128173 '<|reserved_special_token_165|>' is not marked as EOG\n",
      "load: control token: 128126 '<|reserved_special_token_118|>' is not marked as EOG\n",
      "load: control token: 128047 '<|reserved_special_token_39|>' is not marked as EOG\n",
      "load: control token: 128240 '<|reserved_special_token_232|>' is not marked as EOG\n",
      "load: control token: 128045 '<|reserved_special_token_37|>' is not marked as EOG\n",
      "load: control token: 128195 '<|reserved_special_token_187|>' is not marked as EOG\n",
      "load: control token: 128078 '<|reserved_special_token_70|>' is not marked as EOG\n",
      "load: control token: 128137 '<|reserved_special_token_129|>' is not marked as EOG\n",
      "load: control token: 128186 '<|reserved_special_token_178|>' is not marked as EOG\n",
      "load: control token: 128048 '<|reserved_special_token_40|>' is not marked as EOG\n",
      "load: control token: 128076 '<|reserved_special_token_68|>' is not marked as EOG\n",
      "load: control token: 128029 '<|reserved_special_token_21|>' is not marked as EOG\n",
      "load: control token: 128013 '<|reserved_special_token_5|>' is not marked as EOG\n",
      "load: control token: 128197 '<|reserved_special_token_189|>' is not marked as EOG\n",
      "load: control token: 128056 '<|reserved_special_token_48|>' is not marked as EOG\n",
      "load: control token: 128123 '<|reserved_special_token_115|>' is not marked as EOG\n",
      "load: control token: 128095 '<|reserved_special_token_87|>' is not marked as EOG\n",
      "load: control token: 128089 '<|reserved_special_token_81|>' is not marked as EOG\n",
      "load: control token: 128057 '<|reserved_special_token_49|>' is not marked as EOG\n",
      "load: control token: 128163 '<|reserved_special_token_155|>' is not marked as EOG\n",
      "load: control token: 128011 '<|reserved_special_token_3|>' is not marked as EOG\n",
      "load: control token: 128053 '<|reserved_special_token_45|>' is not marked as EOG\n",
      "load: control token: 128160 '<|reserved_special_token_152|>' is not marked as EOG\n",
      "load: control token: 128222 '<|reserved_special_token_214|>' is not marked as EOG\n",
      "load: control token: 128035 '<|reserved_special_token_27|>' is not marked as EOG\n",
      "load: control token: 128162 '<|reserved_special_token_154|>' is not marked as EOG\n",
      "load: control token: 128205 '<|reserved_special_token_197|>' is not marked as EOG\n",
      "load: control token: 128109 '<|reserved_special_token_101|>' is not marked as EOG\n",
      "load: control token: 128185 '<|reserved_special_token_177|>' is not marked as EOG\n",
      "load: control token: 128114 '<|reserved_special_token_106|>' is not marked as EOG\n",
      "load: control token: 128159 '<|reserved_special_token_151|>' is not marked as EOG\n",
      "load: control token: 128179 '<|reserved_special_token_171|>' is not marked as EOG\n",
      "load: control token: 128115 '<|reserved_special_token_107|>' is not marked as EOG\n",
      "load: control token: 128087 '<|reserved_special_token_79|>' is not marked as EOG\n",
      "load: control token: 128113 '<|reserved_special_token_105|>' is not marked as EOG\n",
      "load: control token: 128054 '<|reserved_special_token_46|>' is not marked as EOG\n",
      "load: control token: 128030 '<|reserved_special_token_22|>' is not marked as EOG\n",
      "load: control token: 128170 '<|reserved_special_token_162|>' is not marked as EOG\n",
      "load: control token: 128012 '<|reserved_special_token_4|>' is not marked as EOG\n",
      "load: control token: 128064 '<|reserved_special_token_56|>' is not marked as EOG\n",
      "load: control token: 128118 '<|reserved_special_token_110|>' is not marked as EOG\n",
      "load: control token: 128206 '<|reserved_special_token_198|>' is not marked as EOG\n",
      "load: control token: 128099 '<|reserved_special_token_91|>' is not marked as EOG\n",
      "load: control token: 128133 '<|reserved_special_token_125|>' is not marked as EOG\n",
      "load: control token: 128190 '<|reserved_special_token_182|>' is not marked as EOG\n",
      "load: control token: 128097 '<|reserved_special_token_89|>' is not marked as EOG\n",
      "load: control token: 128086 '<|reserved_special_token_78|>' is not marked as EOG\n",
      "load: control token: 128120 '<|reserved_special_token_112|>' is not marked as EOG\n",
      "load: control token: 128193 '<|reserved_special_token_185|>' is not marked as EOG\n",
      "load: control token: 128049 '<|reserved_special_token_41|>' is not marked as EOG\n",
      "load: control token: 128242 '<|reserved_special_token_234|>' is not marked as EOG\n",
      "load: control token: 128142 '<|reserved_special_token_134|>' is not marked as EOG\n",
      "load: control token: 128188 '<|reserved_special_token_180|>' is not marked as EOG\n",
      "load: control token: 128144 '<|reserved_special_token_136|>' is not marked as EOG\n",
      "load: control token: 128247 '<|reserved_special_token_239|>' is not marked as EOG\n",
      "load: control token: 128065 '<|reserved_special_token_57|>' is not marked as EOG\n",
      "load: control token: 128117 '<|reserved_special_token_109|>' is not marked as EOG\n",
      "load: control token: 128033 '<|reserved_special_token_25|>' is not marked as EOG\n",
      "load: control token: 128184 '<|reserved_special_token_176|>' is not marked as EOG\n",
      "load: control token: 128040 '<|reserved_special_token_32|>' is not marked as EOG\n",
      "load: control token: 128204 '<|reserved_special_token_196|>' is not marked as EOG\n",
      "load: control token: 128210 '<|reserved_special_token_202|>' is not marked as EOG\n",
      "load: control token: 128245 '<|reserved_special_token_237|>' is not marked as EOG\n",
      "load: control token: 128135 '<|reserved_special_token_127|>' is not marked as EOG\n",
      "load: control token: 128071 '<|reserved_special_token_63|>' is not marked as EOG\n",
      "load: control token: 128153 '<|reserved_special_token_145|>' is not marked as EOG\n",
      "load: control token: 128194 '<|reserved_special_token_186|>' is not marked as EOG\n",
      "load: control token: 128177 '<|reserved_special_token_169|>' is not marked as EOG\n",
      "load: control token: 128236 '<|reserved_special_token_228|>' is not marked as EOG\n",
      "load: control token: 128248 '<|reserved_special_token_240|>' is not marked as EOG\n",
      "load: control token: 128241 '<|reserved_special_token_233|>' is not marked as EOG\n",
      "load: control token: 128212 '<|reserved_special_token_204|>' is not marked as EOG\n",
      "load: control token: 128207 '<|reserved_special_token_199|>' is not marked as EOG\n",
      "load: control token: 128001 '<|end_of_text|>' is not marked as EOG\n",
      "load: control token: 128003 '<|reserved_special_token_1|>' is not marked as EOG\n",
      "load: control token: 128005 '<|reserved_special_token_2|>' is not marked as EOG\n",
      "load: control token: 128007 '<|end_header_id|>' is not marked as EOG\n",
      "load: control token: 128010 '<|python_tag|>' is not marked as EOG\n",
      "load: control token: 128014 '<|reserved_special_token_6|>' is not marked as EOG\n",
      "load: control token: 128015 '<|reserved_special_token_7|>' is not marked as EOG\n",
      "load: control token: 128016 '<|reserved_special_token_8|>' is not marked as EOG\n",
      "load: control token: 128018 '<|reserved_special_token_10|>' is not marked as EOG\n",
      "load: control token: 128019 '<|reserved_special_token_11|>' is not marked as EOG\n",
      "load: control token: 128020 '<|reserved_special_token_12|>' is not marked as EOG\n",
      "load: control token: 128021 '<|reserved_special_token_13|>' is not marked as EOG\n",
      "load: control token: 128022 '<|reserved_special_token_14|>' is not marked as EOG\n",
      "load: control token: 128024 '<|reserved_special_token_16|>' is not marked as EOG\n",
      "load: control token: 128025 '<|reserved_special_token_17|>' is not marked as EOG\n",
      "load: control token: 128026 '<|reserved_special_token_18|>' is not marked as EOG\n",
      "load: control token: 128027 '<|reserved_special_token_19|>' is not marked as EOG\n",
      "load: control token: 128028 '<|reserved_special_token_20|>' is not marked as EOG\n",
      "load: control token: 128032 '<|reserved_special_token_24|>' is not marked as EOG\n",
      "load: control token: 128036 '<|reserved_special_token_28|>' is not marked as EOG\n",
      "load: control token: 128038 '<|reserved_special_token_30|>' is not marked as EOG\n",
      "load: control token: 128041 '<|reserved_special_token_33|>' is not marked as EOG\n",
      "load: control token: 128042 '<|reserved_special_token_34|>' is not marked as EOG\n",
      "load: control token: 128043 '<|reserved_special_token_35|>' is not marked as EOG\n",
      "load: control token: 128046 '<|reserved_special_token_38|>' is not marked as EOG\n",
      "load: control token: 128051 '<|reserved_special_token_43|>' is not marked as EOG\n",
      "load: control token: 128055 '<|reserved_special_token_47|>' is not marked as EOG\n",
      "load: control token: 128058 '<|reserved_special_token_50|>' is not marked as EOG\n",
      "load: control token: 128061 '<|reserved_special_token_53|>' is not marked as EOG\n",
      "load: control token: 128062 '<|reserved_special_token_54|>' is not marked as EOG\n",
      "load: control token: 128063 '<|reserved_special_token_55|>' is not marked as EOG\n",
      "load: control token: 128066 '<|reserved_special_token_58|>' is not marked as EOG\n",
      "load: control token: 128069 '<|reserved_special_token_61|>' is not marked as EOG\n",
      "load: control token: 128070 '<|reserved_special_token_62|>' is not marked as EOG\n",
      "load: control token: 128074 '<|reserved_special_token_66|>' is not marked as EOG\n",
      "load: control token: 128075 '<|reserved_special_token_67|>' is not marked as EOG\n",
      "load: control token: 128080 '<|reserved_special_token_72|>' is not marked as EOG\n",
      "load: control token: 128081 '<|reserved_special_token_73|>' is not marked as EOG\n",
      "load: control token: 128083 '<|reserved_special_token_75|>' is not marked as EOG\n",
      "load: control token: 128084 '<|reserved_special_token_76|>' is not marked as EOG\n",
      "load: control token: 128085 '<|reserved_special_token_77|>' is not marked as EOG\n",
      "load: control token: 128088 '<|reserved_special_token_80|>' is not marked as EOG\n",
      "load: control token: 128092 '<|reserved_special_token_84|>' is not marked as EOG\n",
      "load: control token: 128093 '<|reserved_special_token_85|>' is not marked as EOG\n",
      "load: control token: 128100 '<|reserved_special_token_92|>' is not marked as EOG\n",
      "load: control token: 128102 '<|reserved_special_token_94|>' is not marked as EOG\n",
      "load: control token: 128104 '<|reserved_special_token_96|>' is not marked as EOG\n",
      "load: control token: 128105 '<|reserved_special_token_97|>' is not marked as EOG\n",
      "load: control token: 128108 '<|reserved_special_token_100|>' is not marked as EOG\n",
      "load: control token: 128110 '<|reserved_special_token_102|>' is not marked as EOG\n",
      "load: control token: 128111 '<|reserved_special_token_103|>' is not marked as EOG\n",
      "load: control token: 128124 '<|reserved_special_token_116|>' is not marked as EOG\n",
      "load: control token: 128125 '<|reserved_special_token_117|>' is not marked as EOG\n",
      "load: control token: 128128 '<|reserved_special_token_120|>' is not marked as EOG\n",
      "load: control token: 128129 '<|reserved_special_token_121|>' is not marked as EOG\n",
      "load: control token: 128131 '<|reserved_special_token_123|>' is not marked as EOG\n",
      "load: control token: 128132 '<|reserved_special_token_124|>' is not marked as EOG\n",
      "load: control token: 128134 '<|reserved_special_token_126|>' is not marked as EOG\n",
      "load: control token: 128140 '<|reserved_special_token_132|>' is not marked as EOG\n",
      "load: control token: 128141 '<|reserved_special_token_133|>' is not marked as EOG\n",
      "load: control token: 128143 '<|reserved_special_token_135|>' is not marked as EOG\n",
      "load: control token: 128145 '<|reserved_special_token_137|>' is not marked as EOG\n",
      "load: control token: 128146 '<|reserved_special_token_138|>' is not marked as EOG\n",
      "load: control token: 128147 '<|reserved_special_token_139|>' is not marked as EOG\n",
      "load: control token: 128149 '<|reserved_special_token_141|>' is not marked as EOG\n",
      "load: control token: 128150 '<|reserved_special_token_142|>' is not marked as EOG\n",
      "load: control token: 128154 '<|reserved_special_token_146|>' is not marked as EOG\n",
      "load: control token: 128156 '<|reserved_special_token_148|>' is not marked as EOG\n",
      "load: control token: 128157 '<|reserved_special_token_149|>' is not marked as EOG\n",
      "load: control token: 128164 '<|reserved_special_token_156|>' is not marked as EOG\n",
      "load: control token: 128166 '<|reserved_special_token_158|>' is not marked as EOG\n",
      "load: control token: 128167 '<|reserved_special_token_159|>' is not marked as EOG\n",
      "load: control token: 128169 '<|reserved_special_token_161|>' is not marked as EOG\n",
      "load: control token: 128172 '<|reserved_special_token_164|>' is not marked as EOG\n",
      "load: control token: 128174 '<|reserved_special_token_166|>' is not marked as EOG\n",
      "load: control token: 128189 '<|reserved_special_token_181|>' is not marked as EOG\n",
      "load: control token: 128192 '<|reserved_special_token_184|>' is not marked as EOG\n",
      "load: control token: 128199 '<|reserved_special_token_191|>' is not marked as EOG\n",
      "load: control token: 128200 '<|reserved_special_token_192|>' is not marked as EOG\n",
      "load: control token: 128201 '<|reserved_special_token_193|>' is not marked as EOG\n",
      "load: control token: 128202 '<|reserved_special_token_194|>' is not marked as EOG\n",
      "load: control token: 128203 '<|reserved_special_token_195|>' is not marked as EOG\n",
      "load: control token: 128208 '<|reserved_special_token_200|>' is not marked as EOG\n",
      "load: control token: 128213 '<|reserved_special_token_205|>' is not marked as EOG\n",
      "load: control token: 128215 '<|reserved_special_token_207|>' is not marked as EOG\n",
      "load: control token: 128217 '<|reserved_special_token_209|>' is not marked as EOG\n",
      "load: control token: 128219 '<|reserved_special_token_211|>' is not marked as EOG\n",
      "load: control token: 128220 '<|reserved_special_token_212|>' is not marked as EOG\n",
      "load: control token: 128226 '<|reserved_special_token_218|>' is not marked as EOG\n",
      "load: control token: 128227 '<|reserved_special_token_219|>' is not marked as EOG\n",
      "load: control token: 128230 '<|reserved_special_token_222|>' is not marked as EOG\n",
      "load: control token: 128231 '<|reserved_special_token_223|>' is not marked as EOG\n",
      "load: control token: 128232 '<|reserved_special_token_224|>' is not marked as EOG\n",
      "load: control token: 128233 '<|reserved_special_token_225|>' is not marked as EOG\n",
      "load: control token: 128237 '<|reserved_special_token_229|>' is not marked as EOG\n",
      "load: control token: 128239 '<|reserved_special_token_231|>' is not marked as EOG\n",
      "load: control token: 128243 '<|reserved_special_token_235|>' is not marked as EOG\n",
      "load: control token: 128251 '<|reserved_special_token_243|>' is not marked as EOG\n",
      "load: control token: 128253 '<|reserved_special_token_245|>' is not marked as EOG\n",
      "load: control token: 128254 '<|reserved_special_token_246|>' is not marked as EOG\n",
      "load: control token: 128255 '<|reserved_special_token_247|>' is not marked as EOG\n",
      "load: special tokens cache size = 256\n",
      "load: token to piece cache size = 0.7999 MB\n",
      "print_info: arch             = llama\n",
      "print_info: vocab_only       = 0\n",
      "print_info: n_ctx_train      = 131072\n",
      "print_info: n_embd           = 4096\n",
      "print_info: n_layer          = 32\n",
      "print_info: n_head           = 32\n",
      "print_info: n_head_kv        = 8\n",
      "print_info: n_rot            = 128\n",
      "print_info: n_swa            = 0\n",
      "print_info: n_embd_head_k    = 128\n",
      "print_info: n_embd_head_v    = 128\n",
      "print_info: n_gqa            = 4\n",
      "print_info: n_embd_k_gqa     = 1024\n",
      "print_info: n_embd_v_gqa     = 1024\n",
      "print_info: f_norm_eps       = 0.0e+00\n",
      "print_info: f_norm_rms_eps   = 1.0e-05\n",
      "print_info: f_clamp_kqv      = 0.0e+00\n",
      "print_info: f_max_alibi_bias = 0.0e+00\n",
      "print_info: f_logit_scale    = 0.0e+00\n",
      "print_info: n_ff             = 14336\n",
      "print_info: n_expert         = 0\n",
      "print_info: n_expert_used    = 0\n",
      "print_info: causal attn      = 1\n",
      "print_info: pooling type     = 0\n",
      "print_info: rope type        = 0\n",
      "print_info: rope scaling     = linear\n",
      "print_info: freq_base_train  = 500000.0\n",
      "print_info: freq_scale_train = 1\n",
      "print_info: n_ctx_orig_yarn  = 131072\n",
      "print_info: rope_finetuned   = unknown\n",
      "print_info: ssm_d_conv       = 0\n",
      "print_info: ssm_d_inner      = 0\n",
      "print_info: ssm_d_state      = 0\n",
      "print_info: ssm_dt_rank      = 0\n",
      "print_info: ssm_dt_b_c_rms   = 0\n",
      "print_info: model type       = 8B\n",
      "print_info: model params     = 8.03 B\n",
      "print_info: general.name     = Meta Llama 3.1 8B Instruct\n",
      "print_info: vocab type       = BPE\n",
      "print_info: n_vocab          = 128256\n",
      "print_info: n_merges         = 280147\n",
      "print_info: BOS token        = 128000 '<|begin_of_text|>'\n",
      "print_info: EOS token        = 128009 '<|eot_id|>'\n",
      "print_info: EOT token        = 128009 '<|eot_id|>'\n",
      "print_info: EOM token        = 128008 '<|eom_id|>'\n",
      "print_info: LF token         = 128 'Ä'\n",
      "print_info: EOG token        = 128008 '<|eom_id|>'\n",
      "print_info: EOG token        = 128009 '<|eot_id|>'\n",
      "print_info: max token length = 256\n",
      "load_tensors: layer   0 assigned to device CPU\n",
      "load_tensors: layer   1 assigned to device CPU\n",
      "load_tensors: layer   2 assigned to device CPU\n",
      "load_tensors: layer   3 assigned to device CPU\n",
      "load_tensors: layer   4 assigned to device CPU\n",
      "load_tensors: layer   5 assigned to device CPU\n",
      "load_tensors: layer   6 assigned to device CPU\n",
      "load_tensors: layer   7 assigned to device CPU\n",
      "load_tensors: layer   8 assigned to device CPU\n",
      "load_tensors: layer   9 assigned to device CPU\n",
      "load_tensors: layer  10 assigned to device CPU\n",
      "load_tensors: layer  11 assigned to device CPU\n",
      "load_tensors: layer  12 assigned to device CPU\n",
      "load_tensors: layer  13 assigned to device CPU\n",
      "load_tensors: layer  14 assigned to device CPU\n",
      "load_tensors: layer  15 assigned to device CPU\n",
      "load_tensors: layer  16 assigned to device CPU\n",
      "load_tensors: layer  17 assigned to device CPU\n",
      "load_tensors: layer  18 assigned to device CPU\n",
      "load_tensors: layer  19 assigned to device CPU\n",
      "load_tensors: layer  20 assigned to device CPU\n",
      "load_tensors: layer  21 assigned to device CPU\n",
      "load_tensors: layer  22 assigned to device CPU\n",
      "load_tensors: layer  23 assigned to device CPU\n",
      "load_tensors: layer  24 assigned to device CPU\n",
      "load_tensors: layer  25 assigned to device CPU\n",
      "load_tensors: layer  26 assigned to device CPU\n",
      "load_tensors: layer  27 assigned to device CPU\n",
      "load_tensors: layer  28 assigned to device CPU\n",
      "load_tensors: layer  29 assigned to device CPU\n",
      "load_tensors: layer  30 assigned to device CPU\n",
      "load_tensors: layer  31 assigned to device CPU\n",
      "load_tensors: layer  32 assigned to device CPU\n",
      "load_tensors: tensor 'token_embd.weight' (q4_K) (and 322 others) cannot be used with preferred buffer type CPU_AARCH64, using CPU instead\n",
      "load_tensors:   CPU_Mapped model buffer size =  4685.30 MiB\n",
      "llama_init_from_model: n_seq_max     = 1\n",
      "llama_init_from_model: n_ctx         = 512\n",
      "llama_init_from_model: n_ctx_per_seq = 512\n",
      "llama_init_from_model: n_batch       = 512\n",
      "llama_init_from_model: n_ubatch      = 512\n",
      "llama_init_from_model: flash_attn    = 0\n",
      "llama_init_from_model: freq_base     = 500000.0\n",
      "llama_init_from_model: freq_scale    = 1\n",
      "llama_init_from_model: n_ctx_per_seq (512) < n_ctx_train (131072) -- the full capacity of the model will not be utilized\n",
      "llama_kv_cache_init: kv_size = 512, offload = 1, type_k = 'f16', type_v = 'f16', n_layer = 32, can_shift = 1\n",
      "llama_kv_cache_init: layer 0: n_embd_k_gqa = 1024, n_embd_v_gqa = 1024\n",
      "llama_kv_cache_init: layer 1: n_embd_k_gqa = 1024, n_embd_v_gqa = 1024\n",
      "llama_kv_cache_init: layer 2: n_embd_k_gqa = 1024, n_embd_v_gqa = 1024\n",
      "llama_kv_cache_init: layer 3: n_embd_k_gqa = 1024, n_embd_v_gqa = 1024\n",
      "llama_kv_cache_init: layer 4: n_embd_k_gqa = 1024, n_embd_v_gqa = 1024\n",
      "llama_kv_cache_init: layer 5: n_embd_k_gqa = 1024, n_embd_v_gqa = 1024\n",
      "llama_kv_cache_init: layer 6: n_embd_k_gqa = 1024, n_embd_v_gqa = 1024\n",
      "llama_kv_cache_init: layer 7: n_embd_k_gqa = 1024, n_embd_v_gqa = 1024\n",
      "llama_kv_cache_init: layer 8: n_embd_k_gqa = 1024, n_embd_v_gqa = 1024\n",
      "llama_kv_cache_init: layer 9: n_embd_k_gqa = 1024, n_embd_v_gqa = 1024\n",
      "llama_kv_cache_init: layer 10: n_embd_k_gqa = 1024, n_embd_v_gqa = 1024\n",
      "llama_kv_cache_init: layer 11: n_embd_k_gqa = 1024, n_embd_v_gqa = 1024\n",
      "llama_kv_cache_init: layer 12: n_embd_k_gqa = 1024, n_embd_v_gqa = 1024\n",
      "llama_kv_cache_init: layer 13: n_embd_k_gqa = 1024, n_embd_v_gqa = 1024\n",
      "llama_kv_cache_init: layer 14: n_embd_k_gqa = 1024, n_embd_v_gqa = 1024\n",
      "llama_kv_cache_init: layer 15: n_embd_k_gqa = 1024, n_embd_v_gqa = 1024\n",
      "llama_kv_cache_init: layer 16: n_embd_k_gqa = 1024, n_embd_v_gqa = 1024\n",
      "llama_kv_cache_init: layer 17: n_embd_k_gqa = 1024, n_embd_v_gqa = 1024\n",
      "llama_kv_cache_init: layer 18: n_embd_k_gqa = 1024, n_embd_v_gqa = 1024\n",
      "llama_kv_cache_init: layer 19: n_embd_k_gqa = 1024, n_embd_v_gqa = 1024\n",
      "llama_kv_cache_init: layer 20: n_embd_k_gqa = 1024, n_embd_v_gqa = 1024\n",
      "llama_kv_cache_init: layer 21: n_embd_k_gqa = 1024, n_embd_v_gqa = 1024\n",
      "llama_kv_cache_init: layer 22: n_embd_k_gqa = 1024, n_embd_v_gqa = 1024\n",
      "llama_kv_cache_init: layer 23: n_embd_k_gqa = 1024, n_embd_v_gqa = 1024\n",
      "llama_kv_cache_init: layer 24: n_embd_k_gqa = 1024, n_embd_v_gqa = 1024\n",
      "llama_kv_cache_init: layer 25: n_embd_k_gqa = 1024, n_embd_v_gqa = 1024\n",
      "llama_kv_cache_init: layer 26: n_embd_k_gqa = 1024, n_embd_v_gqa = 1024\n",
      "llama_kv_cache_init: layer 27: n_embd_k_gqa = 1024, n_embd_v_gqa = 1024\n",
      "llama_kv_cache_init: layer 28: n_embd_k_gqa = 1024, n_embd_v_gqa = 1024\n",
      "llama_kv_cache_init: layer 29: n_embd_k_gqa = 1024, n_embd_v_gqa = 1024\n",
      "llama_kv_cache_init: layer 30: n_embd_k_gqa = 1024, n_embd_v_gqa = 1024\n",
      "llama_kv_cache_init: layer 31: n_embd_k_gqa = 1024, n_embd_v_gqa = 1024\n",
      "llama_kv_cache_init:        CPU KV buffer size =    64.00 MiB\n",
      "llama_init_from_model: KV self size  =   64.00 MiB, K (f16):   32.00 MiB, V (f16):   32.00 MiB\n",
      "llama_init_from_model:        CPU  output buffer size =     0.49 MiB\n",
      "llama_init_from_model:        CPU compute buffer size =   258.50 MiB\n",
      "llama_init_from_model: graph nodes  = 1030\n",
      "llama_init_from_model: graph splits = 1\n",
      "CPU : SSE3 = 1 | SSSE3 = 1 | AVX = 1 | AVX2 = 1 | F16C = 1 | FMA = 1 | AVX512 = 1 | LLAMAFILE = 1 | OPENMP = 1 | AARCH64_REPACK = 1 | \n",
      "Model metadata: {'general.name': 'Meta Llama 3.1 8B Instruct', 'general.architecture': 'llama', 'general.type': 'model', 'llama.block_count': '32', 'general.basename': 'Meta-Llama-3.1', 'general.finetune': 'Instruct', 'general.size_label': '8B', 'general.license': 'llama3.1', 'llama.context_length': '131072', 'llama.embedding_length': '4096', 'llama.feed_forward_length': '14336', 'llama.attention.head_count': '32', 'tokenizer.ggml.eos_token_id': '128009', 'general.file_type': '15', 'llama.attention.head_count_kv': '8', 'llama.rope.freq_base': '500000.000000', 'quantize.imatrix.entries_count': '224', 'llama.attention.layer_norm_rms_epsilon': '0.000010', 'llama.vocab_size': '128256', 'llama.rope.dimension_count': '128', 'tokenizer.ggml.model': 'gpt2', 'tokenizer.ggml.pre': 'llama-bpe', 'general.quantization_version': '2', 'tokenizer.ggml.bos_token_id': '128000', 'tokenizer.chat_template': '{{- bos_token }}\\n{%- if custom_tools is defined %}\\n    {%- set tools = custom_tools %}\\n{%- endif %}\\n{%- if not tools_in_user_message is defined %}\\n    {%- set tools_in_user_message = true %}\\n{%- endif %}\\n{%- if not date_string is defined %}\\n    {%- set date_string = \"26 Jul 2024\" %}\\n{%- endif %}\\n{%- if not tools is defined %}\\n    {%- set tools = none %}\\n{%- endif %}\\n\\n{#- This block extracts the system message, so we can slot it into the right place. #}\\n{%- if messages[0][\\'role\\'] == \\'system\\' %}\\n    {%- set system_message = messages[0][\\'content\\']|trim %}\\n    {%- set messages = messages[1:] %}\\n{%- else %}\\n    {%- set system_message = \"\" %}\\n{%- endif %}\\n\\n{#- System message + builtin tools #}\\n{{- \"<|start_header_id|>system<|end_header_id|>\\\\n\\\\n\" }}\\n{%- if builtin_tools is defined or tools is not none %}\\n    {{- \"Environment: ipython\\\\n\" }}\\n{%- endif %}\\n{%- if builtin_tools is defined %}\\n    {{- \"Tools: \" + builtin_tools | reject(\\'equalto\\', \\'code_interpreter\\') | join(\", \") + \"\\\\n\\\\n\"}}\\n{%- endif %}\\n{{- \"Cutting Knowledge Date: December 2023\\\\n\" }}\\n{{- \"Today Date: \" + date_string + \"\\\\n\\\\n\" }}\\n{%- if tools is not none and not tools_in_user_message %}\\n    {{- \"You have access to the following functions. To call a function, please respond with JSON for a function call.\" }}\\n    {{- \\'Respond in the format {\"name\": function name, \"parameters\": dictionary of argument name and its value}.\\' }}\\n    {{- \"Do not use variables.\\\\n\\\\n\" }}\\n    {%- for t in tools %}\\n        {{- t | tojson(indent=4) }}\\n        {{- \"\\\\n\\\\n\" }}\\n    {%- endfor %}\\n{%- endif %}\\n{{- system_message }}\\n{{- \"<|eot_id|>\" }}\\n\\n{#- Custom tools are passed in a user message with some extra guidance #}\\n{%- if tools_in_user_message and not tools is none %}\\n    {#- Extract the first user message so we can plug it in here #}\\n    {%- if messages | length != 0 %}\\n        {%- set first_user_message = messages[0][\\'content\\']|trim %}\\n        {%- set messages = messages[1:] %}\\n    {%- else %}\\n        {{- raise_exception(\"Cannot put tools in the first user message when there\\'s no first user message!\") }}\\n{%- endif %}\\n    {{- \\'<|start_header_id|>user<|end_header_id|>\\\\n\\\\n\\' -}}\\n    {{- \"Given the following functions, please respond with a JSON for a function call \" }}\\n    {{- \"with its proper arguments that best answers the given prompt.\\\\n\\\\n\" }}\\n    {{- \\'Respond in the format {\"name\": function name, \"parameters\": dictionary of argument name and its value}.\\' }}\\n    {{- \"Do not use variables.\\\\n\\\\n\" }}\\n    {%- for t in tools %}\\n        {{- t | tojson(indent=4) }}\\n        {{- \"\\\\n\\\\n\" }}\\n    {%- endfor %}\\n    {{- first_user_message + \"<|eot_id|>\"}}\\n{%- endif %}\\n\\n{%- for message in messages %}\\n    {%- if not (message.role == \\'ipython\\' or message.role == \\'tool\\' or \\'tool_calls\\' in message) %}\\n        {{- \\'<|start_header_id|>\\' + message[\\'role\\'] + \\'<|end_header_id|>\\\\n\\\\n\\'+ message[\\'content\\'] | trim + \\'<|eot_id|>\\' }}\\n    {%- elif \\'tool_calls\\' in message %}\\n        {%- if not message.tool_calls|length == 1 %}\\n            {{- raise_exception(\"This model only supports single tool-calls at once!\") }}\\n        {%- endif %}\\n        {%- set tool_call = message.tool_calls[0].function %}\\n        {%- if builtin_tools is defined and tool_call.name in builtin_tools %}\\n            {{- \\'<|start_header_id|>assistant<|end_header_id|>\\\\n\\\\n\\' -}}\\n            {{- \"<|python_tag|>\" + tool_call.name + \".call(\" }}\\n            {%- for arg_name, arg_val in tool_call.arguments | items %}\\n                {{- arg_name + \\'=\"\\' + arg_val + \\'\"\\' }}\\n                {%- if not loop.last %}\\n                    {{- \", \" }}\\n                {%- endif %}\\n                {%- endfor %}\\n            {{- \")\" }}\\n        {%- else  %}\\n            {{- \\'<|start_header_id|>assistant<|end_header_id|>\\\\n\\\\n\\' -}}\\n            {{- \\'{\"name\": \"\\' + tool_call.name + \\'\", \\' }}\\n            {{- \\'\"parameters\": \\' }}\\n            {{- tool_call.arguments | tojson }}\\n            {{- \"}\" }}\\n        {%- endif %}\\n        {%- if builtin_tools is defined %}\\n            {#- This means we\\'re in ipython mode #}\\n            {{- \"<|eom_id|>\" }}\\n        {%- else %}\\n            {{- \"<|eot_id|>\" }}\\n        {%- endif %}\\n    {%- elif message.role == \"tool\" or message.role == \"ipython\" %}\\n        {{- \"<|start_header_id|>ipython<|end_header_id|>\\\\n\\\\n\" }}\\n        {%- if message.content is mapping or message.content is iterable %}\\n            {{- message.content | tojson }}\\n        {%- else %}\\n            {{- message.content }}\\n        {%- endif %}\\n        {{- \"<|eot_id|>\" }}\\n    {%- endif %}\\n{%- endfor %}\\n{%- if add_generation_prompt %}\\n    {{- \\'<|start_header_id|>assistant<|end_header_id|>\\\\n\\\\n\\' }}\\n{%- endif %}\\n', 'quantize.imatrix.chunks_count': '125', 'quantize.imatrix.file': '/models_out/Meta-Llama-3.1-8B-Instruct-GGUF/Meta-Llama-3.1-8B-Instruct.imatrix', 'quantize.imatrix.dataset': '/training_dir/calibration_datav3.txt'}\n",
      "Available chat formats from metadata: chat_template.default\n",
      "Using gguf chat template: {{- bos_token }}\n",
      "{%- if custom_tools is defined %}\n",
      "    {%- set tools = custom_tools %}\n",
      "{%- endif %}\n",
      "{%- if not tools_in_user_message is defined %}\n",
      "    {%- set tools_in_user_message = true %}\n",
      "{%- endif %}\n",
      "{%- if not date_string is defined %}\n",
      "    {%- set date_string = \"26 Jul 2024\" %}\n",
      "{%- endif %}\n",
      "{%- if not tools is defined %}\n",
      "    {%- set tools = none %}\n",
      "{%- endif %}\n",
      "\n",
      "{#- This block extracts the system message, so we can slot it into the right place. #}\n",
      "{%- if messages[0]['role'] == 'system' %}\n",
      "    {%- set system_message = messages[0]['content']|trim %}\n",
      "    {%- set messages = messages[1:] %}\n",
      "{%- else %}\n",
      "    {%- set system_message = \"\" %}\n",
      "{%- endif %}\n",
      "\n",
      "{#- System message + builtin tools #}\n",
      "{{- \"<|start_header_id|>system<|end_header_id|>\\n\\n\" }}\n",
      "{%- if builtin_tools is defined or tools is not none %}\n",
      "    {{- \"Environment: ipython\\n\" }}\n",
      "{%- endif %}\n",
      "{%- if builtin_tools is defined %}\n",
      "    {{- \"Tools: \" + builtin_tools | reject('equalto', 'code_interpreter') | join(\", \") + \"\\n\\n\"}}\n",
      "{%- endif %}\n",
      "{{- \"Cutting Knowledge Date: December 2023\\n\" }}\n",
      "{{- \"Today Date: \" + date_string + \"\\n\\n\" }}\n",
      "{%- if tools is not none and not tools_in_user_message %}\n",
      "    {{- \"You have access to the following functions. To call a function, please respond with JSON for a function call.\" }}\n",
      "    {{- 'Respond in the format {\"name\": function name, \"parameters\": dictionary of argument name and its value}.' }}\n",
      "    {{- \"Do not use variables.\\n\\n\" }}\n",
      "    {%- for t in tools %}\n",
      "        {{- t | tojson(indent=4) }}\n",
      "        {{- \"\\n\\n\" }}\n",
      "    {%- endfor %}\n",
      "{%- endif %}\n",
      "{{- system_message }}\n",
      "{{- \"<|eot_id|>\" }}\n",
      "\n",
      "{#- Custom tools are passed in a user message with some extra guidance #}\n",
      "{%- if tools_in_user_message and not tools is none %}\n",
      "    {#- Extract the first user message so we can plug it in here #}\n",
      "    {%- if messages | length != 0 %}\n",
      "        {%- set first_user_message = messages[0]['content']|trim %}\n",
      "        {%- set messages = messages[1:] %}\n",
      "    {%- else %}\n",
      "        {{- raise_exception(\"Cannot put tools in the first user message when there's no first user message!\") }}\n",
      "{%- endif %}\n",
      "    {{- '<|start_header_id|>user<|end_header_id|>\\n\\n' -}}\n",
      "    {{- \"Given the following functions, please respond with a JSON for a function call \" }}\n",
      "    {{- \"with its proper arguments that best answers the given prompt.\\n\\n\" }}\n",
      "    {{- 'Respond in the format {\"name\": function name, \"parameters\": dictionary of argument name and its value}.' }}\n",
      "    {{- \"Do not use variables.\\n\\n\" }}\n",
      "    {%- for t in tools %}\n",
      "        {{- t | tojson(indent=4) }}\n",
      "        {{- \"\\n\\n\" }}\n",
      "    {%- endfor %}\n",
      "    {{- first_user_message + \"<|eot_id|>\"}}\n",
      "{%- endif %}\n",
      "\n",
      "{%- for message in messages %}\n",
      "    {%- if not (message.role == 'ipython' or message.role == 'tool' or 'tool_calls' in message) %}\n",
      "        {{- '<|start_header_id|>' + message['role'] + '<|end_header_id|>\\n\\n'+ message['content'] | trim + '<|eot_id|>' }}\n",
      "    {%- elif 'tool_calls' in message %}\n",
      "        {%- if not message.tool_calls|length == 1 %}\n",
      "            {{- raise_exception(\"This model only supports single tool-calls at once!\") }}\n",
      "        {%- endif %}\n",
      "        {%- set tool_call = message.tool_calls[0].function %}\n",
      "        {%- if builtin_tools is defined and tool_call.name in builtin_tools %}\n",
      "            {{- '<|start_header_id|>assistant<|end_header_id|>\\n\\n' -}}\n",
      "            {{- \"<|python_tag|>\" + tool_call.name + \".call(\" }}\n",
      "            {%- for arg_name, arg_val in tool_call.arguments | items %}\n",
      "                {{- arg_name + '=\"' + arg_val + '\"' }}\n",
      "                {%- if not loop.last %}\n",
      "                    {{- \", \" }}\n",
      "                {%- endif %}\n",
      "                {%- endfor %}\n",
      "            {{- \")\" }}\n",
      "        {%- else  %}\n",
      "            {{- '<|start_header_id|>assistant<|end_header_id|>\\n\\n' -}}\n",
      "            {{- '{\"name\": \"' + tool_call.name + '\", ' }}\n",
      "            {{- '\"parameters\": ' }}\n",
      "            {{- tool_call.arguments | tojson }}\n",
      "            {{- \"}\" }}\n",
      "        {%- endif %}\n",
      "        {%- if builtin_tools is defined %}\n",
      "            {#- This means we're in ipython mode #}\n",
      "            {{- \"<|eom_id|>\" }}\n",
      "        {%- else %}\n",
      "            {{- \"<|eot_id|>\" }}\n",
      "        {%- endif %}\n",
      "    {%- elif message.role == \"tool\" or message.role == \"ipython\" %}\n",
      "        {{- \"<|start_header_id|>ipython<|end_header_id|>\\n\\n\" }}\n",
      "        {%- if message.content is mapping or message.content is iterable %}\n",
      "            {{- message.content | tojson }}\n",
      "        {%- else %}\n",
      "            {{- message.content }}\n",
      "        {%- endif %}\n",
      "        {{- \"<|eot_id|>\" }}\n",
      "    {%- endif %}\n",
      "{%- endfor %}\n",
      "{%- if add_generation_prompt %}\n",
      "    {{- '<|start_header_id|>assistant<|end_header_id|>\\n\\n' }}\n",
      "{%- endif %}\n",
      "\n",
      "Using chat eos_token: <|eot_id|>\n",
      "Using chat bos_token: <|begin_of_text|>\n"
     ]
    }
   ],
   "source": [
    "from llama_cpp import Llama\n",
    "llm=Llama(model_path=r\"C:\\Users\\ashaa\\Downloads\\major\\Meta-Llama-3.1-8B-Instruct-Q4_K_M.gguf\")"
   ]
  },
  {
   "cell_type": "code",
   "execution_count": 19,
   "metadata": {},
   "outputs": [
    {
     "name": "stderr",
     "output_type": "stream",
     "text": [
      "llama_perf_context_print:        load time =    1137.37 ms\n",
      "llama_perf_context_print: prompt eval time =    1136.89 ms /     3 tokens (  378.96 ms per token,     2.64 tokens per second)\n",
      "llama_perf_context_print:        eval time =    2611.78 ms /    15 runs   (  174.12 ms per token,     5.74 tokens per second)\n",
      "llama_perf_context_print:       total time =    3769.90 ms /    18 tokens\n"
     ]
    },
    {
     "data": {
      "text/plain": [
       "{'id': 'cmpl-d8274b99-c1e7-46f2-8f0f-a0ff23e14037',\n",
       " 'object': 'text_completion',\n",
       " 'created': 1740100496,\n",
       " 'model': 'C:\\\\Users\\\\ashaa\\\\Downloads\\\\major\\\\Meta-Llama-3.1-8B-Instruct-Q4_K_M.gguf',\n",
       " 'choices': [{'text': \" (I'm a little scared)\\nI was wondering if you could help me with\",\n",
       "   'index': 0,\n",
       "   'logprobs': None,\n",
       "   'finish_reason': 'length'}],\n",
       " 'usage': {'prompt_tokens': 3, 'completion_tokens': 16, 'total_tokens': 19}}"
      ]
     },
     "execution_count": 19,
     "metadata": {},
     "output_type": "execute_result"
    }
   ],
   "source": [
    "llm(\"hello?\")"
   ]
  },
  {
   "cell_type": "code",
   "execution_count": 5,
   "metadata": {},
   "outputs": [
    {
     "name": "stderr",
     "output_type": "stream",
     "text": [
      "Llama.generate: 10 prefix-match hit, remaining 1 prompt tokens to eval\n",
      "llama_perf_context_print:        load time =    1248.49 ms\n",
      "llama_perf_context_print: prompt eval time =       0.00 ms /     1 tokens (    0.00 ms per token,      inf tokens per second)\n",
      "llama_perf_context_print:        eval time =   36685.95 ms /   200 runs   (  183.43 ms per token,     5.45 tokens per second)\n",
      "llama_perf_context_print:       total time =   37037.81 ms /   201 tokens\n"
     ]
    },
    {
     "name": "stdout",
     "output_type": "stream",
     "text": [
      "{'id': 'cmpl-0fb11a66-596c-4655-8a4d-2de9653eb7fc', 'object': 'text_completion', 'created': 1739864599, 'model': 'C:\\\\Users\\\\ashaa\\\\Downloads\\\\major\\\\Meta-Llama-3.1-8B-Instruct-Q4_K_M.gguf', 'choices': [{'text': \"\\nMachine learning is a subset of artificial intelligence that enables systems to automatically learn and improve from experience without being explicitly programmed. It involves training algorithms on data to make predictions, classify objects, or make decisions.\\nImagine you have a large dataset of images, and you want to build a system that can identify whether a picture is of a cat or a dog. You wouldn't explicitly program the system to recognize certain features; instead, you would train a machine learning algorithm on the data, and it would learn to recognize patterns and make predictions based on that training.\\nThere are three types of machine learning:\\n1. Supervised learning: The algorithm is trained on labeled data, and it learns to make predictions based on that data.\\n2. Unsupervised learning: The algorithm is trained on unlabeled data, and it learns to identify patterns and group similar data points.\\n3. Reinforcement learning: The algorithm learns by interacting with an environment and receiving feedback in the form of rewards or penalties.\\nMachine learning has\", 'index': 0, 'logprobs': None, 'finish_reason': 'length'}], 'usage': {'prompt_tokens': 11, 'completion_tokens': 200, 'total_tokens': 211}}\n"
     ]
    }
   ],
   "source": [
    "response = llm(\"What is machine learning? explain in 200 words\",max_tokens=200)\n",
    "# print(response[\"choices\"][0][\"text\"])\n",
    "print(response)"
   ]
  },
  {
   "cell_type": "code",
   "execution_count": 10,
   "metadata": {},
   "outputs": [
    {
     "name": "stderr",
     "output_type": "stream",
     "text": [
      "Llama.generate: 1 prefix-match hit, remaining 8 prompt tokens to eval\n",
      "llama_perf_context_print:        load time =    9452.77 ms\n",
      "llama_perf_context_print: prompt eval time =     585.91 ms /     8 tokens (   73.24 ms per token,    13.65 tokens per second)\n",
      "llama_perf_context_print:        eval time =   31316.61 ms /   149 runs   (  210.18 ms per token,     4.76 tokens per second)\n",
      "llama_perf_context_print:       total time =   32220.54 ms /   157 tokens\n"
     ]
    },
    {
     "name": "stdout",
     "output_type": "stream",
     "text": [
      " Black holes are a region in space where the gravitational pull is so strong that nothing, including light, can escape. They are formed when a massive star collapses in on itself and its gravity becomes so strong that it warps the fabric of space and time around it. The point of no return, called the event horizon, marks the boundary of the black hole. Once something crosses the event horizon, it is trapped and cannot escape.\n",
      "Black holes can range in size from small, stellar-mass black holes formed from the collapse of individual stars, to supermassive black holes found at the centers of galaxies, which can have masses millions or even billions of times that of the sun. The effects of black holes can be seen in the way they distort the\n"
     ]
    }
   ],
   "source": [
    "response = llm(\n",
    "    \"Explain black holes in simple terms.\",\n",
    "    max_tokens=150,       # Maximum number of tokens to generate\n",
    "    temperature=0.7,      # Higher = more random, lower = more deterministic\n",
    "    top_k=50,             # Consider top 50 most likely tokens\n",
    "    top_p=0.9,            # Nucleus sampling (higher = more diverse output)\n",
    "    echo=False            # Do not repeat the input in output\n",
    ")\n",
    "\n",
    "print(response[\"choices\"][0][\"text\"])\n"
   ]
  },
  {
   "cell_type": "code",
   "execution_count": null,
   "metadata": {},
   "outputs": [
    {
     "name": "stderr",
     "output_type": "stream",
     "text": [
      "Llama.generate: 1 prefix-match hit, remaining 47 prompt tokens to eval\n",
      "llama_perf_context_print:        load time =    9452.77 ms\n",
      "llama_perf_context_print: prompt eval time =    5386.97 ms /    47 tokens (  114.62 ms per token,     8.72 tokens per second)\n",
      "llama_perf_context_print:        eval time =  101164.98 ms /   463 runs   (  218.50 ms per token,     4.58 tokens per second)\n",
      "llama_perf_context_print:       total time =  107985.97 ms /   510 tokens\n"
     ]
    },
    {
     "name": "stdout",
     "output_type": "stream",
     "text": [
      "Photosynthesis is the process by which plants, algae, and some bacteria convert light energy from the sun into chemical energy in the form of organic compounds, such as glucose. This process is essential for life on Earth, as it provides the energy and organic compounds needed to support the food chain.\n",
      "\n",
      "Here's a step-by-step explanation of how photosynthesis works:\n",
      "\n",
      "1. **Light Absorption**: Light is absorbed by pigments such as chlorophyll, which is present in the chloroplasts of plant cells. Chlorophyll absorbs light in the blue and red parts of the visible spectrum, but reflects green light, which is why plants appear green.\n",
      "2. **Water Absorption**: Water is absorbed by the roots of plants and transported to the chloroplasts, where it is used in the photosynthetic process.\n",
      "3. **Carbon Dioxide Absorption**: Carbon dioxide is absorbed from the air through small openings on the surface of leaves called stomata.\n",
      "4. **Light-Dependent Reactions**: Light energy is absorbed by chlorophyll and other pigments, and is used to generate ATP (adenosine triphosphate) and NADPH (nicotinamide adenine dinucleotide phosphate). These molecules are essential for the light-independent reactions.\n",
      "5. **Light-Independent Reactions (Calvin Cycle)**: The ATP and NADPH generated in the light-dependent reactions are used to convert carbon dioxide into glucose through a series of chemical reactions. This process is also known as the Calvin cycle.\n",
      "6. **Glucose Production**: The final product of photosynthesis is glucose, a type of sugar that serves as a source of energy for plants.\n",
      "7. **Oxygen Production**: As a byproduct of photosynthesis, oxygen is released into the air through the stomata.\n",
      "\n",
      "The overall equation for photosynthesis is:\n",
      "\n",
      "6 CO2 + 6 H2O + light energy → C6H12O6 (glucose) + 6 O2\n",
      "\n",
      "In summary, photosynthesis is a complex process that involves the conversion of light energy into chemical energy, which is then used to produce glucose and oxygen.\n",
      "\n",
      "**Key Players:**\n",
      "\n",
      "* Chlorophyll: the green pigment responsible for absorbing light energy\n",
      "* Chloroplasts: organelles found in plant cells where photosynthesis takes\n"
     ]
    }
   ],
   "source": [
    "messages = [\n",
    "    {\"role\": \"system\", \"content\": \"You are a helpful AI assistant.\"},\n",
    "    {\"role\": \"user\", \"content\": \"How does photosynthesis work?\"}\n",
    "]\n",
    "\n",
    "response = llm.create_chat_completion(messages=messages)\n",
    "print(response[\"choices\"][0][\"message\"][\"content\"])\n"
   ]
  },
  {
   "cell_type": "code",
   "execution_count": 14,
   "metadata": {},
   "outputs": [
    {
     "name": "stderr",
     "output_type": "stream",
     "text": [
      "Llama.generate: 4 prefix-match hit, remaining 1 prompt tokens to eval\n"
     ]
    },
    {
     "name": "stdout",
     "output_type": "stream",
     "text": [
      " in a way that's easy to understand\n",
      "Quantum mechanics is a branch of"
     ]
    },
    {
     "name": "stderr",
     "output_type": "stream",
     "text": [
      "llama_perf_context_print:        load time =    9452.77 ms\n",
      "llama_perf_context_print: prompt eval time =       0.00 ms /     1 tokens (    0.00 ms per token,      inf tokens per second)\n",
      "llama_perf_context_print:        eval time =    2720.52 ms /    16 runs   (  170.03 ms per token,     5.88 tokens per second)\n",
      "llama_perf_context_print:       total time =    2754.90 ms /    17 tokens\n"
     ]
    }
   ],
   "source": [
    "for chunk in llm(\"Explain quantum mechanics\", stream=True):\n",
    "    print(chunk[\"choices\"][0][\"text\"], end=\"\", flush=True)\n"
   ]
  },
  {
   "cell_type": "code",
   "execution_count": 37,
   "metadata": {},
   "outputs": [
    {
     "name": "stdout",
     "output_type": "stream",
     "text": [
      "\u001b[1;31mSignature:\u001b[0m     \n",
      "\u001b[0mllm\u001b[0m\u001b[1;33m(\u001b[0m\u001b[1;33m\n",
      "\u001b[0m    \u001b[0mprompt\u001b[0m\u001b[1;33m:\u001b[0m \u001b[1;34m'str'\u001b[0m\u001b[1;33m,\u001b[0m\u001b[1;33m\n",
      "\u001b[0m    \u001b[0msuffix\u001b[0m\u001b[1;33m:\u001b[0m \u001b[1;34m'Optional[str]'\u001b[0m \u001b[1;33m=\u001b[0m \u001b[1;32mNone\u001b[0m\u001b[1;33m,\u001b[0m\u001b[1;33m\n",
      "\u001b[0m    \u001b[0mmax_tokens\u001b[0m\u001b[1;33m:\u001b[0m \u001b[1;34m'Optional[int]'\u001b[0m \u001b[1;33m=\u001b[0m \u001b[1;36m16\u001b[0m\u001b[1;33m,\u001b[0m\u001b[1;33m\n",
      "\u001b[0m    \u001b[0mtemperature\u001b[0m\u001b[1;33m:\u001b[0m \u001b[1;34m'float'\u001b[0m \u001b[1;33m=\u001b[0m \u001b[1;36m0.8\u001b[0m\u001b[1;33m,\u001b[0m\u001b[1;33m\n",
      "\u001b[0m    \u001b[0mtop_p\u001b[0m\u001b[1;33m:\u001b[0m \u001b[1;34m'float'\u001b[0m \u001b[1;33m=\u001b[0m \u001b[1;36m0.95\u001b[0m\u001b[1;33m,\u001b[0m\u001b[1;33m\n",
      "\u001b[0m    \u001b[0mmin_p\u001b[0m\u001b[1;33m:\u001b[0m \u001b[1;34m'float'\u001b[0m \u001b[1;33m=\u001b[0m \u001b[1;36m0.05\u001b[0m\u001b[1;33m,\u001b[0m\u001b[1;33m\n",
      "\u001b[0m    \u001b[0mtypical_p\u001b[0m\u001b[1;33m:\u001b[0m \u001b[1;34m'float'\u001b[0m \u001b[1;33m=\u001b[0m \u001b[1;36m1.0\u001b[0m\u001b[1;33m,\u001b[0m\u001b[1;33m\n",
      "\u001b[0m    \u001b[0mlogprobs\u001b[0m\u001b[1;33m:\u001b[0m \u001b[1;34m'Optional[int]'\u001b[0m \u001b[1;33m=\u001b[0m \u001b[1;32mNone\u001b[0m\u001b[1;33m,\u001b[0m\u001b[1;33m\n",
      "\u001b[0m    \u001b[0mecho\u001b[0m\u001b[1;33m:\u001b[0m \u001b[1;34m'bool'\u001b[0m \u001b[1;33m=\u001b[0m \u001b[1;32mFalse\u001b[0m\u001b[1;33m,\u001b[0m\u001b[1;33m\n",
      "\u001b[0m    \u001b[0mstop\u001b[0m\u001b[1;33m:\u001b[0m \u001b[1;34m'Optional[Union[str, List[str]]]'\u001b[0m \u001b[1;33m=\u001b[0m \u001b[1;33m[\u001b[0m\u001b[1;33m]\u001b[0m\u001b[1;33m,\u001b[0m\u001b[1;33m\n",
      "\u001b[0m    \u001b[0mfrequency_penalty\u001b[0m\u001b[1;33m:\u001b[0m \u001b[1;34m'float'\u001b[0m \u001b[1;33m=\u001b[0m \u001b[1;36m0.0\u001b[0m\u001b[1;33m,\u001b[0m\u001b[1;33m\n",
      "\u001b[0m    \u001b[0mpresence_penalty\u001b[0m\u001b[1;33m:\u001b[0m \u001b[1;34m'float'\u001b[0m \u001b[1;33m=\u001b[0m \u001b[1;36m0.0\u001b[0m\u001b[1;33m,\u001b[0m\u001b[1;33m\n",
      "\u001b[0m    \u001b[0mrepeat_penalty\u001b[0m\u001b[1;33m:\u001b[0m \u001b[1;34m'float'\u001b[0m \u001b[1;33m=\u001b[0m \u001b[1;36m1.0\u001b[0m\u001b[1;33m,\u001b[0m\u001b[1;33m\n",
      "\u001b[0m    \u001b[0mtop_k\u001b[0m\u001b[1;33m:\u001b[0m \u001b[1;34m'int'\u001b[0m \u001b[1;33m=\u001b[0m \u001b[1;36m40\u001b[0m\u001b[1;33m,\u001b[0m\u001b[1;33m\n",
      "\u001b[0m    \u001b[0mstream\u001b[0m\u001b[1;33m:\u001b[0m \u001b[1;34m'bool'\u001b[0m \u001b[1;33m=\u001b[0m \u001b[1;32mFalse\u001b[0m\u001b[1;33m,\u001b[0m\u001b[1;33m\n",
      "\u001b[0m    \u001b[0mseed\u001b[0m\u001b[1;33m:\u001b[0m \u001b[1;34m'Optional[int]'\u001b[0m \u001b[1;33m=\u001b[0m \u001b[1;32mNone\u001b[0m\u001b[1;33m,\u001b[0m\u001b[1;33m\n",
      "\u001b[0m    \u001b[0mtfs_z\u001b[0m\u001b[1;33m:\u001b[0m \u001b[1;34m'float'\u001b[0m \u001b[1;33m=\u001b[0m \u001b[1;36m1.0\u001b[0m\u001b[1;33m,\u001b[0m\u001b[1;33m\n",
      "\u001b[0m    \u001b[0mmirostat_mode\u001b[0m\u001b[1;33m:\u001b[0m \u001b[1;34m'int'\u001b[0m \u001b[1;33m=\u001b[0m \u001b[1;36m0\u001b[0m\u001b[1;33m,\u001b[0m\u001b[1;33m\n",
      "\u001b[0m    \u001b[0mmirostat_tau\u001b[0m\u001b[1;33m:\u001b[0m \u001b[1;34m'float'\u001b[0m \u001b[1;33m=\u001b[0m \u001b[1;36m5.0\u001b[0m\u001b[1;33m,\u001b[0m\u001b[1;33m\n",
      "\u001b[0m    \u001b[0mmirostat_eta\u001b[0m\u001b[1;33m:\u001b[0m \u001b[1;34m'float'\u001b[0m \u001b[1;33m=\u001b[0m \u001b[1;36m0.1\u001b[0m\u001b[1;33m,\u001b[0m\u001b[1;33m\n",
      "\u001b[0m    \u001b[0mmodel\u001b[0m\u001b[1;33m:\u001b[0m \u001b[1;34m'Optional[str]'\u001b[0m \u001b[1;33m=\u001b[0m \u001b[1;32mNone\u001b[0m\u001b[1;33m,\u001b[0m\u001b[1;33m\n",
      "\u001b[0m    \u001b[0mstopping_criteria\u001b[0m\u001b[1;33m:\u001b[0m \u001b[1;34m'Optional[StoppingCriteriaList]'\u001b[0m \u001b[1;33m=\u001b[0m \u001b[1;32mNone\u001b[0m\u001b[1;33m,\u001b[0m\u001b[1;33m\n",
      "\u001b[0m    \u001b[0mlogits_processor\u001b[0m\u001b[1;33m:\u001b[0m \u001b[1;34m'Optional[LogitsProcessorList]'\u001b[0m \u001b[1;33m=\u001b[0m \u001b[1;32mNone\u001b[0m\u001b[1;33m,\u001b[0m\u001b[1;33m\n",
      "\u001b[0m    \u001b[0mgrammar\u001b[0m\u001b[1;33m:\u001b[0m \u001b[1;34m'Optional[LlamaGrammar]'\u001b[0m \u001b[1;33m=\u001b[0m \u001b[1;32mNone\u001b[0m\u001b[1;33m,\u001b[0m\u001b[1;33m\n",
      "\u001b[0m    \u001b[0mlogit_bias\u001b[0m\u001b[1;33m:\u001b[0m \u001b[1;34m'Optional[Dict[int, float]]'\u001b[0m \u001b[1;33m=\u001b[0m \u001b[1;32mNone\u001b[0m\u001b[1;33m,\u001b[0m\u001b[1;33m\n",
      "\u001b[0m\u001b[1;33m)\u001b[0m \u001b[1;33m->\u001b[0m \u001b[1;34m'Union[CreateCompletionResponse, Iterator[CreateCompletionStreamResponse]]'\u001b[0m\u001b[1;33m\u001b[0m\u001b[1;33m\u001b[0m\u001b[0m\n",
      "\u001b[1;31mType:\u001b[0m           Llama\n",
      "\u001b[1;31mString form:\u001b[0m    <llama_cpp.llama.Llama object at 0x000001A7CC827770>\n",
      "\u001b[1;31mFile:\u001b[0m           c:\\users\\ashaa\\appdata\\local\\programs\\python\\python313\\lib\\site-packages\\llama_cpp\\llama.py\n",
      "\u001b[1;31mDocstring:\u001b[0m      High-level Python wrapper for a llama.cpp model.\n",
      "\u001b[1;31mInit docstring:\u001b[0m\n",
      "Load a llama.cpp model from `model_path`.\n",
      "\n",
      "Examples:\n",
      "    Basic usage\n",
      "\n",
      "    >>> import llama_cpp\n",
      "    >>> model = llama_cpp.Llama(\n",
      "    ...     model_path=\"path/to/model\",\n",
      "    ... )\n",
      "    >>> print(model(\"The quick brown fox jumps \", stop=[\".\"])[\"choices\"][0][\"text\"])\n",
      "    the lazy dog\n",
      "\n",
      "    Loading a chat model\n",
      "\n",
      "    >>> import llama_cpp\n",
      "    >>> model = llama_cpp.Llama(\n",
      "    ...     model_path=\"path/to/model\",\n",
      "    ...     chat_format=\"llama-2\",\n",
      "    ... )\n",
      "    >>> print(model.create_chat_completion(\n",
      "    ...     messages=[{\n",
      "    ...         \"role\": \"user\",\n",
      "    ...         \"content\": \"what is the meaning of life?\"\n",
      "    ...     }]\n",
      "    ... ))\n",
      "\n",
      "Args:\n",
      "    model_path: Path to the model.\n",
      "    n_gpu_layers: Number of layers to offload to GPU (-ngl). If -1, all layers are offloaded.\n",
      "    split_mode: How to split the model across GPUs. See llama_cpp.LLAMA_SPLIT_* for options.\n",
      "    main_gpu: main_gpu interpretation depends on split_mode: LLAMA_SPLIT_MODE_NONE: the GPU that is used for the entire model. LLAMA_SPLIT_MODE_ROW: the GPU that is used for small tensors and intermediate results. LLAMA_SPLIT_MODE_LAYER: ignored\n",
      "    tensor_split: How split tensors should be distributed across GPUs. If None, the model is not split.\n",
      "    rpc_servers: Comma separated list of RPC servers to use for offloading\n",
      "    vocab_only: Only load the vocabulary no weights.\n",
      "    use_mmap: Use mmap if possible.\n",
      "    use_mlock: Force the system to keep the model in RAM.\n",
      "    kv_overrides: Key-value overrides for the model.\n",
      "    seed: RNG seed, -1 for random\n",
      "    n_ctx: Text context, 0 = from model\n",
      "    n_batch: Prompt processing maximum batch size\n",
      "    n_ubatch: Physical batch size\n",
      "    n_threads: Number of threads to use for generation\n",
      "    n_threads_batch: Number of threads to use for batch processing\n",
      "    rope_scaling_type: RoPE scaling type, from `enum llama_rope_scaling_type`. ref: https://github.com/ggerganov/llama.cpp/pull/2054\n",
      "    pooling_type: Pooling type, from `enum llama_pooling_type`.\n",
      "    rope_freq_base: RoPE base frequency, 0 = from model\n",
      "    rope_freq_scale: RoPE frequency scaling factor, 0 = from model\n",
      "    yarn_ext_factor: YaRN extrapolation mix factor, negative = from model\n",
      "    yarn_attn_factor: YaRN magnitude scaling factor\n",
      "    yarn_beta_fast: YaRN low correction dim\n",
      "    yarn_beta_slow: YaRN high correction dim\n",
      "    yarn_orig_ctx: YaRN original context size\n",
      "    logits_all: Return logits for all tokens, not just the last token. Must be True for completion to return logprobs.\n",
      "    embedding: Embedding mode only.\n",
      "    offload_kqv: Offload K, Q, V to GPU.\n",
      "    flash_attn: Use flash attention.\n",
      "    no_perf: Measure performance timings.\n",
      "    last_n_tokens_size: Maximum number of tokens to keep in the last_n_tokens deque.\n",
      "    lora_base: Optional path to base model, useful if using a quantized base model and you want to apply LoRA to an f16 model.\n",
      "    lora_path: Path to a LoRA file to apply to the model.\n",
      "    numa: numa policy\n",
      "    chat_format: String specifying the chat format to use when calling create_chat_completion.\n",
      "    chat_handler: Optional chat handler to use when calling create_chat_completion.\n",
      "    draft_model: Optional draft model to use for speculative decoding.\n",
      "    tokenizer: Optional tokenizer to override the default tokenizer from llama.cpp.\n",
      "    verbose: Print verbose output to stderr.\n",
      "    type_k: KV cache data type for K (default: f16)\n",
      "    type_v: KV cache data type for V (default: f16)\n",
      "    spm_infill: Use Suffix/Prefix/Middle pattern for infill (instead of Prefix/Suffix/Middle) as some models prefer this.\n",
      "\n",
      "Raises:\n",
      "    ValueError: If the model path does not exist.\n",
      "\n",
      "Returns:\n",
      "    A Llama instance.\n",
      "\u001b[1;31mCall docstring:\u001b[0m\n",
      "Generate text from a prompt.\n",
      "\n",
      "Args:\n",
      "    prompt: The prompt to generate text from.\n",
      "    suffix: A suffix to append to the generated text. If None, no suffix is appended.\n",
      "    max_tokens: The maximum number of tokens to generate. If max_tokens <= 0 or None, the maximum number of tokens to generate is unlimited and depends on n_ctx.\n",
      "    temperature: The temperature to use for sampling.\n",
      "    top_p: The top-p value to use for nucleus sampling. Nucleus sampling described in academic paper \"The Curious Case of Neural Text Degeneration\" https://arxiv.org/abs/1904.09751\n",
      "    min_p: The min-p value to use for minimum p sampling. Minimum P sampling as described in https://github.com/ggerganov/llama.cpp/pull/3841\n",
      "    typical_p: The typical-p value to use for sampling. Locally Typical Sampling implementation described in the paper https://arxiv.org/abs/2202.00666.\n",
      "    logprobs: The number of logprobs to return. If None, no logprobs are returned.\n",
      "    echo: Whether to echo the prompt.\n",
      "    stop: A list of strings to stop generation when encountered.\n",
      "    frequency_penalty: The penalty to apply to tokens based on their frequency in the prompt.\n",
      "    presence_penalty: The penalty to apply to tokens based on their presence in the prompt.\n",
      "    repeat_penalty: The penalty to apply to repeated tokens.\n",
      "    top_k: The top-k value to use for sampling. Top-K sampling described in academic paper \"The Curious Case of Neural Text Degeneration\" https://arxiv.org/abs/1904.09751\n",
      "    stream: Whether to stream the results.\n",
      "    seed: The seed to use for sampling.\n",
      "    tfs_z: The tail-free sampling parameter. Tail Free Sampling described in https://www.trentonbricken.com/Tail-Free-Sampling/.\n",
      "    mirostat_mode: The mirostat sampling mode.\n",
      "    mirostat_tau: The target cross-entropy (or surprise) value you want to achieve for the generated text. A higher value corresponds to more surprising or less predictable text, while a lower value corresponds to less surprising or more predictable text.\n",
      "    mirostat_eta: The learning rate used to update `mu` based on the error between the target and observed surprisal of the sampled word. A larger learning rate will cause `mu` to be updated more quickly, while a smaller learning rate will result in slower updates.\n",
      "    model: The name to use for the model in the completion object.\n",
      "    stopping_criteria: A list of stopping criteria to use.\n",
      "    logits_processor: A list of logits processors to use.\n",
      "    grammar: A grammar to use for constrained sampling.\n",
      "    logit_bias: A logit bias to use.\n",
      "\n",
      "Raises:\n",
      "    ValueError: If the requested tokens exceed the context window.\n",
      "    RuntimeError: If the prompt fails to tokenize or the model fails to evaluate the prompt.\n",
      "\n",
      "Returns:\n",
      "    Response object containing the generated text."
     ]
    }
   ],
   "source": [
    "llm?"
   ]
  },
  {
   "cell_type": "code",
   "execution_count": 13,
   "metadata": {},
   "outputs": [
    {
     "data": {
      "text/plain": [
       "'Using the contexts below, answer the query in detail, write in one para starting with Answer: \\n\\nContexts:\\nAccenture offers two roles with different salary packages. The Associate Software Engineer role comes with a package of Rs. 4.50 LPA, which includes a fixed pay of Rs. 3.83 LPA, a performance bonus of Rs. 32,500 per annum, a one-time joining bonus of Rs. 25,000, along with additional benefits such as gratuity and insurance. The Advanced Associate Software Engineer role offers a Rs. 6.50 LPA package, with a fixed pay of Rs. 5.41 LPA, a performance-based pay of Rs. 82,500 per performance cycle, and a one-time joining bonus of Rs. 26,500. Employees also receive additional benefits such as free transport, house rent allowance, medical allowance, and health insurance with a Rs. 4 lakh cover, which is an advantage over competitors like TCS, CTS, Infosys, and Wipro.. Accenture is a global professional services company that specializes in digital transformation, cloud computing, artificial intelligence, and consulting solutions. Headquartered in Dublin, Ireland, it operates in over 120 countries with approximately 743,000 employees, serving 75% of Fortune Global 500 companies. Accenture helps businesses, governments, and organizations optimize operations, accelerate growth, and enhance customer experiences through cutting-edge technologies. The company offers services across five key areas: Strategy & Consulting, Technology, Operations, Industry X, and Song, enabling clients to drive innovation and achieve sustainable success. With strong partnerships with technology leaders like Microsoft, Google, AWS, SAP, and Oracle, Accenture delivers high-impact solutions tailored to industry needs. It is also committed to sustainability, diversity, and corporate social responsibility, striving for net-zero emissions and fostering an inclusive workplace. By leveraging the power of technology and human ingenuity, Accenture aims to create 360° value for clients, employees, partners, and communities, shaping the future of business and technology. For more information, visit www.accenture.com.. \\n\\nQuery: tell me about accenture package'"
      ]
     },
     "execution_count": 13,
     "metadata": {},
     "output_type": "execute_result"
    }
   ],
   "source": [
    "\n",
    "augmented_prompt = f\"\"\"Using the contexts below, answer the query in detail, write in one para starting with Answer: \n",
    "\n",
    "Contexts:\n",
    "{context}\n",
    "\n",
    "Query: {query}\"\"\"\n",
    "augmented_prompt\n"
   ]
  },
  {
   "cell_type": "code",
   "execution_count": 14,
   "metadata": {},
   "outputs": [
    {
     "name": "stderr",
     "output_type": "stream",
     "text": [
      "llama_perf_context_print:        load time =   40165.99 ms\n",
      "llama_perf_context_print: prompt eval time =   40165.35 ms /   442 tokens (   90.87 ms per token,    11.00 tokens per second)\n",
      "llama_perf_context_print:        eval time =   21506.06 ms /    69 runs   (  311.68 ms per token,     3.21 tokens per second)\n",
      "llama_perf_context_print:       total time =   61931.74 ms /   511 tokens\n"
     ]
    },
    {
     "name": "stdout",
     "output_type": "stream",
     "text": [
      "\n",
      "Answer: Accenture offers two distinct roles with different salary packages, catering to the needs of various professionals. The Associate Software Engineer role comes with a package of Rs. 4.50 LPA, which includes a fixed pay of Rs. 3.83 LPA, a performance bonus of Rs. 32,500 per annum, a\n"
     ]
    }
   ],
   "source": [
    "response = llm(\n",
    "    augmented_prompt,\n",
    "    max_tokens=150,       # Maximum number of tokens to generate\n",
    "    temperature=0.7,      # Higher = more random, lower = more deterministic\n",
    "    top_k=50,             # Consider top 50 most likely tokens\n",
    "    top_p=0.9,            # Nucleus sampling (higher = more diverse output)\n",
    "    echo=False            # Do not repeat the input in output\n",
    ")\n",
    "\n",
    "print(response[\"choices\"][0][\"text\"])"
   ]
  },
  {
   "cell_type": "code",
   "execution_count": 22,
   "metadata": {},
   "outputs": [
    {
     "name": "stdout",
     "output_type": "stream",
     "text": [
      "['realpage', 'razor pay']\n",
      "['realpage', 'razor pay']\n"
     ]
    },
    {
     "name": "stderr",
     "output_type": "stream",
     "text": [
      "Llama.generate: 1 prefix-match hit, remaining 77 prompt tokens to eval\n",
      "llama_perf_context_print:        load time =    7435.87 ms\n",
      "llama_perf_context_print: prompt eval time =    5244.46 ms /    77 tokens (   68.11 ms per token,    14.68 tokens per second)\n",
      "llama_perf_context_print:        eval time =    4917.47 ms /    29 runs   (  169.57 ms per token,     5.90 tokens per second)\n",
      "llama_perf_context_print:       total time =   10203.35 ms /   106 tokens\n"
     ]
    },
    {
     "name": "stdout",
     "output_type": "stream",
     "text": [
      "[]\n"
     ]
    },
    {
     "data": {
      "text/plain": [
       "' answer: \\n     1) roles offered by realpage\\n     2) roles offered by razor pay\\n        \\n        for each question we can have'"
      ]
     },
     "execution_count": 22,
     "metadata": {},
     "output_type": "execute_result"
    }
   ],
   "source": [
    "query=\"what are the roles offered by realpage and razor pay\"\n",
    "if latest_org and  len(extract_organization_spacy(query))==1:\n",
    "    query=latest_org+\": \"+query\n",
    "    augmented_prompt=f\"\"\"\n",
    "    rewrite the below question and return the question\n",
    "    {query}\n",
    "    \"\"\"\n",
    "    response=llm(augmented_prompt)[\"choices\"][0][\"text\"]\n",
    "elif extract_organization_spacy(query):\n",
    "    query=split_mutli_companies(query)\n",
    "extract_organization_spacy(query)\n",
    "query\n"
   ]
  },
  {
   "cell_type": "code",
   "execution_count": 56,
   "metadata": {},
   "outputs": [
    {
     "name": "stderr",
     "output_type": "stream",
     "text": [
      "Llama.generate: 24 prefix-match hit, remaining 1 prompt tokens to eval\n",
      "llama_perf_context_print:        load time =   13658.71 ms\n",
      "llama_perf_context_print: prompt eval time =       0.00 ms /     1 tokens (    0.00 ms per token,      inf tokens per second)\n",
      "llama_perf_context_print:        eval time =    2605.97 ms /    16 runs   (  162.87 ms per token,     6.14 tokens per second)\n",
      "llama_perf_context_print:       total time =    2625.75 ms /    17 tokens\n"
     ]
    },
    {
     "name": "stdout",
     "output_type": "stream",
     "text": [
      "    return the question\n",
      "    '''\n",
      "    What is the package offered by modak\n"
     ]
    }
   ],
   "source": [
    "augmented_prompt=f\"\"\"\n",
    "    rewrite the below question and return the question\n",
    "    {query}\n",
    "\"\"\"\n",
    "response=llm(augmented_prompt)\n",
    "print(response[\"choices\"][0][\"text\"])"
   ]
  },
  {
   "cell_type": "code",
   "execution_count": 21,
   "metadata": {},
   "outputs": [],
   "source": [
    "def split_mutli_companies(query:str):\n",
    "    \n",
    "    prompt=f\"\"\"\n",
    "        for example :\n",
    "        question: what is the difference between package of accenture and modak\n",
    "        answer:\n",
    "        1)what is the package of accenture\n",
    "        2)what is the package of modak\n",
    "        split this question in mutliple question based on companies \n",
    "        \n",
    "        question: {query}\n",
    "        \n",
    "    \"\"\"\n",
    "    response=llm(prompt,max_tokens=30)\n",
    "    return response[\"choices\"][0][\"text\"]"
   ]
  },
  {
   "cell_type": "code",
   "execution_count": 116,
   "metadata": {},
   "outputs": [
    {
     "name": "stderr",
     "output_type": "stream",
     "text": [
      "Llama.generate: 77 prefix-match hit, remaining 1 prompt tokens to eval\n",
      "llama_perf_context_print:        load time =   13658.71 ms\n",
      "llama_perf_context_print: prompt eval time =       0.00 ms /     1 tokens (    0.00 ms per token,      inf tokens per second)\n",
      "llama_perf_context_print:        eval time =    5310.54 ms /    30 runs   (  177.02 ms per token,     5.65 tokens per second)\n",
      "llama_perf_context_print:       total time =    5349.52 ms /    31 tokens\n"
     ]
    },
    {
     "data": {
      "text/plain": [
       "' answer:\\n     1) what are the roles offered by realpage\\n     2) what are the roles offered by razor pay\\n     split'"
      ]
     },
     "execution_count": 116,
     "metadata": {},
     "output_type": "execute_result"
    }
   ],
   "source": [
    "split_mutli_companies(\"what are the roles offered by realpage and razor pay\")"
   ]
  },
  {
   "cell_type": "code",
   "execution_count": null,
   "metadata": {},
   "outputs": [],
   "source": []
  },
  {
   "cell_type": "code",
   "execution_count": null,
   "metadata": {},
   "outputs": [],
   "source": []
  },
  {
   "cell_type": "code",
   "execution_count": 7,
   "metadata": {},
   "outputs": [],
   "source": [
    "query=\"packages of SDE roles\"\n"
   ]
  },
  {
   "cell_type": "code",
   "execution_count": 8,
   "metadata": {},
   "outputs": [],
   "source": [
    "def get_response(query,chances=None):\n",
    "    c=chances\n",
    "    try:\n",
    "        query = query\n",
    "        query_embedding = pc.inference.embed(\n",
    "            model=\"multilingual-e5-large\",\n",
    "            inputs=[query],\n",
    "            parameters={\n",
    "                \"input_type\": \"query\"\n",
    "            }\n",
    "        )\n",
    "        res=[]\n",
    "        for i in range(7):\n",
    "            results = index.query(\n",
    "            namespace=f\"example{i}\",\n",
    "            vector=query_embedding[0].values,\n",
    "            top_k=3,\n",
    "            include_values=False,\n",
    "            include_metadata=True\n",
    "            )\n",
    "            res.append(results)\n",
    "            \n",
    "        # print(results['matches'])\n",
    "        doc=[]\n",
    "        for j in res:\n",
    "            for i in j['matches']:\n",
    "                doc.append({\"id\":i['id'],\"source_text\":i['metadata']['source_text']})\n",
    "        ranked_results = pc.inference.rerank(\n",
    "            model=\"bge-reranker-v2-m3\",\n",
    "            query=query,\n",
    "            documents=doc,\n",
    "            top_n=5,\n",
    "            rank_fields=[\"source_text\"],\n",
    "            return_documents=True,\n",
    "            parameters={\n",
    "                \"truncate\": \"END\"\n",
    "            }\n",
    "        )\n",
    "        # print(str(ranked_results))\n",
    "        con={}\n",
    "        context=\"\"\n",
    "        for i in ranked_results.data:\n",
    "            if i.score>=0.25:\n",
    "                con[i['document']['source_text']]=i.score\n",
    "        sorted_dict = []\n",
    "        for key in sorted(con, key=con.get):\n",
    "            sorted_dict.append(key)\n",
    "        for i in sorted_dict[:2]:\n",
    "            context+=i+\". \"   \n",
    "        print(len(context.split()))      \n",
    "        augmented_prompt = f\"\"\"Using the contexts below, answer the query in detail, write in one para, response should strictly start with Answer: \n",
    "\n",
    "        Contexts:\n",
    "        {context[:320]}\n",
    "\n",
    "        Query: {query}\"\"\"\n",
    "        augmented_prompt\n",
    "\n",
    "        response = llm(\n",
    "            augmented_prompt,\n",
    "            max_tokens=150,       # Maximum number of tokens to generate\n",
    "            temperature=0.7,      # Higher = more random, lower = more deterministic\n",
    "            top_k=50,             # Consider top 50 most likely tokens\n",
    "            top_p=0.9,            # Nucleus sampling (higher = more diverse output)\n",
    "            echo=False            # Do not repeat the input in output\n",
    "        )\n",
    "        return response[\"choices\"][0][\"text\"].split(\"Answer:\")[1]\n",
    "    except ValueError as err:\n",
    "        if c:\n",
    "            return get_response(chances=c-1,query=query)\n",
    "        else:\n",
    "            return err.args"
   ]
  },
  {
   "cell_type": "code",
   "execution_count": 9,
   "metadata": {},
   "outputs": [
    {
     "name": "stdout",
     "output_type": "stream",
     "text": [
      "215\n"
     ]
    },
    {
     "name": "stderr",
     "output_type": "stream",
     "text": [
      "Llama.generate: 99 prefix-match hit, remaining 1 prompt tokens to eval\n",
      "llama_perf_context_print:        load time =    9784.48 ms\n",
      "llama_perf_context_print: prompt eval time =       0.00 ms /     1 tokens (    0.00 ms per token,      inf tokens per second)\n",
      "llama_perf_context_print:        eval time =   31242.28 ms /   150 runs   (  208.28 ms per token,     4.80 tokens per second)\n",
      "llama_perf_context_print:       total time =   31551.54 ms /   151 tokens\n"
     ]
    }
   ],
   "source": [
    "ans=get_response(query=query,chances=3)"
   ]
  },
  {
   "cell_type": "code",
   "execution_count": null,
   "metadata": {},
   "outputs": [
    {
     "data": {
      "text/plain": [
       "' Align Technology offers a competitive salary package for the Software Development Engineer (SDE) role, which includes a fixed pay, performance-based bonuses, and additional benefits such as health insurance, retirement plans, and paid time off, with an average annual salary ranging from Rs. 10-12 LPA. The company provides a comprehensive benefits package to its employees, making it an attractive option for SDEs in the industry. The compensation package not only meets the industry standards but also offers a range of perks and benefits that contribute to the overall well-being of the employees. The average annual salary of Rs. 10-12 LPA is a significant aspect of the package, providing a stable financial foundation for the employees. Furthermore'"
      ]
     },
     "execution_count": 10,
     "metadata": {},
     "output_type": "execute_result"
    },
    {
     "name": "stdout",
     "output_type": "stream",
     "text": [
      "215\n"
     ]
    },
    {
     "name": "stderr",
     "output_type": "stream",
     "text": [
      "Llama.generate: 99 prefix-match hit, remaining 1 prompt tokens to eval\n",
      "llama_perf_context_print:        load time =    9784.48 ms\n",
      "llama_perf_context_print: prompt eval time =       0.00 ms /     1 tokens (    0.00 ms per token,      inf tokens per second)\n",
      "llama_perf_context_print:        eval time =   48589.19 ms /   150 runs   (  323.93 ms per token,     3.09 tokens per second)\n",
      "llama_perf_context_print:       total time =   49167.18 ms /   151 tokens\n",
      "127.0.0.1 - - [18/Apr/2025 17:40:18] \"POST /items HTTP/1.1\" 200 -\n"
     ]
    },
    {
     "name": "stdout",
     "output_type": "stream",
     "text": [
      "0\n"
     ]
    },
    {
     "name": "stderr",
     "output_type": "stream",
     "text": [
      "Llama.generate: 29 prefix-match hit, remaining 13 prompt tokens to eval\n",
      "llama_perf_context_print:        load time =    9784.48 ms\n",
      "llama_perf_context_print: prompt eval time =    1138.46 ms /    13 tokens (   87.57 ms per token,    11.42 tokens per second)\n",
      "llama_perf_context_print:        eval time =   33475.81 ms /   149 runs   (  224.67 ms per token,     4.45 tokens per second)\n",
      "llama_perf_context_print:       total time =   34903.58 ms /   162 tokens\n",
      "[2025-04-18 17:42:45,053] ERROR in app: Exception on /items [POST]\n",
      "Traceback (most recent call last):\n",
      "  File \"c:\\ProgramData\\anaconda3\\Lib\\site-packages\\flask\\app.py\", line 1473, in wsgi_app\n",
      "    response = self.full_dispatch_request()\n",
      "               ^^^^^^^^^^^^^^^^^^^^^^^^^^^^\n",
      "  File \"c:\\ProgramData\\anaconda3\\Lib\\site-packages\\flask\\app.py\", line 882, in full_dispatch_request\n",
      "    rv = self.handle_user_exception(e)\n",
      "         ^^^^^^^^^^^^^^^^^^^^^^^^^^^^^\n",
      "  File \"c:\\ProgramData\\anaconda3\\Lib\\site-packages\\flask\\app.py\", line 880, in full_dispatch_request\n",
      "    rv = self.dispatch_request()\n",
      "         ^^^^^^^^^^^^^^^^^^^^^^^\n",
      "  File \"c:\\ProgramData\\anaconda3\\Lib\\site-packages\\flask\\app.py\", line 865, in dispatch_request\n",
      "    return self.ensure_sync(self.view_functions[rule.endpoint])(**view_args)  # type: ignore[no-any-return]\n",
      "           ^^^^^^^^^^^^^^^^^^^^^^^^^^^^^^^^^^^^^^^^^^^^^^^^^^^^^^^^^^^^^^^^^\n",
      "  File \"C:\\Users\\ashaa\\AppData\\Local\\Temp\\ipykernel_14140\\2727290081.py\", line 25, in add_item\n",
      "    res=get_response(query=query,chances=3)\n",
      "        ^^^^^^^^^^^^^^^^^^^^^^^^^^^^^^^^^^^\n",
      "  File \"C:\\Users\\ashaa\\AppData\\Local\\Temp\\ipykernel_14140\\3003948142.py\", line 67, in get_response\n",
      "    return response[\"choices\"][0][\"text\"].split(\"Answer:\")[1]\n",
      "           ~~~~~~~~~~~~~~~~~~~~~~~~~~~~~~~~~~~~~~~~~~~~~~~^^^\n",
      "IndexError: list index out of range\n",
      "127.0.0.1 - - [18/Apr/2025 17:42:45] \"POST /items HTTP/1.1\" 500 -\n"
     ]
    },
    {
     "name": "stdout",
     "output_type": "stream",
     "text": [
      "0\n"
     ]
    },
    {
     "name": "stderr",
     "output_type": "stream",
     "text": [
      "Llama.generate: 41 prefix-match hit, remaining 1 prompt tokens to eval\n",
      "llama_perf_context_print:        load time =    9784.48 ms\n",
      "llama_perf_context_print: prompt eval time =       0.00 ms /     1 tokens (    0.00 ms per token,      inf tokens per second)\n",
      "llama_perf_context_print:        eval time =   30519.24 ms /   150 runs   (  203.46 ms per token,     4.91 tokens per second)\n",
      "llama_perf_context_print:       total time =   30796.12 ms /   151 tokens\n",
      "127.0.0.1 - - [18/Apr/2025 17:43:36] \"POST /items HTTP/1.1\" 200 -\n"
     ]
    },
    {
     "name": "stdout",
     "output_type": "stream",
     "text": [
      "724\n"
     ]
    },
    {
     "name": "stderr",
     "output_type": "stream",
     "text": [
      "Llama.generate: 29 prefix-match hit, remaining 72 prompt tokens to eval\n",
      "llama_perf_context_print:        load time =    9784.48 ms\n",
      "llama_perf_context_print: prompt eval time =    6278.12 ms /    72 tokens (   87.20 ms per token,    11.47 tokens per second)\n",
      "llama_perf_context_print:        eval time =   30884.81 ms /   149 runs   (  207.28 ms per token,     4.82 tokens per second)\n",
      "llama_perf_context_print:       total time =   37457.47 ms /   221 tokens\n",
      "127.0.0.1 - - [18/Apr/2025 17:45:58] \"POST /items HTTP/1.1\" 200 -\n"
     ]
    },
    {
     "name": "stdout",
     "output_type": "stream",
     "text": [
      "105\n"
     ]
    },
    {
     "name": "stderr",
     "output_type": "stream",
     "text": [
      "Llama.generate: 30 prefix-match hit, remaining 78 prompt tokens to eval\n",
      "llama_perf_context_print:        load time =    9784.48 ms\n",
      "llama_perf_context_print: prompt eval time =    6955.07 ms /    78 tokens (   89.17 ms per token,    11.21 tokens per second)\n",
      "llama_perf_context_print:        eval time =   31634.42 ms /   149 runs   (  212.31 ms per token,     4.71 tokens per second)\n",
      "llama_perf_context_print:       total time =   38888.14 ms /   227 tokens\n",
      "127.0.0.1 - - [18/Apr/2025 17:48:17] \"POST /items HTTP/1.1\" 200 -\n"
     ]
    }
   ],
   "source": [
    "ans"
   ]
  },
  {
   "cell_type": "code",
   "execution_count": null,
   "metadata": {},
   "outputs": [
    {
     "name": "stdout",
     "output_type": "stream",
     "text": [
      " * Serving Flask app '__main__'\n",
      " * Debug mode: off\n"
     ]
    },
    {
     "name": "stderr",
     "output_type": "stream",
     "text": [
      "WARNING: This is a development server. Do not use it in a production deployment. Use a production WSGI server instead.\n",
      " * Running on http://127.0.0.1:5000\n",
      "Press CTRL+C to quit\n"
     ]
    },
    {
     "name": "stdout",
     "output_type": "stream",
     "text": [
      "157\n"
     ]
    },
    {
     "name": "stderr",
     "output_type": "stream",
     "text": [
      "llama_perf_context_print:        load time =    9784.48 ms\n",
      "llama_perf_context_print: prompt eval time =    9783.66 ms /    98 tokens (   99.83 ms per token,    10.02 tokens per second)\n",
      "llama_perf_context_print:        eval time =   46758.16 ms /   149 runs   (  313.81 ms per token,     3.19 tokens per second)\n",
      "llama_perf_context_print:       total time =   57123.77 ms /   247 tokens\n",
      "127.0.0.1 - - [18/Apr/2025 17:27:08] \"POST /items HTTP/1.1\" 200 -\n"
     ]
    },
    {
     "name": "stdout",
     "output_type": "stream",
     "text": [
      "386\n"
     ]
    },
    {
     "name": "stderr",
     "output_type": "stream",
     "text": [
      "Llama.generate: 32 prefix-match hit, remaining 59 prompt tokens to eval\n",
      "llama_perf_context_print:        load time =    9784.48 ms\n",
      "llama_perf_context_print: prompt eval time =    4868.08 ms /    59 tokens (   82.51 ms per token,    12.12 tokens per second)\n",
      "llama_perf_context_print:        eval time =   34027.12 ms /   149 runs   (  228.37 ms per token,     4.38 tokens per second)\n",
      "llama_perf_context_print:       total time =   39195.09 ms /   208 tokens\n",
      "127.0.0.1 - - [18/Apr/2025 17:31:09] \"POST /items HTTP/1.1\" 200 -\n"
     ]
    },
    {
     "name": "stdout",
     "output_type": "stream",
     "text": [
      "386\n"
     ]
    },
    {
     "name": "stderr",
     "output_type": "stream",
     "text": [
      "Llama.generate: 86 prefix-match hit, remaining 7 prompt tokens to eval\n",
      "llama_perf_context_print:        load time =    9784.48 ms\n",
      "llama_perf_context_print: prompt eval time =     589.46 ms /     7 tokens (   84.21 ms per token,    11.88 tokens per second)\n",
      "llama_perf_context_print:        eval time =   32347.60 ms /   149 runs   (  217.10 ms per token,     4.61 tokens per second)\n",
      "llama_perf_context_print:       total time =   33214.53 ms /   156 tokens\n",
      "127.0.0.1 - - [18/Apr/2025 17:32:26] \"POST /items HTTP/1.1\" 200 -\n"
     ]
    },
    {
     "name": "stdout",
     "output_type": "stream",
     "text": [
      "386\n"
     ]
    },
    {
     "name": "stderr",
     "output_type": "stream",
     "text": [
      "Llama.generate: 90 prefix-match hit, remaining 4 prompt tokens to eval\n",
      "llama_perf_context_print:        load time =    9784.48 ms\n",
      "llama_perf_context_print: prompt eval time =     358.39 ms /     4 tokens (   89.60 ms per token,    11.16 tokens per second)\n",
      "llama_perf_context_print:        eval time =   30476.51 ms /   149 runs   (  204.54 ms per token,     4.89 tokens per second)\n",
      "llama_perf_context_print:       total time =   31090.52 ms /   153 tokens\n",
      "127.0.0.1 - - [18/Apr/2025 17:34:39] \"POST /items HTTP/1.1\" 200 -\n"
     ]
    },
    {
     "name": "stdout",
     "output_type": "stream",
     "text": [
      "215\n"
     ]
    },
    {
     "name": "stderr",
     "output_type": "stream",
     "text": [
      "Llama.generate: 30 prefix-match hit, remaining 70 prompt tokens to eval\n",
      "llama_perf_context_print:        load time =    9784.48 ms\n",
      "llama_perf_context_print: prompt eval time =   10388.73 ms /    70 tokens (  148.41 ms per token,     6.74 tokens per second)\n",
      "llama_perf_context_print:        eval time =   53201.26 ms /   149 runs   (  357.06 ms per token,     2.80 tokens per second)\n",
      "llama_perf_context_print:       total time =   64166.96 ms /   219 tokens\n",
      "[2025-04-18 17:38:00,592] ERROR in app: Exception on /items [POST]\n",
      "Traceback (most recent call last):\n",
      "  File \"c:\\ProgramData\\anaconda3\\Lib\\site-packages\\flask\\app.py\", line 1473, in wsgi_app\n",
      "    response = self.full_dispatch_request()\n",
      "               ^^^^^^^^^^^^^^^^^^^^^^^^^^^^\n",
      "  File \"c:\\ProgramData\\anaconda3\\Lib\\site-packages\\flask\\app.py\", line 882, in full_dispatch_request\n",
      "    rv = self.handle_user_exception(e)\n",
      "         ^^^^^^^^^^^^^^^^^^^^^^^^^^^^^\n",
      "  File \"c:\\ProgramData\\anaconda3\\Lib\\site-packages\\flask\\app.py\", line 880, in full_dispatch_request\n",
      "    rv = self.dispatch_request()\n",
      "         ^^^^^^^^^^^^^^^^^^^^^^^\n",
      "  File \"c:\\ProgramData\\anaconda3\\Lib\\site-packages\\flask\\app.py\", line 865, in dispatch_request\n",
      "    return self.ensure_sync(self.view_functions[rule.endpoint])(**view_args)  # type: ignore[no-any-return]\n",
      "           ^^^^^^^^^^^^^^^^^^^^^^^^^^^^^^^^^^^^^^^^^^^^^^^^^^^^^^^^^^^^^^^^^\n",
      "  File \"C:\\Users\\ashaa\\AppData\\Local\\Temp\\ipykernel_14140\\2727290081.py\", line 25, in add_item\n",
      "    res=get_response(query=query,chances=3)\n",
      "        ^^^^^^^^^^^^^^^^^^^^^^^^^^^^^^^^^^^\n",
      "  File \"C:\\Users\\ashaa\\AppData\\Local\\Temp\\ipykernel_14140\\3003948142.py\", line 67, in get_response\n",
      "    return response[\"choices\"][0][\"text\"].split(\"Answer:\")[1]\n",
      "           ~~~~~~~~~~~~~~~~~~~~~~~~~~~~~~~~~~~~~~~~~~~~~~~^^^\n",
      "IndexError: list index out of range\n",
      "127.0.0.1 - - [18/Apr/2025 17:38:00] \"POST /items HTTP/1.1\" 500 -\n"
     ]
    }
   ],
   "source": [
    "from flask import Flask, jsonify, request\n",
    "import nest_asyncio\n",
    "from threading import Thread\n",
    "\n",
    "nest_asyncio.apply()\n",
    "\n",
    "\n",
    "app = Flask(__name__)\n",
    "\n",
    "\n",
    "chats = []  # Separate chat data\n",
    "\n",
    "@app.route('/')\n",
    "def home():\n",
    "    return jsonify({\"message\": \"Welcome to the Flask API!\"})\n",
    "\n",
    "@app.route('/items', methods=['GET'])\n",
    "def get_items():\n",
    "    return jsonify(items)\n",
    "\n",
    "@app.route('/items', methods=['POST'])\n",
    "def add_item():\n",
    "    data = request.get_json()\n",
    "    query=data['query']\n",
    "    res=get_response(query=query,chances=3)\n",
    "    return jsonify(res)\n",
    "\n",
    "\n",
    "def run_app():\n",
    "    app.run(port=5000, debug=False)\n",
    "\n",
    "thread = Thread(target=run_app)\n",
    "thread.start()\n"
   ]
  },
  {
   "cell_type": "code",
   "execution_count": 41,
   "metadata": {},
   "outputs": [
    {
     "name": "stdout",
     "output_type": "stream",
     "text": [
      "  TCP    127.0.0.1:5000         0.0.0.0:0              LISTENING       19188\n"
     ]
    }
   ],
   "source": [
    "!netstat -ano | findstr :5000\n"
   ]
  },
  {
   "cell_type": "code",
   "execution_count": 45,
   "metadata": {},
   "outputs": [
    {
     "ename": "",
     "evalue": "",
     "output_type": "error",
     "traceback": [
      "\u001b[1;31mThe Kernel crashed while executing code in the current cell or a previous cell. \n",
      "\u001b[1;31mPlease review the code in the cell(s) to identify a possible cause of the failure. \n",
      "\u001b[1;31mClick <a href='https://aka.ms/vscodeJupyterKernelCrash'>here</a> for more info. \n",
      "\u001b[1;31mView Jupyter <a href='command:jupyter.viewOutput'>log</a> for further details."
     ]
    }
   ],
   "source": [
    "!taskkill /PID 19188 /F\n"
   ]
  },
  {
   "cell_type": "code",
   "execution_count": null,
   "metadata": {},
   "outputs": [],
   "source": []
  }
 ],
 "metadata": {
  "kernelspec": {
   "display_name": "base",
   "language": "python",
   "name": "python3"
  },
  "language_info": {
   "codemirror_mode": {
    "name": "ipython",
    "version": 3
   },
   "file_extension": ".py",
   "mimetype": "text/x-python",
   "name": "python",
   "nbconvert_exporter": "python",
   "pygments_lexer": "ipython3",
   "version": "3.12.7"
  }
 },
 "nbformat": 4,
 "nbformat_minor": 2
}
